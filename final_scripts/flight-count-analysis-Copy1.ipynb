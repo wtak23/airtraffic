{
 "cells": [
  {
   "cell_type": "markdown",
   "metadata": {
    "toc": "true"
   },
   "source": [
    "# Table of Contents\n",
    " <p><div class=\"lev1 toc-item\"><a href=\"#Load-data\" data-toc-modified-id=\"Load-data-1\"><span class=\"toc-item-num\">1&nbsp;&nbsp;</span>Load data</a></div><div class=\"lev1 toc-item\"><a href=\"#Create-Timeseries-of-Daily-Flight-Counts\" data-toc-modified-id=\"Create-Timeseries-of-Daily-Flight-Counts-2\"><span class=\"toc-item-num\">2&nbsp;&nbsp;</span>Create Timeseries of Daily Flight Counts</a></div><div class=\"lev2 toc-item\"><a href=\"#Create-interactive-plot-with-plotly/cufflinks\" data-toc-modified-id=\"Create-interactive-plot-with-plotly/cufflinks-2.1\"><span class=\"toc-item-num\">2.1&nbsp;&nbsp;</span>Create interactive plot with plotly/cufflinks</a></div><div class=\"lev2 toc-item\"><a href=\"#Flight-counts-tend-to-be-less-on-Saturdays\" data-toc-modified-id=\"Flight-counts-tend-to-be-less-on-Saturdays-2.2\"><span class=\"toc-item-num\">2.2&nbsp;&nbsp;</span>Flight counts tend to be less on Saturdays</a></div><div class=\"lev1 toc-item\"><a href=\"#Repeat-analysis-for-NY,-LA,-Houston.\" data-toc-modified-id=\"Repeat-analysis-for-NY,-LA,-Houston.-3\"><span class=\"toc-item-num\">3&nbsp;&nbsp;</span>Repeat analysis for NY, LA, Houston.</a></div><div class=\"lev2 toc-item\"><a href=\"#Result-plots\" data-toc-modified-id=\"Result-plots-3.1\"><span class=\"toc-item-num\">3.1&nbsp;&nbsp;</span>Result plots</a></div><div class=\"lev1 toc-item\"><a href=\"#Regress-out-effect-from-&quot;DAY-OF-WEEK&quot;\" data-toc-modified-id=\"Regress-out-effect-from-&quot;DAY-OF-WEEK&quot;-4\"><span class=\"toc-item-num\">4&nbsp;&nbsp;</span>Regress out effect from \"DAY OF WEEK\"</a></div><div class=\"lev2 toc-item\"><a href=\"#Plot-residuals-after-&quot;weekday&quot;-regression\" data-toc-modified-id=\"Plot-residuals-after-&quot;weekday&quot;-regression-4.1\"><span class=\"toc-item-num\">4.1&nbsp;&nbsp;</span>Plot residuals after \"weekday\" regression</a></div><div class=\"lev2 toc-item\"><a href=\"#Get-&quot;Lagged&quot;-residual\" data-toc-modified-id=\"Get-&quot;Lagged&quot;-residual-4.2\"><span class=\"toc-item-num\">4.2&nbsp;&nbsp;</span>Get \"Lagged\" residual</a></div><div class=\"lev2 toc-item\"><a href=\"#Create-subplots-with-all-3-plots\" data-toc-modified-id=\"Create-subplots-with-all-3-plots-4.3\"><span class=\"toc-item-num\">4.3&nbsp;&nbsp;</span>Create subplots with all 3 plots</a></div><div class=\"lev2 toc-item\"><a href=\"#Histograms\" data-toc-modified-id=\"Histograms-4.4\"><span class=\"toc-item-num\">4.4&nbsp;&nbsp;</span>Histograms</a></div>"
   ]
  },
  {
   "cell_type": "code",
   "execution_count": 1,
   "metadata": {
    "collapsed": true,
    "run_control": {
     "frozen": false,
     "read_only": false
    }
   },
   "outputs": [],
   "source": [
    "%matplotlib inline"
   ]
  },
  {
   "cell_type": "code",
   "execution_count": 2,
   "metadata": {
    "collapsed": false,
    "run_control": {
     "frozen": false,
     "read_only": false
    }
   },
   "outputs": [],
   "source": [
    "import numpy as np\n",
    "import pandas as pd\n",
    "import matplotlib.pyplot as plt\n",
    "import seaborn.apionly as sns\n",
    "import plotly.plotly as py\n",
    "import calendar\n",
    "\n",
    "from datetime import datetime\n",
    "from pprint import pprint\n",
    "from IPython.display import display\n",
    "\n",
    "import cufflinks as cf\n",
    "cf.set_config_file(theme='ggplot')\n",
    "\n",
    "import util\n",
    "\n",
    "# limit output to avoid cluttering screen\n",
    "pd.options.display.max_rows = 20"
   ]
  },
  {
   "cell_type": "code",
   "execution_count": 3,
   "metadata": {
    "collapsed": true,
    "run_control": {
     "frozen": false,
     "read_only": false
    }
   },
   "outputs": [],
   "source": [
    "# name of output files to prepend with\n",
    "outfile = 'flight_count_analysis_'"
   ]
  },
  {
   "cell_type": "markdown",
   "metadata": {},
   "source": [
    "# Load data\n",
    "\n",
    "Load the **airport data**, as well as the **lookup-table* I created [here](http://takwatanabe.me/airtraffic/create_lookup_table.html).\n"
   ]
  },
  {
   "cell_type": "code",
   "execution_count": 4,
   "metadata": {
    "collapsed": false,
    "run_control": {
     "frozen": false,
     "read_only": false
    }
   },
   "outputs": [
    {
     "name": "stdout",
     "output_type": "stream",
     "text": [
      " ... load dataframe from 2015-11.zip \n",
      " ... load dataframe from 2015-12.zip \n",
      " ... load dataframe from 2016-01.zip \n",
      " ... load dataframe from 2016-02.zip \n",
      " ... load dataframe from 2016-03.zip \n",
      " ... load dataframe from 2016-04.zip \n",
      " ... load dataframe from 2016-05.zip \n",
      " ... load dataframe from 2016-06.zip \n",
      " ... load dataframe from 2016-07.zip \n",
      " ... load dataframe from 2016-08.zip \n",
      " ... load dataframe from 2016-09.zip \n",
      " ... load dataframe from 2016-10.zip \n"
     ]
    }
   ],
   "source": [
    "df_data = util.load_airport_data()"
   ]
  },
  {
   "cell_type": "code",
   "execution_count": 5,
   "metadata": {
    "collapsed": false,
    "run_control": {
     "frozen": false,
     "read_only": false
    }
   },
   "outputs": [
    {
     "data": {
      "text/html": [
       "<div>\n",
       "<table border=\"1\" class=\"dataframe\">\n",
       "  <thead>\n",
       "    <tr style=\"text-align: right;\">\n",
       "      <th></th>\n",
       "      <th>YEAR</th>\n",
       "      <th>QUARTER</th>\n",
       "      <th>MONTH</th>\n",
       "      <th>DAY_OF_MONTH</th>\n",
       "      <th>DAY_OF_WEEK</th>\n",
       "      <th>ORIGIN_AIRPORT_ID</th>\n",
       "      <th>DEST_AIRPORT_ID</th>\n",
       "    </tr>\n",
       "  </thead>\n",
       "  <tbody>\n",
       "    <tr>\n",
       "      <th>0</th>\n",
       "      <td>2015</td>\n",
       "      <td>4</td>\n",
       "      <td>11</td>\n",
       "      <td>4</td>\n",
       "      <td>3</td>\n",
       "      <td>14570</td>\n",
       "      <td>13930</td>\n",
       "    </tr>\n",
       "    <tr>\n",
       "      <th>1</th>\n",
       "      <td>2015</td>\n",
       "      <td>4</td>\n",
       "      <td>11</td>\n",
       "      <td>5</td>\n",
       "      <td>4</td>\n",
       "      <td>13930</td>\n",
       "      <td>14057</td>\n",
       "    </tr>\n",
       "    <tr>\n",
       "      <th>2</th>\n",
       "      <td>2015</td>\n",
       "      <td>4</td>\n",
       "      <td>11</td>\n",
       "      <td>6</td>\n",
       "      <td>5</td>\n",
       "      <td>13930</td>\n",
       "      <td>14057</td>\n",
       "    </tr>\n",
       "    <tr>\n",
       "      <th>3</th>\n",
       "      <td>2015</td>\n",
       "      <td>4</td>\n",
       "      <td>11</td>\n",
       "      <td>7</td>\n",
       "      <td>6</td>\n",
       "      <td>13930</td>\n",
       "      <td>14057</td>\n",
       "    </tr>\n",
       "    <tr>\n",
       "      <th>4</th>\n",
       "      <td>2015</td>\n",
       "      <td>4</td>\n",
       "      <td>11</td>\n",
       "      <td>8</td>\n",
       "      <td>7</td>\n",
       "      <td>13930</td>\n",
       "      <td>14057</td>\n",
       "    </tr>\n",
       "  </tbody>\n",
       "</table>\n",
       "</div>"
      ],
      "text/plain": [
       "   YEAR  QUARTER  MONTH  DAY_OF_MONTH  DAY_OF_WEEK  ORIGIN_AIRPORT_ID  \\\n",
       "0  2015        4     11             4            3              14570   \n",
       "1  2015        4     11             5            4              13930   \n",
       "2  2015        4     11             6            5              13930   \n",
       "3  2015        4     11             7            6              13930   \n",
       "4  2015        4     11             8            7              13930   \n",
       "\n",
       "   DEST_AIRPORT_ID  \n",
       "0            13930  \n",
       "1            14057  \n",
       "2            14057  \n",
       "3            14057  \n",
       "4            14057  "
      ]
     },
     "execution_count": 5,
     "metadata": {},
     "output_type": "execute_result"
    }
   ],
   "source": [
    "df_data.head()"
   ]
  },
  {
   "cell_type": "code",
   "execution_count": 6,
   "metadata": {
    "collapsed": false,
    "run_control": {
     "frozen": false,
     "read_only": false
    }
   },
   "outputs": [
    {
     "data": {
      "text/html": [
       "<div>\n",
       "<table border=\"1\" class=\"dataframe\">\n",
       "  <thead>\n",
       "    <tr style=\"text-align: right;\">\n",
       "      <th></th>\n",
       "      <th>YEAR</th>\n",
       "      <th>QUARTER</th>\n",
       "      <th>MONTH</th>\n",
       "      <th>DAY_OF_MONTH</th>\n",
       "      <th>DAY_OF_WEEK</th>\n",
       "      <th>ORIGIN_AIRPORT_ID</th>\n",
       "      <th>DEST_AIRPORT_ID</th>\n",
       "    </tr>\n",
       "  </thead>\n",
       "  <tbody>\n",
       "    <tr>\n",
       "      <th>0</th>\n",
       "      <td>2015</td>\n",
       "      <td>4</td>\n",
       "      <td>11</td>\n",
       "      <td>4</td>\n",
       "      <td>Wed</td>\n",
       "      <td>14570</td>\n",
       "      <td>13930</td>\n",
       "    </tr>\n",
       "    <tr>\n",
       "      <th>1</th>\n",
       "      <td>2015</td>\n",
       "      <td>4</td>\n",
       "      <td>11</td>\n",
       "      <td>5</td>\n",
       "      <td>Thu</td>\n",
       "      <td>13930</td>\n",
       "      <td>14057</td>\n",
       "    </tr>\n",
       "    <tr>\n",
       "      <th>2</th>\n",
       "      <td>2015</td>\n",
       "      <td>4</td>\n",
       "      <td>11</td>\n",
       "      <td>6</td>\n",
       "      <td>Fri</td>\n",
       "      <td>13930</td>\n",
       "      <td>14057</td>\n",
       "    </tr>\n",
       "    <tr>\n",
       "      <th>3</th>\n",
       "      <td>2015</td>\n",
       "      <td>4</td>\n",
       "      <td>11</td>\n",
       "      <td>7</td>\n",
       "      <td>Sat</td>\n",
       "      <td>13930</td>\n",
       "      <td>14057</td>\n",
       "    </tr>\n",
       "    <tr>\n",
       "      <th>4</th>\n",
       "      <td>2015</td>\n",
       "      <td>4</td>\n",
       "      <td>11</td>\n",
       "      <td>8</td>\n",
       "      <td>Sun</td>\n",
       "      <td>13930</td>\n",
       "      <td>14057</td>\n",
       "    </tr>\n",
       "  </tbody>\n",
       "</table>\n",
       "</div>"
      ],
      "text/plain": [
       "   YEAR  QUARTER  MONTH  DAY_OF_MONTH DAY_OF_WEEK  ORIGIN_AIRPORT_ID  \\\n",
       "0  2015        4     11             4         Wed              14570   \n",
       "1  2015        4     11             5         Thu              13930   \n",
       "2  2015        4     11             6         Fri              13930   \n",
       "3  2015        4     11             7         Sat              13930   \n",
       "4  2015        4     11             8         Sun              13930   \n",
       "\n",
       "   DEST_AIRPORT_ID  \n",
       "0            13930  \n",
       "1            14057  \n",
       "2            14057  \n",
       "3            14057  \n",
       "4            14057  "
      ]
     },
     "execution_count": 6,
     "metadata": {},
     "output_type": "execute_result"
    }
   ],
   "source": [
    "# make the \"day_of_week\" explicit\n",
    "hash_dayofweek = {1:'Mon', 2:'Tue', 3:'Wed', 4:'Thu', 5:'Fri', 6:'Sat', 7:'Sun'}\n",
    "df_data['DAY_OF_WEEK'] = df_data['DAY_OF_WEEK'].map(lambda key: hash_dayofweek[key])\n",
    "df_data.head()"
   ]
  },
  {
   "cell_type": "code",
   "execution_count": 7,
   "metadata": {
    "collapsed": false,
    "run_control": {
     "frozen": false,
     "read_only": false
    }
   },
   "outputs": [
    {
     "data": {
      "text/html": [
       "<div>\n",
       "<table border=\"1\" class=\"dataframe\">\n",
       "  <thead>\n",
       "    <tr style=\"text-align: right;\">\n",
       "      <th></th>\n",
       "      <th>Code</th>\n",
       "      <th>Description</th>\n",
       "      <th>Airport</th>\n",
       "      <th>City</th>\n",
       "      <th>State</th>\n",
       "      <th>lat</th>\n",
       "      <th>lon</th>\n",
       "      <th>latlon</th>\n",
       "      <th>City_State</th>\n",
       "    </tr>\n",
       "  </thead>\n",
       "  <tbody>\n",
       "    <tr>\n",
       "      <th>0</th>\n",
       "      <td>10135</td>\n",
       "      <td>Allentown/Bethlehem/Easton, PA: Lehigh Valley ...</td>\n",
       "      <td>Lehigh Valley International</td>\n",
       "      <td>Allentown/Bethlehem/Easton</td>\n",
       "      <td>PA</td>\n",
       "      <td>40.651650</td>\n",
       "      <td>-75.434746</td>\n",
       "      <td>(40.651650399999994, -75.434746099999984)</td>\n",
       "      <td>Allentown/Bethlehem/Easton (PA)</td>\n",
       "    </tr>\n",
       "    <tr>\n",
       "      <th>1</th>\n",
       "      <td>10136</td>\n",
       "      <td>Abilene, TX: Abilene Regional</td>\n",
       "      <td>Abilene Regional</td>\n",
       "      <td>Abilene</td>\n",
       "      <td>TX</td>\n",
       "      <td>32.448736</td>\n",
       "      <td>-99.733144</td>\n",
       "      <td>(32.448736400000001, -99.733143900000002)</td>\n",
       "      <td>Abilene (TX)</td>\n",
       "    </tr>\n",
       "    <tr>\n",
       "      <th>2</th>\n",
       "      <td>10140</td>\n",
       "      <td>Albuquerque, NM: Albuquerque International Sun...</td>\n",
       "      <td>Albuquerque International Sunport</td>\n",
       "      <td>Albuquerque</td>\n",
       "      <td>NM</td>\n",
       "      <td>35.043333</td>\n",
       "      <td>-106.612909</td>\n",
       "      <td>(35.0433333, -106.6129085)</td>\n",
       "      <td>Albuquerque (NM)</td>\n",
       "    </tr>\n",
       "    <tr>\n",
       "      <th>3</th>\n",
       "      <td>10141</td>\n",
       "      <td>Aberdeen, SD: Aberdeen Regional</td>\n",
       "      <td>Aberdeen Regional</td>\n",
       "      <td>Aberdeen</td>\n",
       "      <td>SD</td>\n",
       "      <td>45.453458</td>\n",
       "      <td>-98.417726</td>\n",
       "      <td>(45.453458300000001, -98.417726099999996)</td>\n",
       "      <td>Aberdeen (SD)</td>\n",
       "    </tr>\n",
       "    <tr>\n",
       "      <th>4</th>\n",
       "      <td>10146</td>\n",
       "      <td>Albany, GA: Southwest Georgia Regional</td>\n",
       "      <td>Southwest Georgia Regional</td>\n",
       "      <td>Albany</td>\n",
       "      <td>GA</td>\n",
       "      <td>31.535671</td>\n",
       "      <td>-84.193905</td>\n",
       "      <td>(31.535671100000002, -84.193904900000007)</td>\n",
       "      <td>Albany (GA)</td>\n",
       "    </tr>\n",
       "  </tbody>\n",
       "</table>\n",
       "</div>"
      ],
      "text/plain": [
       "    Code                                        Description  \\\n",
       "0  10135  Allentown/Bethlehem/Easton, PA: Lehigh Valley ...   \n",
       "1  10136                      Abilene, TX: Abilene Regional   \n",
       "2  10140  Albuquerque, NM: Albuquerque International Sun...   \n",
       "3  10141                    Aberdeen, SD: Aberdeen Regional   \n",
       "4  10146             Albany, GA: Southwest Georgia Regional   \n",
       "\n",
       "                             Airport                        City State  \\\n",
       "0        Lehigh Valley International  Allentown/Bethlehem/Easton    PA   \n",
       "1                   Abilene Regional                     Abilene    TX   \n",
       "2  Albuquerque International Sunport                 Albuquerque    NM   \n",
       "3                  Aberdeen Regional                    Aberdeen    SD   \n",
       "4         Southwest Georgia Regional                      Albany    GA   \n",
       "\n",
       "         lat         lon                                     latlon  \\\n",
       "0  40.651650  -75.434746  (40.651650399999994, -75.434746099999984)   \n",
       "1  32.448736  -99.733144  (32.448736400000001, -99.733143900000002)   \n",
       "2  35.043333 -106.612909                 (35.0433333, -106.6129085)   \n",
       "3  45.453458  -98.417726  (45.453458300000001, -98.417726099999996)   \n",
       "4  31.535671  -84.193905  (31.535671100000002, -84.193904900000007)   \n",
       "\n",
       "                        City_State  \n",
       "0  Allentown/Bethlehem/Easton (PA)  \n",
       "1                     Abilene (TX)  \n",
       "2                 Albuquerque (NM)  \n",
       "3                    Aberdeen (SD)  \n",
       "4                      Albany (GA)  "
      ]
     },
     "execution_count": 7,
     "metadata": {},
     "output_type": "execute_result"
    }
   ],
   "source": [
    "df_lookup = pd.read_csv('df_lookup.csv') # lookup table for the AIRPORT_ID above\n",
    "df_lookup.head()"
   ]
  },
  {
   "cell_type": "code",
   "execution_count": 8,
   "metadata": {
    "collapsed": false,
    "run_control": {
     "frozen": false,
     "read_only": false
    }
   },
   "outputs": [
    {
     "name": "stdout",
     "output_type": "stream",
     "text": [
      "{10245: 'King Salmon (AK)',\n",
      " 10754: 'Barrow (AK)',\n",
      " 11267: 'Dayton (OH)',\n",
      " 11274: 'Dubuque (IA)',\n",
      " 11278: 'Washington (DC) [R.Reagan]',\n",
      " 11778: 'Fort Smith (AR)',\n",
      " 13230: 'Harrisburg (PA)',\n",
      " 13830: 'Kahului (HI)',\n",
      " 14696: 'South Bend (IN)',\n",
      " 15412: 'Knoxville (TN)'}\n",
      "{10245: 'King Salmon Airport',\n",
      " 10754: 'Wiley Post/Will Rogers Memorial',\n",
      " 11267: 'James M Cox/Dayton International',\n",
      " 11274: 'Dubuque Regional',\n",
      " 11278: 'Ronald Reagan Washington National',\n",
      " 11778: 'Fort Smith Regional',\n",
      " 13230: 'Harrisburg International',\n",
      " 13830: 'Kahului Airport',\n",
      " 14696: 'South Bend International',\n",
      " 15412: 'McGhee Tyson'}\n"
     ]
    }
   ],
   "source": [
    "# create hash-table to convert Airport \"Code\" to \"City_State\" \n",
    "# (combination of city/state is verified to be unique with the scope of this dataset)\n",
    "hash_lookup = df_lookup.set_index('Code')['City_State'].to_dict()\n",
    "pprint({k: hash_lookup[k] for k in hash_lookup.keys()[:10]})\n",
    "\n",
    "# also create hash-table for airport names\n",
    "hash_airport = df_lookup.set_index('Code')['Airport'].to_dict()\n",
    "pprint({k: hash_airport[k] for k in hash_lookup.keys()[:10]})"
   ]
  },
  {
   "cell_type": "markdown",
   "metadata": {},
   "source": [
    "# Create Timeseries of Daily Flight Counts\n",
    "\n",
    "- Here, I would like to analyze the trend in the **total daily flights** in the United States.\n",
    "\n",
    "- To this end, we'll first construct a [Pandas TimeSeries](http://pandas.pydata.org/pandas-docs/stable/timeseries.html) DataFrame containing the daily Flight-count information."
   ]
  },
  {
   "cell_type": "code",
   "execution_count": 9,
   "metadata": {
    "collapsed": false,
    "run_control": {
     "frozen": false,
     "read_only": false
    }
   },
   "outputs": [
    {
     "data": {
      "text/html": [
       "<div>\n",
       "<table border=\"1\" class=\"dataframe\">\n",
       "  <thead>\n",
       "    <tr style=\"text-align: right;\">\n",
       "      <th></th>\n",
       "      <th>YEAR</th>\n",
       "      <th>QUARTER</th>\n",
       "      <th>MONTH</th>\n",
       "      <th>DAY_OF_MONTH</th>\n",
       "      <th>DAY_OF_WEEK</th>\n",
       "      <th>ORIGIN_AIRPORT_ID</th>\n",
       "      <th>DEST_AIRPORT_ID</th>\n",
       "      <th>time</th>\n",
       "    </tr>\n",
       "  </thead>\n",
       "  <tbody>\n",
       "    <tr>\n",
       "      <th>0</th>\n",
       "      <td>2015</td>\n",
       "      <td>4</td>\n",
       "      <td>11</td>\n",
       "      <td>4</td>\n",
       "      <td>Wed</td>\n",
       "      <td>14570</td>\n",
       "      <td>13930</td>\n",
       "      <td>2015-11-4</td>\n",
       "    </tr>\n",
       "    <tr>\n",
       "      <th>1</th>\n",
       "      <td>2015</td>\n",
       "      <td>4</td>\n",
       "      <td>11</td>\n",
       "      <td>5</td>\n",
       "      <td>Thu</td>\n",
       "      <td>13930</td>\n",
       "      <td>14057</td>\n",
       "      <td>2015-11-5</td>\n",
       "    </tr>\n",
       "    <tr>\n",
       "      <th>2</th>\n",
       "      <td>2015</td>\n",
       "      <td>4</td>\n",
       "      <td>11</td>\n",
       "      <td>6</td>\n",
       "      <td>Fri</td>\n",
       "      <td>13930</td>\n",
       "      <td>14057</td>\n",
       "      <td>2015-11-6</td>\n",
       "    </tr>\n",
       "    <tr>\n",
       "      <th>3</th>\n",
       "      <td>2015</td>\n",
       "      <td>4</td>\n",
       "      <td>11</td>\n",
       "      <td>7</td>\n",
       "      <td>Sat</td>\n",
       "      <td>13930</td>\n",
       "      <td>14057</td>\n",
       "      <td>2015-11-7</td>\n",
       "    </tr>\n",
       "    <tr>\n",
       "      <th>4</th>\n",
       "      <td>2015</td>\n",
       "      <td>4</td>\n",
       "      <td>11</td>\n",
       "      <td>8</td>\n",
       "      <td>Sun</td>\n",
       "      <td>13930</td>\n",
       "      <td>14057</td>\n",
       "      <td>2015-11-8</td>\n",
       "    </tr>\n",
       "  </tbody>\n",
       "</table>\n",
       "</div>"
      ],
      "text/plain": [
       "   YEAR  QUARTER  MONTH  DAY_OF_MONTH DAY_OF_WEEK  ORIGIN_AIRPORT_ID  \\\n",
       "0  2015        4     11             4         Wed              14570   \n",
       "1  2015        4     11             5         Thu              13930   \n",
       "2  2015        4     11             6         Fri              13930   \n",
       "3  2015        4     11             7         Sat              13930   \n",
       "4  2015        4     11             8         Sun              13930   \n",
       "\n",
       "   DEST_AIRPORT_ID       time  \n",
       "0            13930  2015-11-4  \n",
       "1            14057  2015-11-5  \n",
       "2            14057  2015-11-6  \n",
       "3            14057  2015-11-7  \n",
       "4            14057  2015-11-8  "
      ]
     },
     "execution_count": 9,
     "metadata": {},
     "output_type": "execute_result"
    }
   ],
   "source": [
    "# create a column containing \"YEAR-MONTH-DAY\"\n",
    "df_data['time'] = ( df_data['YEAR'].astype(str) + '-' \n",
    "                  + df_data['MONTH'].astype(str) + '-' \n",
    "                  + df_data['DAY_OF_MONTH'].astype(str))\n",
    "\n",
    "df_data.head()"
   ]
  },
  {
   "cell_type": "code",
   "execution_count": 10,
   "metadata": {
    "collapsed": false,
    "run_control": {
     "frozen": false,
     "read_only": false
    }
   },
   "outputs": [
    {
     "data": {
      "text/html": [
       "<div>\n",
       "<table border=\"1\" class=\"dataframe\">\n",
       "  <thead>\n",
       "    <tr style=\"text-align: right;\">\n",
       "      <th></th>\n",
       "      <th>counts</th>\n",
       "    </tr>\n",
       "  </thead>\n",
       "  <tbody>\n",
       "    <tr>\n",
       "      <th>2015-11-01</th>\n",
       "      <td>15652</td>\n",
       "    </tr>\n",
       "    <tr>\n",
       "      <th>2015-11-02</th>\n",
       "      <td>16596</td>\n",
       "    </tr>\n",
       "    <tr>\n",
       "      <th>2015-11-03</th>\n",
       "      <td>15918</td>\n",
       "    </tr>\n",
       "    <tr>\n",
       "      <th>2015-11-04</th>\n",
       "      <td>16363</td>\n",
       "    </tr>\n",
       "    <tr>\n",
       "      <th>2015-11-05</th>\n",
       "      <td>16619</td>\n",
       "    </tr>\n",
       "    <tr>\n",
       "      <th>2015-11-06</th>\n",
       "      <td>16600</td>\n",
       "    </tr>\n",
       "    <tr>\n",
       "      <th>2015-11-07</th>\n",
       "      <td>12793</td>\n",
       "    </tr>\n",
       "    <tr>\n",
       "      <th>2015-11-08</th>\n",
       "      <td>15679</td>\n",
       "    </tr>\n",
       "  </tbody>\n",
       "</table>\n",
       "</div>"
      ],
      "text/plain": [
       "            counts\n",
       "2015-11-01   15652\n",
       "2015-11-02   16596\n",
       "2015-11-03   15918\n",
       "2015-11-04   16363\n",
       "2015-11-05   16619\n",
       "2015-11-06   16600\n",
       "2015-11-07   12793\n",
       "2015-11-08   15679"
      ]
     },
     "execution_count": 10,
     "metadata": {},
     "output_type": "execute_result"
    }
   ],
   "source": [
    "# create time-series of airtraffic counts\n",
    "ts_flightcounts = pd.DataFrame(df_data['time'].value_counts()).rename(columns={'time':'counts'})\n",
    "ts_flightcounts.index = ts_flightcounts.index.to_datetime()\n",
    "ts_flightcounts.sort_index(inplace=True) # need to sort by date\n",
    "ts_flightcounts.head(8)"
   ]
  },
  {
   "cell_type": "code",
   "execution_count": 11,
   "metadata": {
    "collapsed": false,
    "run_control": {
     "frozen": false,
     "read_only": false
    }
   },
   "outputs": [
    {
     "data": {
      "text/html": [
       "<div>\n",
       "<table border=\"1\" class=\"dataframe\">\n",
       "  <thead>\n",
       "    <tr style=\"text-align: right;\">\n",
       "      <th></th>\n",
       "      <th>counts</th>\n",
       "      <th>day</th>\n",
       "      <th>month</th>\n",
       "      <th>day_of_week</th>\n",
       "    </tr>\n",
       "  </thead>\n",
       "  <tbody>\n",
       "    <tr>\n",
       "      <th>2015-11-01</th>\n",
       "      <td>15652</td>\n",
       "      <td>1</td>\n",
       "      <td>11</td>\n",
       "      <td>6</td>\n",
       "    </tr>\n",
       "    <tr>\n",
       "      <th>2015-11-02</th>\n",
       "      <td>16596</td>\n",
       "      <td>2</td>\n",
       "      <td>11</td>\n",
       "      <td>0</td>\n",
       "    </tr>\n",
       "    <tr>\n",
       "      <th>2015-11-03</th>\n",
       "      <td>15918</td>\n",
       "      <td>3</td>\n",
       "      <td>11</td>\n",
       "      <td>1</td>\n",
       "    </tr>\n",
       "    <tr>\n",
       "      <th>2015-11-04</th>\n",
       "      <td>16363</td>\n",
       "      <td>4</td>\n",
       "      <td>11</td>\n",
       "      <td>2</td>\n",
       "    </tr>\n",
       "    <tr>\n",
       "      <th>2015-11-05</th>\n",
       "      <td>16619</td>\n",
       "      <td>5</td>\n",
       "      <td>11</td>\n",
       "      <td>3</td>\n",
       "    </tr>\n",
       "  </tbody>\n",
       "</table>\n",
       "</div>"
      ],
      "text/plain": [
       "            counts  day  month  day_of_week\n",
       "2015-11-01   15652    1     11            6\n",
       "2015-11-02   16596    2     11            0\n",
       "2015-11-03   15918    3     11            1\n",
       "2015-11-04   16363    4     11            2\n",
       "2015-11-05   16619    5     11            3"
      ]
     },
     "execution_count": 11,
     "metadata": {},
     "output_type": "execute_result"
    }
   ],
   "source": [
    "# explicitly add extra date-info as dataframe columns (to apply `groupby` later)\n",
    "ts_flightcounts['day']= ts_flightcounts.index.day\n",
    "ts_flightcounts['month']= ts_flightcounts.index.month\n",
    "ts_flightcounts['day_of_week'] = ts_flightcounts.index.dayofweek\n",
    "\n",
    "ts_flightcounts.head()"
   ]
  },
  {
   "cell_type": "code",
   "execution_count": 12,
   "metadata": {
    "collapsed": false,
    "run_control": {
     "frozen": false,
     "read_only": false
    }
   },
   "outputs": [
    {
     "data": {
      "text/html": [
       "<div>\n",
       "<table border=\"1\" class=\"dataframe\">\n",
       "  <thead>\n",
       "    <tr style=\"text-align: right;\">\n",
       "      <th></th>\n",
       "      <th>counts</th>\n",
       "      <th>day</th>\n",
       "      <th>month</th>\n",
       "      <th>day_of_week</th>\n",
       "    </tr>\n",
       "  </thead>\n",
       "  <tbody>\n",
       "    <tr>\n",
       "      <th>2015-11-01</th>\n",
       "      <td>15652</td>\n",
       "      <td>1</td>\n",
       "      <td>11</td>\n",
       "      <td>Sun</td>\n",
       "    </tr>\n",
       "    <tr>\n",
       "      <th>2015-11-02</th>\n",
       "      <td>16596</td>\n",
       "      <td>2</td>\n",
       "      <td>11</td>\n",
       "      <td>Mon</td>\n",
       "    </tr>\n",
       "    <tr>\n",
       "      <th>2015-11-03</th>\n",
       "      <td>15918</td>\n",
       "      <td>3</td>\n",
       "      <td>11</td>\n",
       "      <td>Tue</td>\n",
       "    </tr>\n",
       "    <tr>\n",
       "      <th>2015-11-04</th>\n",
       "      <td>16363</td>\n",
       "      <td>4</td>\n",
       "      <td>11</td>\n",
       "      <td>Wed</td>\n",
       "    </tr>\n",
       "    <tr>\n",
       "      <th>2015-11-05</th>\n",
       "      <td>16619</td>\n",
       "      <td>5</td>\n",
       "      <td>11</td>\n",
       "      <td>Thu</td>\n",
       "    </tr>\n",
       "  </tbody>\n",
       "</table>\n",
       "</div>"
      ],
      "text/plain": [
       "            counts  day  month day_of_week\n",
       "2015-11-01   15652    1     11         Sun\n",
       "2015-11-02   16596    2     11         Mon\n",
       "2015-11-03   15918    3     11         Tue\n",
       "2015-11-04   16363    4     11         Wed\n",
       "2015-11-05   16619    5     11         Thu"
      ]
     },
     "execution_count": 12,
     "metadata": {},
     "output_type": "execute_result"
    }
   ],
   "source": [
    "# `dayofweek` uses encoding Monday=0 ... Sunday=6...make this explicit\n",
    "ts_flightcounts['day_of_week'] = ts_flightcounts['day_of_week'].map({0:'Mon',\n",
    "                                                                     1:'Tue',\n",
    "                                                                     2:'Wed',\n",
    "                                                                     3:'Thu',\n",
    "                                                                     4:'Fri',\n",
    "                                                                     5:'Sat',\n",
    "                                                                     6:'Sun'}).astype(str)\n",
    "\n",
    "ts_flightcounts.head()"
   ]
  },
  {
   "cell_type": "code",
   "execution_count": 13,
   "metadata": {
    "collapsed": false,
    "run_control": {
     "frozen": false,
     "read_only": false
    }
   },
   "outputs": [
    {
     "name": "stdout",
     "output_type": "stream",
     "text": [
      "['11/1 (Sun)', '11/2 (Mon)', '11/3 (Tue)', '11/4 (Wed)', '11/5 (Thu)']\n"
     ]
    }
   ],
   "source": [
    "# create hover_text object for plotly\n",
    "hover_text= (\n",
    "    ts_flightcounts['month'].astype(str) \n",
    "    + '/' \n",
    "    + ts_flightcounts['day'].astype(str)\n",
    "    + ' (' + ts_flightcounts['day_of_week'] + ')'\n",
    ").tolist()\n",
    "print hover_text[:5]"
   ]
  },
  {
   "cell_type": "markdown",
   "metadata": {},
   "source": [
    "## Create interactive plot with plotly/cufflinks\n",
    "\n",
    "- I am a huge fan of [plotly](http://plot.ly/python/)...brings the distance between the data and user closer together :)\n"
   ]
  },
  {
   "cell_type": "code",
   "execution_count": 14,
   "metadata": {
    "collapsed": false,
    "run_control": {
     "frozen": false,
     "read_only": false
    }
   },
   "outputs": [
    {
     "data": {
      "text/html": [
       "<iframe id=\"igraph\" scrolling=\"no\" style=\"border:none;\" seamless=\"seamless\" src=\"https://plot.ly/~takanori/1367.embed\" height=\"525px\" width=\"100%\"></iframe>"
      ],
      "text/plain": [
       "<plotly.tools.PlotlyDisplay object>"
      ]
     },
     "execution_count": 14,
     "metadata": {},
     "output_type": "execute_result"
    }
   ],
   "source": [
    "# see https://plot.ly/pandas/line-charts/\n",
    "plt_options = dict(text=hover_text,color='pink')\n",
    "title = 'Daily Airflight Counts in the US between 11/1/2015 - 10/31/2016'\n",
    "title+= '<br>(hover over plot for dates; left-click to zoom)'\n",
    "\n",
    "ts_flightcounts.iplot(y='counts',\n",
    "                      filename=outfile+'plot_flightcounts',\n",
    "                      title=title,\n",
    "                      **plt_options)"
   ]
  },
  {
   "cell_type": "markdown",
   "metadata": {},
   "source": [
    "- From the above time-series plot, we can see that the trend in the Flight-counts looks to be obscured by the effect from the ``day_of_week``\n",
    "\n"
   ]
  },
  {
   "cell_type": "markdown",
   "metadata": {},
   "source": [
    "## Flight counts tend to be less on Saturdays\n",
    "\n",
    "- below I made a few barplots of flight-counts by weekdays\n",
    "- cleary, Saturday tends to have smaller flight-counts\n",
    "- while this was somewhat expected, it's always nice to have the data reaffirm your intuition\n"
   ]
  },
  {
   "cell_type": "code",
   "execution_count": 15,
   "metadata": {
    "collapsed": false,
    "run_control": {
     "frozen": false,
     "read_only": false
    }
   },
   "outputs": [
    {
     "data": {
      "text/html": [
       "<iframe id=\"igraph\" scrolling=\"no\" style=\"border:none;\" seamless=\"seamless\" src=\"https://plot.ly/~takanori/1429.embed\" height=\"525px\" width=\"100%\"></iframe>"
      ],
      "text/plain": [
       "<plotly.tools.PlotlyDisplay object>"
      ]
     },
     "execution_count": 15,
     "metadata": {},
     "output_type": "execute_result"
    }
   ],
   "source": [
    "df_data['DAY_OF_WEEK'].value_counts().iplot(kind='bar',title='US Flight-Counts by Week-days (1 year period)')"
   ]
  },
  {
   "cell_type": "code",
   "execution_count": 16,
   "metadata": {
    "collapsed": true,
    "run_control": {
     "frozen": false,
     "read_only": false
    }
   },
   "outputs": [],
   "source": [
    "df_counts_month = df_data.groupby(['MONTH','DAY_OF_WEEK',])['YEAR'].count().unstack()\n",
    "df_counts_month = df_counts_month[['Sun','Mon','Tue','Wed','Thu','Fri','Sat']] # reorder columns"
   ]
  },
  {
   "cell_type": "code",
   "execution_count": 18,
   "metadata": {
    "collapsed": false,
    "run_control": {
     "frozen": false,
     "read_only": false
    }
   },
   "outputs": [
    {
     "data": {
      "text/html": [
       "<div>\n",
       "<table border=\"1\" class=\"dataframe\">\n",
       "  <thead>\n",
       "    <tr style=\"text-align: right;\">\n",
       "      <th>DAY_OF_WEEK</th>\n",
       "      <th>Sun</th>\n",
       "      <th>Mon</th>\n",
       "      <th>Tue</th>\n",
       "      <th>Wed</th>\n",
       "      <th>Thu</th>\n",
       "      <th>Fri</th>\n",
       "      <th>Sat</th>\n",
       "    </tr>\n",
       "  </thead>\n",
       "  <tbody>\n",
       "    <tr>\n",
       "      <th>Jan</th>\n",
       "      <td>70654</td>\n",
       "      <td>61028</td>\n",
       "      <td>58273</td>\n",
       "      <td>59036</td>\n",
       "      <td>61044</td>\n",
       "      <td>74138</td>\n",
       "      <td>61654</td>\n",
       "    </tr>\n",
       "    <tr>\n",
       "      <th>Feb</th>\n",
       "      <td>54748</td>\n",
       "      <td>76987</td>\n",
       "      <td>59617</td>\n",
       "      <td>60326</td>\n",
       "      <td>61945</td>\n",
       "      <td>62097</td>\n",
       "      <td>48169</td>\n",
       "    </tr>\n",
       "    <tr>\n",
       "      <th>Mar</th>\n",
       "      <td>61115</td>\n",
       "      <td>64094</td>\n",
       "      <td>77364</td>\n",
       "      <td>78285</td>\n",
       "      <td>80333</td>\n",
       "      <td>64145</td>\n",
       "      <td>53786</td>\n",
       "    </tr>\n",
       "    <tr>\n",
       "      <th>Apr</th>\n",
       "      <td>61020</td>\n",
       "      <td>64426</td>\n",
       "      <td>62860</td>\n",
       "      <td>63275</td>\n",
       "      <td>64454</td>\n",
       "      <td>80605</td>\n",
       "      <td>64990</td>\n",
       "    </tr>\n",
       "    <tr>\n",
       "      <th>May</th>\n",
       "      <td>73918</td>\n",
       "      <td>80141</td>\n",
       "      <td>79913</td>\n",
       "      <td>64065</td>\n",
       "      <td>65144</td>\n",
       "      <td>65187</td>\n",
       "      <td>50990</td>\n",
       "    </tr>\n",
       "    <tr>\n",
       "      <th>Jun</th>\n",
       "      <td>64372</td>\n",
       "      <td>67055</td>\n",
       "      <td>66239</td>\n",
       "      <td>82752</td>\n",
       "      <td>83913</td>\n",
       "      <td>67070</td>\n",
       "      <td>56236</td>\n",
       "    </tr>\n",
       "    <tr>\n",
       "      <th>Jul</th>\n",
       "      <td>78665</td>\n",
       "      <td>64712</td>\n",
       "      <td>67158</td>\n",
       "      <td>67429</td>\n",
       "      <td>67717</td>\n",
       "      <td>84935</td>\n",
       "      <td>71841</td>\n",
       "    </tr>\n",
       "    <tr>\n",
       "      <th>Aug</th>\n",
       "      <td>63469</td>\n",
       "      <td>83136</td>\n",
       "      <td>81291</td>\n",
       "      <td>82178</td>\n",
       "      <td>66676</td>\n",
       "      <td>66872</td>\n",
       "      <td>54725</td>\n",
       "    </tr>\n",
       "    <tr>\n",
       "      <th>Sep</th>\n",
       "      <td>58264</td>\n",
       "      <td>63402</td>\n",
       "      <td>61955</td>\n",
       "      <td>62463</td>\n",
       "      <td>80059</td>\n",
       "      <td>80204</td>\n",
       "      <td>48531</td>\n",
       "    </tr>\n",
       "    <tr>\n",
       "      <th>Oct</th>\n",
       "      <td>76328</td>\n",
       "      <td>79157</td>\n",
       "      <td>62309</td>\n",
       "      <td>63424</td>\n",
       "      <td>64635</td>\n",
       "      <td>64674</td>\n",
       "      <td>62099</td>\n",
       "    </tr>\n",
       "    <tr>\n",
       "      <th>Nov</th>\n",
       "      <td>79587</td>\n",
       "      <td>81315</td>\n",
       "      <td>64102</td>\n",
       "      <td>65775</td>\n",
       "      <td>59947</td>\n",
       "      <td>62624</td>\n",
       "      <td>54622</td>\n",
       "    </tr>\n",
       "    <tr>\n",
       "      <th>Dec</th>\n",
       "      <td>62591</td>\n",
       "      <td>64717</td>\n",
       "      <td>79528</td>\n",
       "      <td>80550</td>\n",
       "      <td>75587</td>\n",
       "      <td>61821</td>\n",
       "      <td>54436</td>\n",
       "    </tr>\n",
       "  </tbody>\n",
       "</table>\n",
       "</div>"
      ],
      "text/plain": [
       "DAY_OF_WEEK    Sun    Mon    Tue    Wed    Thu    Fri    Sat\n",
       "Jan          70654  61028  58273  59036  61044  74138  61654\n",
       "Feb          54748  76987  59617  60326  61945  62097  48169\n",
       "Mar          61115  64094  77364  78285  80333  64145  53786\n",
       "Apr          61020  64426  62860  63275  64454  80605  64990\n",
       "May          73918  80141  79913  64065  65144  65187  50990\n",
       "Jun          64372  67055  66239  82752  83913  67070  56236\n",
       "Jul          78665  64712  67158  67429  67717  84935  71841\n",
       "Aug          63469  83136  81291  82178  66676  66872  54725\n",
       "Sep          58264  63402  61955  62463  80059  80204  48531\n",
       "Oct          76328  79157  62309  63424  64635  64674  62099\n",
       "Nov          79587  81315  64102  65775  59947  62624  54622\n",
       "Dec          62591  64717  79528  80550  75587  61821  54436"
      ]
     },
     "execution_count": 18,
     "metadata": {},
     "output_type": "execute_result"
    }
   ],
   "source": [
    "df_counts_month.index = df_counts_month.index.map(lambda num: calendar.month_abbr[num])\n",
    "df_counts_month"
   ]
  },
  {
   "cell_type": "markdown",
   "metadata": {},
   "source": [
    "- the trend of Saturday having the smallest airflights holds generally true for each month\n",
    "- intereting exceptions at **January** and **July**...perhaps this is a common vacation period (so businessday trend is eliminated)?\n",
    "- for example, maybe there tends to be more family trips since children is on school vacation"
   ]
  },
  {
   "cell_type": "code",
   "execution_count": 19,
   "metadata": {
    "collapsed": false,
    "run_control": {
     "frozen": false,
     "read_only": false
    }
   },
   "outputs": [
    {
     "data": {
      "text/html": [
       "<iframe id=\"igraph\" scrolling=\"no\" style=\"border:none;\" seamless=\"seamless\" src=\"https://plot.ly/~takanori/1437.embed\" height=\"525px\" width=\"100%\"></iframe>"
      ],
      "text/plain": [
       "<plotly.tools.PlotlyDisplay object>"
      ]
     },
     "execution_count": 19,
     "metadata": {},
     "output_type": "execute_result"
    }
   ],
   "source": [
    "title='US Flight-Counts by Months by Week-days (11/1/2015 - 10/31/2016)'\n",
    "df_counts_month.iplot(kind='bar',title=title,xTitle='Month',yTitle='Counts')"
   ]
  },
  {
   "cell_type": "markdown",
   "metadata": {},
   "source": [
    "# Repeat analysis for NY, LA, Houston.\n",
    "\n",
    "- Now I'm curious to see what the trend looks like in major cities.\n",
    "\n",
    "- Let's repeat the above analysis for NY, LA, and Houston (selected these cities since these are cities with large population that are geographically far apart from each other)\n"
   ]
  },
  {
   "cell_type": "code",
   "execution_count": 20,
   "metadata": {
    "collapsed": false,
    "run_control": {
     "frozen": false,
     "read_only": false
    }
   },
   "outputs": [
    {
     "data": {
      "text/html": [
       "<div>\n",
       "<table border=\"1\" class=\"dataframe\">\n",
       "  <thead>\n",
       "    <tr style=\"text-align: right;\">\n",
       "      <th></th>\n",
       "      <th>Code</th>\n",
       "      <th>Description</th>\n",
       "      <th>Airport</th>\n",
       "      <th>City</th>\n",
       "      <th>State</th>\n",
       "      <th>lat</th>\n",
       "      <th>lon</th>\n",
       "      <th>latlon</th>\n",
       "      <th>City_State</th>\n",
       "    </tr>\n",
       "  </thead>\n",
       "  <tbody>\n",
       "    <tr>\n",
       "      <th>95</th>\n",
       "      <td>11495</td>\n",
       "      <td>Houston, TX: Ellington</td>\n",
       "      <td>Ellington</td>\n",
       "      <td>Houston</td>\n",
       "      <td>TX</td>\n",
       "      <td>29.760427</td>\n",
       "      <td>-95.369803</td>\n",
       "      <td>(29.7604267, -95.369802799999988)</td>\n",
       "      <td>Houston (TX) [Ell]</td>\n",
       "    </tr>\n",
       "    <tr>\n",
       "      <th>142</th>\n",
       "      <td>12191</td>\n",
       "      <td>Houston, TX: William P Hobby</td>\n",
       "      <td>William P Hobby</td>\n",
       "      <td>Houston</td>\n",
       "      <td>TX</td>\n",
       "      <td>29.652951</td>\n",
       "      <td>-95.276651</td>\n",
       "      <td>(29.6529506, -95.276650700000005)</td>\n",
       "      <td>Houston (TX) [WP.Hobby]</td>\n",
       "    </tr>\n",
       "    <tr>\n",
       "      <th>150</th>\n",
       "      <td>12266</td>\n",
       "      <td>Houston, TX: George Bush Intercontinental/Houston</td>\n",
       "      <td>George Bush Intercontinental/Houston</td>\n",
       "      <td>Houston</td>\n",
       "      <td>TX</td>\n",
       "      <td>29.990220</td>\n",
       "      <td>-95.336783</td>\n",
       "      <td>(29.990219899999996, -95.336782700000001)</td>\n",
       "      <td>Houston (TX) [G.Bush]</td>\n",
       "    </tr>\n",
       "    <tr>\n",
       "      <th>164</th>\n",
       "      <td>12478</td>\n",
       "      <td>New York, NY: John F. Kennedy International</td>\n",
       "      <td>John F. Kennedy International</td>\n",
       "      <td>New York</td>\n",
       "      <td>NY</td>\n",
       "      <td>40.641311</td>\n",
       "      <td>-73.778139</td>\n",
       "      <td>(40.641311100000003, -73.77813909999999)</td>\n",
       "      <td>New York (NY) [JFK]</td>\n",
       "    </tr>\n",
       "    <tr>\n",
       "      <th>174</th>\n",
       "      <td>12892</td>\n",
       "      <td>Los Angeles, CA: Los Angeles International</td>\n",
       "      <td>Los Angeles International</td>\n",
       "      <td>Los Angeles</td>\n",
       "      <td>CA</td>\n",
       "      <td>33.941589</td>\n",
       "      <td>-118.408530</td>\n",
       "      <td>(33.941588899999999, -118.40853)</td>\n",
       "      <td>Los Angeles (CA)</td>\n",
       "    </tr>\n",
       "    <tr>\n",
       "      <th>180</th>\n",
       "      <td>12953</td>\n",
       "      <td>New York, NY: LaGuardia</td>\n",
       "      <td>LaGuardia</td>\n",
       "      <td>New York</td>\n",
       "      <td>NY</td>\n",
       "      <td>40.776927</td>\n",
       "      <td>-73.873966</td>\n",
       "      <td>(40.776927100000002, -73.873965900000016)</td>\n",
       "      <td>New York (NY) [Lag]</td>\n",
       "    </tr>\n",
       "  </tbody>\n",
       "</table>\n",
       "</div>"
      ],
      "text/plain": [
       "      Code                                        Description  \\\n",
       "95   11495                             Houston, TX: Ellington   \n",
       "142  12191                       Houston, TX: William P Hobby   \n",
       "150  12266  Houston, TX: George Bush Intercontinental/Houston   \n",
       "164  12478        New York, NY: John F. Kennedy International   \n",
       "174  12892         Los Angeles, CA: Los Angeles International   \n",
       "180  12953                            New York, NY: LaGuardia   \n",
       "\n",
       "                                  Airport         City State        lat  \\\n",
       "95                              Ellington      Houston    TX  29.760427   \n",
       "142                       William P Hobby      Houston    TX  29.652951   \n",
       "150  George Bush Intercontinental/Houston      Houston    TX  29.990220   \n",
       "164         John F. Kennedy International     New York    NY  40.641311   \n",
       "174             Los Angeles International  Los Angeles    CA  33.941589   \n",
       "180                             LaGuardia     New York    NY  40.776927   \n",
       "\n",
       "            lon                                     latlon  \\\n",
       "95   -95.369803          (29.7604267, -95.369802799999988)   \n",
       "142  -95.276651          (29.6529506, -95.276650700000005)   \n",
       "150  -95.336783  (29.990219899999996, -95.336782700000001)   \n",
       "164  -73.778139   (40.641311100000003, -73.77813909999999)   \n",
       "174 -118.408530           (33.941588899999999, -118.40853)   \n",
       "180  -73.873966  (40.776927100000002, -73.873965900000016)   \n",
       "\n",
       "                  City_State  \n",
       "95        Houston (TX) [Ell]  \n",
       "142  Houston (TX) [WP.Hobby]  \n",
       "150    Houston (TX) [G.Bush]  \n",
       "164      New York (NY) [JFK]  \n",
       "174         Los Angeles (CA)  \n",
       "180      New York (NY) [Lag]  "
      ]
     },
     "execution_count": 20,
     "metadata": {},
     "output_type": "execute_result"
    }
   ],
   "source": [
    "cities = ['New York','Los Angeles','Houston']\n",
    "\n",
    "# get AIRPORT_ID codes corresponding to the above three cities\n",
    "df_lookup[ df_lookup['City'].isin(cities) ]"
   ]
  },
  {
   "cell_type": "markdown",
   "metadata": {},
   "source": [
    "- Well, both Houston and NY have multiple major airport.\n",
    "\n",
    "- For the sake of simplicity of our analysis, we'll pool the flight counts from these airports."
   ]
  },
  {
   "cell_type": "code",
   "execution_count": 21,
   "metadata": {
    "collapsed": false,
    "run_control": {
     "frozen": false,
     "read_only": false
    },
    "scrolled": true
   },
   "outputs": [
    {
     "name": "stdout",
     "output_type": "stream",
     "text": [
      "New York\n"
     ]
    },
    {
     "data": {
      "text/html": [
       "<div>\n",
       "<table border=\"1\" class=\"dataframe\">\n",
       "  <thead>\n",
       "    <tr style=\"text-align: right;\">\n",
       "      <th></th>\n",
       "      <th>YEAR</th>\n",
       "      <th>QUARTER</th>\n",
       "      <th>MONTH</th>\n",
       "      <th>DAY_OF_MONTH</th>\n",
       "      <th>DAY_OF_WEEK</th>\n",
       "      <th>ORIGIN_AIRPORT_ID</th>\n",
       "      <th>DEST_AIRPORT_ID</th>\n",
       "      <th>time</th>\n",
       "    </tr>\n",
       "  </thead>\n",
       "  <tbody>\n",
       "    <tr>\n",
       "      <th>95985</th>\n",
       "      <td>2015</td>\n",
       "      <td>4</td>\n",
       "      <td>11</td>\n",
       "      <td>17</td>\n",
       "      <td>Tue</td>\n",
       "      <td>12892</td>\n",
       "      <td>12478</td>\n",
       "      <td>2015-11-17</td>\n",
       "    </tr>\n",
       "    <tr>\n",
       "      <th>6149</th>\n",
       "      <td>2016</td>\n",
       "      <td>1</td>\n",
       "      <td>2</td>\n",
       "      <td>27</td>\n",
       "      <td>Sat</td>\n",
       "      <td>12478</td>\n",
       "      <td>14843</td>\n",
       "      <td>2016-2-27</td>\n",
       "    </tr>\n",
       "    <tr>\n",
       "      <th>95251</th>\n",
       "      <td>2016</td>\n",
       "      <td>3</td>\n",
       "      <td>8</td>\n",
       "      <td>4</td>\n",
       "      <td>Thu</td>\n",
       "      <td>14843</td>\n",
       "      <td>12478</td>\n",
       "      <td>2016-8-4</td>\n",
       "    </tr>\n",
       "  </tbody>\n",
       "</table>\n",
       "</div>"
      ],
      "text/plain": [
       "       YEAR  QUARTER  MONTH  DAY_OF_MONTH DAY_OF_WEEK  ORIGIN_AIRPORT_ID  \\\n",
       "95985  2015        4     11            17         Tue              12892   \n",
       "6149   2016        1      2            27         Sat              12478   \n",
       "95251  2016        3      8             4         Thu              14843   \n",
       "\n",
       "       DEST_AIRPORT_ID        time  \n",
       "95985            12478  2015-11-17  \n",
       "6149             14843   2016-2-27  \n",
       "95251            12478    2016-8-4  "
      ]
     },
     "metadata": {},
     "output_type": "display_data"
    },
    {
     "name": "stdout",
     "output_type": "stream",
     "text": [
      "Los Angeles\n"
     ]
    },
    {
     "data": {
      "text/html": [
       "<div>\n",
       "<table border=\"1\" class=\"dataframe\">\n",
       "  <thead>\n",
       "    <tr style=\"text-align: right;\">\n",
       "      <th></th>\n",
       "      <th>YEAR</th>\n",
       "      <th>QUARTER</th>\n",
       "      <th>MONTH</th>\n",
       "      <th>DAY_OF_MONTH</th>\n",
       "      <th>DAY_OF_WEEK</th>\n",
       "      <th>ORIGIN_AIRPORT_ID</th>\n",
       "      <th>DEST_AIRPORT_ID</th>\n",
       "      <th>time</th>\n",
       "    </tr>\n",
       "  </thead>\n",
       "  <tbody>\n",
       "    <tr>\n",
       "      <th>374727</th>\n",
       "      <td>2016</td>\n",
       "      <td>3</td>\n",
       "      <td>9</td>\n",
       "      <td>9</td>\n",
       "      <td>Fri</td>\n",
       "      <td>12892</td>\n",
       "      <td>14771</td>\n",
       "      <td>2016-9-9</td>\n",
       "    </tr>\n",
       "    <tr>\n",
       "      <th>17220</th>\n",
       "      <td>2015</td>\n",
       "      <td>4</td>\n",
       "      <td>12</td>\n",
       "      <td>15</td>\n",
       "      <td>Tue</td>\n",
       "      <td>12892</td>\n",
       "      <td>10423</td>\n",
       "      <td>2015-12-15</td>\n",
       "    </tr>\n",
       "    <tr>\n",
       "      <th>57191</th>\n",
       "      <td>2016</td>\n",
       "      <td>2</td>\n",
       "      <td>4</td>\n",
       "      <td>19</td>\n",
       "      <td>Tue</td>\n",
       "      <td>12892</td>\n",
       "      <td>14107</td>\n",
       "      <td>2016-4-19</td>\n",
       "    </tr>\n",
       "  </tbody>\n",
       "</table>\n",
       "</div>"
      ],
      "text/plain": [
       "        YEAR  QUARTER  MONTH  DAY_OF_MONTH DAY_OF_WEEK  ORIGIN_AIRPORT_ID  \\\n",
       "374727  2016        3      9             9         Fri              12892   \n",
       "17220   2015        4     12            15         Tue              12892   \n",
       "57191   2016        2      4            19         Tue              12892   \n",
       "\n",
       "        DEST_AIRPORT_ID        time  \n",
       "374727            14771    2016-9-9  \n",
       "17220             10423  2015-12-15  \n",
       "57191             14107   2016-4-19  "
      ]
     },
     "metadata": {},
     "output_type": "display_data"
    },
    {
     "name": "stdout",
     "output_type": "stream",
     "text": [
      "Houston\n"
     ]
    },
    {
     "data": {
      "text/html": [
       "<div>\n",
       "<table border=\"1\" class=\"dataframe\">\n",
       "  <thead>\n",
       "    <tr style=\"text-align: right;\">\n",
       "      <th></th>\n",
       "      <th>YEAR</th>\n",
       "      <th>QUARTER</th>\n",
       "      <th>MONTH</th>\n",
       "      <th>DAY_OF_MONTH</th>\n",
       "      <th>DAY_OF_WEEK</th>\n",
       "      <th>ORIGIN_AIRPORT_ID</th>\n",
       "      <th>DEST_AIRPORT_ID</th>\n",
       "      <th>time</th>\n",
       "    </tr>\n",
       "  </thead>\n",
       "  <tbody>\n",
       "    <tr>\n",
       "      <th>181375</th>\n",
       "      <td>2015</td>\n",
       "      <td>4</td>\n",
       "      <td>11</td>\n",
       "      <td>17</td>\n",
       "      <td>Tue</td>\n",
       "      <td>12266</td>\n",
       "      <td>12915</td>\n",
       "      <td>2015-11-17</td>\n",
       "    </tr>\n",
       "    <tr>\n",
       "      <th>212961</th>\n",
       "      <td>2016</td>\n",
       "      <td>1</td>\n",
       "      <td>3</td>\n",
       "      <td>9</td>\n",
       "      <td>Wed</td>\n",
       "      <td>14193</td>\n",
       "      <td>12266</td>\n",
       "      <td>2016-3-9</td>\n",
       "    </tr>\n",
       "    <tr>\n",
       "      <th>41214</th>\n",
       "      <td>2016</td>\n",
       "      <td>2</td>\n",
       "      <td>5</td>\n",
       "      <td>26</td>\n",
       "      <td>Thu</td>\n",
       "      <td>11057</td>\n",
       "      <td>12266</td>\n",
       "      <td>2016-5-26</td>\n",
       "    </tr>\n",
       "  </tbody>\n",
       "</table>\n",
       "</div>"
      ],
      "text/plain": [
       "        YEAR  QUARTER  MONTH  DAY_OF_MONTH DAY_OF_WEEK  ORIGIN_AIRPORT_ID  \\\n",
       "181375  2015        4     11            17         Tue              12266   \n",
       "212961  2016        1      3             9         Wed              14193   \n",
       "41214   2016        2      5            26         Thu              11057   \n",
       "\n",
       "        DEST_AIRPORT_ID        time  \n",
       "181375            12915  2015-11-17  \n",
       "212961            12266    2016-3-9  \n",
       "41214             12266   2016-5-26  "
      ]
     },
     "metadata": {},
     "output_type": "display_data"
    }
   ],
   "source": [
    "cities = ['New York','Los Angeles','Houston']\n",
    "city_codes = {'New York':[12478, 12953],\n",
    "              'Los Angeles' : [12892],\n",
    "               'Houston' : [11495,12191,12266]}\n",
    "\n",
    "def filter_by_city(df_data,city_code):\n",
    "    mask1 = df_data['ORIGIN_AIRPORT_ID'].isin(city_code)\n",
    "    mask2 = df_data['DEST_AIRPORT_ID'].isin(city_code)\n",
    "    return df_data[mask1 | mask2]\n",
    "\n",
    "df_data_city = {city:[] for city in cities}\n",
    "\n",
    "for city in cities:\n",
    "    print city\n",
    "    city_code = city_codes[city]\n",
    "    df_data_city[city] = filter_by_city(df_data, city_code)\n",
    "    \n",
    "    # sanity check\n",
    "    display(df_data_city[city].sample(3))\n",
    "    \n"
   ]
  },
  {
   "cell_type": "markdown",
   "metadata": {},
   "source": [
    "## Result plots"
   ]
  },
  {
   "cell_type": "code",
   "execution_count": 22,
   "metadata": {
    "collapsed": false,
    "run_control": {
     "frozen": false,
     "read_only": false
    }
   },
   "outputs": [
    {
     "data": {
      "text/html": [
       "<div>\n",
       "<table border=\"1\" class=\"dataframe\">\n",
       "  <thead>\n",
       "    <tr style=\"text-align: right;\">\n",
       "      <th></th>\n",
       "      <th>Sun</th>\n",
       "      <th>Mon</th>\n",
       "      <th>Tue</th>\n",
       "      <th>Wed</th>\n",
       "      <th>Thu</th>\n",
       "      <th>Fri</th>\n",
       "      <th>Sat</th>\n",
       "    </tr>\n",
       "  </thead>\n",
       "  <tbody>\n",
       "    <tr>\n",
       "      <th>New York</th>\n",
       "      <td>54774</td>\n",
       "      <td>59836</td>\n",
       "      <td>57450</td>\n",
       "      <td>58018</td>\n",
       "      <td>58680</td>\n",
       "      <td>58437</td>\n",
       "      <td>43946</td>\n",
       "    </tr>\n",
       "    <tr>\n",
       "      <th>Los Angeles</th>\n",
       "      <td>60730</td>\n",
       "      <td>63463</td>\n",
       "      <td>60909</td>\n",
       "      <td>61503</td>\n",
       "      <td>62119</td>\n",
       "      <td>62430</td>\n",
       "      <td>51961</td>\n",
       "    </tr>\n",
       "    <tr>\n",
       "      <th>Houston</th>\n",
       "      <td>55733</td>\n",
       "      <td>59645</td>\n",
       "      <td>55493</td>\n",
       "      <td>57025</td>\n",
       "      <td>58124</td>\n",
       "      <td>58234</td>\n",
       "      <td>45377</td>\n",
       "    </tr>\n",
       "  </tbody>\n",
       "</table>\n",
       "</div>"
      ],
      "text/plain": [
       "               Sun    Mon    Tue    Wed    Thu    Fri    Sat\n",
       "New York     54774  59836  57450  58018  58680  58437  43946\n",
       "Los Angeles  60730  63463  60909  61503  62119  62430  51961\n",
       "Houston      55733  59645  55493  57025  58124  58234  45377"
      ]
     },
     "execution_count": 22,
     "metadata": {},
     "output_type": "execute_result"
    }
   ],
   "source": [
    "flight_counts = []\n",
    "for city in cities:\n",
    "    flight_counts.append(df_data_city[city]['DAY_OF_WEEK'].value_counts())\n",
    "    \n",
    "flight_counts = pd.DataFrame(flight_counts,index=cities)[['Sun','Mon','Tue','Wed','Thu','Fri','Sat']] # reorder columns\n",
    "flight_counts"
   ]
  },
  {
   "cell_type": "code",
   "execution_count": 23,
   "metadata": {
    "collapsed": false,
    "run_control": {
     "frozen": false,
     "read_only": false
    }
   },
   "outputs": [
    {
     "data": {
      "text/html": [
       "<iframe id=\"igraph\" scrolling=\"no\" style=\"border:none;\" seamless=\"seamless\" src=\"https://plot.ly/~takanori/1473.embed\" height=\"525px\" width=\"100%\"></iframe>"
      ],
      "text/plain": [
       "<plotly.tools.PlotlyDisplay object>"
      ]
     },
     "execution_count": 23,
     "metadata": {},
     "output_type": "execute_result"
    }
   ],
   "source": [
    "\n",
    "flight_counts.iplot(kind='bar')"
   ]
  },
  {
   "cell_type": "code",
   "execution_count": 24,
   "metadata": {
    "collapsed": false,
    "run_control": {
     "frozen": false,
     "read_only": false
    }
   },
   "outputs": [],
   "source": [
    "figs = {city:[] for city in cities}\n",
    "for city in cities:\n",
    "    figs[city] = df_data_city[city].\\\n",
    "        groupby(['MONTH','DAY_OF_WEEK',])['YEAR'].\\\n",
    "        count().unstack()[['Sun','Mon','Tue','Wed','Thu','Fri','Sat']].\\\n",
    "        iplot(kind='bar',title=city, xTitle='Month',yTitle='Counts',asFigure=True)\n"
   ]
  },
  {
   "cell_type": "code",
   "execution_count": 25,
   "metadata": {
    "collapsed": false,
    "run_control": {
     "frozen": false,
     "read_only": false
    }
   },
   "outputs": [
    {
     "data": {
      "text/html": [
       "<iframe id=\"igraph\" scrolling=\"no\" style=\"border:none;\" seamless=\"seamless\" src=\"https://plot.ly/~takanori/1475.embed?share_key=lsREjLD1QEtJco6iFMwh0f\" height=\"525px\" width=\"100%\"></iframe>"
      ],
      "text/plain": [
       "<plotly.tools.PlotlyDisplay object>"
      ]
     },
     "execution_count": 25,
     "metadata": {},
     "output_type": "execute_result"
    }
   ],
   "source": [
    "py.iplot(figs['New York'],title='New York')"
   ]
  },
  {
   "cell_type": "code",
   "execution_count": 26,
   "metadata": {
    "collapsed": false,
    "run_control": {
     "frozen": false,
     "read_only": false
    }
   },
   "outputs": [
    {
     "data": {
      "text/html": [
       "<iframe id=\"igraph\" scrolling=\"no\" style=\"border:none;\" seamless=\"seamless\" src=\"https://plot.ly/~takanori/1477.embed?share_key=Aii2uNdEEuUhDVVW4wzROy\" height=\"525px\" width=\"100%\"></iframe>"
      ],
      "text/plain": [
       "<plotly.tools.PlotlyDisplay object>"
      ]
     },
     "execution_count": 26,
     "metadata": {},
     "output_type": "execute_result"
    }
   ],
   "source": [
    "py.iplot(figs['Houston'],title='Houston')"
   ]
  },
  {
   "cell_type": "code",
   "execution_count": 27,
   "metadata": {
    "collapsed": false,
    "run_control": {
     "frozen": false,
     "read_only": false
    }
   },
   "outputs": [
    {
     "data": {
      "text/html": [
       "<iframe id=\"igraph\" scrolling=\"no\" style=\"border:none;\" seamless=\"seamless\" src=\"https://plot.ly/~takanori/1479.embed?share_key=K6pYaT7pHhKi4z9Euvruml\" height=\"525px\" width=\"100%\"></iframe>"
      ],
      "text/plain": [
       "<plotly.tools.PlotlyDisplay object>"
      ]
     },
     "execution_count": 27,
     "metadata": {},
     "output_type": "execute_result"
    }
   ],
   "source": [
    "py.iplot(figs['Los Angeles'],title='Los Angeles')"
   ]
  },
  {
   "cell_type": "markdown",
   "metadata": {},
   "source": [
    "# Regress out effect from \"DAY OF WEEK\"\n",
    "\n",
    "- Apply linear regression using the \"Day of the week\" as the regressor.\n",
    "\n",
    "- By studying the residual from this regression, we hope to see more salient pattern once the dominant effect of \"day-of-week\" is removed"
   ]
  },
  {
   "cell_type": "code",
   "execution_count": 28,
   "metadata": {
    "collapsed": false,
    "run_control": {
     "frozen": false,
     "read_only": false
    }
   },
   "outputs": [
    {
     "data": {
      "text/html": [
       "<table class=\"simpletable\">\n",
       "<caption>OLS Regression Results</caption>\n",
       "<tr>\n",
       "  <th>Dep. Variable:</th>         <td>counts</td>      <th>  R-squared:         </th> <td>   0.553</td>\n",
       "</tr>\n",
       "<tr>\n",
       "  <th>Model:</th>                   <td>OLS</td>       <th>  Adj. R-squared:    </th> <td>   0.545</td>\n",
       "</tr>\n",
       "<tr>\n",
       "  <th>Method:</th>             <td>Least Squares</td>  <th>  F-statistic:       </th> <td>   73.96</td>\n",
       "</tr>\n",
       "<tr>\n",
       "  <th>Date:</th>             <td>Tue, 10 Jan 2017</td> <th>  Prob (F-statistic):</th> <td>9.34e-60</td>\n",
       "</tr>\n",
       "<tr>\n",
       "  <th>Time:</th>                 <td>16:26:24</td>     <th>  Log-Likelihood:    </th> <td> -3004.6</td>\n",
       "</tr>\n",
       "<tr>\n",
       "  <th>No. Observations:</th>      <td>   366</td>      <th>  AIC:               </th> <td>   6023.</td>\n",
       "</tr>\n",
       "<tr>\n",
       "  <th>Df Residuals:</th>          <td>   359</td>      <th>  BIC:               </th> <td>   6051.</td>\n",
       "</tr>\n",
       "<tr>\n",
       "  <th>Df Model:</th>              <td>     6</td>      <th>                     </th>     <td> </td>   \n",
       "</tr>\n",
       "<tr>\n",
       "  <th>Covariance Type:</th>      <td>nonrobust</td>    <th>                     </th>     <td> </td>   \n",
       "</tr>\n",
       "</table>\n",
       "<table class=\"simpletable\">\n",
       "<tr>\n",
       "           <td></td>              <th>coef</th>     <th>std err</th>      <th>t</th>      <th>P>|t|</th> <th>[95.0% Conf. Int.]</th> \n",
       "</tr>\n",
       "<tr>\n",
       "  <th>C(day_of_week)[Fri]</th> <td> 1.605e+04</td> <td>  124.514</td> <td>  128.866</td> <td> 0.000</td> <td> 1.58e+04  1.63e+04</td>\n",
       "</tr>\n",
       "<tr>\n",
       "  <th>C(day_of_week)[Mon]</th> <td> 1.604e+04</td> <td>  123.334</td> <td>  130.061</td> <td> 0.000</td> <td> 1.58e+04  1.63e+04</td>\n",
       "</tr>\n",
       "<tr>\n",
       "  <th>C(day_of_week)[Sat]</th> <td> 1.312e+04</td> <td>  124.514</td> <td>  105.345</td> <td> 0.000</td> <td> 1.29e+04  1.34e+04</td>\n",
       "</tr>\n",
       "<tr>\n",
       "  <th>C(day_of_week)[Sun]</th> <td> 1.518e+04</td> <td>  123.334</td> <td>  123.110</td> <td> 0.000</td> <td> 1.49e+04  1.54e+04</td>\n",
       "</tr>\n",
       "<tr>\n",
       "  <th>C(day_of_week)[Thu]</th> <td> 1.599e+04</td> <td>  124.514</td> <td>  128.415</td> <td> 0.000</td> <td> 1.57e+04  1.62e+04</td>\n",
       "</tr>\n",
       "<tr>\n",
       "  <th>C(day_of_week)[Tue]</th> <td> 1.578e+04</td> <td>  124.514</td> <td>  126.740</td> <td> 0.000</td> <td> 1.55e+04   1.6e+04</td>\n",
       "</tr>\n",
       "<tr>\n",
       "  <th>C(day_of_week)[Wed]</th> <td> 1.595e+04</td> <td>  124.514</td> <td>  128.122</td> <td> 0.000</td> <td> 1.57e+04  1.62e+04</td>\n",
       "</tr>\n",
       "</table>\n",
       "<table class=\"simpletable\">\n",
       "<tr>\n",
       "  <th>Omnibus:</th>       <td>138.226</td> <th>  Durbin-Watson:     </th> <td>   0.904</td> \n",
       "</tr>\n",
       "<tr>\n",
       "  <th>Prob(Omnibus):</th> <td> 0.000</td>  <th>  Jarque-Bera (JB):  </th> <td> 802.535</td> \n",
       "</tr>\n",
       "<tr>\n",
       "  <th>Skew:</th>          <td>-1.478</td>  <th>  Prob(JB):          </th> <td>5.39e-175</td>\n",
       "</tr>\n",
       "<tr>\n",
       "  <th>Kurtosis:</th>      <td> 9.625</td>  <th>  Cond. No.          </th> <td>    1.01</td> \n",
       "</tr>\n",
       "</table>"
      ],
      "text/plain": [
       "<class 'statsmodels.iolib.summary.Summary'>\n",
       "\"\"\"\n",
       "                            OLS Regression Results                            \n",
       "==============================================================================\n",
       "Dep. Variable:                 counts   R-squared:                       0.553\n",
       "Model:                            OLS   Adj. R-squared:                  0.545\n",
       "Method:                 Least Squares   F-statistic:                     73.96\n",
       "Date:                Tue, 10 Jan 2017   Prob (F-statistic):           9.34e-60\n",
       "Time:                        16:26:24   Log-Likelihood:                -3004.6\n",
       "No. Observations:                 366   AIC:                             6023.\n",
       "Df Residuals:                     359   BIC:                             6051.\n",
       "Df Model:                           6                                         \n",
       "Covariance Type:            nonrobust                                         \n",
       "=======================================================================================\n",
       "                          coef    std err          t      P>|t|      [95.0% Conf. Int.]\n",
       "---------------------------------------------------------------------------------------\n",
       "C(day_of_week)[Fri]  1.605e+04    124.514    128.866      0.000      1.58e+04  1.63e+04\n",
       "C(day_of_week)[Mon]  1.604e+04    123.334    130.061      0.000      1.58e+04  1.63e+04\n",
       "C(day_of_week)[Sat]  1.312e+04    124.514    105.345      0.000      1.29e+04  1.34e+04\n",
       "C(day_of_week)[Sun]  1.518e+04    123.334    123.110      0.000      1.49e+04  1.54e+04\n",
       "C(day_of_week)[Thu]  1.599e+04    124.514    128.415      0.000      1.57e+04  1.62e+04\n",
       "C(day_of_week)[Tue]  1.578e+04    124.514    126.740      0.000      1.55e+04   1.6e+04\n",
       "C(day_of_week)[Wed]  1.595e+04    124.514    128.122      0.000      1.57e+04  1.62e+04\n",
       "==============================================================================\n",
       "Omnibus:                      138.226   Durbin-Watson:                   0.904\n",
       "Prob(Omnibus):                  0.000   Jarque-Bera (JB):              802.535\n",
       "Skew:                          -1.478   Prob(JB):                    5.39e-175\n",
       "Kurtosis:                       9.625   Cond. No.                         1.01\n",
       "==============================================================================\n",
       "\n",
       "Warnings:\n",
       "[1] Standard Errors assume that the covariance matrix of the errors is correctly specified.\n",
       "\"\"\""
      ]
     },
     "execution_count": 28,
     "metadata": {},
     "output_type": "execute_result"
    }
   ],
   "source": [
    "import statsmodels.formula.api as smf\n",
    "mod = smf.ols(formula = 'counts ~ C(day_of_week) - 1',data=ts_flightcounts).fit()\n",
    "\n",
    "mod.summary()"
   ]
  },
  {
   "cell_type": "markdown",
   "metadata": {},
   "source": [
    "## Plot residuals after \"weekday\" regression"
   ]
  },
  {
   "cell_type": "code",
   "execution_count": 29,
   "metadata": {
    "collapsed": false,
    "run_control": {
     "frozen": false,
     "read_only": false
    }
   },
   "outputs": [
    {
     "data": {
      "text/html": [
       "<iframe id=\"igraph\" scrolling=\"no\" style=\"border:none;\" seamless=\"seamless\" src=\"https://plot.ly/~takanori/1369.embed\" height=\"525px\" width=\"100%\"></iframe>"
      ],
      "text/plain": [
       "<plotly.tools.PlotlyDisplay object>"
      ]
     },
     "execution_count": 29,
     "metadata": {},
     "output_type": "execute_result"
    }
   ],
   "source": [
    "# add residual information\n",
    "ts_flightcounts['residual'] = mod.resid\n",
    "\n",
    "title = 'Residual Airflight Counts in the US <br>(`day_of_week` as regressors)'\n",
    "ts_flightcounts.iplot(y=['residual'],\n",
    "                      filename=outfile+'plot_resid',\n",
    "                      text=hover_text,\n",
    "                      title=title)"
   ]
  },
  {
   "cell_type": "markdown",
   "metadata": {},
   "source": [
    "## Get \"Lagged\" residual\n",
    "\n",
    "- let's take this a step further, and compute and plot the \"lagged\" residual plot\n",
    "\n",
    "- this is given by: ``resid_lag[t] = resid[t+1] - resid[t]``"
   ]
  },
  {
   "cell_type": "code",
   "execution_count": 30,
   "metadata": {
    "collapsed": false,
    "run_control": {
     "frozen": false,
     "read_only": false
    }
   },
   "outputs": [],
   "source": [
    "# also add \"lagged\" residual information\n",
    "ts_flightcounts['resid_lag'] = \\\n",
    "    ts_flightcounts['residual'].shift(1) - ts_flightcounts['residual']\n",
    "    \n",
    "title = 'Lagged Residual Plot of Airflight Counts in the US (left click to zoom)'\n",
    "title+= '<br>(\"day-of-week\" used as regressors; shaded region = +/-1.5 std-dev)'\n",
    "\n",
    "annotations = {\n",
    "    datetime(2015,11,26):'Thanksgiving',\n",
    "    datetime(2015,12,24):'Christmas Eve',\n",
    "    datetime(2015,12,31):'New Years',\n",
    "    datetime(2016, 2, 7):'??? Something happen ???',\n",
    "    datetime(2016, 5,29):'Memorials Day',\n",
    "    datetime(2016, 7, 3):'Independence Day',\n",
    "    datetime(2016, 9, 4):'Labor Day',\n",
    "}\n",
    "\n",
    "std_ = ts_flightcounts['resid_lag'].std()"
   ]
  },
  {
   "cell_type": "code",
   "execution_count": 31,
   "metadata": {
    "collapsed": false,
    "run_control": {
     "frozen": false,
     "read_only": false
    }
   },
   "outputs": [
    {
     "data": {
      "text/html": [
       "<iframe id=\"igraph\" scrolling=\"no\" style=\"border:none;\" seamless=\"seamless\" src=\"https://plot.ly/~takanori/1371.embed\" height=\"525px\" width=\"100%\"></iframe>"
      ],
      "text/plain": [
       "<plotly.tools.PlotlyDisplay object>"
      ]
     },
     "execution_count": 31,
     "metadata": {},
     "output_type": "execute_result"
    }
   ],
   "source": [
    "ts_flightcounts['resid_lag'].iplot(\n",
    "    filename=outfile+'plot_resid_lag',\n",
    "    annotations=annotations,\n",
    "    #hspan=[(-1.5*std_,1.5*std_)],\n",
    "    hspan = dict(y0=-1.5*std_,y1=1.5*std_,opacity=0.2,color='teal',fill=True),\n",
    "    text=hover_text,\n",
    "    title=title)"
   ]
  },
  {
   "cell_type": "markdown",
   "metadata": {},
   "source": [
    "## Create subplots with all 3 plots"
   ]
  },
  {
   "cell_type": "code",
   "execution_count": 32,
   "metadata": {
    "collapsed": false,
    "run_control": {
     "frozen": false,
     "read_only": false
    }
   },
   "outputs": [
    {
     "data": {
      "text/html": [
       "<iframe id=\"igraph\" scrolling=\"no\" style=\"border:none;\" seamless=\"seamless\" src=\"https://plot.ly/~takanori/1373.embed\" height=\"525px\" width=\"100%\"></iframe>"
      ],
      "text/plain": [
       "<plotly.tools.PlotlyDisplay object>"
      ]
     },
     "execution_count": 32,
     "metadata": {},
     "output_type": "execute_result"
    }
   ],
   "source": [
    "title = 'Flight counts'\n",
    "ts_flightcounts.iplot(y=['counts','residual','resid_lag'],\n",
    "                      subplots=True, shape=(3,1),\n",
    "                      text=hover_text,\n",
    "                      shared_xaxes=True, \n",
    "                      title=title,\n",
    "                      filename=outfile+'flightcounts_subplot')"
   ]
  },
  {
   "cell_type": "markdown",
   "metadata": {},
   "source": [
    "## Histograms"
   ]
  },
  {
   "cell_type": "code",
   "execution_count": 33,
   "metadata": {
    "collapsed": false,
    "run_control": {
     "frozen": false,
     "read_only": false
    }
   },
   "outputs": [],
   "source": [
    "#| meh, boring plot\n",
    "# ts_flightcounts[['counts','residual','resid_lag']].iplot(kind='histogram',\n",
    "#                       filename=outfile+'histogram',\n",
    "#                       title='')"
   ]
  },
  {
   "cell_type": "code",
   "execution_count": 34,
   "metadata": {
    "collapsed": false,
    "run_control": {
     "frozen": false,
     "read_only": false
    }
   },
   "outputs": [],
   "source": [
    "# ts_flightcounts[groups]"
   ]
  },
  {
   "cell_type": "code",
   "execution_count": 35,
   "metadata": {
    "collapsed": false,
    "run_control": {
     "frozen": false,
     "marked": false,
     "read_only": false
    },
    "scrolled": true
   },
   "outputs": [
    {
     "data": {
      "text/html": [
       "<iframe id=\"igraph\" scrolling=\"no\" style=\"border:none;\" seamless=\"seamless\" src=\"https://plot.ly/~takanori/1385.embed?share_key=MvnKY7mPLYO2htAyWOal3j\" height=\"525px\" width=\"100%\"></iframe>"
      ],
      "text/plain": [
       "<plotly.tools.PlotlyDisplay object>"
      ]
     },
     "execution_count": 35,
     "metadata": {},
     "output_type": "execute_result"
    }
   ],
   "source": [
    "from plotly.tools import FigureFactory as FF\n",
    "\n",
    "columns = ['counts','residual','resid_lag']\n",
    "group_data = map(lambda col: ts_flightcounts[col].dropna().values,columns)\n",
    "fig = FF.create_distplot(group_data,\n",
    "                         group_labels=columns,\n",
    "                         bin_size= 300,\n",
    "                         curve_type='normal',#'kde' or 'normal'\n",
    ")\n",
    "\n",
    "py.iplot(fig, filename=outfile+'histogram2',title='Distributions among the 3 quantities of interest')"
   ]
  }
 ],
 "metadata": {
  "anaconda-cloud": {},
  "hide_input": false,
  "kernelspec": {
   "display_name": "Python [Root]",
   "language": "python",
   "name": "Python [Root]"
  },
  "language_info": {
   "codemirror_mode": {
    "name": "ipython",
    "version": 2
   },
   "file_extension": ".py",
   "mimetype": "text/x-python",
   "name": "python",
   "nbconvert_exporter": "python",
   "pygments_lexer": "ipython2",
   "version": "2.7.12"
  },
  "nav_menu": {},
  "toc": {
   "navigate_menu": true,
   "number_sections": true,
   "sideBar": true,
   "threshold": 6,
   "toc_cell": true,
   "toc_section_display": "block",
   "toc_window_display": true
  },
  "toc_position": {
   "height": "844px",
   "left": "0px",
   "right": "1208px",
   "top": "106px",
   "width": "232px"
  }
 },
 "nbformat": 4,
 "nbformat_minor": 0
}
