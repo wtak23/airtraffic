{
 "cells": [
  {
   "cell_type": "markdown",
   "metadata": {
    "toc": "true"
   },
   "source": [
    "# Table of Contents\n",
    " <p><div class=\"lev1 toc-item\"><a href=\"#Load-data\" data-toc-modified-id=\"Load-data-1\"><span class=\"toc-item-num\">1&nbsp;&nbsp;</span>Load data</a></div><div class=\"lev1 toc-item\"><a href=\"#Create-Timeseries-of-Daily-Flight-Counts\" data-toc-modified-id=\"Create-Timeseries-of-Daily-Flight-Counts-2\"><span class=\"toc-item-num\">2&nbsp;&nbsp;</span>Create Timeseries of Daily Flight Counts</a></div><div class=\"lev2 toc-item\"><a href=\"#Create-interactive-plot-with-plotly/cufflinks\" data-toc-modified-id=\"Create-interactive-plot-with-plotly/cufflinks-2.1\"><span class=\"toc-item-num\">2.1&nbsp;&nbsp;</span>Create interactive plot with plotly/cufflinks</a></div><div class=\"lev2 toc-item\"><a href=\"#Study-seasonal-trend-with-rolling-averaged-timeseries\" data-toc-modified-id=\"Study-seasonal-trend-with-rolling-averaged-timeseries-2.2\"><span class=\"toc-item-num\">2.2&nbsp;&nbsp;</span>Study seasonal trend with rolling-averaged timeseries</a></div><div class=\"lev1 toc-item\"><a href=\"#Flight-counts-study-by-&quot;day_of_week&quot;-and-&quot;month&quot;\" data-toc-modified-id=\"Flight-counts-study-by-&quot;day_of_week&quot;-and-&quot;month&quot;-3\"><span class=\"toc-item-num\">3&nbsp;&nbsp;</span>Flight counts study by \"day_of_week\" and \"month\"</a></div><div class=\"lev2 toc-item\"><a href=\"#Over-entire-year-period\" data-toc-modified-id=\"Over-entire-year-period-3.1\"><span class=\"toc-item-num\">3.1&nbsp;&nbsp;</span>Over entire year period</a></div><div class=\"lev2 toc-item\"><a href=\"#Pivoting:-analysis-grouped-by-month-and-day_of_week\" data-toc-modified-id=\"Pivoting:-analysis-grouped-by-month-and-day_of_week-3.2\"><span class=\"toc-item-num\">3.2&nbsp;&nbsp;</span>Pivoting: analysis grouped by month and day_of_week</a></div><div class=\"lev1 toc-item\"><a href=\"#Repeat-analysis-for-NY,-LA,-and-Vegas.\" data-toc-modified-id=\"Repeat-analysis-for-NY,-LA,-and-Vegas.-4\"><span class=\"toc-item-num\">4&nbsp;&nbsp;</span>Repeat analysis for NY, LA, and Vegas.</a></div><div class=\"lev2 toc-item\"><a href=\"#Data-tidying\" data-toc-modified-id=\"Data-tidying-4.1\"><span class=\"toc-item-num\">4.1&nbsp;&nbsp;</span>Data tidying</a></div><div class=\"lev2 toc-item\"><a href=\"#Plot-results\" data-toc-modified-id=\"Plot-results-4.2\"><span class=\"toc-item-num\">4.2&nbsp;&nbsp;</span>Plot results</a></div><div class=\"lev2 toc-item\"><a href=\"#Create-sublots-of-monthly-flight-count-trends-for-each-city\" data-toc-modified-id=\"Create-sublots-of-monthly-flight-count-trends-for-each-city-4.3\"><span class=\"toc-item-num\">4.3&nbsp;&nbsp;</span>Create sublots of monthly flight-count trends for each city</a></div><div class=\"lev1 toc-item\"><a href=\"#Which-state-had-the-most-air-traffics?\" data-toc-modified-id=\"Which-state-had-the-most-air-traffics?-5\"><span class=\"toc-item-num\">5&nbsp;&nbsp;</span>Which state had the most air traffics?</a></div><div class=\"lev2 toc-item\"><a href=\"#Data-tidying\" data-toc-modified-id=\"Data-tidying-5.1\"><span class=\"toc-item-num\">5.1&nbsp;&nbsp;</span>Data tidying</a></div><div class=\"lev2 toc-item\"><a href=\"#Choropleth-figure-(display-result-on-US-map)\" data-toc-modified-id=\"Choropleth-figure-(display-result-on-US-map)-5.2\"><span class=\"toc-item-num\">5.2&nbsp;&nbsp;</span>Choropleth figure (display result on US map)</a></div><div class=\"lev2 toc-item\"><a href=\"#Choropleth-after-normalizing-over-state-population\" data-toc-modified-id=\"Choropleth-after-normalizing-over-state-population-5.3\"><span class=\"toc-item-num\">5.3&nbsp;&nbsp;</span>Choropleth after normalizing over state population</a></div><div class=\"lev2 toc-item\"><a href=\"#Normalized-flight-counts-at-different-month?\" data-toc-modified-id=\"Normalized-flight-counts-at-different-month?-5.4\"><span class=\"toc-item-num\">5.4&nbsp;&nbsp;</span>Normalized flight-counts at different month?</a></div><div class=\"lev1 toc-item\"><a href=\"#Most-frequently-used-airports\" data-toc-modified-id=\"Most-frequently-used-airports-6\"><span class=\"toc-item-num\">6&nbsp;&nbsp;</span>Most frequently used airports</a></div><div class=\"lev2 toc-item\"><a href=\"#Data-tidying\" data-toc-modified-id=\"Data-tidying-6.1\"><span class=\"toc-item-num\">6.1&nbsp;&nbsp;</span>Data tidying</a></div><div class=\"lev2 toc-item\"><a href=\"#Plot-results\" data-toc-modified-id=\"Plot-results-6.2\"><span class=\"toc-item-num\">6.2&nbsp;&nbsp;</span>Plot results</a></div><div class=\"lev2 toc-item\"><a href=\"#Display-results-on-US-Map\" data-toc-modified-id=\"Display-results-on-US-Map-6.3\"><span class=\"toc-item-num\">6.3&nbsp;&nbsp;</span>Display results on US Map</a></div>"
   ]
  },
  {
   "cell_type": "code",
   "execution_count": 1,
   "metadata": {
    "collapsed": true,
    "run_control": {
     "frozen": false,
     "read_only": false
    }
   },
   "outputs": [],
   "source": [
    "%matplotlib inline"
   ]
  },
  {
   "cell_type": "code",
   "execution_count": 2,
   "metadata": {
    "collapsed": false,
    "run_control": {
     "frozen": false,
     "read_only": false
    }
   },
   "outputs": [],
   "source": [
    "import numpy as np\n",
    "import pandas as pd\n",
    "import matplotlib.pyplot as plt\n",
    "import seaborn.apionly as sns\n",
    "import plotly\n",
    "import plotly.plotly as py\n",
    "import calendar\n",
    "\n",
    "from datetime import datetime\n",
    "from pprint import pprint\n",
    "from IPython.display import display\n",
    "\n",
    "import cufflinks as cf\n",
    "cf.set_config_file(theme='ggplot')\n",
    "\n",
    "import util\n",
    "\n",
    "# limit output to avoid cluttering screen\n",
    "pd.options.display.max_rows = 20"
   ]
  },
  {
   "cell_type": "code",
   "execution_count": 3,
   "metadata": {
    "collapsed": true,
    "run_control": {
     "frozen": false,
     "read_only": false
    }
   },
   "outputs": [],
   "source": [
    "# name of output files to prepend with\n",
    "outfile = 'flight_count_analysis_'"
   ]
  },
  {
   "cell_type": "markdown",
   "metadata": {},
   "source": [
    "# Load data\n",
    "\n",
    "Load the **airport data**, as well as the **lookup-table** I created [here](http://takwatanabe.me/airtraffic/create_lookup_table.html).\n"
   ]
  },
  {
   "cell_type": "code",
   "execution_count": 4,
   "metadata": {
    "collapsed": false,
    "run_control": {
     "frozen": false,
     "read_only": false
    }
   },
   "outputs": [
    {
     "name": "stdout",
     "output_type": "stream",
     "text": [
      " ... load dataframe from 2015-11.zip \n",
      " ... load dataframe from 2015-12.zip \n",
      " ... load dataframe from 2016-01.zip \n",
      " ... load dataframe from 2016-02.zip \n",
      " ... load dataframe from 2016-03.zip \n",
      " ... load dataframe from 2016-04.zip \n",
      " ... load dataframe from 2016-05.zip \n",
      " ... load dataframe from 2016-06.zip \n",
      " ... load dataframe from 2016-07.zip \n",
      " ... load dataframe from 2016-08.zip \n",
      " ... load dataframe from 2016-09.zip \n",
      " ... load dataframe from 2016-10.zip \n"
     ]
    }
   ],
   "source": [
    "df_data = util.load_airport_data()\n",
    "period = '11/1/2015 to 10/31/2016'"
   ]
  },
  {
   "cell_type": "code",
   "execution_count": 5,
   "metadata": {
    "collapsed": false,
    "run_control": {
     "frozen": false,
     "read_only": false
    }
   },
   "outputs": [
    {
     "data": {
      "text/html": [
       "<div>\n",
       "<table border=\"1\" class=\"dataframe\">\n",
       "  <thead>\n",
       "    <tr style=\"text-align: right;\">\n",
       "      <th></th>\n",
       "      <th>YEAR</th>\n",
       "      <th>QUARTER</th>\n",
       "      <th>MONTH</th>\n",
       "      <th>DAY_OF_MONTH</th>\n",
       "      <th>DAY_OF_WEEK</th>\n",
       "      <th>ORIGIN_AIRPORT_ID</th>\n",
       "      <th>DEST_AIRPORT_ID</th>\n",
       "    </tr>\n",
       "  </thead>\n",
       "  <tbody>\n",
       "    <tr>\n",
       "      <th>0</th>\n",
       "      <td>2015</td>\n",
       "      <td>4</td>\n",
       "      <td>11</td>\n",
       "      <td>4</td>\n",
       "      <td>3</td>\n",
       "      <td>14570</td>\n",
       "      <td>13930</td>\n",
       "    </tr>\n",
       "    <tr>\n",
       "      <th>1</th>\n",
       "      <td>2015</td>\n",
       "      <td>4</td>\n",
       "      <td>11</td>\n",
       "      <td>5</td>\n",
       "      <td>4</td>\n",
       "      <td>13930</td>\n",
       "      <td>14057</td>\n",
       "    </tr>\n",
       "    <tr>\n",
       "      <th>2</th>\n",
       "      <td>2015</td>\n",
       "      <td>4</td>\n",
       "      <td>11</td>\n",
       "      <td>6</td>\n",
       "      <td>5</td>\n",
       "      <td>13930</td>\n",
       "      <td>14057</td>\n",
       "    </tr>\n",
       "    <tr>\n",
       "      <th>3</th>\n",
       "      <td>2015</td>\n",
       "      <td>4</td>\n",
       "      <td>11</td>\n",
       "      <td>7</td>\n",
       "      <td>6</td>\n",
       "      <td>13930</td>\n",
       "      <td>14057</td>\n",
       "    </tr>\n",
       "    <tr>\n",
       "      <th>4</th>\n",
       "      <td>2015</td>\n",
       "      <td>4</td>\n",
       "      <td>11</td>\n",
       "      <td>8</td>\n",
       "      <td>7</td>\n",
       "      <td>13930</td>\n",
       "      <td>14057</td>\n",
       "    </tr>\n",
       "  </tbody>\n",
       "</table>\n",
       "</div>"
      ],
      "text/plain": [
       "   YEAR  QUARTER  MONTH  DAY_OF_MONTH  DAY_OF_WEEK  ORIGIN_AIRPORT_ID  \\\n",
       "0  2015        4     11             4            3              14570   \n",
       "1  2015        4     11             5            4              13930   \n",
       "2  2015        4     11             6            5              13930   \n",
       "3  2015        4     11             7            6              13930   \n",
       "4  2015        4     11             8            7              13930   \n",
       "\n",
       "   DEST_AIRPORT_ID  \n",
       "0            13930  \n",
       "1            14057  \n",
       "2            14057  \n",
       "3            14057  \n",
       "4            14057  "
      ]
     },
     "execution_count": 5,
     "metadata": {},
     "output_type": "execute_result"
    }
   ],
   "source": [
    "df_data.head()"
   ]
  },
  {
   "cell_type": "code",
   "execution_count": 6,
   "metadata": {
    "collapsed": false,
    "run_control": {
     "frozen": false,
     "read_only": false
    }
   },
   "outputs": [
    {
     "data": {
      "text/html": [
       "<div>\n",
       "<table border=\"1\" class=\"dataframe\">\n",
       "  <thead>\n",
       "    <tr style=\"text-align: right;\">\n",
       "      <th></th>\n",
       "      <th>YEAR</th>\n",
       "      <th>QUARTER</th>\n",
       "      <th>MONTH</th>\n",
       "      <th>DAY_OF_MONTH</th>\n",
       "      <th>DAY_OF_WEEK</th>\n",
       "      <th>ORIGIN_AIRPORT_ID</th>\n",
       "      <th>DEST_AIRPORT_ID</th>\n",
       "    </tr>\n",
       "  </thead>\n",
       "  <tbody>\n",
       "    <tr>\n",
       "      <th>0</th>\n",
       "      <td>2015</td>\n",
       "      <td>4</td>\n",
       "      <td>11</td>\n",
       "      <td>4</td>\n",
       "      <td>Wed</td>\n",
       "      <td>14570</td>\n",
       "      <td>13930</td>\n",
       "    </tr>\n",
       "    <tr>\n",
       "      <th>1</th>\n",
       "      <td>2015</td>\n",
       "      <td>4</td>\n",
       "      <td>11</td>\n",
       "      <td>5</td>\n",
       "      <td>Thu</td>\n",
       "      <td>13930</td>\n",
       "      <td>14057</td>\n",
       "    </tr>\n",
       "    <tr>\n",
       "      <th>2</th>\n",
       "      <td>2015</td>\n",
       "      <td>4</td>\n",
       "      <td>11</td>\n",
       "      <td>6</td>\n",
       "      <td>Fri</td>\n",
       "      <td>13930</td>\n",
       "      <td>14057</td>\n",
       "    </tr>\n",
       "    <tr>\n",
       "      <th>3</th>\n",
       "      <td>2015</td>\n",
       "      <td>4</td>\n",
       "      <td>11</td>\n",
       "      <td>7</td>\n",
       "      <td>Sat</td>\n",
       "      <td>13930</td>\n",
       "      <td>14057</td>\n",
       "    </tr>\n",
       "    <tr>\n",
       "      <th>4</th>\n",
       "      <td>2015</td>\n",
       "      <td>4</td>\n",
       "      <td>11</td>\n",
       "      <td>8</td>\n",
       "      <td>Sun</td>\n",
       "      <td>13930</td>\n",
       "      <td>14057</td>\n",
       "    </tr>\n",
       "  </tbody>\n",
       "</table>\n",
       "</div>"
      ],
      "text/plain": [
       "   YEAR  QUARTER  MONTH  DAY_OF_MONTH DAY_OF_WEEK  ORIGIN_AIRPORT_ID  \\\n",
       "0  2015        4     11             4         Wed              14570   \n",
       "1  2015        4     11             5         Thu              13930   \n",
       "2  2015        4     11             6         Fri              13930   \n",
       "3  2015        4     11             7         Sat              13930   \n",
       "4  2015        4     11             8         Sun              13930   \n",
       "\n",
       "   DEST_AIRPORT_ID  \n",
       "0            13930  \n",
       "1            14057  \n",
       "2            14057  \n",
       "3            14057  \n",
       "4            14057  "
      ]
     },
     "execution_count": 6,
     "metadata": {},
     "output_type": "execute_result"
    }
   ],
   "source": [
    "# make the \"day_of_week\" explicit\n",
    "hash_dayofweek = {1:'Mon', 2:'Tue', 3:'Wed', 4:'Thu', 5:'Fri', 6:'Sat', 7:'Sun'}\n",
    "df_data['DAY_OF_WEEK'] = df_data['DAY_OF_WEEK'].map(lambda key: hash_dayofweek[key])\n",
    "df_data.head()"
   ]
  },
  {
   "cell_type": "code",
   "execution_count": 7,
   "metadata": {
    "collapsed": false,
    "run_control": {
     "frozen": false,
     "read_only": false
    }
   },
   "outputs": [
    {
     "data": {
      "text/html": [
       "<div>\n",
       "<table border=\"1\" class=\"dataframe\">\n",
       "  <thead>\n",
       "    <tr style=\"text-align: right;\">\n",
       "      <th></th>\n",
       "      <th>Code</th>\n",
       "      <th>Description</th>\n",
       "      <th>Airport</th>\n",
       "      <th>City</th>\n",
       "      <th>State</th>\n",
       "      <th>Region</th>\n",
       "      <th>lat</th>\n",
       "      <th>lon</th>\n",
       "      <th>City_State</th>\n",
       "    </tr>\n",
       "  </thead>\n",
       "  <tbody>\n",
       "    <tr>\n",
       "      <th>0</th>\n",
       "      <td>10135</td>\n",
       "      <td>Allentown/Bethlehem/Easton, PA: Lehigh Valley ...</td>\n",
       "      <td>Lehigh Valley International</td>\n",
       "      <td>Allentown/Bethlehem/Easton</td>\n",
       "      <td>PA</td>\n",
       "      <td>Northeast</td>\n",
       "      <td>40.651650</td>\n",
       "      <td>-75.434746</td>\n",
       "      <td>Allentown/Bethlehem/Easton (PA)</td>\n",
       "    </tr>\n",
       "    <tr>\n",
       "      <th>1</th>\n",
       "      <td>10136</td>\n",
       "      <td>Abilene, TX: Abilene Regional</td>\n",
       "      <td>Abilene Regional</td>\n",
       "      <td>Abilene</td>\n",
       "      <td>TX</td>\n",
       "      <td>South</td>\n",
       "      <td>32.448736</td>\n",
       "      <td>-99.733144</td>\n",
       "      <td>Abilene (TX)</td>\n",
       "    </tr>\n",
       "    <tr>\n",
       "      <th>2</th>\n",
       "      <td>10140</td>\n",
       "      <td>Albuquerque, NM: Albuquerque International Sun...</td>\n",
       "      <td>Albuquerque International Sunport</td>\n",
       "      <td>Albuquerque</td>\n",
       "      <td>NM</td>\n",
       "      <td>West</td>\n",
       "      <td>35.043333</td>\n",
       "      <td>-106.612909</td>\n",
       "      <td>Albuquerque (NM)</td>\n",
       "    </tr>\n",
       "    <tr>\n",
       "      <th>3</th>\n",
       "      <td>10141</td>\n",
       "      <td>Aberdeen, SD: Aberdeen Regional</td>\n",
       "      <td>Aberdeen Regional</td>\n",
       "      <td>Aberdeen</td>\n",
       "      <td>SD</td>\n",
       "      <td>Midwest</td>\n",
       "      <td>45.453458</td>\n",
       "      <td>-98.417726</td>\n",
       "      <td>Aberdeen (SD)</td>\n",
       "    </tr>\n",
       "    <tr>\n",
       "      <th>4</th>\n",
       "      <td>10146</td>\n",
       "      <td>Albany, GA: Southwest Georgia Regional</td>\n",
       "      <td>Southwest Georgia Regional</td>\n",
       "      <td>Albany</td>\n",
       "      <td>GA</td>\n",
       "      <td>South</td>\n",
       "      <td>31.535671</td>\n",
       "      <td>-84.193905</td>\n",
       "      <td>Albany (GA)</td>\n",
       "    </tr>\n",
       "  </tbody>\n",
       "</table>\n",
       "</div>"
      ],
      "text/plain": [
       "    Code                                        Description  \\\n",
       "0  10135  Allentown/Bethlehem/Easton, PA: Lehigh Valley ...   \n",
       "1  10136                      Abilene, TX: Abilene Regional   \n",
       "2  10140  Albuquerque, NM: Albuquerque International Sun...   \n",
       "3  10141                    Aberdeen, SD: Aberdeen Regional   \n",
       "4  10146             Albany, GA: Southwest Georgia Regional   \n",
       "\n",
       "                             Airport                        City State  \\\n",
       "0        Lehigh Valley International  Allentown/Bethlehem/Easton    PA   \n",
       "1                   Abilene Regional                     Abilene    TX   \n",
       "2  Albuquerque International Sunport                 Albuquerque    NM   \n",
       "3                  Aberdeen Regional                    Aberdeen    SD   \n",
       "4         Southwest Georgia Regional                      Albany    GA   \n",
       "\n",
       "      Region        lat         lon                       City_State  \n",
       "0  Northeast  40.651650  -75.434746  Allentown/Bethlehem/Easton (PA)  \n",
       "1      South  32.448736  -99.733144                     Abilene (TX)  \n",
       "2       West  35.043333 -106.612909                 Albuquerque (NM)  \n",
       "3    Midwest  45.453458  -98.417726                    Aberdeen (SD)  \n",
       "4      South  31.535671  -84.193905                      Albany (GA)  "
      ]
     },
     "execution_count": 7,
     "metadata": {},
     "output_type": "execute_result"
    }
   ],
   "source": [
    "df_lookup = pd.read_csv('df_lookup.csv') # lookup table for the AIRPORT_ID above\n",
    "df_lookup.head()"
   ]
  },
  {
   "cell_type": "code",
   "execution_count": 8,
   "metadata": {
    "collapsed": false,
    "run_control": {
     "frozen": false,
     "read_only": false
    }
   },
   "outputs": [
    {
     "name": "stdout",
     "output_type": "stream",
     "text": [
      "{10245: 'King Salmon (AK)',\n",
      " 10754: 'Barrow (AK)',\n",
      " 11267: 'Dayton (OH)',\n",
      " 11274: 'Dubuque (IA)',\n",
      " 11278: 'Washington (DC) [R.Reagan]',\n",
      " 11778: 'Fort Smith (AR)',\n",
      " 13230: 'Harrisburg (PA)',\n",
      " 13830: 'Kahului (HI)',\n",
      " 14696: 'South Bend (IN)',\n",
      " 15412: 'Knoxville (TN)'}\n",
      "{10245: 'King Salmon Airport',\n",
      " 10754: 'Wiley Post/Will Rogers Memorial',\n",
      " 11267: 'James M Cox/Dayton International',\n",
      " 11274: 'Dubuque Regional',\n",
      " 11278: 'Ronald Reagan Washington National',\n",
      " 11778: 'Fort Smith Regional',\n",
      " 13230: 'Harrisburg International',\n",
      " 13830: 'Kahului Airport',\n",
      " 14696: 'South Bend International',\n",
      " 15412: 'McGhee Tyson'}\n"
     ]
    }
   ],
   "source": [
    "# create hash-table to convert Airport \"Code\" to \"City_State\" \n",
    "# (combination of city/state is verified to be unique with the scope of this dataset)\n",
    "hash_lookup = df_lookup.set_index('Code')['City_State'].to_dict()\n",
    "pprint({k: hash_lookup[k] for k in hash_lookup.keys()[:10]})\n",
    "\n",
    "# also create hash-table for airport names\n",
    "hash_airport = df_lookup.set_index('Code')['Airport'].to_dict()\n",
    "pprint({k: hash_airport[k] for k in hash_airport.keys()[:10]})"
   ]
  },
  {
   "cell_type": "markdown",
   "metadata": {},
   "source": [
    "# Create Timeseries of Daily Flight Counts\n",
    "\n",
    "- Here, I would like to analyze the trend in the **total daily flights** in the United States.\n",
    "\n",
    "- To this end, we'll first construct a [Pandas TimeSeries](http://pandas.pydata.org/pandas-docs/stable/timeseries.html) DataFrame containing the daily Flight-count information."
   ]
  },
  {
   "cell_type": "code",
   "execution_count": 9,
   "metadata": {
    "collapsed": false,
    "run_control": {
     "frozen": false,
     "read_only": false
    }
   },
   "outputs": [
    {
     "data": {
      "text/html": [
       "<div>\n",
       "<table border=\"1\" class=\"dataframe\">\n",
       "  <thead>\n",
       "    <tr style=\"text-align: right;\">\n",
       "      <th></th>\n",
       "      <th>YEAR</th>\n",
       "      <th>QUARTER</th>\n",
       "      <th>MONTH</th>\n",
       "      <th>DAY_OF_MONTH</th>\n",
       "      <th>DAY_OF_WEEK</th>\n",
       "      <th>ORIGIN_AIRPORT_ID</th>\n",
       "      <th>DEST_AIRPORT_ID</th>\n",
       "      <th>time</th>\n",
       "    </tr>\n",
       "  </thead>\n",
       "  <tbody>\n",
       "    <tr>\n",
       "      <th>0</th>\n",
       "      <td>2015</td>\n",
       "      <td>4</td>\n",
       "      <td>11</td>\n",
       "      <td>4</td>\n",
       "      <td>Wed</td>\n",
       "      <td>14570</td>\n",
       "      <td>13930</td>\n",
       "      <td>2015-11-4</td>\n",
       "    </tr>\n",
       "    <tr>\n",
       "      <th>1</th>\n",
       "      <td>2015</td>\n",
       "      <td>4</td>\n",
       "      <td>11</td>\n",
       "      <td>5</td>\n",
       "      <td>Thu</td>\n",
       "      <td>13930</td>\n",
       "      <td>14057</td>\n",
       "      <td>2015-11-5</td>\n",
       "    </tr>\n",
       "    <tr>\n",
       "      <th>2</th>\n",
       "      <td>2015</td>\n",
       "      <td>4</td>\n",
       "      <td>11</td>\n",
       "      <td>6</td>\n",
       "      <td>Fri</td>\n",
       "      <td>13930</td>\n",
       "      <td>14057</td>\n",
       "      <td>2015-11-6</td>\n",
       "    </tr>\n",
       "    <tr>\n",
       "      <th>3</th>\n",
       "      <td>2015</td>\n",
       "      <td>4</td>\n",
       "      <td>11</td>\n",
       "      <td>7</td>\n",
       "      <td>Sat</td>\n",
       "      <td>13930</td>\n",
       "      <td>14057</td>\n",
       "      <td>2015-11-7</td>\n",
       "    </tr>\n",
       "    <tr>\n",
       "      <th>4</th>\n",
       "      <td>2015</td>\n",
       "      <td>4</td>\n",
       "      <td>11</td>\n",
       "      <td>8</td>\n",
       "      <td>Sun</td>\n",
       "      <td>13930</td>\n",
       "      <td>14057</td>\n",
       "      <td>2015-11-8</td>\n",
       "    </tr>\n",
       "  </tbody>\n",
       "</table>\n",
       "</div>"
      ],
      "text/plain": [
       "   YEAR  QUARTER  MONTH  DAY_OF_MONTH DAY_OF_WEEK  ORIGIN_AIRPORT_ID  \\\n",
       "0  2015        4     11             4         Wed              14570   \n",
       "1  2015        4     11             5         Thu              13930   \n",
       "2  2015        4     11             6         Fri              13930   \n",
       "3  2015        4     11             7         Sat              13930   \n",
       "4  2015        4     11             8         Sun              13930   \n",
       "\n",
       "   DEST_AIRPORT_ID       time  \n",
       "0            13930  2015-11-4  \n",
       "1            14057  2015-11-5  \n",
       "2            14057  2015-11-6  \n",
       "3            14057  2015-11-7  \n",
       "4            14057  2015-11-8  "
      ]
     },
     "execution_count": 9,
     "metadata": {},
     "output_type": "execute_result"
    }
   ],
   "source": [
    "# create a column containing \"YEAR-MONTH-DAY\"\n",
    "df_data['time'] = ( df_data['YEAR'].astype(str) + '-' \n",
    "                  + df_data['MONTH'].astype(str) + '-' \n",
    "                  + df_data['DAY_OF_MONTH'].astype(str))\n",
    "\n",
    "df_data.head()"
   ]
  },
  {
   "cell_type": "code",
   "execution_count": 10,
   "metadata": {
    "collapsed": false,
    "run_control": {
     "frozen": false,
     "read_only": false
    }
   },
   "outputs": [
    {
     "data": {
      "text/html": [
       "<div>\n",
       "<table border=\"1\" class=\"dataframe\">\n",
       "  <thead>\n",
       "    <tr style=\"text-align: right;\">\n",
       "      <th></th>\n",
       "      <th>counts</th>\n",
       "    </tr>\n",
       "  </thead>\n",
       "  <tbody>\n",
       "    <tr>\n",
       "      <th>2015-11-01</th>\n",
       "      <td>15652</td>\n",
       "    </tr>\n",
       "    <tr>\n",
       "      <th>2015-11-02</th>\n",
       "      <td>16596</td>\n",
       "    </tr>\n",
       "    <tr>\n",
       "      <th>2015-11-03</th>\n",
       "      <td>15918</td>\n",
       "    </tr>\n",
       "    <tr>\n",
       "      <th>2015-11-04</th>\n",
       "      <td>16363</td>\n",
       "    </tr>\n",
       "    <tr>\n",
       "      <th>2015-11-05</th>\n",
       "      <td>16619</td>\n",
       "    </tr>\n",
       "    <tr>\n",
       "      <th>2015-11-06</th>\n",
       "      <td>16600</td>\n",
       "    </tr>\n",
       "    <tr>\n",
       "      <th>2015-11-07</th>\n",
       "      <td>12793</td>\n",
       "    </tr>\n",
       "    <tr>\n",
       "      <th>2015-11-08</th>\n",
       "      <td>15679</td>\n",
       "    </tr>\n",
       "  </tbody>\n",
       "</table>\n",
       "</div>"
      ],
      "text/plain": [
       "            counts\n",
       "2015-11-01   15652\n",
       "2015-11-02   16596\n",
       "2015-11-03   15918\n",
       "2015-11-04   16363\n",
       "2015-11-05   16619\n",
       "2015-11-06   16600\n",
       "2015-11-07   12793\n",
       "2015-11-08   15679"
      ]
     },
     "execution_count": 10,
     "metadata": {},
     "output_type": "execute_result"
    }
   ],
   "source": [
    "# create time-series of airtraffic counts\n",
    "ts_flightcounts = pd.DataFrame(df_data['time'].value_counts()).rename(columns={'time':'counts'})\n",
    "ts_flightcounts.index = ts_flightcounts.index.to_datetime()\n",
    "ts_flightcounts.sort_index(inplace=True) # need to sort by date\n",
    "ts_flightcounts.head(8)"
   ]
  },
  {
   "cell_type": "code",
   "execution_count": 11,
   "metadata": {
    "collapsed": false,
    "run_control": {
     "frozen": false,
     "read_only": false
    }
   },
   "outputs": [
    {
     "data": {
      "text/html": [
       "<div>\n",
       "<table border=\"1\" class=\"dataframe\">\n",
       "  <thead>\n",
       "    <tr style=\"text-align: right;\">\n",
       "      <th></th>\n",
       "      <th>counts</th>\n",
       "      <th>day</th>\n",
       "      <th>month</th>\n",
       "      <th>day_of_week</th>\n",
       "    </tr>\n",
       "  </thead>\n",
       "  <tbody>\n",
       "    <tr>\n",
       "      <th>2015-11-01</th>\n",
       "      <td>15652</td>\n",
       "      <td>1</td>\n",
       "      <td>11</td>\n",
       "      <td>6</td>\n",
       "    </tr>\n",
       "    <tr>\n",
       "      <th>2015-11-02</th>\n",
       "      <td>16596</td>\n",
       "      <td>2</td>\n",
       "      <td>11</td>\n",
       "      <td>0</td>\n",
       "    </tr>\n",
       "    <tr>\n",
       "      <th>2015-11-03</th>\n",
       "      <td>15918</td>\n",
       "      <td>3</td>\n",
       "      <td>11</td>\n",
       "      <td>1</td>\n",
       "    </tr>\n",
       "    <tr>\n",
       "      <th>2015-11-04</th>\n",
       "      <td>16363</td>\n",
       "      <td>4</td>\n",
       "      <td>11</td>\n",
       "      <td>2</td>\n",
       "    </tr>\n",
       "    <tr>\n",
       "      <th>2015-11-05</th>\n",
       "      <td>16619</td>\n",
       "      <td>5</td>\n",
       "      <td>11</td>\n",
       "      <td>3</td>\n",
       "    </tr>\n",
       "  </tbody>\n",
       "</table>\n",
       "</div>"
      ],
      "text/plain": [
       "            counts  day  month  day_of_week\n",
       "2015-11-01   15652    1     11            6\n",
       "2015-11-02   16596    2     11            0\n",
       "2015-11-03   15918    3     11            1\n",
       "2015-11-04   16363    4     11            2\n",
       "2015-11-05   16619    5     11            3"
      ]
     },
     "execution_count": 11,
     "metadata": {},
     "output_type": "execute_result"
    }
   ],
   "source": [
    "# explicitly add extra date-info as dataframe columns (to apply `groupby` later)\n",
    "ts_flightcounts['day']= ts_flightcounts.index.day\n",
    "ts_flightcounts['month']= ts_flightcounts.index.month\n",
    "ts_flightcounts['day_of_week'] = ts_flightcounts.index.dayofweek\n",
    "\n",
    "ts_flightcounts.head()"
   ]
  },
  {
   "cell_type": "code",
   "execution_count": 12,
   "metadata": {
    "collapsed": false,
    "run_control": {
     "frozen": false,
     "read_only": false
    }
   },
   "outputs": [
    {
     "data": {
      "text/html": [
       "<div>\n",
       "<table border=\"1\" class=\"dataframe\">\n",
       "  <thead>\n",
       "    <tr style=\"text-align: right;\">\n",
       "      <th></th>\n",
       "      <th>counts</th>\n",
       "      <th>day</th>\n",
       "      <th>month</th>\n",
       "      <th>day_of_week</th>\n",
       "    </tr>\n",
       "  </thead>\n",
       "  <tbody>\n",
       "    <tr>\n",
       "      <th>2015-11-01</th>\n",
       "      <td>15652</td>\n",
       "      <td>1</td>\n",
       "      <td>11</td>\n",
       "      <td>Sun</td>\n",
       "    </tr>\n",
       "    <tr>\n",
       "      <th>2015-11-02</th>\n",
       "      <td>16596</td>\n",
       "      <td>2</td>\n",
       "      <td>11</td>\n",
       "      <td>Mon</td>\n",
       "    </tr>\n",
       "    <tr>\n",
       "      <th>2015-11-03</th>\n",
       "      <td>15918</td>\n",
       "      <td>3</td>\n",
       "      <td>11</td>\n",
       "      <td>Tue</td>\n",
       "    </tr>\n",
       "    <tr>\n",
       "      <th>2015-11-04</th>\n",
       "      <td>16363</td>\n",
       "      <td>4</td>\n",
       "      <td>11</td>\n",
       "      <td>Wed</td>\n",
       "    </tr>\n",
       "    <tr>\n",
       "      <th>2015-11-05</th>\n",
       "      <td>16619</td>\n",
       "      <td>5</td>\n",
       "      <td>11</td>\n",
       "      <td>Thu</td>\n",
       "    </tr>\n",
       "  </tbody>\n",
       "</table>\n",
       "</div>"
      ],
      "text/plain": [
       "            counts  day  month day_of_week\n",
       "2015-11-01   15652    1     11         Sun\n",
       "2015-11-02   16596    2     11         Mon\n",
       "2015-11-03   15918    3     11         Tue\n",
       "2015-11-04   16363    4     11         Wed\n",
       "2015-11-05   16619    5     11         Thu"
      ]
     },
     "execution_count": 12,
     "metadata": {},
     "output_type": "execute_result"
    }
   ],
   "source": [
    "# `dayofweek` uses encoding Monday=0 ... Sunday=6...make this explicit\n",
    "ts_flightcounts['day_of_week'] = ts_flightcounts['day_of_week'].map({0:'Mon',\n",
    "                                                                     1:'Tue',\n",
    "                                                                     2:'Wed',\n",
    "                                                                     3:'Thu',\n",
    "                                                                     4:'Fri',\n",
    "                                                                     5:'Sat',\n",
    "                                                                     6:'Sun'}).astype(str)\n",
    "\n",
    "ts_flightcounts.head()"
   ]
  },
  {
   "cell_type": "markdown",
   "metadata": {},
   "source": [
    "## Create interactive plot with plotly/cufflinks\n",
    "\n",
    "- I am a huge fan of [plotly](http://plot.ly/python/)...brings the distance between the data and user closer together :)\n"
   ]
  },
  {
   "cell_type": "code",
   "execution_count": 13,
   "metadata": {
    "collapsed": false,
    "run_control": {
     "frozen": false,
     "read_only": false
    }
   },
   "outputs": [
    {
     "name": "stdout",
     "output_type": "stream",
     "text": [
      "['11/1 (Sun)', '11/2 (Mon)', '11/3 (Tue)', '11/4 (Wed)', '11/5 (Thu)']\n"
     ]
    }
   ],
   "source": [
    "# create hover_text object for plotly\n",
    "hover_text= (\n",
    "    ts_flightcounts['month'].astype(str) \n",
    "    +  '/' + ts_flightcounts['day'].astype(str)\n",
    "    + ' (' + ts_flightcounts['day_of_week'] + ')'\n",
    ").tolist()\n",
    "print hover_text[:5]\n",
    "\n"
   ]
  },
  {
   "cell_type": "code",
   "execution_count": 14,
   "metadata": {
    "collapsed": false,
    "run_control": {
     "frozen": false,
     "read_only": false
    }
   },
   "outputs": [
    {
     "data": {
      "text/html": [
       "<iframe id=\"igraph\" scrolling=\"no\" style=\"border:none;\" seamless=\"seamless\" src=\"https://plot.ly/~takanori/1367.embed?share_key=qgyP6TszCcdzevwP8jgO7E\" height=\"525px\" width=\"100%\"></iframe>"
      ],
      "text/plain": [
       "<plotly.tools.PlotlyDisplay object>"
      ]
     },
     "execution_count": 14,
     "metadata": {},
     "output_type": "execute_result"
    }
   ],
   "source": [
    "# see https://plot.ly/pandas/line-charts/\n",
    "plt_options = dict(text=hover_text,color='pink')\n",
    "title = 'Daily Airflight Counts in the US between ' + period\n",
    "title+= '<br>(hover over plot for dates; left-click to zoom)'\n",
    "\n",
    "ts_flightcounts.iplot(y='counts',\n",
    "                      filename=outfile+'plot_flightcounts',\n",
    "                      title=title,\n",
    "                      **plt_options)"
   ]
  },
  {
   "cell_type": "markdown",
   "metadata": {},
   "source": [
    "- From the above time-series plot, we can see that the trend in the Flight-counts looks to be obscured by the effect from the ``day_of_week``\n",
    "  \n",
    "  - (a clear cyclical trend appears in the time-series above)\n",
    "\n",
    "- By hovering over the above plot, we can observe that Saturday takes a *dip* downwards in flight-counts\n",
    "  \n",
    "  - (while this was somewhat expected, it's always nice to have the data reaffirm your intuition)"
   ]
  },
  {
   "cell_type": "markdown",
   "metadata": {},
   "source": [
    "## Study seasonal trend with rolling-averaged timeseries\n",
    "\n"
   ]
  },
  {
   "cell_type": "code",
   "execution_count": 15,
   "metadata": {
    "collapsed": false,
    "run_control": {
     "frozen": false,
     "read_only": false
    },
    "scrolled": true
   },
   "outputs": [
    {
     "data": {
      "text/html": [
       "<iframe id=\"igraph\" scrolling=\"no\" style=\"border:none;\" seamless=\"seamless\" src=\"https://plot.ly/~takanori/1837.embed?share_key=uglr1NeXnqOQpWP8C23UW7\" height=\"525px\" width=\"100%\"></iframe>"
      ],
      "text/plain": [
       "<plotly.tools.PlotlyDisplay object>"
      ]
     },
     "execution_count": 15,
     "metadata": {},
     "output_type": "execute_result"
    }
   ],
   "source": [
    "title = 'Daily Airflight Counts in the US between ' + period + ' with rolling-mean applied over 7day window'\n",
    "ts_flightcounts['counts'].rolling(window=7).mean().iplot(filename=outfile+'rolling_mean',title=title)"
   ]
  },
  {
   "cell_type": "markdown",
   "metadata": {},
   "source": [
    "- from the above plot, the summertime and end-of-the-year looks to have more flights (makes sense...vacation time)"
   ]
  },
  {
   "cell_type": "markdown",
   "metadata": {},
   "source": [
    "# Flight counts study by \"day_of_week\" and \"month\"\n",
    "\n",
    "- to gain further insights in the patterns among the flight-counts across ``day_of_week`` and ``month``, let's create some **count-charts** via bar-graphs\n",
    "\n",
    "\n"
   ]
  },
  {
   "cell_type": "markdown",
   "metadata": {},
   "source": [
    "## Over entire year period"
   ]
  },
  {
   "cell_type": "code",
   "execution_count": 16,
   "metadata": {
    "collapsed": false,
    "run_control": {
     "frozen": false,
     "read_only": false
    }
   },
   "outputs": [
    {
     "data": {
      "text/html": [
       "<div>\n",
       "<table border=\"1\" class=\"dataframe\">\n",
       "  <thead>\n",
       "    <tr style=\"text-align: right;\">\n",
       "      <th></th>\n",
       "      <th>Sun</th>\n",
       "      <th>Mon</th>\n",
       "      <th>Tue</th>\n",
       "      <th>Wed</th>\n",
       "      <th>Thu</th>\n",
       "      <th>Fri</th>\n",
       "      <th>Sat</th>\n",
       "    </tr>\n",
       "  </thead>\n",
       "  <tbody>\n",
       "    <tr>\n",
       "      <th>flight-counts</th>\n",
       "      <td>804731</td>\n",
       "      <td>850170</td>\n",
       "      <td>820609</td>\n",
       "      <td>829558</td>\n",
       "      <td>831454</td>\n",
       "      <td>834372</td>\n",
       "      <td>682079</td>\n",
       "    </tr>\n",
       "  </tbody>\n",
       "</table>\n",
       "</div>"
      ],
      "text/plain": [
       "                  Sun     Mon     Tue     Wed     Thu     Fri     Sat\n",
       "flight-counts  804731  850170  820609  829558  831454  834372  682079"
      ]
     },
     "metadata": {},
     "output_type": "display_data"
    },
    {
     "data": {
      "text/html": [
       "<div>\n",
       "<table border=\"1\" class=\"dataframe\">\n",
       "  <thead>\n",
       "    <tr style=\"text-align: right;\">\n",
       "      <th></th>\n",
       "      <th>Jan</th>\n",
       "      <th>Feb</th>\n",
       "      <th>Mar</th>\n",
       "      <th>Apr</th>\n",
       "      <th>May</th>\n",
       "      <th>Jun</th>\n",
       "      <th>Jul</th>\n",
       "      <th>Aug</th>\n",
       "      <th>Sep</th>\n",
       "      <th>Oct</th>\n",
       "      <th>Nov</th>\n",
       "      <th>Dec</th>\n",
       "    </tr>\n",
       "  </thead>\n",
       "  <tbody>\n",
       "    <tr>\n",
       "      <th>flight-counts</th>\n",
       "      <td>445827</td>\n",
       "      <td>423889</td>\n",
       "      <td>479122</td>\n",
       "      <td>461630</td>\n",
       "      <td>479358</td>\n",
       "      <td>487637</td>\n",
       "      <td>502457</td>\n",
       "      <td>498347</td>\n",
       "      <td>454878</td>\n",
       "      <td>472626</td>\n",
       "      <td>467972</td>\n",
       "      <td>479230</td>\n",
       "    </tr>\n",
       "  </tbody>\n",
       "</table>\n",
       "</div>"
      ],
      "text/plain": [
       "                  Jan     Feb     Mar     Apr     May     Jun     Jul     Aug  \\\n",
       "flight-counts  445827  423889  479122  461630  479358  487637  502457  498347   \n",
       "\n",
       "                  Sep     Oct     Nov     Dec  \n",
       "flight-counts  454878  472626  467972  479230  "
      ]
     },
     "metadata": {},
     "output_type": "display_data"
    }
   ],
   "source": [
    "# dow = dayofweek\n",
    "flight_counts_dow = df_data['DAY_OF_WEEK'].value_counts().to_frame(name='flight-counts')\n",
    "flight_counts_dow = flight_counts_dow.reindex(['Sun','Mon','Tue','Wed','Thu','Fri','Sat']) # reorder rows by day-of-week\n",
    "\n",
    "flight_counts_month = df_data['MONTH'].value_counts().to_frame(name='flight-counts')\n",
    "flight_counts_month = flight_counts_month.reindex(range(1,13))  # reorder by month\n",
    "flight_counts_month.index = flight_counts_month.index.map(lambda num: calendar.month_abbr[num]) # replace number with string-of-month\n",
    "\n",
    "display(flight_counts_dow.T)\n",
    "display(flight_counts_month.T)"
   ]
  },
  {
   "cell_type": "code",
   "execution_count": 17,
   "metadata": {
    "collapsed": false,
    "run_control": {
     "frozen": false,
     "read_only": false
    }
   },
   "outputs": [
    {
     "data": {
      "text/html": [
       "<iframe id=\"igraph\" scrolling=\"no\" style=\"border:none;\" seamless=\"seamless\" src=\"https://plot.ly/~takanori/1839.embed?share_key=asTK6yNQPfpKSufetq0hUv\" height=\"525px\" width=\"100%\"></iframe>"
      ],
      "text/plain": [
       "<plotly.tools.PlotlyDisplay object>"
      ]
     },
     "execution_count": 17,
     "metadata": {},
     "output_type": "execute_result"
    }
   ],
   "source": [
    "title = 'Total US Flight-counts over \"day_of_week\" ({})'.format(period)\n",
    "flight_counts_dow.iplot(kind='bar',title=title,filename=outfile+'bar_by_dow')"
   ]
  },
  {
   "cell_type": "markdown",
   "metadata": {},
   "source": [
    "- from the above plot, we see that Saturday definitely takes a huge dip in flight-counts."
   ]
  },
  {
   "cell_type": "code",
   "execution_count": 18,
   "metadata": {
    "collapsed": false,
    "run_control": {
     "frozen": false,
     "read_only": false
    }
   },
   "outputs": [
    {
     "data": {
      "text/html": [
       "<iframe id=\"igraph\" scrolling=\"no\" style=\"border:none;\" seamless=\"seamless\" src=\"https://plot.ly/~takanori/1841.embed?share_key=24ppDqw5nftiWmjIncDcd3\" height=\"525px\" width=\"100%\"></iframe>"
      ],
      "text/plain": [
       "<plotly.tools.PlotlyDisplay object>"
      ]
     },
     "execution_count": 18,
     "metadata": {},
     "output_type": "execute_result"
    }
   ],
   "source": [
    "title = 'Total US Flight-counts over \"day_of_week\" ({})'.format(period)\n",
    "flight_counts_month.iplot(kind='bar',title=title,filename=outfile+'bar_by_month')"
   ]
  },
  {
   "cell_type": "markdown",
   "metadata": {},
   "source": [
    "- as we saw in the rolling-averaged timeseries plot, the above plot tells us that the summertime and end-of-the-year looks to have more flights (makes sense...vacation time)"
   ]
  },
  {
   "cell_type": "markdown",
   "metadata": {},
   "source": [
    "## Pivoting: analysis grouped by month and day_of_week"
   ]
  },
  {
   "cell_type": "code",
   "execution_count": 19,
   "metadata": {
    "collapsed": false,
    "run_control": {
     "frozen": false,
     "read_only": false
    }
   },
   "outputs": [
    {
     "data": {
      "text/html": [
       "<div>\n",
       "<table border=\"1\" class=\"dataframe\">\n",
       "  <thead>\n",
       "    <tr style=\"text-align: right;\">\n",
       "      <th>DAY_OF_WEEK</th>\n",
       "      <th>Sun</th>\n",
       "      <th>Mon</th>\n",
       "      <th>Tue</th>\n",
       "      <th>Wed</th>\n",
       "      <th>Thu</th>\n",
       "      <th>Fri</th>\n",
       "      <th>Sat</th>\n",
       "    </tr>\n",
       "  </thead>\n",
       "  <tbody>\n",
       "    <tr>\n",
       "      <th>Jan</th>\n",
       "      <td>70654</td>\n",
       "      <td>61028</td>\n",
       "      <td>58273</td>\n",
       "      <td>59036</td>\n",
       "      <td>61044</td>\n",
       "      <td>74138</td>\n",
       "      <td>61654</td>\n",
       "    </tr>\n",
       "    <tr>\n",
       "      <th>Feb</th>\n",
       "      <td>54748</td>\n",
       "      <td>76987</td>\n",
       "      <td>59617</td>\n",
       "      <td>60326</td>\n",
       "      <td>61945</td>\n",
       "      <td>62097</td>\n",
       "      <td>48169</td>\n",
       "    </tr>\n",
       "    <tr>\n",
       "      <th>Mar</th>\n",
       "      <td>61115</td>\n",
       "      <td>64094</td>\n",
       "      <td>77364</td>\n",
       "      <td>78285</td>\n",
       "      <td>80333</td>\n",
       "      <td>64145</td>\n",
       "      <td>53786</td>\n",
       "    </tr>\n",
       "    <tr>\n",
       "      <th>Apr</th>\n",
       "      <td>61020</td>\n",
       "      <td>64426</td>\n",
       "      <td>62860</td>\n",
       "      <td>63275</td>\n",
       "      <td>64454</td>\n",
       "      <td>80605</td>\n",
       "      <td>64990</td>\n",
       "    </tr>\n",
       "    <tr>\n",
       "      <th>May</th>\n",
       "      <td>73918</td>\n",
       "      <td>80141</td>\n",
       "      <td>79913</td>\n",
       "      <td>64065</td>\n",
       "      <td>65144</td>\n",
       "      <td>65187</td>\n",
       "      <td>50990</td>\n",
       "    </tr>\n",
       "    <tr>\n",
       "      <th>Jun</th>\n",
       "      <td>64372</td>\n",
       "      <td>67055</td>\n",
       "      <td>66239</td>\n",
       "      <td>82752</td>\n",
       "      <td>83913</td>\n",
       "      <td>67070</td>\n",
       "      <td>56236</td>\n",
       "    </tr>\n",
       "    <tr>\n",
       "      <th>Jul</th>\n",
       "      <td>78665</td>\n",
       "      <td>64712</td>\n",
       "      <td>67158</td>\n",
       "      <td>67429</td>\n",
       "      <td>67717</td>\n",
       "      <td>84935</td>\n",
       "      <td>71841</td>\n",
       "    </tr>\n",
       "    <tr>\n",
       "      <th>Aug</th>\n",
       "      <td>63469</td>\n",
       "      <td>83136</td>\n",
       "      <td>81291</td>\n",
       "      <td>82178</td>\n",
       "      <td>66676</td>\n",
       "      <td>66872</td>\n",
       "      <td>54725</td>\n",
       "    </tr>\n",
       "    <tr>\n",
       "      <th>Sep</th>\n",
       "      <td>58264</td>\n",
       "      <td>63402</td>\n",
       "      <td>61955</td>\n",
       "      <td>62463</td>\n",
       "      <td>80059</td>\n",
       "      <td>80204</td>\n",
       "      <td>48531</td>\n",
       "    </tr>\n",
       "    <tr>\n",
       "      <th>Oct</th>\n",
       "      <td>76328</td>\n",
       "      <td>79157</td>\n",
       "      <td>62309</td>\n",
       "      <td>63424</td>\n",
       "      <td>64635</td>\n",
       "      <td>64674</td>\n",
       "      <td>62099</td>\n",
       "    </tr>\n",
       "    <tr>\n",
       "      <th>Nov</th>\n",
       "      <td>79587</td>\n",
       "      <td>81315</td>\n",
       "      <td>64102</td>\n",
       "      <td>65775</td>\n",
       "      <td>59947</td>\n",
       "      <td>62624</td>\n",
       "      <td>54622</td>\n",
       "    </tr>\n",
       "    <tr>\n",
       "      <th>Dec</th>\n",
       "      <td>62591</td>\n",
       "      <td>64717</td>\n",
       "      <td>79528</td>\n",
       "      <td>80550</td>\n",
       "      <td>75587</td>\n",
       "      <td>61821</td>\n",
       "      <td>54436</td>\n",
       "    </tr>\n",
       "  </tbody>\n",
       "</table>\n",
       "</div>"
      ],
      "text/plain": [
       "DAY_OF_WEEK    Sun    Mon    Tue    Wed    Thu    Fri    Sat\n",
       "Jan          70654  61028  58273  59036  61044  74138  61654\n",
       "Feb          54748  76987  59617  60326  61945  62097  48169\n",
       "Mar          61115  64094  77364  78285  80333  64145  53786\n",
       "Apr          61020  64426  62860  63275  64454  80605  64990\n",
       "May          73918  80141  79913  64065  65144  65187  50990\n",
       "Jun          64372  67055  66239  82752  83913  67070  56236\n",
       "Jul          78665  64712  67158  67429  67717  84935  71841\n",
       "Aug          63469  83136  81291  82178  66676  66872  54725\n",
       "Sep          58264  63402  61955  62463  80059  80204  48531\n",
       "Oct          76328  79157  62309  63424  64635  64674  62099\n",
       "Nov          79587  81315  64102  65775  59947  62624  54622\n",
       "Dec          62591  64717  79528  80550  75587  61821  54436"
      ]
     },
     "execution_count": 19,
     "metadata": {},
     "output_type": "execute_result"
    }
   ],
   "source": [
    "df_counts_month = df_data.groupby(['MONTH','DAY_OF_WEEK',])['YEAR'].count().unstack()\n",
    "df_counts_month = df_counts_month[['Sun','Mon','Tue','Wed','Thu','Fri','Sat']] # reorder columns\n",
    "df_counts_month.index = df_counts_month.index.map(lambda num: calendar.month_abbr[num])\n",
    "df_counts_month"
   ]
  },
  {
   "cell_type": "code",
   "execution_count": 20,
   "metadata": {
    "collapsed": false,
    "run_control": {
     "frozen": false,
     "read_only": false
    }
   },
   "outputs": [
    {
     "data": {
      "text/html": [
       "<iframe id=\"igraph\" scrolling=\"no\" style=\"border:none;\" seamless=\"seamless\" src=\"https://plot.ly/~takanori/1843.embed?share_key=wDgZZeXGfFeuDXteuK1L1C\" height=\"525px\" width=\"100%\"></iframe>"
      ],
      "text/plain": [
       "<plotly.tools.PlotlyDisplay object>"
      ]
     },
     "execution_count": 20,
     "metadata": {},
     "output_type": "execute_result"
    }
   ],
   "source": [
    "title = 'Total US Flight-counts over \"day_of_week\" over each month ({})'.format(period)\n",
    "df_counts_month.iplot(kind='bar',title=title,xTitle='Month',yTitle='Counts',filename=outfile+'bar2')"
   ]
  },
  {
   "cell_type": "markdown",
   "metadata": {},
   "source": [
    "- the trend of Saturday having the smallest airflights holds generally true for each month\n",
    "- intereting exceptions at **January** and **July**...perhaps this is a common vacation period (so businessday trend is eliminated)?\n",
    "- for example, maybe there tends to be more family trips since children is on school vacation"
   ]
  },
  {
   "cell_type": "markdown",
   "metadata": {},
   "source": [
    "# Repeat analysis for NY, LA, and Vegas.\n",
    "\n",
    "- Now I'm curious to see what the trend looks like in major cities.\n",
    "\n",
    "- Let's repeat the above analysis for NY, LA, and Las Vegas\n"
   ]
  },
  {
   "cell_type": "markdown",
   "metadata": {},
   "source": [
    "## Data tidying\n",
    "\n",
    "- We begin by \"tidying\" up our data so we have a data-structure that are amenable for plotting\n",
    "\n",
    "- First extract list of airports in these three cities"
   ]
  },
  {
   "cell_type": "code",
   "execution_count": 67,
   "metadata": {
    "collapsed": false,
    "run_control": {
     "frozen": false,
     "read_only": false
    }
   },
   "outputs": [
    {
     "data": {
      "text/html": [
       "<div>\n",
       "<table border=\"1\" class=\"dataframe\">\n",
       "  <thead>\n",
       "    <tr style=\"text-align: right;\">\n",
       "      <th></th>\n",
       "      <th>Code</th>\n",
       "      <th>Description</th>\n",
       "      <th>Airport</th>\n",
       "      <th>City</th>\n",
       "      <th>State</th>\n",
       "      <th>Region</th>\n",
       "      <th>lat</th>\n",
       "      <th>lon</th>\n",
       "      <th>City_State</th>\n",
       "    </tr>\n",
       "  </thead>\n",
       "  <tbody>\n",
       "    <tr>\n",
       "      <th>173</th>\n",
       "      <td>12478</td>\n",
       "      <td>New York, NY: John F. Kennedy International</td>\n",
       "      <td>John F. Kennedy International</td>\n",
       "      <td>New York</td>\n",
       "      <td>NY</td>\n",
       "      <td>Northeast</td>\n",
       "      <td>40.641311</td>\n",
       "      <td>-73.778139</td>\n",
       "      <td>New York (NY) [JFK]</td>\n",
       "    </tr>\n",
       "    <tr>\n",
       "      <th>181</th>\n",
       "      <td>12889</td>\n",
       "      <td>Las Vegas, NV: McCarran International</td>\n",
       "      <td>McCarran International</td>\n",
       "      <td>Las Vegas</td>\n",
       "      <td>NV</td>\n",
       "      <td>West</td>\n",
       "      <td>36.084000</td>\n",
       "      <td>-115.153739</td>\n",
       "      <td>Las Vegas (NV)</td>\n",
       "    </tr>\n",
       "    <tr>\n",
       "      <th>183</th>\n",
       "      <td>12892</td>\n",
       "      <td>Los Angeles, CA: Los Angeles International</td>\n",
       "      <td>Los Angeles International</td>\n",
       "      <td>Los Angeles</td>\n",
       "      <td>CA</td>\n",
       "      <td>West</td>\n",
       "      <td>33.941589</td>\n",
       "      <td>-118.408530</td>\n",
       "      <td>Los Angeles (CA)</td>\n",
       "    </tr>\n",
       "    <tr>\n",
       "      <th>189</th>\n",
       "      <td>12953</td>\n",
       "      <td>New York, NY: LaGuardia</td>\n",
       "      <td>LaGuardia</td>\n",
       "      <td>New York</td>\n",
       "      <td>NY</td>\n",
       "      <td>Northeast</td>\n",
       "      <td>40.776927</td>\n",
       "      <td>-73.873966</td>\n",
       "      <td>New York (NY) [Lag]</td>\n",
       "    </tr>\n",
       "  </tbody>\n",
       "</table>\n",
       "</div>"
      ],
      "text/plain": [
       "      Code                                  Description  \\\n",
       "173  12478  New York, NY: John F. Kennedy International   \n",
       "181  12889        Las Vegas, NV: McCarran International   \n",
       "183  12892   Los Angeles, CA: Los Angeles International   \n",
       "189  12953                      New York, NY: LaGuardia   \n",
       "\n",
       "                           Airport         City State     Region        lat  \\\n",
       "173  John F. Kennedy International     New York    NY  Northeast  40.641311   \n",
       "181         McCarran International    Las Vegas    NV       West  36.084000   \n",
       "183      Los Angeles International  Los Angeles    CA       West  33.941589   \n",
       "189                      LaGuardia     New York    NY  Northeast  40.776927   \n",
       "\n",
       "            lon           City_State  \n",
       "173  -73.778139  New York (NY) [JFK]  \n",
       "181 -115.153739       Las Vegas (NV)  \n",
       "183 -118.408530     Los Angeles (CA)  \n",
       "189  -73.873966  New York (NY) [Lag]  "
      ]
     },
     "execution_count": 67,
     "metadata": {},
     "output_type": "execute_result"
    }
   ],
   "source": [
    "cities = ['New York','Los Angeles','Las Vegas']\n",
    "\n",
    "# get AIRPORT_ID codes corresponding to the above three cities\n",
    "df_lookup[ df_lookup['City'].isin(cities) ]"
   ]
  },
  {
   "cell_type": "markdown",
   "metadata": {},
   "source": [
    "- Well, both Houston and NY have multiple major airport.\n",
    "\n",
    "- For the sake of simplicity of our analysis, we'll combine the flight counts from these airports.\n",
    "\n",
    "Below we create a dictionary that keeps track of the lsit of airports in each city"
   ]
  },
  {
   "cell_type": "code",
   "execution_count": 68,
   "metadata": {
    "collapsed": false,
    "run_control": {
     "frozen": false,
     "read_only": false
    }
   },
   "outputs": [
    {
     "data": {
      "text/plain": [
       "{'Las Vegas': [12889], 'Los Angeles': [12892], 'New York': [12478, 12953]}"
      ]
     },
     "execution_count": 68,
     "metadata": {},
     "output_type": "execute_result"
    }
   ],
   "source": [
    "# dictionary keeping track of list of Airport code for each city\n",
    "# (list-array used since there could be multiple airports in a city)\n",
    "# city_codes = {'New York':[12478, 12953],\n",
    "#               'Los Angeles' : [12892],\n",
    "#               'Las Vegas' : [12889]}\n",
    "city_codes = {}\n",
    "for city in cities:\n",
    "    city_codes[city] = df_lookup[ df_lookup['City']== city ]['Code'].tolist()\n",
    "city_codes"
   ]
  },
  {
   "cell_type": "markdown",
   "metadata": {},
   "source": [
    "- From the main dataframe, extract the flights that involve these three cities"
   ]
  },
  {
   "cell_type": "code",
   "execution_count": 69,
   "metadata": {
    "collapsed": false,
    "run_control": {
     "frozen": false,
     "read_only": false
    },
    "scrolled": true
   },
   "outputs": [
    {
     "name": "stdout",
     "output_type": "stream",
     "text": [
      "New York\n"
     ]
    },
    {
     "data": {
      "text/html": [
       "<div>\n",
       "<table border=\"1\" class=\"dataframe\">\n",
       "  <thead>\n",
       "    <tr style=\"text-align: right;\">\n",
       "      <th></th>\n",
       "      <th>YEAR</th>\n",
       "      <th>QUARTER</th>\n",
       "      <th>MONTH</th>\n",
       "      <th>DAY_OF_MONTH</th>\n",
       "      <th>DAY_OF_WEEK</th>\n",
       "      <th>ORIGIN_AIRPORT_ID</th>\n",
       "      <th>DEST_AIRPORT_ID</th>\n",
       "      <th>time</th>\n",
       "    </tr>\n",
       "  </thead>\n",
       "  <tbody>\n",
       "    <tr>\n",
       "      <th>333319</th>\n",
       "      <td>2016</td>\n",
       "      <td>2</td>\n",
       "      <td>4</td>\n",
       "      <td>7</td>\n",
       "      <td>Thu</td>\n",
       "      <td>13930</td>\n",
       "      <td>12953</td>\n",
       "      <td>2016-4-7</td>\n",
       "    </tr>\n",
       "    <tr>\n",
       "      <th>362137</th>\n",
       "      <td>2015</td>\n",
       "      <td>4</td>\n",
       "      <td>12</td>\n",
       "      <td>1</td>\n",
       "      <td>Tue</td>\n",
       "      <td>12892</td>\n",
       "      <td>12478</td>\n",
       "      <td>2015-12-1</td>\n",
       "    </tr>\n",
       "    <tr>\n",
       "      <th>106706</th>\n",
       "      <td>2016</td>\n",
       "      <td>2</td>\n",
       "      <td>6</td>\n",
       "      <td>27</td>\n",
       "      <td>Mon</td>\n",
       "      <td>12478</td>\n",
       "      <td>10423</td>\n",
       "      <td>2016-6-27</td>\n",
       "    </tr>\n",
       "  </tbody>\n",
       "</table>\n",
       "</div>"
      ],
      "text/plain": [
       "        YEAR  QUARTER  MONTH  DAY_OF_MONTH DAY_OF_WEEK  ORIGIN_AIRPORT_ID  \\\n",
       "333319  2016        2      4             7         Thu              13930   \n",
       "362137  2015        4     12             1         Tue              12892   \n",
       "106706  2016        2      6            27         Mon              12478   \n",
       "\n",
       "        DEST_AIRPORT_ID       time  \n",
       "333319            12953   2016-4-7  \n",
       "362137            12478  2015-12-1  \n",
       "106706            10423  2016-6-27  "
      ]
     },
     "metadata": {},
     "output_type": "display_data"
    },
    {
     "name": "stdout",
     "output_type": "stream",
     "text": [
      "Los Angeles\n"
     ]
    },
    {
     "data": {
      "text/html": [
       "<div>\n",
       "<table border=\"1\" class=\"dataframe\">\n",
       "  <thead>\n",
       "    <tr style=\"text-align: right;\">\n",
       "      <th></th>\n",
       "      <th>YEAR</th>\n",
       "      <th>QUARTER</th>\n",
       "      <th>MONTH</th>\n",
       "      <th>DAY_OF_MONTH</th>\n",
       "      <th>DAY_OF_WEEK</th>\n",
       "      <th>ORIGIN_AIRPORT_ID</th>\n",
       "      <th>DEST_AIRPORT_ID</th>\n",
       "      <th>time</th>\n",
       "    </tr>\n",
       "  </thead>\n",
       "  <tbody>\n",
       "    <tr>\n",
       "      <th>283351</th>\n",
       "      <td>2016</td>\n",
       "      <td>2</td>\n",
       "      <td>4</td>\n",
       "      <td>22</td>\n",
       "      <td>Fri</td>\n",
       "      <td>12892</td>\n",
       "      <td>14698</td>\n",
       "      <td>2016-4-22</td>\n",
       "    </tr>\n",
       "    <tr>\n",
       "      <th>172230</th>\n",
       "      <td>2016</td>\n",
       "      <td>1</td>\n",
       "      <td>3</td>\n",
       "      <td>24</td>\n",
       "      <td>Thu</td>\n",
       "      <td>12892</td>\n",
       "      <td>13830</td>\n",
       "      <td>2016-3-24</td>\n",
       "    </tr>\n",
       "    <tr>\n",
       "      <th>347990</th>\n",
       "      <td>2016</td>\n",
       "      <td>3</td>\n",
       "      <td>9</td>\n",
       "      <td>30</td>\n",
       "      <td>Fri</td>\n",
       "      <td>12892</td>\n",
       "      <td>14771</td>\n",
       "      <td>2016-9-30</td>\n",
       "    </tr>\n",
       "  </tbody>\n",
       "</table>\n",
       "</div>"
      ],
      "text/plain": [
       "        YEAR  QUARTER  MONTH  DAY_OF_MONTH DAY_OF_WEEK  ORIGIN_AIRPORT_ID  \\\n",
       "283351  2016        2      4            22         Fri              12892   \n",
       "172230  2016        1      3            24         Thu              12892   \n",
       "347990  2016        3      9            30         Fri              12892   \n",
       "\n",
       "        DEST_AIRPORT_ID       time  \n",
       "283351            14698  2016-4-22  \n",
       "172230            13830  2016-3-24  \n",
       "347990            14771  2016-9-30  "
      ]
     },
     "metadata": {},
     "output_type": "display_data"
    },
    {
     "name": "stdout",
     "output_type": "stream",
     "text": [
      "Las Vegas\n"
     ]
    },
    {
     "data": {
      "text/html": [
       "<div>\n",
       "<table border=\"1\" class=\"dataframe\">\n",
       "  <thead>\n",
       "    <tr style=\"text-align: right;\">\n",
       "      <th></th>\n",
       "      <th>YEAR</th>\n",
       "      <th>QUARTER</th>\n",
       "      <th>MONTH</th>\n",
       "      <th>DAY_OF_MONTH</th>\n",
       "      <th>DAY_OF_WEEK</th>\n",
       "      <th>ORIGIN_AIRPORT_ID</th>\n",
       "      <th>DEST_AIRPORT_ID</th>\n",
       "      <th>time</th>\n",
       "    </tr>\n",
       "  </thead>\n",
       "  <tbody>\n",
       "    <tr>\n",
       "      <th>248847</th>\n",
       "      <td>2016</td>\n",
       "      <td>1</td>\n",
       "      <td>1</td>\n",
       "      <td>2</td>\n",
       "      <td>Sat</td>\n",
       "      <td>12266</td>\n",
       "      <td>12889</td>\n",
       "      <td>2016-1-2</td>\n",
       "    </tr>\n",
       "    <tr>\n",
       "      <th>144694</th>\n",
       "      <td>2015</td>\n",
       "      <td>4</td>\n",
       "      <td>12</td>\n",
       "      <td>15</td>\n",
       "      <td>Tue</td>\n",
       "      <td>12889</td>\n",
       "      <td>14869</td>\n",
       "      <td>2015-12-15</td>\n",
       "    </tr>\n",
       "    <tr>\n",
       "      <th>389869</th>\n",
       "      <td>2015</td>\n",
       "      <td>4</td>\n",
       "      <td>12</td>\n",
       "      <td>3</td>\n",
       "      <td>Thu</td>\n",
       "      <td>12992</td>\n",
       "      <td>12889</td>\n",
       "      <td>2015-12-3</td>\n",
       "    </tr>\n",
       "  </tbody>\n",
       "</table>\n",
       "</div>"
      ],
      "text/plain": [
       "        YEAR  QUARTER  MONTH  DAY_OF_MONTH DAY_OF_WEEK  ORIGIN_AIRPORT_ID  \\\n",
       "248847  2016        1      1             2         Sat              12266   \n",
       "144694  2015        4     12            15         Tue              12889   \n",
       "389869  2015        4     12             3         Thu              12992   \n",
       "\n",
       "        DEST_AIRPORT_ID        time  \n",
       "248847            12889    2016-1-2  \n",
       "144694            14869  2015-12-15  \n",
       "389869            12889   2015-12-3  "
      ]
     },
     "metadata": {},
     "output_type": "display_data"
    }
   ],
   "source": [
    "def filter_by_codelist(df_data,code_list):\n",
    "    mask1 = df_data['ORIGIN_AIRPORT_ID'].isin(code_list)\n",
    "    mask2 = df_data['DEST_AIRPORT_ID'].isin(code_list)\n",
    "    return df_data[mask1 | mask2]\n",
    "\n",
    "df_data_city = {city:[] for city in cities}\n",
    "\n",
    "for city in cities:\n",
    "    print city\n",
    "    city_code = city_codes[city]\n",
    "    df_data_city[city] = filter_by_codelist(df_data, city_code)\n",
    "    \n",
    "    # sanity check\n",
    "    display(df_data_city[city].sample(3))\n",
    "    "
   ]
  },
  {
   "cell_type": "markdown",
   "metadata": {},
   "source": [
    "- Finally, we can compute the total flight-counts in each of these cities by ``DAY_OF_WEEK`` and ``MONTH``"
   ]
  },
  {
   "cell_type": "code",
   "execution_count": 71,
   "metadata": {
    "collapsed": false,
    "run_control": {
     "frozen": false,
     "read_only": false
    }
   },
   "outputs": [
    {
     "data": {
      "text/html": [
       "<div>\n",
       "<table border=\"1\" class=\"dataframe\">\n",
       "  <thead>\n",
       "    <tr style=\"text-align: right;\">\n",
       "      <th></th>\n",
       "      <th>Sun</th>\n",
       "      <th>Mon</th>\n",
       "      <th>Tue</th>\n",
       "      <th>Wed</th>\n",
       "      <th>Thu</th>\n",
       "      <th>Fri</th>\n",
       "      <th>Sat</th>\n",
       "    </tr>\n",
       "  </thead>\n",
       "  <tbody>\n",
       "    <tr>\n",
       "      <th>New York</th>\n",
       "      <td>54774</td>\n",
       "      <td>59836</td>\n",
       "      <td>57450</td>\n",
       "      <td>58018</td>\n",
       "      <td>58680</td>\n",
       "      <td>58437</td>\n",
       "      <td>43946</td>\n",
       "    </tr>\n",
       "    <tr>\n",
       "      <th>Los Angeles</th>\n",
       "      <td>60730</td>\n",
       "      <td>63463</td>\n",
       "      <td>60909</td>\n",
       "      <td>61503</td>\n",
       "      <td>62119</td>\n",
       "      <td>62430</td>\n",
       "      <td>51961</td>\n",
       "    </tr>\n",
       "    <tr>\n",
       "      <th>Las Vegas</th>\n",
       "      <td>43824</td>\n",
       "      <td>44222</td>\n",
       "      <td>42803</td>\n",
       "      <td>43217</td>\n",
       "      <td>43708</td>\n",
       "      <td>44043</td>\n",
       "      <td>39132</td>\n",
       "    </tr>\n",
       "  </tbody>\n",
       "</table>\n",
       "</div>"
      ],
      "text/plain": [
       "               Sun    Mon    Tue    Wed    Thu    Fri    Sat\n",
       "New York     54774  59836  57450  58018  58680  58437  43946\n",
       "Los Angeles  60730  63463  60909  61503  62119  62430  51961\n",
       "Las Vegas    43824  44222  42803  43217  43708  44043  39132"
      ]
     },
     "metadata": {},
     "output_type": "display_data"
    },
    {
     "data": {
      "text/html": [
       "<div>\n",
       "<table border=\"1\" class=\"dataframe\">\n",
       "  <thead>\n",
       "    <tr style=\"text-align: right;\">\n",
       "      <th></th>\n",
       "      <th>Jan</th>\n",
       "      <th>Feb</th>\n",
       "      <th>Mar</th>\n",
       "      <th>Apr</th>\n",
       "      <th>May</th>\n",
       "      <th>Jun</th>\n",
       "      <th>Jul</th>\n",
       "      <th>Aug</th>\n",
       "      <th>Sep</th>\n",
       "      <th>Oct</th>\n",
       "      <th>Nov</th>\n",
       "      <th>Dec</th>\n",
       "    </tr>\n",
       "  </thead>\n",
       "  <tbody>\n",
       "    <tr>\n",
       "      <th>New York</th>\n",
       "      <td>32104</td>\n",
       "      <td>31092</td>\n",
       "      <td>33700</td>\n",
       "      <td>31911</td>\n",
       "      <td>32788</td>\n",
       "      <td>33710</td>\n",
       "      <td>34540</td>\n",
       "      <td>34666</td>\n",
       "      <td>31638</td>\n",
       "      <td>31519</td>\n",
       "      <td>31387</td>\n",
       "      <td>32086</td>\n",
       "    </tr>\n",
       "    <tr>\n",
       "      <th>Los Angeles</th>\n",
       "      <td>32833</td>\n",
       "      <td>30814</td>\n",
       "      <td>34609</td>\n",
       "      <td>33986</td>\n",
       "      <td>35385</td>\n",
       "      <td>38150</td>\n",
       "      <td>39835</td>\n",
       "      <td>39447</td>\n",
       "      <td>35055</td>\n",
       "      <td>35979</td>\n",
       "      <td>32922</td>\n",
       "      <td>34100</td>\n",
       "    </tr>\n",
       "    <tr>\n",
       "      <th>Las Vegas</th>\n",
       "      <td>24491</td>\n",
       "      <td>22844</td>\n",
       "      <td>25465</td>\n",
       "      <td>25045</td>\n",
       "      <td>25883</td>\n",
       "      <td>25586</td>\n",
       "      <td>26112</td>\n",
       "      <td>26075</td>\n",
       "      <td>25156</td>\n",
       "      <td>26312</td>\n",
       "      <td>23809</td>\n",
       "      <td>24171</td>\n",
       "    </tr>\n",
       "  </tbody>\n",
       "</table>\n",
       "</div>"
      ],
      "text/plain": [
       "               Jan    Feb    Mar    Apr    May    Jun    Jul    Aug    Sep  \\\n",
       "New York     32104  31092  33700  31911  32788  33710  34540  34666  31638   \n",
       "Los Angeles  32833  30814  34609  33986  35385  38150  39835  39447  35055   \n",
       "Las Vegas    24491  22844  25465  25045  25883  25586  26112  26075  25156   \n",
       "\n",
       "               Oct    Nov    Dec  \n",
       "New York     31519  31387  32086  \n",
       "Los Angeles  35979  32922  34100  \n",
       "Las Vegas    26312  23809  24171  "
      ]
     },
     "metadata": {},
     "output_type": "display_data"
    }
   ],
   "source": [
    "# dow = 'day of week'\n",
    "flight_counts_by_dow = []\n",
    "flight_counts_by_month = []\n",
    "for city in cities:\n",
    "    flight_counts_by_dow.append( df_data_city[city]['DAY_OF_WEEK'].value_counts())\n",
    "    flight_counts_by_month.append(df_data_city[city]['MONTH'].value_counts())\n",
    "    \n",
    "flight_counts_by_dow   = pd.DataFrame(flight_counts_by_dow, index=cities)[['Sun','Mon','Tue','Wed','Thu','Fri','Sat']] # reorder columns\n",
    "flight_counts_by_month = pd.DataFrame(flight_counts_by_month,index=cities).rename(columns = lambda num: calendar.month_abbr[num])\n",
    "display(flight_counts_by_dow)\n",
    "display(flight_counts_by_month)"
   ]
  },
  {
   "cell_type": "markdown",
   "metadata": {},
   "source": [
    "- good, we now have the apppropriate data-structure to construct desired plots :)"
   ]
  },
  {
   "cell_type": "markdown",
   "metadata": {},
   "source": [
    "## Plot results"
   ]
  },
  {
   "cell_type": "code",
   "execution_count": 25,
   "metadata": {
    "collapsed": false,
    "run_control": {
     "frozen": false,
     "read_only": false
    }
   },
   "outputs": [
    {
     "data": {
      "text/html": [
       "<iframe id=\"igraph\" scrolling=\"no\" style=\"border:none;\" seamless=\"seamless\" src=\"https://plot.ly/~takanori/1845.embed?share_key=N480wj0Kp1fNvPZMpNBz4U\" height=\"525px\" width=\"100%\"></iframe>"
      ],
      "text/plain": [
       "<plotly.tools.PlotlyDisplay object>"
      ]
     },
     "execution_count": 25,
     "metadata": {},
     "output_type": "execute_result"
    }
   ],
   "source": [
    "title = 'Flight-counts across \"day_of_week\" during {}'.format(period)\n",
    "flight_counts_by_dow.iplot(kind='bar',title=title,xTitle='City',yTitle='Counts',filename=outfile+'bar_dow_3cities')"
   ]
  },
  {
   "cell_type": "markdown",
   "metadata": {},
   "source": [
    "- interesting to see flight-traffic in Las Vegas seems to be unaffected by ``day_of_week``...\n",
    "\n",
    "- now I'm curious to see what the monthly trend looks like..."
   ]
  },
  {
   "cell_type": "code",
   "execution_count": 26,
   "metadata": {
    "collapsed": false,
    "run_control": {
     "frozen": false,
     "read_only": false
    }
   },
   "outputs": [
    {
     "data": {
      "text/html": [
       "<iframe id=\"igraph\" scrolling=\"no\" style=\"border:none;\" seamless=\"seamless\" src=\"https://plot.ly/~takanori/1847.embed?share_key=SZpObOWiSOY56QLvixs3Rg\" height=\"525px\" width=\"100%\"></iframe>"
      ],
      "text/plain": [
       "<plotly.tools.PlotlyDisplay object>"
      ]
     },
     "execution_count": 26,
     "metadata": {},
     "output_type": "execute_result"
    }
   ],
   "source": [
    "title = 'Flight-counts across \"month\" during {}'.format(period)\n",
    "flight_counts_by_month.iplot(kind='bar',title=title,xTitle='City',yTitle='Counts',filename=outfile+'bar_month_3cities')"
   ]
  },
  {
   "cell_type": "markdown",
   "metadata": {},
   "source": [
    "## Create sublots of monthly flight-count trends for each city\n",
    "\n"
   ]
  },
  {
   "cell_type": "code",
   "execution_count": 27,
   "metadata": {
    "collapsed": false,
    "run_control": {
     "frozen": false,
     "read_only": false
    }
   },
   "outputs": [
    {
     "name": "stdout",
     "output_type": "stream",
     "text": [
      "DAY_OF_WEEK     Sun   Mon   Tue   Wed   Thu   Fri   Sat\n",
      "Las Vegas Jan  3940  3235  3169  3164  3283  4051  3649\n",
      "          Feb  3062  4045  3115  3173  3273  3308  2868\n",
      "          Mar  3313  3347  4029  4113  4245  3406  3012\n",
      "          Apr  3374  3419  3335  3389  3452  4327  3749\n",
      "          May  4097  4238  4225  3413  3470  3482  2958\n",
      "          Jun  3468  3451  3420  4291  4342  3494  3120\n",
      "          Jul  4220  3315  3408  3422  3472  4365  3910\n",
      "          Aug  3422  4265  4200  4219  3441  3464  3064\n",
      "          Sep  3309  3421  3382  3409  4338  4345  2952\n",
      "          Oct  4342  4272  3403  3440  3505  3516  3834\n",
      "...             ...   ...   ...   ...   ...   ...   ...\n",
      "New York  Mar  4158  4591  5547  5625  5777  4572  3430\n",
      "          Apr  4120  4536  4379  4445  4545  5643  4243\n",
      "          May  4978  5559  5519  4406  4520  4478  3328\n",
      "          Jun  4373  4698  4650  5776  5918  4707  3588\n",
      "          Jul  5350  4556  4701  4740  4747  5911  4535\n",
      "          Aug  4351  5862  5708  5795  4708  4712  3530\n",
      "          Sep  4050  4486  4319  4338  5653  5667  3125\n",
      "          Oct  5068  5407  4108  4198  4414  4419  3905\n",
      "          Nov  5278  5569  4410  4483  4103  4144  3400\n",
      "          Dec  4103  4367  5394  5424  5116  4172  3510\n",
      "\n",
      "[36 rows x 7 columns]\n"
     ]
    }
   ],
   "source": [
    "df_monthly_counts_by_city = {city:[] for city in cities}\n",
    "for city in cities:\n",
    "    df_monthly_counts_by_city[city] = df_data_city[city].groupby(['MONTH','DAY_OF_WEEK',])['YEAR'].count().unstack()[['Sun','Mon','Tue','Wed','Thu','Fri','Sat']]\n",
    "    df_monthly_counts_by_city[city].index = df_monthly_counts_by_city[city].index.map(lambda num: calendar.month_abbr[num])\n",
    "\n",
    "df_monthly_counts_by_city = pd.concat(df_monthly_counts_by_city)\n",
    "print df_monthly_counts_by_city\n",
    "# df_monthly_counts_by_city.loc['New York'] # access city by multi-indexing by \"levels\""
   ]
  },
  {
   "cell_type": "markdown",
   "metadata": {},
   "source": [
    "- Good, we're ready to make subplots\n",
    "\n",
    "- Some references \n",
    "  \n",
    "  - http://takwatanabe.me/data_science/plotly_pandas/Cufflinks%20-%20Pandas%20Like%20Visualization.html#id21\n",
    "\n",
    "  - http://takwatanabe.me/data_science/plotly_layout/plotly-layout-options-subplots.html\n",
    "  \n",
    "  - http://stackoverflow.com/questions/26939121/how-to-avoid-duplicate-legend-labels-in-plotly-or-pass-custom-legend-labels\n",
    "  \n",
    "  - http://takwatanabe.me/data_science/plotly_layout/plotly-layout-options-legend.html\n",
    "  \n",
    "- (self-remark) Maybe next time, **do not** try to make subplots with cufflinks...was a huge pain...\n",
    "\n",
    "  - see http://takwatanabe.me/data_science/plotly_pandas/plotly-pandas-basic-charts.html#id2"
   ]
  },
  {
   "cell_type": "code",
   "execution_count": 28,
   "metadata": {
    "collapsed": false,
    "run_control": {
     "frozen": false,
     "read_only": false
    }
   },
   "outputs": [
    {
     "data": {
      "text/html": [
       "<iframe id=\"igraph\" scrolling=\"no\" style=\"border:none;\" seamless=\"seamless\" src=\"https://plot.ly/~takanori/1849.embed?share_key=Fz2ganoLsyJfWYderZDFKQ\" height=\"1000px\" width=\"100%\"></iframe>"
      ],
      "text/plain": [
       "<plotly.tools.PlotlyDisplay object>"
      ]
     },
     "execution_count": 28,
     "metadata": {},
     "output_type": "execute_result"
    }
   ],
   "source": [
    "figs = []\n",
    "skip_legend = False\n",
    "for city in cities:\n",
    "    #print city\n",
    "    #titles.append('Flight-counts over \"day_of_week\" over each month in {} <br>(during {})'.format(city,period))\n",
    "    tmp_fig = df_monthly_counts_by_city.loc['New York'].iplot(kind='bar',asFigure=True)\n",
    "    \n",
    "    if skip_legend:\n",
    "        for i in range(tmp_fig.data.__len__()):\n",
    "            # have to access individual trace element to access this parameter...\n",
    "            # (figuring this out took an atrocious amount of time....)\n",
    "            tmp_fig.data[i]['showlegend'] = False\n",
    "            \n",
    "    figs.append(tmp_fig)\n",
    "    skip_legend = True # <- to avoid duplicate legend (show legend for the first subplot only)\n",
    "    \n",
    "# convert list of figures to subplot object\n",
    "subplots = cf.subplots(figs,shared_xaxes=True,subplot_titles=cities,shape=(3,1),vertical_spacing=0.05)\n",
    "subplots.layout['height'] = 1000\n",
    "subplots.layout['title']  = 'Monthly Flight-counts grouped over NY/LA/Vegas, \"day_of_week\" ({})'.format(period)\n",
    "cf.iplot(subplots,filename=outfile+'bar_3cities_by_month')"
   ]
  },
  {
   "cell_type": "markdown",
   "metadata": {},
   "source": [
    "# Which state had the most air traffics?\n",
    "\n",
    "- Now let's conduct a similar analysis by grouping over states\n",
    "\n",
    "- the code used below is nearly a carbon copy of the above (next-time, perhaps create a function to avoid repeating the same code)\n"
   ]
  },
  {
   "cell_type": "markdown",
   "metadata": {},
   "source": [
    "## Data tidying\n",
    "\n",
    "- Again, we start by \"tidying\" our data so we have a data-structure that are amenable for plotting\n",
    "\n",
    "- We start by creating a dictionary that keeps a list of airports in each state"
   ]
  },
  {
   "cell_type": "code",
   "execution_count": 66,
   "metadata": {
    "collapsed": false,
    "run_control": {
     "frozen": false,
     "read_only": false
    }
   },
   "outputs": [
    {
     "name": "stdout",
     "output_type": "stream",
     "text": [
      "WY\n"
     ]
    },
    {
     "data": {
      "text/html": [
       "<div>\n",
       "<table border=\"1\" class=\"dataframe\">\n",
       "  <thead>\n",
       "    <tr style=\"text-align: right;\">\n",
       "      <th></th>\n",
       "      <th>Code</th>\n",
       "      <th>Description</th>\n",
       "      <th>Airport</th>\n",
       "      <th>City</th>\n",
       "      <th>State</th>\n",
       "      <th>Region</th>\n",
       "      <th>lat</th>\n",
       "      <th>lon</th>\n",
       "      <th>City_State</th>\n",
       "    </tr>\n",
       "  </thead>\n",
       "  <tbody>\n",
       "    <tr>\n",
       "      <th>75</th>\n",
       "      <td>11097</td>\n",
       "      <td>Cody, WY: Yellowstone Regional</td>\n",
       "      <td>Yellowstone Regional</td>\n",
       "      <td>Cody</td>\n",
       "      <td>WY</td>\n",
       "      <td>West</td>\n",
       "      <td>44.520442</td>\n",
       "      <td>-109.022579</td>\n",
       "      <td>Cody (WY)</td>\n",
       "    </tr>\n",
       "    <tr>\n",
       "      <th>78</th>\n",
       "      <td>11122</td>\n",
       "      <td>Casper, WY: Casper/Natrona County International</td>\n",
       "      <td>Casper/Natrona County International</td>\n",
       "      <td>Casper</td>\n",
       "      <td>WY</td>\n",
       "      <td>West</td>\n",
       "      <td>42.897274</td>\n",
       "      <td>-106.464850</td>\n",
       "      <td>Casper (WY)</td>\n",
       "    </tr>\n",
       "    <tr>\n",
       "      <th>125</th>\n",
       "      <td>11865</td>\n",
       "      <td>Gillette, WY: Gillette Campbell County</td>\n",
       "      <td>Gillette Campbell County</td>\n",
       "      <td>Gillette</td>\n",
       "      <td>WY</td>\n",
       "      <td>West</td>\n",
       "      <td>44.291092</td>\n",
       "      <td>-105.502221</td>\n",
       "      <td>Gillette (WY)</td>\n",
       "    </tr>\n",
       "    <tr>\n",
       "      <th>170</th>\n",
       "      <td>12441</td>\n",
       "      <td>Jackson, WY: Jackson Hole</td>\n",
       "      <td>Jackson Hole</td>\n",
       "      <td>Jackson</td>\n",
       "      <td>WY</td>\n",
       "      <td>West</td>\n",
       "      <td>43.479929</td>\n",
       "      <td>-110.762428</td>\n",
       "      <td>Jackson (WY)</td>\n",
       "    </tr>\n",
       "    <tr>\n",
       "      <th>180</th>\n",
       "      <td>12888</td>\n",
       "      <td>Laramie, WY: Laramie Regional</td>\n",
       "      <td>Laramie Regional</td>\n",
       "      <td>Laramie</td>\n",
       "      <td>WY</td>\n",
       "      <td>West</td>\n",
       "      <td>41.320194</td>\n",
       "      <td>-105.670345</td>\n",
       "      <td>Laramie (WY)</td>\n",
       "    </tr>\n",
       "    <tr>\n",
       "      <th>271</th>\n",
       "      <td>14543</td>\n",
       "      <td>Rock Springs, WY: Rock Springs Sweetwater County</td>\n",
       "      <td>Rock Springs Sweetwater County</td>\n",
       "      <td>Rock Springs</td>\n",
       "      <td>WY</td>\n",
       "      <td>West</td>\n",
       "      <td>41.587464</td>\n",
       "      <td>-109.202904</td>\n",
       "      <td>Rock Springs (WY)</td>\n",
       "    </tr>\n",
       "  </tbody>\n",
       "</table>\n",
       "</div>"
      ],
      "text/plain": [
       "      Code                                       Description  \\\n",
       "75   11097                    Cody, WY: Yellowstone Regional   \n",
       "78   11122   Casper, WY: Casper/Natrona County International   \n",
       "125  11865            Gillette, WY: Gillette Campbell County   \n",
       "170  12441                         Jackson, WY: Jackson Hole   \n",
       "180  12888                     Laramie, WY: Laramie Regional   \n",
       "271  14543  Rock Springs, WY: Rock Springs Sweetwater County   \n",
       "\n",
       "                                 Airport          City State Region  \\\n",
       "75                  Yellowstone Regional          Cody    WY   West   \n",
       "78   Casper/Natrona County International        Casper    WY   West   \n",
       "125             Gillette Campbell County      Gillette    WY   West   \n",
       "170                         Jackson Hole       Jackson    WY   West   \n",
       "180                     Laramie Regional       Laramie    WY   West   \n",
       "271       Rock Springs Sweetwater County  Rock Springs    WY   West   \n",
       "\n",
       "           lat         lon         City_State  \n",
       "75   44.520442 -109.022579          Cody (WY)  \n",
       "78   42.897274 -106.464850        Casper (WY)  \n",
       "125  44.291092 -105.502221      Gillette (WY)  \n",
       "170  43.479929 -110.762428       Jackson (WY)  \n",
       "180  41.320194 -105.670345       Laramie (WY)  \n",
       "271  41.587464 -109.202904  Rock Springs (WY)  "
      ]
     },
     "execution_count": 66,
     "metadata": {},
     "output_type": "execute_result"
    }
   ],
   "source": [
    "states = sorted(list(df_lookup['State'].unique()))\n",
    "\n",
    "state_codes = {}\n",
    "for state in states:\n",
    "    # get list of AIRPORT_ID corresponding to this state\n",
    "    state_codes[state] = df_lookup[ df_lookup['State'] == state]['Code'].tolist()\n",
    "\n",
    "# check if the last state in the above loop extracted the correct list of airports\n",
    "print state\n",
    "df_lookup[ df_lookup['Code'].isin(state_codes[state])] "
   ]
  },
  {
   "cell_type": "code",
   "execution_count": 64,
   "metadata": {
    "collapsed": false,
    "run_control": {
     "frozen": false,
     "read_only": false
    }
   },
   "outputs": [
    {
     "data": {
      "text/html": [
       "<div>\n",
       "<table border=\"1\" class=\"dataframe\">\n",
       "  <thead>\n",
       "    <tr style=\"text-align: right;\">\n",
       "      <th></th>\n",
       "      <th>Sun</th>\n",
       "      <th>Mon</th>\n",
       "      <th>Tue</th>\n",
       "      <th>Wed</th>\n",
       "      <th>Thu</th>\n",
       "      <th>Fri</th>\n",
       "      <th>Sat</th>\n",
       "    </tr>\n",
       "  </thead>\n",
       "  <tbody>\n",
       "    <tr>\n",
       "      <th>AK</th>\n",
       "      <td>7578.0</td>\n",
       "      <td>7775.0</td>\n",
       "      <td>7415.0</td>\n",
       "      <td>7350.0</td>\n",
       "      <td>7630.0</td>\n",
       "      <td>7677.0</td>\n",
       "      <td>7393.0</td>\n",
       "    </tr>\n",
       "    <tr>\n",
       "      <th>AL</th>\n",
       "      <td>7154.0</td>\n",
       "      <td>7917.0</td>\n",
       "      <td>7565.0</td>\n",
       "      <td>7674.0</td>\n",
       "      <td>7734.0</td>\n",
       "      <td>7766.0</td>\n",
       "      <td>5315.0</td>\n",
       "    </tr>\n",
       "    <tr>\n",
       "      <th>AR</th>\n",
       "      <td>4746.0</td>\n",
       "      <td>5465.0</td>\n",
       "      <td>5309.0</td>\n",
       "      <td>5369.0</td>\n",
       "      <td>5350.0</td>\n",
       "      <td>5337.0</td>\n",
       "      <td>3560.0</td>\n",
       "    </tr>\n",
       "    <tr>\n",
       "      <th>AZ</th>\n",
       "      <td>50097.0</td>\n",
       "      <td>51292.0</td>\n",
       "      <td>48255.0</td>\n",
       "      <td>50236.0</td>\n",
       "      <td>50543.0</td>\n",
       "      <td>50824.0</td>\n",
       "      <td>45005.0</td>\n",
       "    </tr>\n",
       "    <tr>\n",
       "      <th>CA</th>\n",
       "      <td>174652.0</td>\n",
       "      <td>183544.0</td>\n",
       "      <td>175707.0</td>\n",
       "      <td>177915.0</td>\n",
       "      <td>179338.0</td>\n",
       "      <td>180126.0</td>\n",
       "      <td>147463.0</td>\n",
       "    </tr>\n",
       "  </tbody>\n",
       "</table>\n",
       "</div>"
      ],
      "text/plain": [
       "         Sun       Mon       Tue       Wed       Thu       Fri       Sat\n",
       "AK    7578.0    7775.0    7415.0    7350.0    7630.0    7677.0    7393.0\n",
       "AL    7154.0    7917.0    7565.0    7674.0    7734.0    7766.0    5315.0\n",
       "AR    4746.0    5465.0    5309.0    5369.0    5350.0    5337.0    3560.0\n",
       "AZ   50097.0   51292.0   48255.0   50236.0   50543.0   50824.0   45005.0\n",
       "CA  174652.0  183544.0  175707.0  177915.0  179338.0  180126.0  147463.0"
      ]
     },
     "metadata": {},
     "output_type": "display_data"
    },
    {
     "data": {
      "text/html": [
       "<div>\n",
       "<table border=\"1\" class=\"dataframe\">\n",
       "  <thead>\n",
       "    <tr style=\"text-align: right;\">\n",
       "      <th></th>\n",
       "      <th>Jan</th>\n",
       "      <th>Feb</th>\n",
       "      <th>Mar</th>\n",
       "      <th>Apr</th>\n",
       "      <th>May</th>\n",
       "      <th>Jun</th>\n",
       "      <th>Jul</th>\n",
       "      <th>Aug</th>\n",
       "      <th>Sep</th>\n",
       "      <th>Oct</th>\n",
       "      <th>Nov</th>\n",
       "      <th>Dec</th>\n",
       "    </tr>\n",
       "  </thead>\n",
       "  <tbody>\n",
       "    <tr>\n",
       "      <th>AK</th>\n",
       "      <td>3757.0</td>\n",
       "      <td>3473.0</td>\n",
       "      <td>3769.0</td>\n",
       "      <td>3614.0</td>\n",
       "      <td>4532.0</td>\n",
       "      <td>5979.0</td>\n",
       "      <td>6403.0</td>\n",
       "      <td>6143.0</td>\n",
       "      <td>4127.0</td>\n",
       "      <td>3626.0</td>\n",
       "      <td>3600.0</td>\n",
       "      <td>3795.0</td>\n",
       "    </tr>\n",
       "    <tr>\n",
       "      <th>AL</th>\n",
       "      <td>3733.0</td>\n",
       "      <td>3665.0</td>\n",
       "      <td>4218.0</td>\n",
       "      <td>4160.0</td>\n",
       "      <td>4301.0</td>\n",
       "      <td>4217.0</td>\n",
       "      <td>4361.0</td>\n",
       "      <td>4401.0</td>\n",
       "      <td>4308.0</td>\n",
       "      <td>4478.0</td>\n",
       "      <td>4666.0</td>\n",
       "      <td>4617.0</td>\n",
       "    </tr>\n",
       "    <tr>\n",
       "      <th>AR</th>\n",
       "      <td>2426.0</td>\n",
       "      <td>2430.0</td>\n",
       "      <td>2707.0</td>\n",
       "      <td>2659.0</td>\n",
       "      <td>2920.0</td>\n",
       "      <td>2820.0</td>\n",
       "      <td>2834.0</td>\n",
       "      <td>2927.0</td>\n",
       "      <td>2740.0</td>\n",
       "      <td>2904.0</td>\n",
       "      <td>3898.0</td>\n",
       "      <td>3871.0</td>\n",
       "    </tr>\n",
       "    <tr>\n",
       "      <th>AZ</th>\n",
       "      <td>28703.0</td>\n",
       "      <td>27053.0</td>\n",
       "      <td>31670.0</td>\n",
       "      <td>29159.0</td>\n",
       "      <td>29590.0</td>\n",
       "      <td>29642.0</td>\n",
       "      <td>30367.0</td>\n",
       "      <td>28903.0</td>\n",
       "      <td>26002.0</td>\n",
       "      <td>28383.0</td>\n",
       "      <td>27579.0</td>\n",
       "      <td>29201.0</td>\n",
       "    </tr>\n",
       "    <tr>\n",
       "      <th>CA</th>\n",
       "      <td>94693.0</td>\n",
       "      <td>89079.0</td>\n",
       "      <td>100383.0</td>\n",
       "      <td>98335.0</td>\n",
       "      <td>103366.0</td>\n",
       "      <td>107574.0</td>\n",
       "      <td>111746.0</td>\n",
       "      <td>112351.0</td>\n",
       "      <td>101604.0</td>\n",
       "      <td>105013.0</td>\n",
       "      <td>95710.0</td>\n",
       "      <td>98891.0</td>\n",
       "    </tr>\n",
       "  </tbody>\n",
       "</table>\n",
       "</div>"
      ],
      "text/plain": [
       "        Jan      Feb       Mar      Apr       May       Jun       Jul  \\\n",
       "AK   3757.0   3473.0    3769.0   3614.0    4532.0    5979.0    6403.0   \n",
       "AL   3733.0   3665.0    4218.0   4160.0    4301.0    4217.0    4361.0   \n",
       "AR   2426.0   2430.0    2707.0   2659.0    2920.0    2820.0    2834.0   \n",
       "AZ  28703.0  27053.0   31670.0  29159.0   29590.0   29642.0   30367.0   \n",
       "CA  94693.0  89079.0  100383.0  98335.0  103366.0  107574.0  111746.0   \n",
       "\n",
       "         Aug       Sep       Oct      Nov      Dec  \n",
       "AK    6143.0    4127.0    3626.0   3600.0   3795.0  \n",
       "AL    4401.0    4308.0    4478.0   4666.0   4617.0  \n",
       "AR    2927.0    2740.0    2904.0   3898.0   3871.0  \n",
       "AZ   28903.0   26002.0   28383.0  27579.0  29201.0  \n",
       "CA  112351.0  101604.0  105013.0  95710.0  98891.0  "
      ]
     },
     "metadata": {},
     "output_type": "display_data"
    }
   ],
   "source": [
    "df_data_states = {state:[] for state in states}\n",
    "for state in states:\n",
    "    df_data_states[state] = filter_by_codelist(df_data, state_codes[state])\n",
    "    \n",
    "# dow = 'day of week'\n",
    "flight_counts_by_dow = []\n",
    "flight_counts_by_month = []\n",
    "for state in states:\n",
    "    flight_counts_by_dow.append( df_data_states[state]['DAY_OF_WEEK'].value_counts())\n",
    "    flight_counts_by_month.append(df_data_states[state]['MONTH'].value_counts())\n",
    "    \n",
    "flight_counts_by_dow   = pd.DataFrame(flight_counts_by_dow, index=states)\\\n",
    "                                     [['Sun','Mon','Tue','Wed','Thu','Fri','Sat']] # reorder columns\n",
    "flight_counts_by_month = pd.DataFrame(flight_counts_by_month,index=states).\\\n",
    "                                      rename(columns = lambda num: calendar.month_abbr[num])\n",
    "display(flight_counts_by_dow.head())\n",
    "display(flight_counts_by_month.head())"
   ]
  },
  {
   "cell_type": "code",
   "execution_count": 31,
   "metadata": {
    "collapsed": false,
    "run_control": {
     "frozen": false,
     "read_only": false
    }
   },
   "outputs": [
    {
     "data": {
      "text/html": [
       "<div>\n",
       "<table border=\"1\" class=\"dataframe\">\n",
       "  <thead>\n",
       "    <tr style=\"text-align: right;\">\n",
       "      <th></th>\n",
       "      <th>AK</th>\n",
       "      <th>AL</th>\n",
       "      <th>AR</th>\n",
       "      <th>AZ</th>\n",
       "      <th>CA</th>\n",
       "      <th>CO</th>\n",
       "      <th>CT</th>\n",
       "      <th>DC</th>\n",
       "      <th>DE</th>\n",
       "      <th>FL</th>\n",
       "      <th>...</th>\n",
       "      <th>TT</th>\n",
       "      <th>TX</th>\n",
       "      <th>UT</th>\n",
       "      <th>VA</th>\n",
       "      <th>VI</th>\n",
       "      <th>VT</th>\n",
       "      <th>WA</th>\n",
       "      <th>WI</th>\n",
       "      <th>WV</th>\n",
       "      <th>WY</th>\n",
       "    </tr>\n",
       "  </thead>\n",
       "  <tbody>\n",
       "    <tr>\n",
       "      <th>flight-counts</th>\n",
       "      <td>52818</td>\n",
       "      <td>51125</td>\n",
       "      <td>35136</td>\n",
       "      <td>346252</td>\n",
       "      <td>1218745</td>\n",
       "      <td>479372</td>\n",
       "      <td>40194</td>\n",
       "      <td>226131</td>\n",
       "      <td>0</td>\n",
       "      <td>876232</td>\n",
       "      <td>...</td>\n",
       "      <td>976</td>\n",
       "      <td>1041128</td>\n",
       "      <td>218147</td>\n",
       "      <td>66199</td>\n",
       "      <td>12035</td>\n",
       "      <td>8150</td>\n",
       "      <td>283837</td>\n",
       "      <td>103489</td>\n",
       "      <td>5194</td>\n",
       "      <td>17507</td>\n",
       "    </tr>\n",
       "  </tbody>\n",
       "</table>\n",
       "<p>1 rows × 54 columns</p>\n",
       "</div>"
      ],
      "text/plain": [
       "                  AK     AL     AR      AZ       CA      CO     CT      DC  \\\n",
       "flight-counts  52818  51125  35136  346252  1218745  479372  40194  226131   \n",
       "\n",
       "               DE      FL  ...     TT       TX      UT     VA     VI    VT  \\\n",
       "flight-counts   0  876232  ...    976  1041128  218147  66199  12035  8150   \n",
       "\n",
       "                   WA      WI    WV     WY  \n",
       "flight-counts  283837  103489  5194  17507  \n",
       "\n",
       "[1 rows x 54 columns]"
      ]
     },
     "execution_count": 31,
     "metadata": {},
     "output_type": "execute_result"
    }
   ],
   "source": [
    "# sanity check\n",
    "assert np.all(flight_counts_by_month.sum(axis=1) == flight_counts_by_dow.sum(axis=1))\n",
    " \n",
    "flight_counts = flight_counts_by_month.sum(axis=1).astype(int).to_frame(name='flight-counts')\n",
    "flight_counts.T"
   ]
  },
  {
   "cell_type": "markdown",
   "metadata": {},
   "source": [
    "- Cool, we're ready to plot"
   ]
  },
  {
   "cell_type": "code",
   "execution_count": 32,
   "metadata": {
    "collapsed": false,
    "run_control": {
     "frozen": false,
     "read_only": false
    }
   },
   "outputs": [
    {
     "data": {
      "text/html": [
       "<iframe id=\"igraph\" scrolling=\"no\" style=\"border:none;\" seamless=\"seamless\" src=\"https://plot.ly/~takanori/1851.embed?share_key=PNATJ4yJPiuILM772Cxu9L\" height=\"525px\" width=\"100%\"></iframe>"
      ],
      "text/plain": [
       "<plotly.tools.PlotlyDisplay object>"
      ]
     },
     "execution_count": 32,
     "metadata": {},
     "output_type": "execute_result"
    }
   ],
   "source": [
    "title = 'US airflight-counts across states \" (during {})'.format(period)\n",
    "flight_counts.sort_values('flight-counts',ascending=False).iplot(kind='bar',title=title,filename=outfile+'bar_by_state')"
   ]
  },
  {
   "cell_type": "markdown",
   "metadata": {},
   "source": [
    "## Choropleth figure (display result on US map)\n",
    "\n",
    "- Let's display the flight-count values we organized above into the US map\n",
    "\n",
    "- This form of visualization is nice as it also provide geographical information \n",
    "\n",
    "- To see how this can be done in Plotly, visit https://plot.ly/python/choropleth-maps/"
   ]
  },
  {
   "cell_type": "code",
   "execution_count": 33,
   "metadata": {
    "collapsed": false,
    "run_control": {
     "frozen": false,
     "read_only": false
    }
   },
   "outputs": [],
   "source": [
    "states = flight_counts.index\n",
    "counts = flight_counts.values"
   ]
  },
  {
   "cell_type": "code",
   "execution_count": 34,
   "metadata": {
    "collapsed": false,
    "run_control": {
     "frozen": false,
     "read_only": false
    }
   },
   "outputs": [
    {
     "data": {
      "text/html": [
       "<iframe id=\"igraph\" scrolling=\"no\" style=\"border:none;\" seamless=\"seamless\" src=\"https://plot.ly/~takanori/1853.embed?share_key=xcDy8dp7T93r2qLV5WLTCI\" height=\"525px\" width=\"100%\"></iframe>"
      ],
      "text/plain": [
       "<plotly.tools.PlotlyDisplay object>"
      ]
     },
     "execution_count": 34,
     "metadata": {},
     "output_type": "execute_result"
    }
   ],
   "source": [
    "# prepare Plotly \"Data\" and \"Layout\" object\n",
    "\n",
    "# took this colorscale from: https://plot.ly/python/choropleth-maps/\n",
    "colorscale = [[0.0, 'rgb(242,240,247)'],[0.2, 'rgb(218,218,235)'],[0.4, 'rgb(188,189,220)'],\\\n",
    "              [0.6, 'rgb(158,154,200)'],[0.8, 'rgb(117,107,177)'],[1.0, 'rgb(84,39,143)']]\n",
    "\n",
    "# define data object\n",
    "data = dict(\n",
    "        type='choropleth',\n",
    "        autocolorscale = False,\n",
    "        #Greys, YlGnBu, Greens, YlOrRd, Bluered, RdBu, Reds, Blues, Picnic, Rainbow, Portland, Jet, Hot, Blackbody, Earth, Electric, Viridis\n",
    "        colorscale = colorscale,\n",
    "        locations = states,\n",
    "        z = counts,\n",
    "        locationmode = 'USA-states',\n",
    "        marker = dict(line = dict (color = 'rgb(0,0,0)',width = 2) ),\n",
    "        colorbar = dict(title = \"flight-counts\")\n",
    ")\n",
    "\n",
    "# define layout object\n",
    "geo = dict(scope='usa',\n",
    "           projection=dict( type='albers usa' ),\n",
    "           showlakes = True,\n",
    "           lakecolor = 'rgb(255, 255, 255)'\n",
    "          )\n",
    "\n",
    "title = 'US airflight-counts across states (during {})'.format(period)\n",
    "title+= '<br>(hover over to get count values)'\n",
    "layout = dict(geo=geo,\n",
    "              margin = dict(b=0,l=0,r=0,t=40),\n",
    "              title = title)\n",
    "\n",
    "fig = dict( data=[data], layout=layout )\n",
    "\n",
    "# alright, ready for plotting!\n",
    "py.iplot( fig , filename=outfile+'_choropleth')"
   ]
  },
  {
   "cell_type": "code",
   "execution_count": 35,
   "metadata": {
    "collapsed": false,
    "run_control": {
     "frozen": false,
     "read_only": false
    }
   },
   "outputs": [
    {
     "data": {
      "text/html": [
       "<iframe id=\"igraph\" scrolling=\"no\" style=\"border:none;\" seamless=\"seamless\" src=\"https://plot.ly/~takanori/1855.embed?share_key=wNO9k0tspaCCCR4aUjllda\" height=\"525px\" width=\"100%\"></iframe>"
      ],
      "text/plain": [
       "<plotly.tools.PlotlyDisplay object>"
      ]
     },
     "execution_count": 35,
     "metadata": {},
     "output_type": "execute_result"
    }
   ],
   "source": [
    "# what about during January? \n",
    "data['z'] = flight_counts_by_month['Jan'].values\n",
    "layout['title'] = 'US airflight-counts across states during Jan,2016'\n",
    "py.iplot( fig , filename=outfile+'_choropleth_jan')"
   ]
  },
  {
   "cell_type": "markdown",
   "metadata": {},
   "source": [
    "## Choropleth after normalizing over state population"
   ]
  },
  {
   "cell_type": "code",
   "execution_count": 36,
   "metadata": {
    "collapsed": false,
    "run_control": {
     "frozen": false,
     "read_only": false
    }
   },
   "outputs": [
    {
     "data": {
      "text/html": [
       "<div>\n",
       "<table border=\"1\" class=\"dataframe\">\n",
       "  <thead>\n",
       "    <tr style=\"text-align: right;\">\n",
       "      <th></th>\n",
       "      <th>state</th>\n",
       "      <th>population</th>\n",
       "    </tr>\n",
       "  </thead>\n",
       "  <tbody>\n",
       "    <tr>\n",
       "      <th>0</th>\n",
       "      <td>CA</td>\n",
       "      <td>39250017</td>\n",
       "    </tr>\n",
       "    <tr>\n",
       "      <th>1</th>\n",
       "      <td>TX</td>\n",
       "      <td>27862596</td>\n",
       "    </tr>\n",
       "    <tr>\n",
       "      <th>2</th>\n",
       "      <td>FL</td>\n",
       "      <td>20612439</td>\n",
       "    </tr>\n",
       "    <tr>\n",
       "      <th>3</th>\n",
       "      <td>NY</td>\n",
       "      <td>19745289</td>\n",
       "    </tr>\n",
       "    <tr>\n",
       "      <th>4</th>\n",
       "      <td>IL</td>\n",
       "      <td>12801539</td>\n",
       "    </tr>\n",
       "  </tbody>\n",
       "</table>\n",
       "</div>"
      ],
      "text/plain": [
       "  state  population\n",
       "0    CA    39250017\n",
       "1    TX    27862596\n",
       "2    FL    20612439\n",
       "3    NY    19745289\n",
       "4    IL    12801539"
      ]
     },
     "execution_count": 36,
     "metadata": {},
     "output_type": "execute_result"
    }
   ],
   "source": [
    "# 2015 estimate of state population saved va script ``get_us_state_populations.py``\n",
    "df_state_popu = pd.read_csv('df_state_populations.csv')\n",
    "df_state_popu.head()"
   ]
  },
  {
   "cell_type": "code",
   "execution_count": 37,
   "metadata": {
    "collapsed": false,
    "run_control": {
     "frozen": false,
     "read_only": false
    }
   },
   "outputs": [
    {
     "data": {
      "text/html": [
       "<div>\n",
       "<table border=\"1\" class=\"dataframe\">\n",
       "  <thead>\n",
       "    <tr style=\"text-align: right;\">\n",
       "      <th></th>\n",
       "      <th>state</th>\n",
       "      <th>flight-counts</th>\n",
       "      <th>population</th>\n",
       "    </tr>\n",
       "  </thead>\n",
       "  <tbody>\n",
       "    <tr>\n",
       "      <th>0</th>\n",
       "      <td>AK</td>\n",
       "      <td>52818</td>\n",
       "      <td>741894</td>\n",
       "    </tr>\n",
       "    <tr>\n",
       "      <th>1</th>\n",
       "      <td>AL</td>\n",
       "      <td>51125</td>\n",
       "      <td>4863300</td>\n",
       "    </tr>\n",
       "    <tr>\n",
       "      <th>2</th>\n",
       "      <td>AR</td>\n",
       "      <td>35136</td>\n",
       "      <td>2988248</td>\n",
       "    </tr>\n",
       "    <tr>\n",
       "      <th>3</th>\n",
       "      <td>AZ</td>\n",
       "      <td>346252</td>\n",
       "      <td>6931071</td>\n",
       "    </tr>\n",
       "    <tr>\n",
       "      <th>4</th>\n",
       "      <td>CA</td>\n",
       "      <td>1218745</td>\n",
       "      <td>39250017</td>\n",
       "    </tr>\n",
       "  </tbody>\n",
       "</table>\n",
       "</div>"
      ],
      "text/plain": [
       "  state  flight-counts  population\n",
       "0    AK          52818      741894\n",
       "1    AL          51125     4863300\n",
       "2    AR          35136     2988248\n",
       "3    AZ         346252     6931071\n",
       "4    CA        1218745    39250017"
      ]
     },
     "execution_count": 37,
     "metadata": {},
     "output_type": "execute_result"
    }
   ],
   "source": [
    "# create a dataframe by applying inner-join with our flight-count dataframe\n",
    "flight_counts_popu = flight_counts.reset_index().rename(columns=dict(index='state')).merge(df_state_popu,on='state',how='inner')\n",
    "flight_counts_popu.head()"
   ]
  },
  {
   "cell_type": "code",
   "execution_count": 38,
   "metadata": {
    "collapsed": false,
    "run_control": {
     "frozen": false,
     "read_only": false
    }
   },
   "outputs": [
    {
     "data": {
      "text/html": [
       "<div>\n",
       "<table border=\"1\" class=\"dataframe\">\n",
       "  <thead>\n",
       "    <tr style=\"text-align: right;\">\n",
       "      <th></th>\n",
       "      <th>state</th>\n",
       "      <th>flight-counts</th>\n",
       "      <th>population</th>\n",
       "      <th>normalized_flight_counts</th>\n",
       "    </tr>\n",
       "  </thead>\n",
       "  <tbody>\n",
       "    <tr>\n",
       "      <th>7</th>\n",
       "      <td>DC</td>\n",
       "      <td>226131</td>\n",
       "      <td>681170</td>\n",
       "      <td>0.331974</td>\n",
       "    </tr>\n",
       "    <tr>\n",
       "      <th>33</th>\n",
       "      <td>NV</td>\n",
       "      <td>323313</td>\n",
       "      <td>2940058</td>\n",
       "      <td>0.109968</td>\n",
       "    </tr>\n",
       "    <tr>\n",
       "      <th>11</th>\n",
       "      <td>HI</td>\n",
       "      <td>139771</td>\n",
       "      <td>1428557</td>\n",
       "      <td>0.097841</td>\n",
       "    </tr>\n",
       "    <tr>\n",
       "      <th>5</th>\n",
       "      <td>CO</td>\n",
       "      <td>479372</td>\n",
       "      <td>5540545</td>\n",
       "      <td>0.086521</td>\n",
       "    </tr>\n",
       "    <tr>\n",
       "      <th>10</th>\n",
       "      <td>GA</td>\n",
       "      <td>776731</td>\n",
       "      <td>10310371</td>\n",
       "      <td>0.075335</td>\n",
       "    </tr>\n",
       "  </tbody>\n",
       "</table>\n",
       "</div>"
      ],
      "text/plain": [
       "   state  flight-counts  population  normalized_flight_counts\n",
       "7     DC         226131      681170                  0.331974\n",
       "33    NV         323313     2940058                  0.109968\n",
       "11    HI         139771     1428557                  0.097841\n",
       "5     CO         479372     5540545                  0.086521\n",
       "10    GA         776731    10310371                  0.075335"
      ]
     },
     "execution_count": 38,
     "metadata": {},
     "output_type": "execute_result"
    }
   ],
   "source": [
    "# normalize by state population\n",
    "flight_counts_popu['normalized_flight_counts'] = flight_counts_popu['flight-counts'].astype(float)/flight_counts_popu['population']\n",
    "flight_counts_popu.sort_values('normalized_flight_counts',ascending=False).head()"
   ]
  },
  {
   "cell_type": "code",
   "execution_count": 39,
   "metadata": {
    "collapsed": false,
    "run_control": {
     "frozen": false,
     "read_only": false
    },
    "scrolled": true
   },
   "outputs": [
    {
     "data": {
      "text/html": [
       "<iframe id=\"igraph\" scrolling=\"no\" style=\"border:none;\" seamless=\"seamless\" src=\"https://plot.ly/~takanori/1857.embed?share_key=RdX7pJyt5z3pRR3AohwMOI\" height=\"525px\" width=\"100%\"></iframe>"
      ],
      "text/plain": [
       "<plotly.tools.PlotlyDisplay object>"
      ]
     },
     "execution_count": 39,
     "metadata": {},
     "output_type": "execute_result"
    }
   ],
   "source": [
    "# took this colorscale from: https://plot.ly/python/choropleth-maps/\n",
    "colorscale = [[0.0, 'rgb(242,240,247)'],[0.2, 'rgb(218,218,235)'],[0.4, 'rgb(188,189,220)'],\\\n",
    "              [0.6, 'rgb(158,154,200)'],[0.8, 'rgb(117,107,177)'],[1.0, 'rgb(84,39,143)']]\n",
    "\n",
    "# define data object\n",
    "data = dict(\n",
    "        type='choropleth',\n",
    "        autocolorscale = False,\n",
    "        colorscale = colorscale,\n",
    "        locations = flight_counts_popu['state'].tolist(),\n",
    "        z = flight_counts_popu['normalized_flight_counts'].values,\n",
    "        locationmode = 'USA-states',\n",
    "        marker = dict(line = dict (color = 'rgb(0,0,0)',width = 2), zmax=0.1 ),\n",
    "        colorbar = dict(title = \"flight-counts\"),\n",
    "        # --- customize heatmap scale --- #\n",
    "        zauto=False, # <- took me forever to figure this out....argh...plotly api definitely has room for improvements...\n",
    "        zmax=0.1\n",
    ")\n",
    "\n",
    "layout['title'] = 'US Airflight-counts normalized over state population ({})'.format(period)\n",
    "\n",
    "fig = dict( data=[data], layout=layout )\n",
    "py.iplot( fig , validate=False)"
   ]
  },
  {
   "cell_type": "markdown",
   "metadata": {},
   "source": [
    "## Normalized flight-counts at different month?"
   ]
  },
  {
   "cell_type": "code",
   "execution_count": 40,
   "metadata": {
    "collapsed": false,
    "run_control": {
     "frozen": false,
     "read_only": false
    }
   },
   "outputs": [
    {
     "data": {
      "text/html": [
       "<div>\n",
       "<table border=\"1\" class=\"dataframe\">\n",
       "  <thead>\n",
       "    <tr style=\"text-align: right;\">\n",
       "      <th></th>\n",
       "      <th>state</th>\n",
       "      <th>Jan</th>\n",
       "      <th>Feb</th>\n",
       "      <th>Mar</th>\n",
       "      <th>Apr</th>\n",
       "      <th>May</th>\n",
       "      <th>Jun</th>\n",
       "      <th>Jul</th>\n",
       "      <th>Aug</th>\n",
       "      <th>Sep</th>\n",
       "      <th>Oct</th>\n",
       "      <th>Nov</th>\n",
       "      <th>Dec</th>\n",
       "      <th>population</th>\n",
       "    </tr>\n",
       "  </thead>\n",
       "  <tbody>\n",
       "    <tr>\n",
       "      <th>0</th>\n",
       "      <td>AK</td>\n",
       "      <td>3757.0</td>\n",
       "      <td>3473.0</td>\n",
       "      <td>3769.0</td>\n",
       "      <td>3614.0</td>\n",
       "      <td>4532.0</td>\n",
       "      <td>5979.0</td>\n",
       "      <td>6403.0</td>\n",
       "      <td>6143.0</td>\n",
       "      <td>4127.0</td>\n",
       "      <td>3626.0</td>\n",
       "      <td>3600.0</td>\n",
       "      <td>3795.0</td>\n",
       "      <td>741894</td>\n",
       "    </tr>\n",
       "    <tr>\n",
       "      <th>1</th>\n",
       "      <td>AL</td>\n",
       "      <td>3733.0</td>\n",
       "      <td>3665.0</td>\n",
       "      <td>4218.0</td>\n",
       "      <td>4160.0</td>\n",
       "      <td>4301.0</td>\n",
       "      <td>4217.0</td>\n",
       "      <td>4361.0</td>\n",
       "      <td>4401.0</td>\n",
       "      <td>4308.0</td>\n",
       "      <td>4478.0</td>\n",
       "      <td>4666.0</td>\n",
       "      <td>4617.0</td>\n",
       "      <td>4863300</td>\n",
       "    </tr>\n",
       "    <tr>\n",
       "      <th>2</th>\n",
       "      <td>AR</td>\n",
       "      <td>2426.0</td>\n",
       "      <td>2430.0</td>\n",
       "      <td>2707.0</td>\n",
       "      <td>2659.0</td>\n",
       "      <td>2920.0</td>\n",
       "      <td>2820.0</td>\n",
       "      <td>2834.0</td>\n",
       "      <td>2927.0</td>\n",
       "      <td>2740.0</td>\n",
       "      <td>2904.0</td>\n",
       "      <td>3898.0</td>\n",
       "      <td>3871.0</td>\n",
       "      <td>2988248</td>\n",
       "    </tr>\n",
       "    <tr>\n",
       "      <th>3</th>\n",
       "      <td>AZ</td>\n",
       "      <td>28703.0</td>\n",
       "      <td>27053.0</td>\n",
       "      <td>31670.0</td>\n",
       "      <td>29159.0</td>\n",
       "      <td>29590.0</td>\n",
       "      <td>29642.0</td>\n",
       "      <td>30367.0</td>\n",
       "      <td>28903.0</td>\n",
       "      <td>26002.0</td>\n",
       "      <td>28383.0</td>\n",
       "      <td>27579.0</td>\n",
       "      <td>29201.0</td>\n",
       "      <td>6931071</td>\n",
       "    </tr>\n",
       "    <tr>\n",
       "      <th>4</th>\n",
       "      <td>CA</td>\n",
       "      <td>94693.0</td>\n",
       "      <td>89079.0</td>\n",
       "      <td>100383.0</td>\n",
       "      <td>98335.0</td>\n",
       "      <td>103366.0</td>\n",
       "      <td>107574.0</td>\n",
       "      <td>111746.0</td>\n",
       "      <td>112351.0</td>\n",
       "      <td>101604.0</td>\n",
       "      <td>105013.0</td>\n",
       "      <td>95710.0</td>\n",
       "      <td>98891.0</td>\n",
       "      <td>39250017</td>\n",
       "    </tr>\n",
       "  </tbody>\n",
       "</table>\n",
       "</div>"
      ],
      "text/plain": [
       "  state      Jan      Feb       Mar      Apr       May       Jun       Jul  \\\n",
       "0    AK   3757.0   3473.0    3769.0   3614.0    4532.0    5979.0    6403.0   \n",
       "1    AL   3733.0   3665.0    4218.0   4160.0    4301.0    4217.0    4361.0   \n",
       "2    AR   2426.0   2430.0    2707.0   2659.0    2920.0    2820.0    2834.0   \n",
       "3    AZ  28703.0  27053.0   31670.0  29159.0   29590.0   29642.0   30367.0   \n",
       "4    CA  94693.0  89079.0  100383.0  98335.0  103366.0  107574.0  111746.0   \n",
       "\n",
       "        Aug       Sep       Oct      Nov      Dec  population  \n",
       "0    6143.0    4127.0    3626.0   3600.0   3795.0      741894  \n",
       "1    4401.0    4308.0    4478.0   4666.0   4617.0     4863300  \n",
       "2    2927.0    2740.0    2904.0   3898.0   3871.0     2988248  \n",
       "3   28903.0   26002.0   28383.0  27579.0  29201.0     6931071  \n",
       "4  112351.0  101604.0  105013.0  95710.0  98891.0    39250017  "
      ]
     },
     "execution_count": 40,
     "metadata": {},
     "output_type": "execute_result"
    }
   ],
   "source": [
    "flight_counts_by_month2 = flight_counts_by_month.reset_index().rename(columns=dict(index='state')).merge(df_state_popu,on='state',how='inner')\n",
    "flight_counts_by_month2.head()"
   ]
  },
  {
   "cell_type": "code",
   "execution_count": 41,
   "metadata": {
    "collapsed": false,
    "run_control": {
     "frozen": false,
     "read_only": false
    }
   },
   "outputs": [
    {
     "data": {
      "text/html": [
       "<iframe id=\"igraph\" scrolling=\"no\" style=\"border:none;\" seamless=\"seamless\" src=\"https://plot.ly/~takanori/1859.embed?share_key=3SBbKdC7wd42zoXMJJmTZu\" height=\"525px\" width=\"100%\"></iframe>"
      ],
      "text/plain": [
       "<plotly.tools.PlotlyDisplay object>"
      ]
     },
     "execution_count": 41,
     "metadata": {},
     "output_type": "execute_result"
    }
   ],
   "source": [
    "month = 'Dec'\n",
    "data['z'] = (flight_counts_by_month2[month]/flight_counts_by_month2['population']).values\n",
    "data['zmax'] = np.nanmax(data['z'])/3\n",
    "layout['title'] = '(Month={}) US Airflight-counts normalized over state population ({})'.format(month,period)\n",
    "\n",
    "py.iplot( fig , validate=False)"
   ]
  },
  {
   "cell_type": "code",
   "execution_count": 42,
   "metadata": {
    "collapsed": false,
    "run_control": {
     "frozen": false,
     "read_only": false
    },
    "scrolled": false
   },
   "outputs": [
    {
     "data": {
      "text/html": [
       "<iframe id=\"igraph\" scrolling=\"no\" style=\"border:none;\" seamless=\"seamless\" src=\"https://plot.ly/~takanori/1861.embed?share_key=gLZmjiuRJxe8kPJ4Hq32ix\" height=\"525px\" width=\"100%\"></iframe>"
      ],
      "text/plain": [
       "<plotly.tools.PlotlyDisplay object>"
      ]
     },
     "execution_count": 42,
     "metadata": {},
     "output_type": "execute_result"
    }
   ],
   "source": [
    "month = 'Aug'\n",
    "data['z'] = (flight_counts_by_month2[month]/flight_counts_by_month2['population']).values\n",
    "data['zmax'] = np.nanmax(data['z'])/3\n",
    "layout['title'] = '(Month={}) US Airflight-counts normalized over state population ({})'.format(month,period)\n",
    "\n",
    "py.iplot( fig , validate=False)"
   ]
  },
  {
   "cell_type": "markdown",
   "metadata": {},
   "source": [
    "# Most frequently used airports\n",
    "\n",
    "- To conclude this notebook, let's investigate which airports were used the most during the last one year period"
   ]
  },
  {
   "cell_type": "markdown",
   "metadata": {},
   "source": [
    "## Data tidying\n",
    "\n",
    "- the traffic-counts for each airport is computed by adding the number of times it was used as an **origin** or **destination**"
   ]
  },
  {
   "cell_type": "code",
   "execution_count": 74,
   "metadata": {
    "collapsed": false,
    "run_control": {
     "frozen": false,
     "read_only": false
    }
   },
   "outputs": [
    {
     "data": {
      "text/html": [
       "<div>\n",
       "<table border=\"1\" class=\"dataframe\">\n",
       "  <thead>\n",
       "    <tr style=\"text-align: right;\">\n",
       "      <th></th>\n",
       "      <th>origin</th>\n",
       "      <th>destination</th>\n",
       "      <th>flight_counts</th>\n",
       "    </tr>\n",
       "  </thead>\n",
       "  <tbody>\n",
       "    <tr>\n",
       "      <th>10397</th>\n",
       "      <td>384666</td>\n",
       "      <td>384588</td>\n",
       "      <td>769254</td>\n",
       "    </tr>\n",
       "    <tr>\n",
       "      <th>13930</th>\n",
       "      <td>257425</td>\n",
       "      <td>257275</td>\n",
       "      <td>514700</td>\n",
       "    </tr>\n",
       "    <tr>\n",
       "      <th>11292</th>\n",
       "      <td>225515</td>\n",
       "      <td>225578</td>\n",
       "      <td>451093</td>\n",
       "    </tr>\n",
       "    <tr>\n",
       "      <th>12892</th>\n",
       "      <td>211563</td>\n",
       "      <td>211552</td>\n",
       "      <td>423115</td>\n",
       "    </tr>\n",
       "    <tr>\n",
       "      <th>11298</th>\n",
       "      <td>205545</td>\n",
       "      <td>205565</td>\n",
       "      <td>411110</td>\n",
       "    </tr>\n",
       "  </tbody>\n",
       "</table>\n",
       "</div>"
      ],
      "text/plain": [
       "       origin  destination  flight_counts\n",
       "10397  384666       384588         769254\n",
       "13930  257425       257275         514700\n",
       "11292  225515       225578         451093\n",
       "12892  211563       211552         423115\n",
       "11298  205545       205565         411110"
      ]
     },
     "execution_count": 74,
     "metadata": {},
     "output_type": "execute_result"
    }
   ],
   "source": [
    "# number of times an airport was used as an origin\n",
    "flight_counts_orig = df_data['ORIGIN_AIRPORT_ID'].value_counts().to_frame(name='origin')\n",
    "\n",
    "# number of times an airport was used as a destination\n",
    "flight_counts_dest = df_data['DEST_AIRPORT_ID'].value_counts().to_frame(name='destination')\n",
    "\n",
    "# join the table, and get total flight counts by adding\n",
    "flight_counts = flight_counts_orig.join(flight_counts_dest,how='inner')\n",
    "flight_counts['flight_counts'] = flight_counts['origin'] + flight_counts['destination']\n",
    "flight_counts.head()"
   ]
  },
  {
   "cell_type": "markdown",
   "metadata": {},
   "source": [
    "- Ok, so we now have a dataframe with the airports ranked by flight-counts. \n",
    "\n",
    "- To gain more insights, let's join this dataframe with our lookup table."
   ]
  },
  {
   "cell_type": "code",
   "execution_count": 101,
   "metadata": {
    "collapsed": false,
    "run_control": {
     "frozen": false,
     "read_only": false
    }
   },
   "outputs": [
    {
     "data": {
      "text/html": [
       "<div>\n",
       "<table border=\"1\" class=\"dataframe\">\n",
       "  <thead>\n",
       "    <tr style=\"text-align: right;\">\n",
       "      <th></th>\n",
       "      <th>origin</th>\n",
       "      <th>destination</th>\n",
       "      <th>flight_counts</th>\n",
       "      <th>Description</th>\n",
       "      <th>Airport</th>\n",
       "      <th>City</th>\n",
       "      <th>State</th>\n",
       "      <th>Region</th>\n",
       "      <th>lat</th>\n",
       "      <th>lon</th>\n",
       "      <th>City_State</th>\n",
       "    </tr>\n",
       "  </thead>\n",
       "  <tbody>\n",
       "    <tr>\n",
       "      <th>0</th>\n",
       "      <td>384666</td>\n",
       "      <td>384588</td>\n",
       "      <td>769254</td>\n",
       "      <td>Atlanta, GA: Hartsfield-Jackson Atlanta Intern...</td>\n",
       "      <td>Hartsfield-Jackson Atlanta International</td>\n",
       "      <td>Atlanta</td>\n",
       "      <td>GA</td>\n",
       "      <td>South</td>\n",
       "      <td>33.640728</td>\n",
       "      <td>-84.427700</td>\n",
       "      <td>Atlanta (GA)</td>\n",
       "    </tr>\n",
       "    <tr>\n",
       "      <th>1</th>\n",
       "      <td>257425</td>\n",
       "      <td>257275</td>\n",
       "      <td>514700</td>\n",
       "      <td>Chicago, IL: Chicago O'Hare International</td>\n",
       "      <td>Chicago O'Hare International</td>\n",
       "      <td>Chicago</td>\n",
       "      <td>IL</td>\n",
       "      <td>Midwest</td>\n",
       "      <td>41.974162</td>\n",
       "      <td>-87.907321</td>\n",
       "      <td>Chicago (IL) [O'Hare]</td>\n",
       "    </tr>\n",
       "    <tr>\n",
       "      <th>2</th>\n",
       "      <td>225515</td>\n",
       "      <td>225578</td>\n",
       "      <td>451093</td>\n",
       "      <td>Denver, CO: Denver International</td>\n",
       "      <td>Denver International</td>\n",
       "      <td>Denver</td>\n",
       "      <td>CO</td>\n",
       "      <td>West</td>\n",
       "      <td>39.856096</td>\n",
       "      <td>-104.673738</td>\n",
       "      <td>Denver (CO)</td>\n",
       "    </tr>\n",
       "    <tr>\n",
       "      <th>3</th>\n",
       "      <td>211563</td>\n",
       "      <td>211552</td>\n",
       "      <td>423115</td>\n",
       "      <td>Los Angeles, CA: Los Angeles International</td>\n",
       "      <td>Los Angeles International</td>\n",
       "      <td>Los Angeles</td>\n",
       "      <td>CA</td>\n",
       "      <td>West</td>\n",
       "      <td>33.941589</td>\n",
       "      <td>-118.408530</td>\n",
       "      <td>Los Angeles (CA)</td>\n",
       "    </tr>\n",
       "    <tr>\n",
       "      <th>4</th>\n",
       "      <td>205545</td>\n",
       "      <td>205565</td>\n",
       "      <td>411110</td>\n",
       "      <td>Dallas/Fort Worth, TX: Dallas/Fort Worth Inter...</td>\n",
       "      <td>Dallas/Fort Worth International</td>\n",
       "      <td>Dallas/Fort Worth</td>\n",
       "      <td>TX</td>\n",
       "      <td>South</td>\n",
       "      <td>32.899809</td>\n",
       "      <td>-97.040335</td>\n",
       "      <td>Dallas/Fort Worth (TX)</td>\n",
       "    </tr>\n",
       "    <tr>\n",
       "      <th>5</th>\n",
       "      <td>171704</td>\n",
       "      <td>171746</td>\n",
       "      <td>343450</td>\n",
       "      <td>San Francisco, CA: San Francisco International</td>\n",
       "      <td>San Francisco International</td>\n",
       "      <td>San Francisco</td>\n",
       "      <td>CA</td>\n",
       "      <td>West</td>\n",
       "      <td>37.621313</td>\n",
       "      <td>-122.378955</td>\n",
       "      <td>San Francisco (CA)</td>\n",
       "    </tr>\n",
       "    <tr>\n",
       "      <th>6</th>\n",
       "      <td>158589</td>\n",
       "      <td>158636</td>\n",
       "      <td>317225</td>\n",
       "      <td>Phoenix, AZ: Phoenix Sky Harbor International</td>\n",
       "      <td>Phoenix Sky Harbor International</td>\n",
       "      <td>Phoenix</td>\n",
       "      <td>AZ</td>\n",
       "      <td>West</td>\n",
       "      <td>33.437269</td>\n",
       "      <td>-112.007788</td>\n",
       "      <td>Phoenix (AZ)</td>\n",
       "    </tr>\n",
       "    <tr>\n",
       "      <th>7</th>\n",
       "      <td>150470</td>\n",
       "      <td>150479</td>\n",
       "      <td>300949</td>\n",
       "      <td>Las Vegas, NV: McCarran International</td>\n",
       "      <td>McCarran International</td>\n",
       "      <td>Las Vegas</td>\n",
       "      <td>NV</td>\n",
       "      <td>West</td>\n",
       "      <td>36.084000</td>\n",
       "      <td>-115.153739</td>\n",
       "      <td>Las Vegas (NV)</td>\n",
       "    </tr>\n",
       "    <tr>\n",
       "      <th>8</th>\n",
       "      <td>140240</td>\n",
       "      <td>140230</td>\n",
       "      <td>280470</td>\n",
       "      <td>Houston, TX: George Bush Intercontinental/Houston</td>\n",
       "      <td>George Bush Intercontinental/Houston</td>\n",
       "      <td>Houston</td>\n",
       "      <td>TX</td>\n",
       "      <td>South</td>\n",
       "      <td>29.990220</td>\n",
       "      <td>-95.336783</td>\n",
       "      <td>Houston (TX) [G.Bush]</td>\n",
       "    </tr>\n",
       "    <tr>\n",
       "      <th>9</th>\n",
       "      <td>131934</td>\n",
       "      <td>131941</td>\n",
       "      <td>263875</td>\n",
       "      <td>Seattle, WA: Seattle/Tacoma International</td>\n",
       "      <td>Seattle/Tacoma International</td>\n",
       "      <td>Seattle</td>\n",
       "      <td>WA</td>\n",
       "      <td>West</td>\n",
       "      <td>47.450250</td>\n",
       "      <td>-122.308817</td>\n",
       "      <td>Seattle (WA)</td>\n",
       "    </tr>\n",
       "  </tbody>\n",
       "</table>\n",
       "</div>"
      ],
      "text/plain": [
       "   origin  destination  flight_counts  \\\n",
       "0  384666       384588         769254   \n",
       "1  257425       257275         514700   \n",
       "2  225515       225578         451093   \n",
       "3  211563       211552         423115   \n",
       "4  205545       205565         411110   \n",
       "5  171704       171746         343450   \n",
       "6  158589       158636         317225   \n",
       "7  150470       150479         300949   \n",
       "8  140240       140230         280470   \n",
       "9  131934       131941         263875   \n",
       "\n",
       "                                         Description  \\\n",
       "0  Atlanta, GA: Hartsfield-Jackson Atlanta Intern...   \n",
       "1          Chicago, IL: Chicago O'Hare International   \n",
       "2                   Denver, CO: Denver International   \n",
       "3         Los Angeles, CA: Los Angeles International   \n",
       "4  Dallas/Fort Worth, TX: Dallas/Fort Worth Inter...   \n",
       "5     San Francisco, CA: San Francisco International   \n",
       "6      Phoenix, AZ: Phoenix Sky Harbor International   \n",
       "7              Las Vegas, NV: McCarran International   \n",
       "8  Houston, TX: George Bush Intercontinental/Houston   \n",
       "9          Seattle, WA: Seattle/Tacoma International   \n",
       "\n",
       "                                    Airport               City State   Region  \\\n",
       "0  Hartsfield-Jackson Atlanta International            Atlanta    GA    South   \n",
       "1              Chicago O'Hare International            Chicago    IL  Midwest   \n",
       "2                      Denver International             Denver    CO     West   \n",
       "3                 Los Angeles International        Los Angeles    CA     West   \n",
       "4           Dallas/Fort Worth International  Dallas/Fort Worth    TX    South   \n",
       "5               San Francisco International      San Francisco    CA     West   \n",
       "6          Phoenix Sky Harbor International            Phoenix    AZ     West   \n",
       "7                    McCarran International          Las Vegas    NV     West   \n",
       "8      George Bush Intercontinental/Houston            Houston    TX    South   \n",
       "9              Seattle/Tacoma International            Seattle    WA     West   \n",
       "\n",
       "         lat         lon              City_State  \n",
       "0  33.640728  -84.427700            Atlanta (GA)  \n",
       "1  41.974162  -87.907321   Chicago (IL) [O'Hare]  \n",
       "2  39.856096 -104.673738             Denver (CO)  \n",
       "3  33.941589 -118.408530        Los Angeles (CA)  \n",
       "4  32.899809  -97.040335  Dallas/Fort Worth (TX)  \n",
       "5  37.621313 -122.378955      San Francisco (CA)  \n",
       "6  33.437269 -112.007788            Phoenix (AZ)  \n",
       "7  36.084000 -115.153739          Las Vegas (NV)  \n",
       "8  29.990220  -95.336783   Houston (TX) [G.Bush]  \n",
       "9  47.450250 -122.308817            Seattle (WA)  "
      ]
     },
     "execution_count": 101,
     "metadata": {},
     "output_type": "execute_result"
    }
   ],
   "source": [
    "df = flight_counts.join(df_lookup.set_index('Code'),how='inner').\\\n",
    "        sort_values('flight_counts',ascending=False).reset_index(drop=True)\n",
    "\n",
    "# print top 10 airports\n",
    "df.head(10)"
   ]
  },
  {
   "cell_type": "markdown",
   "metadata": {},
   "source": [
    "- Interesting. I never knew that Atlanta had the airport with the highest traffic counts!\n"
   ]
  },
  {
   "cell_type": "markdown",
   "metadata": {},
   "source": [
    "## Plot results"
   ]
  },
  {
   "cell_type": "markdown",
   "metadata": {},
   "source": [
    "Begin by creating \"hovertext\" object for plotly"
   ]
  },
  {
   "cell_type": "code",
   "execution_count": 133,
   "metadata": {
    "collapsed": false,
    "run_control": {
     "frozen": false,
     "read_only": false
    }
   },
   "outputs": [
    {
     "name": "stdout",
     "output_type": "stream",
     "text": [
      "['Hartsfield-Jackson Atlanta International<br>Atlanta, GA<br>Number of flight: 769254<br>Ranking: 1st',\n",
      " \"Chicago O'Hare International<br>Chicago, IL<br>Number of flight: 514700<br>Ranking: 2nd\",\n",
      " 'Denver International<br>Denver, CO<br>Number of flight: 451093<br>Ranking: 3rd',\n",
      " 'Los Angeles International<br>Los Angeles, CA<br>Number of flight: 423115<br>Ranking: 4th',\n",
      " 'Dallas/Fort Worth International<br>Dallas/Fort Worth, TX<br>Number of flight: 411110<br>Ranking: 5th']\n"
     ]
    }
   ],
   "source": [
    "# create hovertext with ranking information\n",
    "def string_rank(ranking):\n",
    "    headstr = 'Ranking: '\n",
    "    if ranking == 1:\n",
    "        return headstr + '1st'\n",
    "    elif ranking == 2:\n",
    "        return headstr + '2nd'\n",
    "    elif ranking == 3:\n",
    "        return headstr + '3rd'\n",
    "    else:\n",
    "        return headstr + str(ranking)+'th'\n",
    "\n",
    "hover_text = df['Airport'] + '<br>' \\\n",
    "           + df['City'] + ', ' + df['State'] + '<br>' \\\n",
    "           + 'Number of flight: ' + df['flight_counts'].astype(str)\n",
    "        \n",
    "df['text'] = (hover_text + '<br>' + map(string_rank,df.index+1)).tolist()\n",
    "pprint(df['text'].head().tolist())"
   ]
  },
  {
   "cell_type": "code",
   "execution_count": 136,
   "metadata": {
    "collapsed": false,
    "run_control": {
     "frozen": false,
     "marked": false,
     "read_only": false
    }
   },
   "outputs": [
    {
     "data": {
      "text/html": [
       "<iframe id=\"igraph\" scrolling=\"no\" style=\"border:none;\" seamless=\"seamless\" src=\"https://plot.ly/~takanori/1863.embed?share_key=k0JiLH4nSRE9l2Rq60IOqZ\" height=\"525px\" width=\"100%\"></iframe>"
      ],
      "text/plain": [
       "<plotly.tools.PlotlyDisplay object>"
      ]
     },
     "execution_count": 136,
     "metadata": {},
     "output_type": "execute_result"
    }
   ],
   "source": [
    "title = 'Airports ranked by number of traffics between ' + period\n",
    "title+= '<br>(hover over plots for airport names; left-click to pan-zoom)'\n",
    "\n",
    "df[['flight_counts','City_State']].set_index('City_State').\\\n",
    "    sort_values('flight_counts',ascending=False).\\\n",
    "    iplot(kind='bar',text=df['text'].tolist(),color='pink',\n",
    "          title=title,filename=outfile+'_traffic-rank')"
   ]
  },
  {
   "cell_type": "markdown",
   "metadata": {},
   "source": [
    "## Display results on US Map"
   ]
  },
  {
   "cell_type": "code",
   "execution_count": 137,
   "metadata": {
    "collapsed": false,
    "run_control": {
     "frozen": false,
     "read_only": false
    }
   },
   "outputs": [
    {
     "name": "stdout",
     "output_type": "stream",
     "text": [
      "(309, 12)\n"
     ]
    },
    {
     "data": {
      "text/html": [
       "<div>\n",
       "<table border=\"1\" class=\"dataframe\">\n",
       "  <thead>\n",
       "    <tr style=\"text-align: right;\">\n",
       "      <th></th>\n",
       "      <th>origin</th>\n",
       "      <th>destination</th>\n",
       "      <th>flight_counts</th>\n",
       "      <th>Description</th>\n",
       "      <th>Airport</th>\n",
       "      <th>City</th>\n",
       "      <th>State</th>\n",
       "      <th>Region</th>\n",
       "      <th>lat</th>\n",
       "      <th>lon</th>\n",
       "      <th>City_State</th>\n",
       "      <th>text</th>\n",
       "    </tr>\n",
       "  </thead>\n",
       "  <tbody>\n",
       "    <tr>\n",
       "      <th>47</th>\n",
       "      <td>27033</td>\n",
       "      <td>27027</td>\n",
       "      <td>54060</td>\n",
       "      <td>San Juan, PR: Luis Munoz Marin International</td>\n",
       "      <td>Luis Munoz Marin International</td>\n",
       "      <td>San Juan</td>\n",
       "      <td>PR</td>\n",
       "      <td>NaN</td>\n",
       "      <td>18.437355</td>\n",
       "      <td>-66.004473</td>\n",
       "      <td>San Juan (PR)</td>\n",
       "      <td>Luis Munoz Marin International&lt;br&gt;San Juan, PR...</td>\n",
       "    </tr>\n",
       "    <tr>\n",
       "      <th>110</th>\n",
       "      <td>4940</td>\n",
       "      <td>4940</td>\n",
       "      <td>9880</td>\n",
       "      <td>Charlotte Amalie, VI: Cyril E King</td>\n",
       "      <td>Cyril E King</td>\n",
       "      <td>Charlotte Amalie</td>\n",
       "      <td>VI</td>\n",
       "      <td>NaN</td>\n",
       "      <td>18.336061</td>\n",
       "      <td>-64.972273</td>\n",
       "      <td>Charlotte Amalie (VI)</td>\n",
       "      <td>Cyril E King&lt;br&gt;Charlotte Amalie, VI&lt;br&gt;Number...</td>\n",
       "    </tr>\n",
       "    <tr>\n",
       "      <th>192</th>\n",
       "      <td>1820</td>\n",
       "      <td>1822</td>\n",
       "      <td>3642</td>\n",
       "      <td>Aguadilla, PR: Rafael Hernandez</td>\n",
       "      <td>Rafael Hernandez</td>\n",
       "      <td>Aguadilla</td>\n",
       "      <td>PR</td>\n",
       "      <td>NaN</td>\n",
       "      <td>-34.549958</td>\n",
       "      <td>-58.450550</td>\n",
       "      <td>Aguadilla (PR)</td>\n",
       "      <td>Rafael Hernandez&lt;br&gt;Aguadilla, PR&lt;br&gt;Number of...</td>\n",
       "    </tr>\n",
       "    <tr>\n",
       "      <th>218</th>\n",
       "      <td>1078</td>\n",
       "      <td>1077</td>\n",
       "      <td>2155</td>\n",
       "      <td>Christiansted, VI: Henry E. Rohlsen</td>\n",
       "      <td>Henry E. Rohlsen</td>\n",
       "      <td>Christiansted</td>\n",
       "      <td>VI</td>\n",
       "      <td>NaN</td>\n",
       "      <td>17.701287</td>\n",
       "      <td>-64.805797</td>\n",
       "      <td>Christiansted (VI)</td>\n",
       "      <td>Henry E. Rohlsen&lt;br&gt;Christiansted, VI&lt;br&gt;Numbe...</td>\n",
       "    </tr>\n",
       "    <tr>\n",
       "      <th>243</th>\n",
       "      <td>853</td>\n",
       "      <td>853</td>\n",
       "      <td>1706</td>\n",
       "      <td>Ponce, PR: Mercedita</td>\n",
       "      <td>Mercedita</td>\n",
       "      <td>Ponce</td>\n",
       "      <td>PR</td>\n",
       "      <td>NaN</td>\n",
       "      <td>18.013893</td>\n",
       "      <td>-66.549230</td>\n",
       "      <td>Ponce (PR)</td>\n",
       "      <td>Mercedita&lt;br&gt;Ponce, PR&lt;br&gt;Number of flight: 17...</td>\n",
       "    </tr>\n",
       "    <tr>\n",
       "      <th>292</th>\n",
       "      <td>367</td>\n",
       "      <td>367</td>\n",
       "      <td>734</td>\n",
       "      <td>Guam, TT: Guam International</td>\n",
       "      <td>Guam International</td>\n",
       "      <td>Guam</td>\n",
       "      <td>TT</td>\n",
       "      <td>NaN</td>\n",
       "      <td>13.485645</td>\n",
       "      <td>144.800147</td>\n",
       "      <td>Guam (TT)</td>\n",
       "      <td>Guam International&lt;br&gt;Guam, TT&lt;br&gt;Number of fl...</td>\n",
       "    </tr>\n",
       "    <tr>\n",
       "      <th>306</th>\n",
       "      <td>121</td>\n",
       "      <td>121</td>\n",
       "      <td>242</td>\n",
       "      <td>Pago Pago, TT: Pago Pago International</td>\n",
       "      <td>Pago Pago International</td>\n",
       "      <td>Pago Pago</td>\n",
       "      <td>TT</td>\n",
       "      <td>NaN</td>\n",
       "      <td>-14.331389</td>\n",
       "      <td>-170.711389</td>\n",
       "      <td>Pago Pago (TT)</td>\n",
       "      <td>Pago Pago International&lt;br&gt;Pago Pago, TT&lt;br&gt;Nu...</td>\n",
       "    </tr>\n",
       "    <tr>\n",
       "      <th>316</th>\n",
       "      <td>1</td>\n",
       "      <td>1</td>\n",
       "      <td>2</td>\n",
       "      <td>Saipan, TT: Francisco C. Ada Saipan International</td>\n",
       "      <td>Francisco C. Ada Saipan International</td>\n",
       "      <td>Saipan</td>\n",
       "      <td>TT</td>\n",
       "      <td>NaN</td>\n",
       "      <td>15.119743</td>\n",
       "      <td>145.728279</td>\n",
       "      <td>Saipan (TT)</td>\n",
       "      <td>Francisco C. Ada Saipan International&lt;br&gt;Saipa...</td>\n",
       "    </tr>\n",
       "  </tbody>\n",
       "</table>\n",
       "</div>"
      ],
      "text/plain": [
       "     origin  destination  flight_counts  \\\n",
       "47    27033        27027          54060   \n",
       "110    4940         4940           9880   \n",
       "192    1820         1822           3642   \n",
       "218    1078         1077           2155   \n",
       "243     853          853           1706   \n",
       "292     367          367            734   \n",
       "306     121          121            242   \n",
       "316       1            1              2   \n",
       "\n",
       "                                           Description  \\\n",
       "47        San Juan, PR: Luis Munoz Marin International   \n",
       "110                 Charlotte Amalie, VI: Cyril E King   \n",
       "192                    Aguadilla, PR: Rafael Hernandez   \n",
       "218                Christiansted, VI: Henry E. Rohlsen   \n",
       "243                               Ponce, PR: Mercedita   \n",
       "292                       Guam, TT: Guam International   \n",
       "306             Pago Pago, TT: Pago Pago International   \n",
       "316  Saipan, TT: Francisco C. Ada Saipan International   \n",
       "\n",
       "                                   Airport              City State Region  \\\n",
       "47          Luis Munoz Marin International          San Juan    PR    NaN   \n",
       "110                           Cyril E King  Charlotte Amalie    VI    NaN   \n",
       "192                       Rafael Hernandez         Aguadilla    PR    NaN   \n",
       "218                       Henry E. Rohlsen     Christiansted    VI    NaN   \n",
       "243                              Mercedita             Ponce    PR    NaN   \n",
       "292                     Guam International              Guam    TT    NaN   \n",
       "306                Pago Pago International         Pago Pago    TT    NaN   \n",
       "316  Francisco C. Ada Saipan International            Saipan    TT    NaN   \n",
       "\n",
       "           lat         lon             City_State  \\\n",
       "47   18.437355  -66.004473          San Juan (PR)   \n",
       "110  18.336061  -64.972273  Charlotte Amalie (VI)   \n",
       "192 -34.549958  -58.450550         Aguadilla (PR)   \n",
       "218  17.701287  -64.805797     Christiansted (VI)   \n",
       "243  18.013893  -66.549230             Ponce (PR)   \n",
       "292  13.485645  144.800147              Guam (TT)   \n",
       "306 -14.331389 -170.711389         Pago Pago (TT)   \n",
       "316  15.119743  145.728279            Saipan (TT)   \n",
       "\n",
       "                                                  text  \n",
       "47   Luis Munoz Marin International<br>San Juan, PR...  \n",
       "110  Cyril E King<br>Charlotte Amalie, VI<br>Number...  \n",
       "192  Rafael Hernandez<br>Aguadilla, PR<br>Number of...  \n",
       "218  Henry E. Rohlsen<br>Christiansted, VI<br>Numbe...  \n",
       "243  Mercedita<br>Ponce, PR<br>Number of flight: 17...  \n",
       "292  Guam International<br>Guam, TT<br>Number of fl...  \n",
       "306  Pago Pago International<br>Pago Pago, TT<br>Nu...  \n",
       "316  Francisco C. Ada Saipan International<br>Saipa...  "
      ]
     },
     "metadata": {},
     "output_type": "display_data"
    }
   ],
   "source": [
    "# welp, i faced the worst kind of bug...bug that doesn't throw any exception!\n",
    "# i learned the hard way that there apparently are some lat/lon values that\n",
    "# breaks plotly's hover functionality...took forever to figure this out through\n",
    "# trial and error....but it did produce pretty figure so i'm happy :)\n",
    "\n",
    "# drop entries with latitude lower than 18\n",
    "# (these are outside of the main US land area, such as Guam and the Virgin islands...\n",
    "#  which is probaby why breaks the hover functionality)\n",
    "mask = df['lat']>=19\n",
    "df_filtered = df[mask].reset_index(drop=True)\n",
    "print df_filtered.shape\n",
    "\n",
    "# the dropped airports\n",
    "display(df[~mask])"
   ]
  },
  {
   "cell_type": "code",
   "execution_count": 144,
   "metadata": {
    "collapsed": false,
    "run_control": {
     "frozen": false,
     "read_only": false
    },
    "scrolled": true
   },
   "outputs": [
    {
     "data": {
      "text/html": [
       "<iframe id=\"igraph\" scrolling=\"no\" style=\"border:none;\" seamless=\"seamless\" src=\"https://plot.ly/~takanori/1865.embed?share_key=7RDIKA9PJVI5HB2jeiKPGb\" height=\"525px\" width=\"100%\"></iframe>"
      ],
      "text/plain": [
       "<plotly.tools.PlotlyDisplay object>"
      ]
     },
     "execution_count": 144,
     "metadata": {},
     "output_type": "execute_result"
    }
   ],
   "source": [
    "# group each airport by ranking-group\n",
    "ranking_group = [(0,10),(10,25),(25,50),(50,100),(100,300)]\n",
    "\n",
    "# colors for each ranking group\n",
    "colors = [\"rgb(0,116,217)\",\"rgb(255,65,54)\",\"rgb(133,20,75)\",\"rgb(255,133,27)\",\"lightgrey\"]\n",
    "data = []\n",
    "scale = 1000 # scaling factor for the bubbles\n",
    "\n",
    "for i in range(len(ranking_group)):\n",
    "    lim = limits[i]\n",
    "    df_sub = df_filtered[lim[0]:lim[1]]\n",
    "    airport = dict(\n",
    "        type = 'scattergeo',\n",
    "        locationmode = 'USA-states',\n",
    "        lon = df_sub['lon'],\n",
    "        lat = df_sub['lat'],\n",
    "        text = df_sub['text'],\n",
    "        marker = dict(\n",
    "            size = df_sub['flight_counts']/scale,\n",
    "            color = colors[i],\n",
    "            line = dict(width=0.5, color='rgb(40,40,40)'),\n",
    "            sizemode = 'area'\n",
    "        ),\n",
    "        name = 'Top {0} - {1}'.format(lim[0]+1,lim[1]) )\n",
    "#     if i == 0:\n",
    "# #         airport.update(dict(mode='markers+text'))\n",
    "#         airport['mode'] = 'markers+text'\n",
    "#         airport['textfont'] = dict(size=18),\n",
    "#         airport['textposition'] = \"middle center\",\n",
    "    data.append(airport)\n",
    "\n",
    "title = 'Top 300 airports based on air-traffics during {}'.format(period)\n",
    "title+= '<br>(hover for airport info; click legend below to toggle airports by ranking-class)'\n",
    "\n",
    "layout = dict(\n",
    "        title=title,\n",
    "        showlegend = True,\n",
    "        legend = dict(\n",
    "            font = dict(size=11),\n",
    "            #bordercolor='rgb(0,0,0)',\n",
    "            #borderwidth=1,\n",
    "            orientation='h',\n",
    "            x=0.5, y = 1.08, \n",
    "            xanchor='center', yanchor='top',\n",
    "        ),\n",
    "        geo = dict(\n",
    "            scope='usa',\n",
    "            projection=dict( type='albers usa' ),\n",
    "            showland = True,\n",
    "            landcolor = 'rgb(217, 217, 217)',\n",
    "            subunitwidth=1,\n",
    "            countrywidth=1,\n",
    "            subunitcolor=\"rgb(255, 255, 255)\",\n",
    "            countrycolor=\"rgb(255, 255, 255)\"\n",
    "        ),\n",
    "        margin = dict(b=0,l=0,r=0,t=125),\n",
    "    )\n",
    "\n",
    "fig = dict( data=data, layout=layout )\n",
    "py.iplot( fig, validate=False, filename=outfile+'_traffic_by_airport' )"
   ]
  }
 ],
 "metadata": {
  "anaconda-cloud": {},
  "hide_input": false,
  "kernelspec": {
   "display_name": "Python [Root]",
   "language": "python",
   "name": "Python [Root]"
  },
  "language_info": {
   "codemirror_mode": {
    "name": "ipython",
    "version": 2
   },
   "file_extension": ".py",
   "mimetype": "text/x-python",
   "name": "python",
   "nbconvert_exporter": "python",
   "pygments_lexer": "ipython2",
   "version": "2.7.12"
  },
  "nav_menu": {
   "height": "325px",
   "width": "462px"
  },
  "toc": {
   "navigate_menu": true,
   "number_sections": true,
   "sideBar": true,
   "threshold": 6,
   "toc_cell": true,
   "toc_section_display": "block",
   "toc_window_display": true
  },
  "toc_position": {
   "height": "664px",
   "left": "0px",
   "right": "1208px",
   "top": "106px",
   "width": "201px"
  }
 },
 "nbformat": 4,
 "nbformat_minor": 0
}
