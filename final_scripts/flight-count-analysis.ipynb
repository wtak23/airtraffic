{
 "cells": [
  {
   "cell_type": "markdown",
   "metadata": {
    "toc": "true"
   },
   "source": [
    "# Table of Contents\n",
    " <p><div class=\"lev1 toc-item\"><a href=\"#Load-data\" data-toc-modified-id=\"Load-data-1\"><span class=\"toc-item-num\">1&nbsp;&nbsp;</span>Load data</a></div><div class=\"lev1 toc-item\"><a href=\"#Create-Timeseries-of-Daily-Flight-Counts\" data-toc-modified-id=\"Create-Timeseries-of-Daily-Flight-Counts-2\"><span class=\"toc-item-num\">2&nbsp;&nbsp;</span>Create Timeseries of Daily Flight Counts</a></div><div class=\"lev2 toc-item\"><a href=\"#Create-interactive-plot-with-plotly/cufflinks\" data-toc-modified-id=\"Create-interactive-plot-with-plotly/cufflinks-2.1\"><span class=\"toc-item-num\">2.1&nbsp;&nbsp;</span>Create interactive plot with plotly/cufflinks</a></div><div class=\"lev2 toc-item\"><a href=\"#Flight-counts-tend-to-be-less-on-Saturdays\" data-toc-modified-id=\"Flight-counts-tend-to-be-less-on-Saturdays-2.2\"><span class=\"toc-item-num\">2.2&nbsp;&nbsp;</span>Flight counts tend to be less on Saturdays</a></div><div class=\"lev1 toc-item\"><a href=\"#Repeat-analysis-for-NY,-LA,-Houston.\" data-toc-modified-id=\"Repeat-analysis-for-NY,-LA,-Houston.-3\"><span class=\"toc-item-num\">3&nbsp;&nbsp;</span>Repeat analysis for NY, LA, Houston.</a></div><div class=\"lev2 toc-item\"><a href=\"#Result-plots\" data-toc-modified-id=\"Result-plots-3.1\"><span class=\"toc-item-num\">3.1&nbsp;&nbsp;</span>Result plots</a></div><div class=\"lev1 toc-item\"><a href=\"#Which-state-had-the-most-air-traffics?\" data-toc-modified-id=\"Which-state-had-the-most-air-traffics?-4\"><span class=\"toc-item-num\">4&nbsp;&nbsp;</span>Which state had the most air traffics?</a></div><div class=\"lev2 toc-item\"><a href=\"#Choropleth-figure\" data-toc-modified-id=\"Choropleth-figure-4.1\"><span class=\"toc-item-num\">4.1&nbsp;&nbsp;</span>Choropleth figure</a></div><div class=\"lev2 toc-item\"><a href=\"#Choropleth-after-normalizing-over-state-population\" data-toc-modified-id=\"Choropleth-after-normalizing-over-state-population-4.2\"><span class=\"toc-item-num\">4.2&nbsp;&nbsp;</span>Choropleth after normalizing over state population</a></div><div class=\"lev2 toc-item\"><a href=\"#Weekday-patterns-for-each-state\" data-toc-modified-id=\"Weekday-patterns-for-each-state-4.3\"><span class=\"toc-item-num\">4.3&nbsp;&nbsp;</span>Weekday patterns for each state</a></div><div class=\"lev1 toc-item\"><a href=\"#Regress-out-effect-from-&quot;DAY-OF-WEEK&quot;\" data-toc-modified-id=\"Regress-out-effect-from-&quot;DAY-OF-WEEK&quot;-5\"><span class=\"toc-item-num\">5&nbsp;&nbsp;</span>Regress out effect from \"DAY OF WEEK\"</a></div><div class=\"lev2 toc-item\"><a href=\"#Plot-residuals-after-&quot;weekday&quot;-regression\" data-toc-modified-id=\"Plot-residuals-after-&quot;weekday&quot;-regression-5.1\"><span class=\"toc-item-num\">5.1&nbsp;&nbsp;</span>Plot residuals after \"weekday\" regression</a></div><div class=\"lev2 toc-item\"><a href=\"#Get-&quot;Lagged&quot;-residual\" data-toc-modified-id=\"Get-&quot;Lagged&quot;-residual-5.2\"><span class=\"toc-item-num\">5.2&nbsp;&nbsp;</span>Get \"Lagged\" residual</a></div><div class=\"lev2 toc-item\"><a href=\"#Create-subplots-with-all-3-plots\" data-toc-modified-id=\"Create-subplots-with-all-3-plots-5.3\"><span class=\"toc-item-num\">5.3&nbsp;&nbsp;</span>Create subplots with all 3 plots</a></div><div class=\"lev2 toc-item\"><a href=\"#Histograms\" data-toc-modified-id=\"Histograms-5.4\"><span class=\"toc-item-num\">5.4&nbsp;&nbsp;</span>Histograms</a></div>"
   ]
  },
  {
   "cell_type": "code",
   "execution_count": 1,
   "metadata": {
    "collapsed": true,
    "run_control": {
     "frozen": false,
     "read_only": false
    }
   },
   "outputs": [],
   "source": [
    "%matplotlib inline"
   ]
  },
  {
   "cell_type": "code",
   "execution_count": 2,
   "metadata": {
    "collapsed": false,
    "run_control": {
     "frozen": false,
     "read_only": false
    }
   },
   "outputs": [],
   "source": [
    "import numpy as np\n",
    "import pandas as pd\n",
    "import matplotlib.pyplot as plt\n",
    "import seaborn.apionly as sns\n",
    "import plotly.plotly as py\n",
    "import calendar\n",
    "\n",
    "from datetime import datetime\n",
    "from pprint import pprint\n",
    "from IPython.display import display\n",
    "\n",
    "import cufflinks as cf\n",
    "cf.set_config_file(theme='ggplot')\n",
    "\n",
    "import util\n",
    "\n",
    "# limit output to avoid cluttering screen\n",
    "pd.options.display.max_rows = 20"
   ]
  },
  {
   "cell_type": "code",
   "execution_count": 3,
   "metadata": {
    "collapsed": true,
    "run_control": {
     "frozen": false,
     "read_only": false
    }
   },
   "outputs": [],
   "source": [
    "# name of output files to prepend with\n",
    "outfile = 'flight_count_analysis_'"
   ]
  },
  {
   "cell_type": "markdown",
   "metadata": {},
   "source": [
    "# Load data\n",
    "\n",
    "Load the **airport data**, as well as the **lookup-table* I created [here](http://takwatanabe.me/airtraffic/create_lookup_table.html).\n"
   ]
  },
  {
   "cell_type": "code",
   "execution_count": 4,
   "metadata": {
    "collapsed": false,
    "run_control": {
     "frozen": false,
     "read_only": false
    }
   },
   "outputs": [
    {
     "name": "stdout",
     "output_type": "stream",
     "text": [
      " ... load dataframe from 2015-11.zip \n",
      " ... load dataframe from 2015-12.zip \n",
      " ... load dataframe from 2016-01.zip \n",
      " ... load dataframe from 2016-02.zip \n",
      " ... load dataframe from 2016-03.zip \n",
      " ... load dataframe from 2016-04.zip \n",
      " ... load dataframe from 2016-05.zip \n",
      " ... load dataframe from 2016-06.zip \n",
      " ... load dataframe from 2016-07.zip \n",
      " ... load dataframe from 2016-08.zip \n",
      " ... load dataframe from 2016-09.zip \n",
      " ... load dataframe from 2016-10.zip \n"
     ]
    }
   ],
   "source": [
    "df_data = util.load_airport_data()"
   ]
  },
  {
   "cell_type": "code",
   "execution_count": 5,
   "metadata": {
    "collapsed": false,
    "run_control": {
     "frozen": false,
     "read_only": false
    }
   },
   "outputs": [
    {
     "data": {
      "text/html": [
       "<div>\n",
       "<table border=\"1\" class=\"dataframe\">\n",
       "  <thead>\n",
       "    <tr style=\"text-align: right;\">\n",
       "      <th></th>\n",
       "      <th>YEAR</th>\n",
       "      <th>QUARTER</th>\n",
       "      <th>MONTH</th>\n",
       "      <th>DAY_OF_MONTH</th>\n",
       "      <th>DAY_OF_WEEK</th>\n",
       "      <th>ORIGIN_AIRPORT_ID</th>\n",
       "      <th>DEST_AIRPORT_ID</th>\n",
       "    </tr>\n",
       "  </thead>\n",
       "  <tbody>\n",
       "    <tr>\n",
       "      <th>0</th>\n",
       "      <td>2015</td>\n",
       "      <td>4</td>\n",
       "      <td>11</td>\n",
       "      <td>4</td>\n",
       "      <td>3</td>\n",
       "      <td>14570</td>\n",
       "      <td>13930</td>\n",
       "    </tr>\n",
       "    <tr>\n",
       "      <th>1</th>\n",
       "      <td>2015</td>\n",
       "      <td>4</td>\n",
       "      <td>11</td>\n",
       "      <td>5</td>\n",
       "      <td>4</td>\n",
       "      <td>13930</td>\n",
       "      <td>14057</td>\n",
       "    </tr>\n",
       "    <tr>\n",
       "      <th>2</th>\n",
       "      <td>2015</td>\n",
       "      <td>4</td>\n",
       "      <td>11</td>\n",
       "      <td>6</td>\n",
       "      <td>5</td>\n",
       "      <td>13930</td>\n",
       "      <td>14057</td>\n",
       "    </tr>\n",
       "    <tr>\n",
       "      <th>3</th>\n",
       "      <td>2015</td>\n",
       "      <td>4</td>\n",
       "      <td>11</td>\n",
       "      <td>7</td>\n",
       "      <td>6</td>\n",
       "      <td>13930</td>\n",
       "      <td>14057</td>\n",
       "    </tr>\n",
       "    <tr>\n",
       "      <th>4</th>\n",
       "      <td>2015</td>\n",
       "      <td>4</td>\n",
       "      <td>11</td>\n",
       "      <td>8</td>\n",
       "      <td>7</td>\n",
       "      <td>13930</td>\n",
       "      <td>14057</td>\n",
       "    </tr>\n",
       "  </tbody>\n",
       "</table>\n",
       "</div>"
      ],
      "text/plain": [
       "   YEAR  QUARTER  MONTH  DAY_OF_MONTH  DAY_OF_WEEK  ORIGIN_AIRPORT_ID  \\\n",
       "0  2015        4     11             4            3              14570   \n",
       "1  2015        4     11             5            4              13930   \n",
       "2  2015        4     11             6            5              13930   \n",
       "3  2015        4     11             7            6              13930   \n",
       "4  2015        4     11             8            7              13930   \n",
       "\n",
       "   DEST_AIRPORT_ID  \n",
       "0            13930  \n",
       "1            14057  \n",
       "2            14057  \n",
       "3            14057  \n",
       "4            14057  "
      ]
     },
     "execution_count": 5,
     "metadata": {},
     "output_type": "execute_result"
    }
   ],
   "source": [
    "df_data.head()"
   ]
  },
  {
   "cell_type": "code",
   "execution_count": 6,
   "metadata": {
    "collapsed": false,
    "run_control": {
     "frozen": false,
     "read_only": false
    }
   },
   "outputs": [
    {
     "data": {
      "text/html": [
       "<div>\n",
       "<table border=\"1\" class=\"dataframe\">\n",
       "  <thead>\n",
       "    <tr style=\"text-align: right;\">\n",
       "      <th></th>\n",
       "      <th>YEAR</th>\n",
       "      <th>QUARTER</th>\n",
       "      <th>MONTH</th>\n",
       "      <th>DAY_OF_MONTH</th>\n",
       "      <th>DAY_OF_WEEK</th>\n",
       "      <th>ORIGIN_AIRPORT_ID</th>\n",
       "      <th>DEST_AIRPORT_ID</th>\n",
       "    </tr>\n",
       "  </thead>\n",
       "  <tbody>\n",
       "    <tr>\n",
       "      <th>0</th>\n",
       "      <td>2015</td>\n",
       "      <td>4</td>\n",
       "      <td>11</td>\n",
       "      <td>4</td>\n",
       "      <td>Wed</td>\n",
       "      <td>14570</td>\n",
       "      <td>13930</td>\n",
       "    </tr>\n",
       "    <tr>\n",
       "      <th>1</th>\n",
       "      <td>2015</td>\n",
       "      <td>4</td>\n",
       "      <td>11</td>\n",
       "      <td>5</td>\n",
       "      <td>Thu</td>\n",
       "      <td>13930</td>\n",
       "      <td>14057</td>\n",
       "    </tr>\n",
       "    <tr>\n",
       "      <th>2</th>\n",
       "      <td>2015</td>\n",
       "      <td>4</td>\n",
       "      <td>11</td>\n",
       "      <td>6</td>\n",
       "      <td>Fri</td>\n",
       "      <td>13930</td>\n",
       "      <td>14057</td>\n",
       "    </tr>\n",
       "    <tr>\n",
       "      <th>3</th>\n",
       "      <td>2015</td>\n",
       "      <td>4</td>\n",
       "      <td>11</td>\n",
       "      <td>7</td>\n",
       "      <td>Sat</td>\n",
       "      <td>13930</td>\n",
       "      <td>14057</td>\n",
       "    </tr>\n",
       "    <tr>\n",
       "      <th>4</th>\n",
       "      <td>2015</td>\n",
       "      <td>4</td>\n",
       "      <td>11</td>\n",
       "      <td>8</td>\n",
       "      <td>Sun</td>\n",
       "      <td>13930</td>\n",
       "      <td>14057</td>\n",
       "    </tr>\n",
       "  </tbody>\n",
       "</table>\n",
       "</div>"
      ],
      "text/plain": [
       "   YEAR  QUARTER  MONTH  DAY_OF_MONTH DAY_OF_WEEK  ORIGIN_AIRPORT_ID  \\\n",
       "0  2015        4     11             4         Wed              14570   \n",
       "1  2015        4     11             5         Thu              13930   \n",
       "2  2015        4     11             6         Fri              13930   \n",
       "3  2015        4     11             7         Sat              13930   \n",
       "4  2015        4     11             8         Sun              13930   \n",
       "\n",
       "   DEST_AIRPORT_ID  \n",
       "0            13930  \n",
       "1            14057  \n",
       "2            14057  \n",
       "3            14057  \n",
       "4            14057  "
      ]
     },
     "execution_count": 6,
     "metadata": {},
     "output_type": "execute_result"
    }
   ],
   "source": [
    "# make the \"day_of_week\" explicit\n",
    "hash_dayofweek = {1:'Mon', 2:'Tue', 3:'Wed', 4:'Thu', 5:'Fri', 6:'Sat', 7:'Sun'}\n",
    "df_data['DAY_OF_WEEK'] = df_data['DAY_OF_WEEK'].map(lambda key: hash_dayofweek[key])\n",
    "df_data.head()"
   ]
  },
  {
   "cell_type": "code",
   "execution_count": 7,
   "metadata": {
    "collapsed": false,
    "run_control": {
     "frozen": false,
     "read_only": false
    }
   },
   "outputs": [
    {
     "data": {
      "text/html": [
       "<div>\n",
       "<table border=\"1\" class=\"dataframe\">\n",
       "  <thead>\n",
       "    <tr style=\"text-align: right;\">\n",
       "      <th></th>\n",
       "      <th>Code</th>\n",
       "      <th>Description</th>\n",
       "      <th>Airport</th>\n",
       "      <th>City</th>\n",
       "      <th>State</th>\n",
       "      <th>lat</th>\n",
       "      <th>lon</th>\n",
       "      <th>latlon</th>\n",
       "      <th>City_State</th>\n",
       "    </tr>\n",
       "  </thead>\n",
       "  <tbody>\n",
       "    <tr>\n",
       "      <th>0</th>\n",
       "      <td>10135</td>\n",
       "      <td>Allentown/Bethlehem/Easton, PA: Lehigh Valley ...</td>\n",
       "      <td>Lehigh Valley International</td>\n",
       "      <td>Allentown/Bethlehem/Easton</td>\n",
       "      <td>PA</td>\n",
       "      <td>40.651650</td>\n",
       "      <td>-75.434746</td>\n",
       "      <td>(40.651650399999994, -75.434746099999984)</td>\n",
       "      <td>Allentown/Bethlehem/Easton (PA)</td>\n",
       "    </tr>\n",
       "    <tr>\n",
       "      <th>1</th>\n",
       "      <td>10136</td>\n",
       "      <td>Abilene, TX: Abilene Regional</td>\n",
       "      <td>Abilene Regional</td>\n",
       "      <td>Abilene</td>\n",
       "      <td>TX</td>\n",
       "      <td>32.448736</td>\n",
       "      <td>-99.733144</td>\n",
       "      <td>(32.448736400000001, -99.733143900000002)</td>\n",
       "      <td>Abilene (TX)</td>\n",
       "    </tr>\n",
       "    <tr>\n",
       "      <th>2</th>\n",
       "      <td>10140</td>\n",
       "      <td>Albuquerque, NM: Albuquerque International Sun...</td>\n",
       "      <td>Albuquerque International Sunport</td>\n",
       "      <td>Albuquerque</td>\n",
       "      <td>NM</td>\n",
       "      <td>35.043333</td>\n",
       "      <td>-106.612909</td>\n",
       "      <td>(35.0433333, -106.6129085)</td>\n",
       "      <td>Albuquerque (NM)</td>\n",
       "    </tr>\n",
       "    <tr>\n",
       "      <th>3</th>\n",
       "      <td>10141</td>\n",
       "      <td>Aberdeen, SD: Aberdeen Regional</td>\n",
       "      <td>Aberdeen Regional</td>\n",
       "      <td>Aberdeen</td>\n",
       "      <td>SD</td>\n",
       "      <td>45.453458</td>\n",
       "      <td>-98.417726</td>\n",
       "      <td>(45.453458300000001, -98.417726099999996)</td>\n",
       "      <td>Aberdeen (SD)</td>\n",
       "    </tr>\n",
       "    <tr>\n",
       "      <th>4</th>\n",
       "      <td>10146</td>\n",
       "      <td>Albany, GA: Southwest Georgia Regional</td>\n",
       "      <td>Southwest Georgia Regional</td>\n",
       "      <td>Albany</td>\n",
       "      <td>GA</td>\n",
       "      <td>31.535671</td>\n",
       "      <td>-84.193905</td>\n",
       "      <td>(31.535671100000002, -84.193904900000007)</td>\n",
       "      <td>Albany (GA)</td>\n",
       "    </tr>\n",
       "  </tbody>\n",
       "</table>\n",
       "</div>"
      ],
      "text/plain": [
       "    Code                                        Description  \\\n",
       "0  10135  Allentown/Bethlehem/Easton, PA: Lehigh Valley ...   \n",
       "1  10136                      Abilene, TX: Abilene Regional   \n",
       "2  10140  Albuquerque, NM: Albuquerque International Sun...   \n",
       "3  10141                    Aberdeen, SD: Aberdeen Regional   \n",
       "4  10146             Albany, GA: Southwest Georgia Regional   \n",
       "\n",
       "                             Airport                        City State  \\\n",
       "0        Lehigh Valley International  Allentown/Bethlehem/Easton    PA   \n",
       "1                   Abilene Regional                     Abilene    TX   \n",
       "2  Albuquerque International Sunport                 Albuquerque    NM   \n",
       "3                  Aberdeen Regional                    Aberdeen    SD   \n",
       "4         Southwest Georgia Regional                      Albany    GA   \n",
       "\n",
       "         lat         lon                                     latlon  \\\n",
       "0  40.651650  -75.434746  (40.651650399999994, -75.434746099999984)   \n",
       "1  32.448736  -99.733144  (32.448736400000001, -99.733143900000002)   \n",
       "2  35.043333 -106.612909                 (35.0433333, -106.6129085)   \n",
       "3  45.453458  -98.417726  (45.453458300000001, -98.417726099999996)   \n",
       "4  31.535671  -84.193905  (31.535671100000002, -84.193904900000007)   \n",
       "\n",
       "                        City_State  \n",
       "0  Allentown/Bethlehem/Easton (PA)  \n",
       "1                     Abilene (TX)  \n",
       "2                 Albuquerque (NM)  \n",
       "3                    Aberdeen (SD)  \n",
       "4                      Albany (GA)  "
      ]
     },
     "execution_count": 7,
     "metadata": {},
     "output_type": "execute_result"
    }
   ],
   "source": [
    "df_lookup = pd.read_csv('df_lookup.csv') # lookup table for the AIRPORT_ID above\n",
    "df_lookup.head()"
   ]
  },
  {
   "cell_type": "code",
   "execution_count": 8,
   "metadata": {
    "collapsed": false,
    "run_control": {
     "frozen": false,
     "read_only": false
    }
   },
   "outputs": [
    {
     "name": "stdout",
     "output_type": "stream",
     "text": [
      "{10245: 'King Salmon (AK)',\n",
      " 10754: 'Barrow (AK)',\n",
      " 11267: 'Dayton (OH)',\n",
      " 11274: 'Dubuque (IA)',\n",
      " 11278: 'Washington (DC) [R.Reagan]',\n",
      " 11778: 'Fort Smith (AR)',\n",
      " 13230: 'Harrisburg (PA)',\n",
      " 13830: 'Kahului (HI)',\n",
      " 14696: 'South Bend (IN)',\n",
      " 15412: 'Knoxville (TN)'}\n",
      "{10245: 'King Salmon Airport',\n",
      " 10754: 'Wiley Post/Will Rogers Memorial',\n",
      " 11267: 'James M Cox/Dayton International',\n",
      " 11274: 'Dubuque Regional',\n",
      " 11278: 'Ronald Reagan Washington National',\n",
      " 11778: 'Fort Smith Regional',\n",
      " 13230: 'Harrisburg International',\n",
      " 13830: 'Kahului Airport',\n",
      " 14696: 'South Bend International',\n",
      " 15412: 'McGhee Tyson'}\n"
     ]
    }
   ],
   "source": [
    "# create hash-table to convert Airport \"Code\" to \"City_State\" \n",
    "# (combination of city/state is verified to be unique with the scope of this dataset)\n",
    "hash_lookup = df_lookup.set_index('Code')['City_State'].to_dict()\n",
    "pprint({k: hash_lookup[k] for k in hash_lookup.keys()[:10]})\n",
    "\n",
    "# also create hash-table for airport names\n",
    "hash_airport = df_lookup.set_index('Code')['Airport'].to_dict()\n",
    "pprint({k: hash_airport[k] for k in hash_lookup.keys()[:10]})"
   ]
  },
  {
   "cell_type": "markdown",
   "metadata": {},
   "source": [
    "# Create Timeseries of Daily Flight Counts\n",
    "\n",
    "- Here, I would like to analyze the trend in the **total daily flights** in the United States.\n",
    "\n",
    "- To this end, we'll first construct a [Pandas TimeSeries](http://pandas.pydata.org/pandas-docs/stable/timeseries.html) DataFrame containing the daily Flight-count information."
   ]
  },
  {
   "cell_type": "code",
   "execution_count": 9,
   "metadata": {
    "collapsed": false,
    "run_control": {
     "frozen": false,
     "read_only": false
    }
   },
   "outputs": [
    {
     "data": {
      "text/html": [
       "<div>\n",
       "<table border=\"1\" class=\"dataframe\">\n",
       "  <thead>\n",
       "    <tr style=\"text-align: right;\">\n",
       "      <th></th>\n",
       "      <th>YEAR</th>\n",
       "      <th>QUARTER</th>\n",
       "      <th>MONTH</th>\n",
       "      <th>DAY_OF_MONTH</th>\n",
       "      <th>DAY_OF_WEEK</th>\n",
       "      <th>ORIGIN_AIRPORT_ID</th>\n",
       "      <th>DEST_AIRPORT_ID</th>\n",
       "      <th>time</th>\n",
       "    </tr>\n",
       "  </thead>\n",
       "  <tbody>\n",
       "    <tr>\n",
       "      <th>0</th>\n",
       "      <td>2015</td>\n",
       "      <td>4</td>\n",
       "      <td>11</td>\n",
       "      <td>4</td>\n",
       "      <td>Wed</td>\n",
       "      <td>14570</td>\n",
       "      <td>13930</td>\n",
       "      <td>2015-11-4</td>\n",
       "    </tr>\n",
       "    <tr>\n",
       "      <th>1</th>\n",
       "      <td>2015</td>\n",
       "      <td>4</td>\n",
       "      <td>11</td>\n",
       "      <td>5</td>\n",
       "      <td>Thu</td>\n",
       "      <td>13930</td>\n",
       "      <td>14057</td>\n",
       "      <td>2015-11-5</td>\n",
       "    </tr>\n",
       "    <tr>\n",
       "      <th>2</th>\n",
       "      <td>2015</td>\n",
       "      <td>4</td>\n",
       "      <td>11</td>\n",
       "      <td>6</td>\n",
       "      <td>Fri</td>\n",
       "      <td>13930</td>\n",
       "      <td>14057</td>\n",
       "      <td>2015-11-6</td>\n",
       "    </tr>\n",
       "    <tr>\n",
       "      <th>3</th>\n",
       "      <td>2015</td>\n",
       "      <td>4</td>\n",
       "      <td>11</td>\n",
       "      <td>7</td>\n",
       "      <td>Sat</td>\n",
       "      <td>13930</td>\n",
       "      <td>14057</td>\n",
       "      <td>2015-11-7</td>\n",
       "    </tr>\n",
       "    <tr>\n",
       "      <th>4</th>\n",
       "      <td>2015</td>\n",
       "      <td>4</td>\n",
       "      <td>11</td>\n",
       "      <td>8</td>\n",
       "      <td>Sun</td>\n",
       "      <td>13930</td>\n",
       "      <td>14057</td>\n",
       "      <td>2015-11-8</td>\n",
       "    </tr>\n",
       "  </tbody>\n",
       "</table>\n",
       "</div>"
      ],
      "text/plain": [
       "   YEAR  QUARTER  MONTH  DAY_OF_MONTH DAY_OF_WEEK  ORIGIN_AIRPORT_ID  \\\n",
       "0  2015        4     11             4         Wed              14570   \n",
       "1  2015        4     11             5         Thu              13930   \n",
       "2  2015        4     11             6         Fri              13930   \n",
       "3  2015        4     11             7         Sat              13930   \n",
       "4  2015        4     11             8         Sun              13930   \n",
       "\n",
       "   DEST_AIRPORT_ID       time  \n",
       "0            13930  2015-11-4  \n",
       "1            14057  2015-11-5  \n",
       "2            14057  2015-11-6  \n",
       "3            14057  2015-11-7  \n",
       "4            14057  2015-11-8  "
      ]
     },
     "execution_count": 9,
     "metadata": {},
     "output_type": "execute_result"
    }
   ],
   "source": [
    "# create a column containing \"YEAR-MONTH-DAY\"\n",
    "df_data['time'] = ( df_data['YEAR'].astype(str) + '-' \n",
    "                  + df_data['MONTH'].astype(str) + '-' \n",
    "                  + df_data['DAY_OF_MONTH'].astype(str))\n",
    "\n",
    "df_data.head()"
   ]
  },
  {
   "cell_type": "code",
   "execution_count": 10,
   "metadata": {
    "collapsed": false,
    "run_control": {
     "frozen": false,
     "read_only": false
    }
   },
   "outputs": [
    {
     "data": {
      "text/html": [
       "<div>\n",
       "<table border=\"1\" class=\"dataframe\">\n",
       "  <thead>\n",
       "    <tr style=\"text-align: right;\">\n",
       "      <th></th>\n",
       "      <th>counts</th>\n",
       "    </tr>\n",
       "  </thead>\n",
       "  <tbody>\n",
       "    <tr>\n",
       "      <th>2015-11-01</th>\n",
       "      <td>15652</td>\n",
       "    </tr>\n",
       "    <tr>\n",
       "      <th>2015-11-02</th>\n",
       "      <td>16596</td>\n",
       "    </tr>\n",
       "    <tr>\n",
       "      <th>2015-11-03</th>\n",
       "      <td>15918</td>\n",
       "    </tr>\n",
       "    <tr>\n",
       "      <th>2015-11-04</th>\n",
       "      <td>16363</td>\n",
       "    </tr>\n",
       "    <tr>\n",
       "      <th>2015-11-05</th>\n",
       "      <td>16619</td>\n",
       "    </tr>\n",
       "    <tr>\n",
       "      <th>2015-11-06</th>\n",
       "      <td>16600</td>\n",
       "    </tr>\n",
       "    <tr>\n",
       "      <th>2015-11-07</th>\n",
       "      <td>12793</td>\n",
       "    </tr>\n",
       "    <tr>\n",
       "      <th>2015-11-08</th>\n",
       "      <td>15679</td>\n",
       "    </tr>\n",
       "  </tbody>\n",
       "</table>\n",
       "</div>"
      ],
      "text/plain": [
       "            counts\n",
       "2015-11-01   15652\n",
       "2015-11-02   16596\n",
       "2015-11-03   15918\n",
       "2015-11-04   16363\n",
       "2015-11-05   16619\n",
       "2015-11-06   16600\n",
       "2015-11-07   12793\n",
       "2015-11-08   15679"
      ]
     },
     "execution_count": 10,
     "metadata": {},
     "output_type": "execute_result"
    }
   ],
   "source": [
    "# create time-series of airtraffic counts\n",
    "ts_flightcounts = pd.DataFrame(df_data['time'].value_counts()).rename(columns={'time':'counts'})\n",
    "ts_flightcounts.index = ts_flightcounts.index.to_datetime()\n",
    "ts_flightcounts.sort_index(inplace=True) # need to sort by date\n",
    "ts_flightcounts.head(8)"
   ]
  },
  {
   "cell_type": "code",
   "execution_count": 11,
   "metadata": {
    "collapsed": false,
    "run_control": {
     "frozen": false,
     "read_only": false
    }
   },
   "outputs": [
    {
     "data": {
      "text/html": [
       "<div>\n",
       "<table border=\"1\" class=\"dataframe\">\n",
       "  <thead>\n",
       "    <tr style=\"text-align: right;\">\n",
       "      <th></th>\n",
       "      <th>counts</th>\n",
       "      <th>day</th>\n",
       "      <th>month</th>\n",
       "      <th>day_of_week</th>\n",
       "    </tr>\n",
       "  </thead>\n",
       "  <tbody>\n",
       "    <tr>\n",
       "      <th>2015-11-01</th>\n",
       "      <td>15652</td>\n",
       "      <td>1</td>\n",
       "      <td>11</td>\n",
       "      <td>6</td>\n",
       "    </tr>\n",
       "    <tr>\n",
       "      <th>2015-11-02</th>\n",
       "      <td>16596</td>\n",
       "      <td>2</td>\n",
       "      <td>11</td>\n",
       "      <td>0</td>\n",
       "    </tr>\n",
       "    <tr>\n",
       "      <th>2015-11-03</th>\n",
       "      <td>15918</td>\n",
       "      <td>3</td>\n",
       "      <td>11</td>\n",
       "      <td>1</td>\n",
       "    </tr>\n",
       "    <tr>\n",
       "      <th>2015-11-04</th>\n",
       "      <td>16363</td>\n",
       "      <td>4</td>\n",
       "      <td>11</td>\n",
       "      <td>2</td>\n",
       "    </tr>\n",
       "    <tr>\n",
       "      <th>2015-11-05</th>\n",
       "      <td>16619</td>\n",
       "      <td>5</td>\n",
       "      <td>11</td>\n",
       "      <td>3</td>\n",
       "    </tr>\n",
       "  </tbody>\n",
       "</table>\n",
       "</div>"
      ],
      "text/plain": [
       "            counts  day  month  day_of_week\n",
       "2015-11-01   15652    1     11            6\n",
       "2015-11-02   16596    2     11            0\n",
       "2015-11-03   15918    3     11            1\n",
       "2015-11-04   16363    4     11            2\n",
       "2015-11-05   16619    5     11            3"
      ]
     },
     "execution_count": 11,
     "metadata": {},
     "output_type": "execute_result"
    }
   ],
   "source": [
    "# explicitly add extra date-info as dataframe columns (to apply `groupby` later)\n",
    "ts_flightcounts['day']= ts_flightcounts.index.day\n",
    "ts_flightcounts['month']= ts_flightcounts.index.month\n",
    "ts_flightcounts['day_of_week'] = ts_flightcounts.index.dayofweek\n",
    "\n",
    "ts_flightcounts.head()"
   ]
  },
  {
   "cell_type": "code",
   "execution_count": 12,
   "metadata": {
    "collapsed": false,
    "run_control": {
     "frozen": false,
     "read_only": false
    }
   },
   "outputs": [
    {
     "data": {
      "text/html": [
       "<div>\n",
       "<table border=\"1\" class=\"dataframe\">\n",
       "  <thead>\n",
       "    <tr style=\"text-align: right;\">\n",
       "      <th></th>\n",
       "      <th>counts</th>\n",
       "      <th>day</th>\n",
       "      <th>month</th>\n",
       "      <th>day_of_week</th>\n",
       "    </tr>\n",
       "  </thead>\n",
       "  <tbody>\n",
       "    <tr>\n",
       "      <th>2015-11-01</th>\n",
       "      <td>15652</td>\n",
       "      <td>1</td>\n",
       "      <td>11</td>\n",
       "      <td>Sun</td>\n",
       "    </tr>\n",
       "    <tr>\n",
       "      <th>2015-11-02</th>\n",
       "      <td>16596</td>\n",
       "      <td>2</td>\n",
       "      <td>11</td>\n",
       "      <td>Mon</td>\n",
       "    </tr>\n",
       "    <tr>\n",
       "      <th>2015-11-03</th>\n",
       "      <td>15918</td>\n",
       "      <td>3</td>\n",
       "      <td>11</td>\n",
       "      <td>Tue</td>\n",
       "    </tr>\n",
       "    <tr>\n",
       "      <th>2015-11-04</th>\n",
       "      <td>16363</td>\n",
       "      <td>4</td>\n",
       "      <td>11</td>\n",
       "      <td>Wed</td>\n",
       "    </tr>\n",
       "    <tr>\n",
       "      <th>2015-11-05</th>\n",
       "      <td>16619</td>\n",
       "      <td>5</td>\n",
       "      <td>11</td>\n",
       "      <td>Thu</td>\n",
       "    </tr>\n",
       "  </tbody>\n",
       "</table>\n",
       "</div>"
      ],
      "text/plain": [
       "            counts  day  month day_of_week\n",
       "2015-11-01   15652    1     11         Sun\n",
       "2015-11-02   16596    2     11         Mon\n",
       "2015-11-03   15918    3     11         Tue\n",
       "2015-11-04   16363    4     11         Wed\n",
       "2015-11-05   16619    5     11         Thu"
      ]
     },
     "execution_count": 12,
     "metadata": {},
     "output_type": "execute_result"
    }
   ],
   "source": [
    "# `dayofweek` uses encoding Monday=0 ... Sunday=6...make this explicit\n",
    "ts_flightcounts['day_of_week'] = ts_flightcounts['day_of_week'].map({0:'Mon',\n",
    "                                                                     1:'Tue',\n",
    "                                                                     2:'Wed',\n",
    "                                                                     3:'Thu',\n",
    "                                                                     4:'Fri',\n",
    "                                                                     5:'Sat',\n",
    "                                                                     6:'Sun'}).astype(str)\n",
    "\n",
    "ts_flightcounts.head()"
   ]
  },
  {
   "cell_type": "code",
   "execution_count": 13,
   "metadata": {
    "collapsed": false,
    "run_control": {
     "frozen": false,
     "read_only": false
    }
   },
   "outputs": [
    {
     "name": "stdout",
     "output_type": "stream",
     "text": [
      "['11/1 (Sun)', '11/2 (Mon)', '11/3 (Tue)', '11/4 (Wed)', '11/5 (Thu)']\n"
     ]
    }
   ],
   "source": [
    "# create hover_text object for plotly\n",
    "hover_text= (\n",
    "    ts_flightcounts['month'].astype(str) \n",
    "    + '/' \n",
    "    + ts_flightcounts['day'].astype(str)\n",
    "    + ' (' + ts_flightcounts['day_of_week'] + ')'\n",
    ").tolist()\n",
    "print hover_text[:5]"
   ]
  },
  {
   "cell_type": "markdown",
   "metadata": {},
   "source": [
    "## Create interactive plot with plotly/cufflinks\n",
    "\n",
    "- I am a huge fan of [plotly](http://plot.ly/python/)...brings the distance between the data and user closer together :)\n"
   ]
  },
  {
   "cell_type": "code",
   "execution_count": 14,
   "metadata": {
    "collapsed": false,
    "run_control": {
     "frozen": false,
     "read_only": false
    }
   },
   "outputs": [
    {
     "data": {
      "text/html": [
       "<iframe id=\"igraph\" scrolling=\"no\" style=\"border:none;\" seamless=\"seamless\" src=\"https://plot.ly/~takanori/1367.embed\" height=\"525px\" width=\"100%\"></iframe>"
      ],
      "text/plain": [
       "<plotly.tools.PlotlyDisplay object>"
      ]
     },
     "execution_count": 14,
     "metadata": {},
     "output_type": "execute_result"
    }
   ],
   "source": [
    "# see https://plot.ly/pandas/line-charts/\n",
    "plt_options = dict(text=hover_text,color='pink')\n",
    "title = 'Daily Airflight Counts in the US between 11/1/2015 - 10/31/2016'\n",
    "title+= '<br>(hover over plot for dates; left-click to zoom)'\n",
    "\n",
    "ts_flightcounts.iplot(y='counts',\n",
    "                      filename=outfile+'plot_flightcounts',\n",
    "                      title=title,\n",
    "                      **plt_options)"
   ]
  },
  {
   "cell_type": "markdown",
   "metadata": {},
   "source": [
    "- From the above time-series plot, we can see that the trend in the Flight-counts looks to be obscured by the effect from the ``day_of_week``\n",
    "\n"
   ]
  },
  {
   "cell_type": "markdown",
   "metadata": {},
   "source": [
    "## Flight counts tend to be less on Saturdays\n",
    "\n",
    "- below I made a few barplots of flight-counts by weekdays\n",
    "- cleary, Saturday tends to have smaller flight-counts\n",
    "- while this was somewhat expected, it's always nice to have the data reaffirm your intuition\n"
   ]
  },
  {
   "cell_type": "code",
   "execution_count": 15,
   "metadata": {
    "collapsed": false,
    "run_control": {
     "frozen": false,
     "read_only": false
    }
   },
   "outputs": [
    {
     "data": {
      "text/html": [
       "<iframe id=\"igraph\" scrolling=\"no\" style=\"border:none;\" seamless=\"seamless\" src=\"https://plot.ly/~takanori/1429.embed\" height=\"525px\" width=\"100%\"></iframe>"
      ],
      "text/plain": [
       "<plotly.tools.PlotlyDisplay object>"
      ]
     },
     "execution_count": 15,
     "metadata": {},
     "output_type": "execute_result"
    }
   ],
   "source": [
    "df_data['DAY_OF_WEEK'].value_counts().iplot(kind='bar',title='US Flight-Counts by Week-days (1 year period)')"
   ]
  },
  {
   "cell_type": "code",
   "execution_count": 16,
   "metadata": {
    "collapsed": true,
    "run_control": {
     "frozen": false,
     "read_only": false
    }
   },
   "outputs": [],
   "source": [
    "df_counts_month = df_data.groupby(['MONTH','DAY_OF_WEEK',])['YEAR'].count().unstack()\n",
    "df_counts_month = df_counts_month[['Sun','Mon','Tue','Wed','Thu','Fri','Sat']] # reorder columns"
   ]
  },
  {
   "cell_type": "code",
   "execution_count": 79,
   "metadata": {
    "collapsed": false,
    "run_control": {
     "frozen": false,
     "read_only": false
    }
   },
   "outputs": [
    {
     "ename": "TypeError",
     "evalue": "list indices must be integers, not str",
     "output_type": "error",
     "traceback": [
      "\u001b[1;31m---------------------------------------------------------------------------\u001b[0m",
      "\u001b[1;31mTypeError\u001b[0m                                 Traceback (most recent call last)",
      "\u001b[1;32m<ipython-input-79-be6f2720ba93>\u001b[0m in \u001b[0;36m<module>\u001b[1;34m()\u001b[0m\n\u001b[1;32m----> 1\u001b[1;33m \u001b[0mdf_counts_month\u001b[0m\u001b[1;33m.\u001b[0m\u001b[0mindex\u001b[0m \u001b[1;33m=\u001b[0m \u001b[0mdf_counts_month\u001b[0m\u001b[1;33m.\u001b[0m\u001b[0mindex\u001b[0m\u001b[1;33m.\u001b[0m\u001b[0mmap\u001b[0m\u001b[1;33m(\u001b[0m\u001b[1;32mlambda\u001b[0m \u001b[0mnum\u001b[0m\u001b[1;33m:\u001b[0m \u001b[0mcalendar\u001b[0m\u001b[1;33m.\u001b[0m\u001b[0mmonth_abbr\u001b[0m\u001b[1;33m[\u001b[0m\u001b[0mnum\u001b[0m\u001b[1;33m]\u001b[0m\u001b[1;33m)\u001b[0m\u001b[1;33m\u001b[0m\u001b[0m\n\u001b[0m\u001b[0;32m      2\u001b[0m \u001b[0mdf_counts_month\u001b[0m\u001b[1;33m\u001b[0m\u001b[0m\n",
      "\u001b[1;32mC:\\Users\\takanori\\Anaconda2\\lib\\site-packages\\pandas\\indexes\\base.pyc\u001b[0m in \u001b[0;36mmap\u001b[1;34m(self, mapper)\u001b[0m\n\u001b[0;32m   2238\u001b[0m         \u001b[0mapplied\u001b[0m \u001b[1;33m:\u001b[0m \u001b[0marray\u001b[0m\u001b[1;33m\u001b[0m\u001b[0m\n\u001b[0;32m   2239\u001b[0m         \"\"\"\n\u001b[1;32m-> 2240\u001b[1;33m         \u001b[1;32mreturn\u001b[0m \u001b[0mself\u001b[0m\u001b[1;33m.\u001b[0m\u001b[0m_arrmap\u001b[0m\u001b[1;33m(\u001b[0m\u001b[0mself\u001b[0m\u001b[1;33m.\u001b[0m\u001b[0mvalues\u001b[0m\u001b[1;33m,\u001b[0m \u001b[0mmapper\u001b[0m\u001b[1;33m)\u001b[0m\u001b[1;33m\u001b[0m\u001b[0m\n\u001b[0m\u001b[0;32m   2241\u001b[0m \u001b[1;33m\u001b[0m\u001b[0m\n\u001b[0;32m   2242\u001b[0m     \u001b[1;32mdef\u001b[0m \u001b[0misin\u001b[0m\u001b[1;33m(\u001b[0m\u001b[0mself\u001b[0m\u001b[1;33m,\u001b[0m \u001b[0mvalues\u001b[0m\u001b[1;33m,\u001b[0m \u001b[0mlevel\u001b[0m\u001b[1;33m=\u001b[0m\u001b[0mNone\u001b[0m\u001b[1;33m)\u001b[0m\u001b[1;33m:\u001b[0m\u001b[1;33m\u001b[0m\u001b[0m\n",
      "\u001b[1;32mpandas\\src\\generated.pyx\u001b[0m in \u001b[0;36mpandas.algos.arrmap_object (pandas\\algos.c:93349)\u001b[1;34m()\u001b[0m\n",
      "\u001b[1;32m<ipython-input-79-be6f2720ba93>\u001b[0m in \u001b[0;36m<lambda>\u001b[1;34m(num)\u001b[0m\n\u001b[1;32m----> 1\u001b[1;33m \u001b[0mdf_counts_month\u001b[0m\u001b[1;33m.\u001b[0m\u001b[0mindex\u001b[0m \u001b[1;33m=\u001b[0m \u001b[0mdf_counts_month\u001b[0m\u001b[1;33m.\u001b[0m\u001b[0mindex\u001b[0m\u001b[1;33m.\u001b[0m\u001b[0mmap\u001b[0m\u001b[1;33m(\u001b[0m\u001b[1;32mlambda\u001b[0m \u001b[0mnum\u001b[0m\u001b[1;33m:\u001b[0m \u001b[0mcalendar\u001b[0m\u001b[1;33m.\u001b[0m\u001b[0mmonth_abbr\u001b[0m\u001b[1;33m[\u001b[0m\u001b[0mnum\u001b[0m\u001b[1;33m]\u001b[0m\u001b[1;33m)\u001b[0m\u001b[1;33m\u001b[0m\u001b[0m\n\u001b[0m\u001b[0;32m      2\u001b[0m \u001b[0mdf_counts_month\u001b[0m\u001b[1;33m\u001b[0m\u001b[0m\n",
      "\u001b[1;32mC:\\Users\\takanori\\Anaconda2\\lib\\calendar.pyc\u001b[0m in \u001b[0;36m__getitem__\u001b[1;34m(self, i)\u001b[0m\n\u001b[0;32m     54\u001b[0m \u001b[1;33m\u001b[0m\u001b[0m\n\u001b[0;32m     55\u001b[0m     \u001b[1;32mdef\u001b[0m \u001b[0m__getitem__\u001b[0m\u001b[1;33m(\u001b[0m\u001b[0mself\u001b[0m\u001b[1;33m,\u001b[0m \u001b[0mi\u001b[0m\u001b[1;33m)\u001b[0m\u001b[1;33m:\u001b[0m\u001b[1;33m\u001b[0m\u001b[0m\n\u001b[1;32m---> 56\u001b[1;33m         \u001b[0mfuncs\u001b[0m \u001b[1;33m=\u001b[0m \u001b[0mself\u001b[0m\u001b[1;33m.\u001b[0m\u001b[0m_months\u001b[0m\u001b[1;33m[\u001b[0m\u001b[0mi\u001b[0m\u001b[1;33m]\u001b[0m\u001b[1;33m\u001b[0m\u001b[0m\n\u001b[0m\u001b[0;32m     57\u001b[0m         \u001b[1;32mif\u001b[0m \u001b[0misinstance\u001b[0m\u001b[1;33m(\u001b[0m\u001b[0mi\u001b[0m\u001b[1;33m,\u001b[0m \u001b[0mslice\u001b[0m\u001b[1;33m)\u001b[0m\u001b[1;33m:\u001b[0m\u001b[1;33m\u001b[0m\u001b[0m\n\u001b[0;32m     58\u001b[0m             \u001b[1;32mreturn\u001b[0m \u001b[1;33m[\u001b[0m\u001b[0mf\u001b[0m\u001b[1;33m(\u001b[0m\u001b[0mself\u001b[0m\u001b[1;33m.\u001b[0m\u001b[0mformat\u001b[0m\u001b[1;33m)\u001b[0m \u001b[1;32mfor\u001b[0m \u001b[0mf\u001b[0m \u001b[1;32min\u001b[0m \u001b[0mfuncs\u001b[0m\u001b[1;33m]\u001b[0m\u001b[1;33m\u001b[0m\u001b[0m\n",
      "\u001b[1;31mTypeError\u001b[0m: list indices must be integers, not str"
     ]
    }
   ],
   "source": [
    "df_counts_month.index = df_counts_month.index.map(lambda num: calendar.month_abbr[num])\n",
    "df_counts_month"
   ]
  },
  {
   "cell_type": "markdown",
   "metadata": {},
   "source": [
    "- the trend of Saturday having the smallest airflights holds generally true for each month\n",
    "- intereting exceptions at **January** and **July**...perhaps this is a common vacation period (so businessday trend is eliminated)?\n",
    "- for example, maybe there tends to be more family trips since children is on school vacation"
   ]
  },
  {
   "cell_type": "code",
   "execution_count": 19,
   "metadata": {
    "collapsed": false,
    "run_control": {
     "frozen": false,
     "read_only": false
    }
   },
   "outputs": [
    {
     "data": {
      "text/html": [
       "<iframe id=\"igraph\" scrolling=\"no\" style=\"border:none;\" seamless=\"seamless\" src=\"https://plot.ly/~takanori/1437.embed\" height=\"525px\" width=\"100%\"></iframe>"
      ],
      "text/plain": [
       "<plotly.tools.PlotlyDisplay object>"
      ]
     },
     "execution_count": 19,
     "metadata": {},
     "output_type": "execute_result"
    }
   ],
   "source": [
    "title='US Flight-Counts by Months by Week-days (11/1/2015 - 10/31/2016)'\n",
    "df_counts_month.iplot(kind='bar',title=title,xTitle='Month',yTitle='Counts')"
   ]
  },
  {
   "cell_type": "markdown",
   "metadata": {},
   "source": [
    "# Repeat analysis for NY, LA, Houston.\n",
    "\n",
    "- Now I'm curious to see what the trend looks like in major cities.\n",
    "\n",
    "- Let's repeat the above analysis for NY, LA, and Houston (selected these cities since these are cities with large population that are geographically far apart from each other)\n"
   ]
  },
  {
   "cell_type": "code",
   "execution_count": 20,
   "metadata": {
    "collapsed": false,
    "run_control": {
     "frozen": false,
     "read_only": false
    }
   },
   "outputs": [
    {
     "data": {
      "text/html": [
       "<div>\n",
       "<table border=\"1\" class=\"dataframe\">\n",
       "  <thead>\n",
       "    <tr style=\"text-align: right;\">\n",
       "      <th></th>\n",
       "      <th>Code</th>\n",
       "      <th>Description</th>\n",
       "      <th>Airport</th>\n",
       "      <th>City</th>\n",
       "      <th>State</th>\n",
       "      <th>lat</th>\n",
       "      <th>lon</th>\n",
       "      <th>latlon</th>\n",
       "      <th>City_State</th>\n",
       "    </tr>\n",
       "  </thead>\n",
       "  <tbody>\n",
       "    <tr>\n",
       "      <th>95</th>\n",
       "      <td>11495</td>\n",
       "      <td>Houston, TX: Ellington</td>\n",
       "      <td>Ellington</td>\n",
       "      <td>Houston</td>\n",
       "      <td>TX</td>\n",
       "      <td>29.760427</td>\n",
       "      <td>-95.369803</td>\n",
       "      <td>(29.7604267, -95.369802799999988)</td>\n",
       "      <td>Houston (TX) [Ell]</td>\n",
       "    </tr>\n",
       "    <tr>\n",
       "      <th>142</th>\n",
       "      <td>12191</td>\n",
       "      <td>Houston, TX: William P Hobby</td>\n",
       "      <td>William P Hobby</td>\n",
       "      <td>Houston</td>\n",
       "      <td>TX</td>\n",
       "      <td>29.652951</td>\n",
       "      <td>-95.276651</td>\n",
       "      <td>(29.6529506, -95.276650700000005)</td>\n",
       "      <td>Houston (TX) [WP.Hobby]</td>\n",
       "    </tr>\n",
       "    <tr>\n",
       "      <th>150</th>\n",
       "      <td>12266</td>\n",
       "      <td>Houston, TX: George Bush Intercontinental/Houston</td>\n",
       "      <td>George Bush Intercontinental/Houston</td>\n",
       "      <td>Houston</td>\n",
       "      <td>TX</td>\n",
       "      <td>29.990220</td>\n",
       "      <td>-95.336783</td>\n",
       "      <td>(29.990219899999996, -95.336782700000001)</td>\n",
       "      <td>Houston (TX) [G.Bush]</td>\n",
       "    </tr>\n",
       "    <tr>\n",
       "      <th>164</th>\n",
       "      <td>12478</td>\n",
       "      <td>New York, NY: John F. Kennedy International</td>\n",
       "      <td>John F. Kennedy International</td>\n",
       "      <td>New York</td>\n",
       "      <td>NY</td>\n",
       "      <td>40.641311</td>\n",
       "      <td>-73.778139</td>\n",
       "      <td>(40.641311100000003, -73.77813909999999)</td>\n",
       "      <td>New York (NY) [JFK]</td>\n",
       "    </tr>\n",
       "    <tr>\n",
       "      <th>174</th>\n",
       "      <td>12892</td>\n",
       "      <td>Los Angeles, CA: Los Angeles International</td>\n",
       "      <td>Los Angeles International</td>\n",
       "      <td>Los Angeles</td>\n",
       "      <td>CA</td>\n",
       "      <td>33.941589</td>\n",
       "      <td>-118.408530</td>\n",
       "      <td>(33.941588899999999, -118.40853)</td>\n",
       "      <td>Los Angeles (CA)</td>\n",
       "    </tr>\n",
       "    <tr>\n",
       "      <th>180</th>\n",
       "      <td>12953</td>\n",
       "      <td>New York, NY: LaGuardia</td>\n",
       "      <td>LaGuardia</td>\n",
       "      <td>New York</td>\n",
       "      <td>NY</td>\n",
       "      <td>40.776927</td>\n",
       "      <td>-73.873966</td>\n",
       "      <td>(40.776927100000002, -73.873965900000016)</td>\n",
       "      <td>New York (NY) [Lag]</td>\n",
       "    </tr>\n",
       "  </tbody>\n",
       "</table>\n",
       "</div>"
      ],
      "text/plain": [
       "      Code                                        Description  \\\n",
       "95   11495                             Houston, TX: Ellington   \n",
       "142  12191                       Houston, TX: William P Hobby   \n",
       "150  12266  Houston, TX: George Bush Intercontinental/Houston   \n",
       "164  12478        New York, NY: John F. Kennedy International   \n",
       "174  12892         Los Angeles, CA: Los Angeles International   \n",
       "180  12953                            New York, NY: LaGuardia   \n",
       "\n",
       "                                  Airport         City State        lat  \\\n",
       "95                              Ellington      Houston    TX  29.760427   \n",
       "142                       William P Hobby      Houston    TX  29.652951   \n",
       "150  George Bush Intercontinental/Houston      Houston    TX  29.990220   \n",
       "164         John F. Kennedy International     New York    NY  40.641311   \n",
       "174             Los Angeles International  Los Angeles    CA  33.941589   \n",
       "180                             LaGuardia     New York    NY  40.776927   \n",
       "\n",
       "            lon                                     latlon  \\\n",
       "95   -95.369803          (29.7604267, -95.369802799999988)   \n",
       "142  -95.276651          (29.6529506, -95.276650700000005)   \n",
       "150  -95.336783  (29.990219899999996, -95.336782700000001)   \n",
       "164  -73.778139   (40.641311100000003, -73.77813909999999)   \n",
       "174 -118.408530           (33.941588899999999, -118.40853)   \n",
       "180  -73.873966  (40.776927100000002, -73.873965900000016)   \n",
       "\n",
       "                  City_State  \n",
       "95        Houston (TX) [Ell]  \n",
       "142  Houston (TX) [WP.Hobby]  \n",
       "150    Houston (TX) [G.Bush]  \n",
       "164      New York (NY) [JFK]  \n",
       "174         Los Angeles (CA)  \n",
       "180      New York (NY) [Lag]  "
      ]
     },
     "execution_count": 20,
     "metadata": {},
     "output_type": "execute_result"
    }
   ],
   "source": [
    "cities = ['New York','Los Angeles','Houston']\n",
    "\n",
    "# get AIRPORT_ID codes corresponding to the above three cities\n",
    "df_lookup[ df_lookup['City'].isin(cities) ]"
   ]
  },
  {
   "cell_type": "markdown",
   "metadata": {},
   "source": [
    "- Well, both Houston and NY have multiple major airport.\n",
    "\n",
    "- For the sake of simplicity of our analysis, we'll pool the flight counts from these airports."
   ]
  },
  {
   "cell_type": "code",
   "execution_count": 64,
   "metadata": {
    "collapsed": false,
    "run_control": {
     "frozen": false,
     "read_only": false
    },
    "scrolled": true
   },
   "outputs": [
    {
     "name": "stdout",
     "output_type": "stream",
     "text": [
      "New York\n"
     ]
    },
    {
     "data": {
      "text/html": [
       "<div>\n",
       "<table border=\"1\" class=\"dataframe\">\n",
       "  <thead>\n",
       "    <tr style=\"text-align: right;\">\n",
       "      <th></th>\n",
       "      <th>YEAR</th>\n",
       "      <th>QUARTER</th>\n",
       "      <th>MONTH</th>\n",
       "      <th>DAY_OF_MONTH</th>\n",
       "      <th>DAY_OF_WEEK</th>\n",
       "      <th>ORIGIN_AIRPORT_ID</th>\n",
       "      <th>DEST_AIRPORT_ID</th>\n",
       "      <th>time</th>\n",
       "    </tr>\n",
       "  </thead>\n",
       "  <tbody>\n",
       "    <tr>\n",
       "      <th>457403</th>\n",
       "      <td>2016</td>\n",
       "      <td>1</td>\n",
       "      <td>3</td>\n",
       "      <td>27</td>\n",
       "      <td>Sun</td>\n",
       "      <td>12953</td>\n",
       "      <td>13232</td>\n",
       "      <td>2016-3-27</td>\n",
       "    </tr>\n",
       "    <tr>\n",
       "      <th>397311</th>\n",
       "      <td>2016</td>\n",
       "      <td>2</td>\n",
       "      <td>5</td>\n",
       "      <td>10</td>\n",
       "      <td>Tue</td>\n",
       "      <td>12953</td>\n",
       "      <td>11259</td>\n",
       "      <td>2016-5-10</td>\n",
       "    </tr>\n",
       "    <tr>\n",
       "      <th>106627</th>\n",
       "      <td>2016</td>\n",
       "      <td>1</td>\n",
       "      <td>3</td>\n",
       "      <td>23</td>\n",
       "      <td>Wed</td>\n",
       "      <td>12478</td>\n",
       "      <td>12892</td>\n",
       "      <td>2016-3-23</td>\n",
       "    </tr>\n",
       "  </tbody>\n",
       "</table>\n",
       "</div>"
      ],
      "text/plain": [
       "        YEAR  QUARTER  MONTH  DAY_OF_MONTH DAY_OF_WEEK  ORIGIN_AIRPORT_ID  \\\n",
       "457403  2016        1      3            27         Sun              12953   \n",
       "397311  2016        2      5            10         Tue              12953   \n",
       "106627  2016        1      3            23         Wed              12478   \n",
       "\n",
       "        DEST_AIRPORT_ID       time  \n",
       "457403            13232  2016-3-27  \n",
       "397311            11259  2016-5-10  \n",
       "106627            12892  2016-3-23  "
      ]
     },
     "metadata": {},
     "output_type": "display_data"
    },
    {
     "name": "stdout",
     "output_type": "stream",
     "text": [
      "Los Angeles\n"
     ]
    },
    {
     "data": {
      "text/html": [
       "<div>\n",
       "<table border=\"1\" class=\"dataframe\">\n",
       "  <thead>\n",
       "    <tr style=\"text-align: right;\">\n",
       "      <th></th>\n",
       "      <th>YEAR</th>\n",
       "      <th>QUARTER</th>\n",
       "      <th>MONTH</th>\n",
       "      <th>DAY_OF_MONTH</th>\n",
       "      <th>DAY_OF_WEEK</th>\n",
       "      <th>ORIGIN_AIRPORT_ID</th>\n",
       "      <th>DEST_AIRPORT_ID</th>\n",
       "      <th>time</th>\n",
       "    </tr>\n",
       "  </thead>\n",
       "  <tbody>\n",
       "    <tr>\n",
       "      <th>465803</th>\n",
       "      <td>2016</td>\n",
       "      <td>3</td>\n",
       "      <td>7</td>\n",
       "      <td>23</td>\n",
       "      <td>Sat</td>\n",
       "      <td>14107</td>\n",
       "      <td>12892</td>\n",
       "      <td>2016-7-23</td>\n",
       "    </tr>\n",
       "    <tr>\n",
       "      <th>340102</th>\n",
       "      <td>2016</td>\n",
       "      <td>3</td>\n",
       "      <td>7</td>\n",
       "      <td>25</td>\n",
       "      <td>Mon</td>\n",
       "      <td>10821</td>\n",
       "      <td>12892</td>\n",
       "      <td>2016-7-25</td>\n",
       "    </tr>\n",
       "    <tr>\n",
       "      <th>353543</th>\n",
       "      <td>2016</td>\n",
       "      <td>4</td>\n",
       "      <td>10</td>\n",
       "      <td>16</td>\n",
       "      <td>Sun</td>\n",
       "      <td>12892</td>\n",
       "      <td>12264</td>\n",
       "      <td>2016-10-16</td>\n",
       "    </tr>\n",
       "  </tbody>\n",
       "</table>\n",
       "</div>"
      ],
      "text/plain": [
       "        YEAR  QUARTER  MONTH  DAY_OF_MONTH DAY_OF_WEEK  ORIGIN_AIRPORT_ID  \\\n",
       "465803  2016        3      7            23         Sat              14107   \n",
       "340102  2016        3      7            25         Mon              10821   \n",
       "353543  2016        4     10            16         Sun              12892   \n",
       "\n",
       "        DEST_AIRPORT_ID        time  \n",
       "465803            12892   2016-7-23  \n",
       "340102            12892   2016-7-25  \n",
       "353543            12264  2016-10-16  "
      ]
     },
     "metadata": {},
     "output_type": "display_data"
    },
    {
     "name": "stdout",
     "output_type": "stream",
     "text": [
      "Houston\n"
     ]
    },
    {
     "data": {
      "text/html": [
       "<div>\n",
       "<table border=\"1\" class=\"dataframe\">\n",
       "  <thead>\n",
       "    <tr style=\"text-align: right;\">\n",
       "      <th></th>\n",
       "      <th>YEAR</th>\n",
       "      <th>QUARTER</th>\n",
       "      <th>MONTH</th>\n",
       "      <th>DAY_OF_MONTH</th>\n",
       "      <th>DAY_OF_WEEK</th>\n",
       "      <th>ORIGIN_AIRPORT_ID</th>\n",
       "      <th>DEST_AIRPORT_ID</th>\n",
       "      <th>time</th>\n",
       "    </tr>\n",
       "  </thead>\n",
       "  <tbody>\n",
       "    <tr>\n",
       "      <th>295249</th>\n",
       "      <td>2016</td>\n",
       "      <td>3</td>\n",
       "      <td>9</td>\n",
       "      <td>29</td>\n",
       "      <td>Thu</td>\n",
       "      <td>12266</td>\n",
       "      <td>14679</td>\n",
       "      <td>2016-9-29</td>\n",
       "    </tr>\n",
       "    <tr>\n",
       "      <th>237403</th>\n",
       "      <td>2016</td>\n",
       "      <td>2</td>\n",
       "      <td>5</td>\n",
       "      <td>4</td>\n",
       "      <td>Wed</td>\n",
       "      <td>12266</td>\n",
       "      <td>14771</td>\n",
       "      <td>2016-5-4</td>\n",
       "    </tr>\n",
       "    <tr>\n",
       "      <th>327047</th>\n",
       "      <td>2016</td>\n",
       "      <td>4</td>\n",
       "      <td>10</td>\n",
       "      <td>16</td>\n",
       "      <td>Sun</td>\n",
       "      <td>12266</td>\n",
       "      <td>13495</td>\n",
       "      <td>2016-10-16</td>\n",
       "    </tr>\n",
       "  </tbody>\n",
       "</table>\n",
       "</div>"
      ],
      "text/plain": [
       "        YEAR  QUARTER  MONTH  DAY_OF_MONTH DAY_OF_WEEK  ORIGIN_AIRPORT_ID  \\\n",
       "295249  2016        3      9            29         Thu              12266   \n",
       "237403  2016        2      5             4         Wed              12266   \n",
       "327047  2016        4     10            16         Sun              12266   \n",
       "\n",
       "        DEST_AIRPORT_ID        time  \n",
       "295249            14679   2016-9-29  \n",
       "237403            14771    2016-5-4  \n",
       "327047            13495  2016-10-16  "
      ]
     },
     "metadata": {},
     "output_type": "display_data"
    }
   ],
   "source": [
    "cities = ['New York','Los Angeles','Houston']\n",
    "city_codes = {'New York':[12478, 12953],\n",
    "              'Los Angeles' : [12892],\n",
    "               'Houston' : [11495,12191,12266]}\n",
    "\n",
    "def filter_by_codelist(df_data,code_list):\n",
    "    mask1 = df_data['ORIGIN_AIRPORT_ID'].isin(code_list)\n",
    "    mask2 = df_data['DEST_AIRPORT_ID'].isin(code_list)\n",
    "    return df_data[mask1 | mask2]\n",
    "\n",
    "df_data_city = {city:[] for city in cities}\n",
    "\n",
    "for city in cities:\n",
    "    print city\n",
    "    city_code = city_codes[city]\n",
    "    df_data_city[city] = filter_by_codelist(df_data, city_code)\n",
    "    \n",
    "    # sanity check\n",
    "    display(df_data_city[city].sample(3))\n",
    "    \n"
   ]
  },
  {
   "cell_type": "markdown",
   "metadata": {},
   "source": [
    "## Result plots"
   ]
  },
  {
   "cell_type": "code",
   "execution_count": 22,
   "metadata": {
    "collapsed": false,
    "run_control": {
     "frozen": false,
     "read_only": false
    }
   },
   "outputs": [
    {
     "data": {
      "text/html": [
       "<div>\n",
       "<table border=\"1\" class=\"dataframe\">\n",
       "  <thead>\n",
       "    <tr style=\"text-align: right;\">\n",
       "      <th></th>\n",
       "      <th>Sun</th>\n",
       "      <th>Mon</th>\n",
       "      <th>Tue</th>\n",
       "      <th>Wed</th>\n",
       "      <th>Thu</th>\n",
       "      <th>Fri</th>\n",
       "      <th>Sat</th>\n",
       "    </tr>\n",
       "  </thead>\n",
       "  <tbody>\n",
       "    <tr>\n",
       "      <th>New York</th>\n",
       "      <td>54774</td>\n",
       "      <td>59836</td>\n",
       "      <td>57450</td>\n",
       "      <td>58018</td>\n",
       "      <td>58680</td>\n",
       "      <td>58437</td>\n",
       "      <td>43946</td>\n",
       "    </tr>\n",
       "    <tr>\n",
       "      <th>Los Angeles</th>\n",
       "      <td>60730</td>\n",
       "      <td>63463</td>\n",
       "      <td>60909</td>\n",
       "      <td>61503</td>\n",
       "      <td>62119</td>\n",
       "      <td>62430</td>\n",
       "      <td>51961</td>\n",
       "    </tr>\n",
       "    <tr>\n",
       "      <th>Houston</th>\n",
       "      <td>55733</td>\n",
       "      <td>59645</td>\n",
       "      <td>55493</td>\n",
       "      <td>57025</td>\n",
       "      <td>58124</td>\n",
       "      <td>58234</td>\n",
       "      <td>45377</td>\n",
       "    </tr>\n",
       "  </tbody>\n",
       "</table>\n",
       "</div>"
      ],
      "text/plain": [
       "               Sun    Mon    Tue    Wed    Thu    Fri    Sat\n",
       "New York     54774  59836  57450  58018  58680  58437  43946\n",
       "Los Angeles  60730  63463  60909  61503  62119  62430  51961\n",
       "Houston      55733  59645  55493  57025  58124  58234  45377"
      ]
     },
     "execution_count": 22,
     "metadata": {},
     "output_type": "execute_result"
    }
   ],
   "source": [
    "flight_counts = []\n",
    "for city in cities:\n",
    "    flight_counts.append(df_data_city[city]['DAY_OF_WEEK'].value_counts())\n",
    "    \n",
    "flight_counts = pd.DataFrame(flight_counts,index=cities)[['Sun','Mon','Tue','Wed','Thu','Fri','Sat']] # reorder columns\n",
    "flight_counts"
   ]
  },
  {
   "cell_type": "code",
   "execution_count": 23,
   "metadata": {
    "collapsed": false,
    "run_control": {
     "frozen": false,
     "read_only": false
    }
   },
   "outputs": [
    {
     "data": {
      "text/html": [
       "<iframe id=\"igraph\" scrolling=\"no\" style=\"border:none;\" seamless=\"seamless\" src=\"https://plot.ly/~takanori/1473.embed\" height=\"525px\" width=\"100%\"></iframe>"
      ],
      "text/plain": [
       "<plotly.tools.PlotlyDisplay object>"
      ]
     },
     "execution_count": 23,
     "metadata": {},
     "output_type": "execute_result"
    }
   ],
   "source": [
    "\n",
    "flight_counts.iplot(kind='bar')"
   ]
  },
  {
   "cell_type": "code",
   "execution_count": 24,
   "metadata": {
    "collapsed": false,
    "run_control": {
     "frozen": false,
     "read_only": false
    }
   },
   "outputs": [],
   "source": [
    "figs = {city:[] for city in cities}\n",
    "for city in cities:\n",
    "    figs[city] = df_data_city[city].\\\n",
    "        groupby(['MONTH','DAY_OF_WEEK',])['YEAR'].\\\n",
    "        count().unstack()[['Sun','Mon','Tue','Wed','Thu','Fri','Sat']].\\\n",
    "        iplot(kind='bar',title=city, xTitle='Month',yTitle='Counts',asFigure=True)\n"
   ]
  },
  {
   "cell_type": "code",
   "execution_count": 25,
   "metadata": {
    "collapsed": false,
    "run_control": {
     "frozen": false,
     "read_only": false
    }
   },
   "outputs": [
    {
     "data": {
      "text/html": [
       "<iframe id=\"igraph\" scrolling=\"no\" style=\"border:none;\" seamless=\"seamless\" src=\"https://plot.ly/~takanori/1475.embed?share_key=lsREjLD1QEtJco6iFMwh0f\" height=\"525px\" width=\"100%\"></iframe>"
      ],
      "text/plain": [
       "<plotly.tools.PlotlyDisplay object>"
      ]
     },
     "execution_count": 25,
     "metadata": {},
     "output_type": "execute_result"
    }
   ],
   "source": [
    "py.iplot(figs['New York'],title='New York')"
   ]
  },
  {
   "cell_type": "code",
   "execution_count": 26,
   "metadata": {
    "collapsed": false,
    "run_control": {
     "frozen": false,
     "read_only": false
    }
   },
   "outputs": [
    {
     "data": {
      "text/html": [
       "<iframe id=\"igraph\" scrolling=\"no\" style=\"border:none;\" seamless=\"seamless\" src=\"https://plot.ly/~takanori/1477.embed?share_key=Aii2uNdEEuUhDVVW4wzROy\" height=\"525px\" width=\"100%\"></iframe>"
      ],
      "text/plain": [
       "<plotly.tools.PlotlyDisplay object>"
      ]
     },
     "execution_count": 26,
     "metadata": {},
     "output_type": "execute_result"
    }
   ],
   "source": [
    "py.iplot(figs['Houston'],title='Houston')"
   ]
  },
  {
   "cell_type": "code",
   "execution_count": 27,
   "metadata": {
    "collapsed": false,
    "run_control": {
     "frozen": false,
     "read_only": false
    }
   },
   "outputs": [
    {
     "data": {
      "text/html": [
       "<iframe id=\"igraph\" scrolling=\"no\" style=\"border:none;\" seamless=\"seamless\" src=\"https://plot.ly/~takanori/1479.embed?share_key=K6pYaT7pHhKi4z9Euvruml\" height=\"525px\" width=\"100%\"></iframe>"
      ],
      "text/plain": [
       "<plotly.tools.PlotlyDisplay object>"
      ]
     },
     "execution_count": 27,
     "metadata": {},
     "output_type": "execute_result"
    }
   ],
   "source": [
    "py.iplot(figs['Los Angeles'],title='Los Angeles')"
   ]
  },
  {
   "cell_type": "markdown",
   "metadata": {},
   "source": [
    "# Which state had the most air traffics?\n"
   ]
  },
  {
   "cell_type": "code",
   "execution_count": 83,
   "metadata": {
    "collapsed": false,
    "run_control": {
     "frozen": false,
     "read_only": false
    }
   },
   "outputs": [
    {
     "name": "stdout",
     "output_type": "stream",
     "text": [
      "['AK', 'AL', 'AR', 'AZ', 'CA', 'CO', 'CT', 'DC']\n"
     ]
    }
   ],
   "source": [
    "states = sorted(list(df_lookup['State'].unique()))\n",
    "print states[:8]\n",
    "\n",
    "# initialize dict\n",
    "state_codes = {state:[] for state in states}\n",
    "for state in states:\n",
    "    # get AIRPORT_ID codes corresponding to this state\n",
    "    state_codes[state] = df_lookup[ df_lookup['State'] == state]['Code'].tolist()"
   ]
  },
  {
   "cell_type": "code",
   "execution_count": 84,
   "metadata": {
    "collapsed": false
   },
   "outputs": [
    {
     "name": "stdout",
     "output_type": "stream",
     "text": [
      "{'DC': [11278, 12264],\n",
      " 'VA': [10990, 13931, 14098, 14524, 14574],\n",
      " 'WA': [10666, 11884, 14252, 14747],\n",
      " 'WI': [10408, 11203, 11471, 11977, 13076, 13342, 13485, 14520],\n",
      " 'WV': [11146]}\n"
     ]
    }
   ],
   "source": [
    "pprint({k:state_codes[k] for k in state_codes.keys()[:5]})"
   ]
  },
  {
   "cell_type": "code",
   "execution_count": 63,
   "metadata": {
    "collapsed": false
   },
   "outputs": [],
   "source": [
    "#|below just for sanity check\n",
    "# for state in states[:5]:\n",
    "#     print state\n",
    "#     display(df_lookup[ df_lookup['Code'].isin(state_codes[state])] )"
   ]
  },
  {
   "cell_type": "code",
   "execution_count": 89,
   "metadata": {
    "collapsed": false
   },
   "outputs": [],
   "source": [
    "df_data_states = {state:[] for state in states}\n",
    "\n",
    "for state in states:\n",
    "    df_data_states[state] = filter_by_codelist(df_data, state_codes[state])"
   ]
  },
  {
   "cell_type": "code",
   "execution_count": 93,
   "metadata": {
    "collapsed": false
   },
   "outputs": [
    {
     "data": {
      "text/html": [
       "<div>\n",
       "<table border=\"1\" class=\"dataframe\">\n",
       "  <thead>\n",
       "    <tr style=\"text-align: right;\">\n",
       "      <th></th>\n",
       "      <th>Sun</th>\n",
       "      <th>Mon</th>\n",
       "      <th>Tue</th>\n",
       "      <th>Wed</th>\n",
       "      <th>Thu</th>\n",
       "      <th>Fri</th>\n",
       "      <th>Sat</th>\n",
       "    </tr>\n",
       "  </thead>\n",
       "  <tbody>\n",
       "    <tr>\n",
       "      <th>AK</th>\n",
       "      <td>7578</td>\n",
       "      <td>7775</td>\n",
       "      <td>7415</td>\n",
       "      <td>7350</td>\n",
       "      <td>7630</td>\n",
       "      <td>7677</td>\n",
       "      <td>7393</td>\n",
       "    </tr>\n",
       "    <tr>\n",
       "      <th>AL</th>\n",
       "      <td>7154</td>\n",
       "      <td>7917</td>\n",
       "      <td>7565</td>\n",
       "      <td>7674</td>\n",
       "      <td>7734</td>\n",
       "      <td>7766</td>\n",
       "      <td>5315</td>\n",
       "    </tr>\n",
       "    <tr>\n",
       "      <th>AR</th>\n",
       "      <td>4746</td>\n",
       "      <td>5465</td>\n",
       "      <td>5309</td>\n",
       "      <td>5369</td>\n",
       "      <td>5350</td>\n",
       "      <td>5337</td>\n",
       "      <td>3560</td>\n",
       "    </tr>\n",
       "    <tr>\n",
       "      <th>AZ</th>\n",
       "      <td>50097</td>\n",
       "      <td>51292</td>\n",
       "      <td>48255</td>\n",
       "      <td>50236</td>\n",
       "      <td>50543</td>\n",
       "      <td>50824</td>\n",
       "      <td>45005</td>\n",
       "    </tr>\n",
       "    <tr>\n",
       "      <th>CA</th>\n",
       "      <td>174652</td>\n",
       "      <td>183544</td>\n",
       "      <td>175707</td>\n",
       "      <td>177915</td>\n",
       "      <td>179338</td>\n",
       "      <td>180126</td>\n",
       "      <td>147463</td>\n",
       "    </tr>\n",
       "    <tr>\n",
       "      <th>CO</th>\n",
       "      <td>69073</td>\n",
       "      <td>71859</td>\n",
       "      <td>68468</td>\n",
       "      <td>69778</td>\n",
       "      <td>70153</td>\n",
       "      <td>70366</td>\n",
       "      <td>59675</td>\n",
       "    </tr>\n",
       "    <tr>\n",
       "      <th>CT</th>\n",
       "      <td>5581</td>\n",
       "      <td>6061</td>\n",
       "      <td>5831</td>\n",
       "      <td>5855</td>\n",
       "      <td>5902</td>\n",
       "      <td>5928</td>\n",
       "      <td>5036</td>\n",
       "    </tr>\n",
       "    <tr>\n",
       "      <th>DC</th>\n",
       "      <td>32205</td>\n",
       "      <td>34385</td>\n",
       "      <td>33748</td>\n",
       "      <td>33941</td>\n",
       "      <td>33597</td>\n",
       "      <td>33554</td>\n",
       "      <td>24701</td>\n",
       "    </tr>\n",
       "    <tr>\n",
       "      <th>FL</th>\n",
       "      <td>126202</td>\n",
       "      <td>127999</td>\n",
       "      <td>123016</td>\n",
       "      <td>123941</td>\n",
       "      <td>125002</td>\n",
       "      <td>125420</td>\n",
       "      <td>124652</td>\n",
       "    </tr>\n",
       "    <tr>\n",
       "      <th>GA</th>\n",
       "      <td>110343</td>\n",
       "      <td>117193</td>\n",
       "      <td>114210</td>\n",
       "      <td>114653</td>\n",
       "      <td>114609</td>\n",
       "      <td>114734</td>\n",
       "      <td>90989</td>\n",
       "    </tr>\n",
       "    <tr>\n",
       "      <th>...</th>\n",
       "      <td>...</td>\n",
       "      <td>...</td>\n",
       "      <td>...</td>\n",
       "      <td>...</td>\n",
       "      <td>...</td>\n",
       "      <td>...</td>\n",
       "      <td>...</td>\n",
       "    </tr>\n",
       "    <tr>\n",
       "      <th>TT</th>\n",
       "      <td>110</td>\n",
       "      <td>213</td>\n",
       "      <td>104</td>\n",
       "      <td>132</td>\n",
       "      <td>104</td>\n",
       "      <td>209</td>\n",
       "      <td>104</td>\n",
       "    </tr>\n",
       "    <tr>\n",
       "      <th>TX</th>\n",
       "      <td>149163</td>\n",
       "      <td>157490</td>\n",
       "      <td>150335</td>\n",
       "      <td>152656</td>\n",
       "      <td>153731</td>\n",
       "      <td>154344</td>\n",
       "      <td>123409</td>\n",
       "    </tr>\n",
       "    <tr>\n",
       "      <th>UT</th>\n",
       "      <td>31701</td>\n",
       "      <td>32757</td>\n",
       "      <td>31734</td>\n",
       "      <td>31914</td>\n",
       "      <td>31941</td>\n",
       "      <td>31915</td>\n",
       "      <td>26185</td>\n",
       "    </tr>\n",
       "    <tr>\n",
       "      <th>VA</th>\n",
       "      <td>9362</td>\n",
       "      <td>10098</td>\n",
       "      <td>9771</td>\n",
       "      <td>10000</td>\n",
       "      <td>9906</td>\n",
       "      <td>9935</td>\n",
       "      <td>7127</td>\n",
       "    </tr>\n",
       "    <tr>\n",
       "      <th>VI</th>\n",
       "      <td>1799</td>\n",
       "      <td>1605</td>\n",
       "      <td>1517</td>\n",
       "      <td>1521</td>\n",
       "      <td>1602</td>\n",
       "      <td>1643</td>\n",
       "      <td>2348</td>\n",
       "    </tr>\n",
       "    <tr>\n",
       "      <th>VT</th>\n",
       "      <td>1133</td>\n",
       "      <td>1203</td>\n",
       "      <td>1198</td>\n",
       "      <td>1186</td>\n",
       "      <td>1171</td>\n",
       "      <td>1167</td>\n",
       "      <td>1092</td>\n",
       "    </tr>\n",
       "    <tr>\n",
       "      <th>WA</th>\n",
       "      <td>40860</td>\n",
       "      <td>42324</td>\n",
       "      <td>40210</td>\n",
       "      <td>40891</td>\n",
       "      <td>41211</td>\n",
       "      <td>41560</td>\n",
       "      <td>36781</td>\n",
       "    </tr>\n",
       "    <tr>\n",
       "      <th>WI</th>\n",
       "      <td>14564</td>\n",
       "      <td>15839</td>\n",
       "      <td>15422</td>\n",
       "      <td>15694</td>\n",
       "      <td>15434</td>\n",
       "      <td>15496</td>\n",
       "      <td>11040</td>\n",
       "    </tr>\n",
       "    <tr>\n",
       "      <th>WV</th>\n",
       "      <td>748</td>\n",
       "      <td>793</td>\n",
       "      <td>787</td>\n",
       "      <td>830</td>\n",
       "      <td>768</td>\n",
       "      <td>770</td>\n",
       "      <td>498</td>\n",
       "    </tr>\n",
       "    <tr>\n",
       "      <th>WY</th>\n",
       "      <td>2644</td>\n",
       "      <td>2534</td>\n",
       "      <td>2424</td>\n",
       "      <td>2416</td>\n",
       "      <td>2444</td>\n",
       "      <td>2474</td>\n",
       "      <td>2571</td>\n",
       "    </tr>\n",
       "  </tbody>\n",
       "</table>\n",
       "<p>53 rows × 7 columns</p>\n",
       "</div>"
      ],
      "text/plain": [
       "       Sun     Mon     Tue     Wed     Thu     Fri     Sat\n",
       "AK    7578    7775    7415    7350    7630    7677    7393\n",
       "AL    7154    7917    7565    7674    7734    7766    5315\n",
       "AR    4746    5465    5309    5369    5350    5337    3560\n",
       "AZ   50097   51292   48255   50236   50543   50824   45005\n",
       "CA  174652  183544  175707  177915  179338  180126  147463\n",
       "CO   69073   71859   68468   69778   70153   70366   59675\n",
       "CT    5581    6061    5831    5855    5902    5928    5036\n",
       "DC   32205   34385   33748   33941   33597   33554   24701\n",
       "FL  126202  127999  123016  123941  125002  125420  124652\n",
       "GA  110343  117193  114210  114653  114609  114734   90989\n",
       "..     ...     ...     ...     ...     ...     ...     ...\n",
       "TT     110     213     104     132     104     209     104\n",
       "TX  149163  157490  150335  152656  153731  154344  123409\n",
       "UT   31701   32757   31734   31914   31941   31915   26185\n",
       "VA    9362   10098    9771   10000    9906    9935    7127\n",
       "VI    1799    1605    1517    1521    1602    1643    2348\n",
       "VT    1133    1203    1198    1186    1171    1167    1092\n",
       "WA   40860   42324   40210   40891   41211   41560   36781\n",
       "WI   14564   15839   15422   15694   15434   15496   11040\n",
       "WV     748     793     787     830     768     770     498\n",
       "WY    2644    2534    2424    2416    2444    2474    2571\n",
       "\n",
       "[53 rows x 7 columns]"
      ]
     },
     "execution_count": 93,
     "metadata": {},
     "output_type": "execute_result"
    }
   ],
   "source": [
    "flight_counts_state_weekday = []\n",
    "for state in states:\n",
    "    flight_counts_state_weekday.append(df_data_states[state]['DAY_OF_WEEK'].value_counts())\n",
    "    \n",
    "flight_counts_state_weekday = pd.DataFrame(flight_counts_state,index=states)[['Sun','Mon','Tue','Wed','Thu','Fri','Sat']] # reorder columns\n",
    "flight_counts_state_weekday"
   ]
  },
  {
   "cell_type": "code",
   "execution_count": 104,
   "metadata": {
    "collapsed": false
   },
   "outputs": [
    {
     "data": {
      "text/html": [
       "<div>\n",
       "<table border=\"1\" class=\"dataframe\">\n",
       "  <thead>\n",
       "    <tr style=\"text-align: right;\">\n",
       "      <th></th>\n",
       "      <th>counts</th>\n",
       "    </tr>\n",
       "  </thead>\n",
       "  <tbody>\n",
       "    <tr>\n",
       "      <th>CA</th>\n",
       "      <td>1218745</td>\n",
       "    </tr>\n",
       "    <tr>\n",
       "      <th>TX</th>\n",
       "      <td>1041128</td>\n",
       "    </tr>\n",
       "    <tr>\n",
       "      <th>FL</th>\n",
       "      <td>876232</td>\n",
       "    </tr>\n",
       "    <tr>\n",
       "      <th>GA</th>\n",
       "      <td>776731</td>\n",
       "    </tr>\n",
       "    <tr>\n",
       "      <th>IL</th>\n",
       "      <td>702984</td>\n",
       "    </tr>\n",
       "    <tr>\n",
       "      <th>NY</th>\n",
       "      <td>495827</td>\n",
       "    </tr>\n",
       "    <tr>\n",
       "      <th>CO</th>\n",
       "      <td>479372</td>\n",
       "    </tr>\n",
       "    <tr>\n",
       "      <th>AZ</th>\n",
       "      <td>346252</td>\n",
       "    </tr>\n",
       "    <tr>\n",
       "      <th>NV</th>\n",
       "      <td>323313</td>\n",
       "    </tr>\n",
       "    <tr>\n",
       "      <th>NC</th>\n",
       "      <td>316300</td>\n",
       "    </tr>\n",
       "    <tr>\n",
       "      <th>...</th>\n",
       "      <td>...</td>\n",
       "    </tr>\n",
       "    <tr>\n",
       "      <th>MS</th>\n",
       "      <td>21839</td>\n",
       "    </tr>\n",
       "    <tr>\n",
       "      <th>KS</th>\n",
       "      <td>18848</td>\n",
       "    </tr>\n",
       "    <tr>\n",
       "      <th>WY</th>\n",
       "      <td>17507</td>\n",
       "    </tr>\n",
       "    <tr>\n",
       "      <th>SD</th>\n",
       "      <td>16337</td>\n",
       "    </tr>\n",
       "    <tr>\n",
       "      <th>ME</th>\n",
       "      <td>13782</td>\n",
       "    </tr>\n",
       "    <tr>\n",
       "      <th>NH</th>\n",
       "      <td>13444</td>\n",
       "    </tr>\n",
       "    <tr>\n",
       "      <th>VI</th>\n",
       "      <td>12035</td>\n",
       "    </tr>\n",
       "    <tr>\n",
       "      <th>VT</th>\n",
       "      <td>8150</td>\n",
       "    </tr>\n",
       "    <tr>\n",
       "      <th>WV</th>\n",
       "      <td>5194</td>\n",
       "    </tr>\n",
       "    <tr>\n",
       "      <th>TT</th>\n",
       "      <td>976</td>\n",
       "    </tr>\n",
       "  </tbody>\n",
       "</table>\n",
       "<p>53 rows × 1 columns</p>\n",
       "</div>"
      ],
      "text/plain": [
       "     counts\n",
       "CA  1218745\n",
       "TX  1041128\n",
       "FL   876232\n",
       "GA   776731\n",
       "IL   702984\n",
       "NY   495827\n",
       "CO   479372\n",
       "AZ   346252\n",
       "NV   323313\n",
       "NC   316300\n",
       "..      ...\n",
       "MS    21839\n",
       "KS    18848\n",
       "WY    17507\n",
       "SD    16337\n",
       "ME    13782\n",
       "NH    13444\n",
       "VI    12035\n",
       "VT     8150\n",
       "WV     5194\n",
       "TT      976\n",
       "\n",
       "[53 rows x 1 columns]"
      ]
     },
     "execution_count": 104,
     "metadata": {},
     "output_type": "execute_result"
    }
   ],
   "source": [
    "flight_counts_state = flight_counts_state_weekday.sum(axis=1).\\\n",
    "                          sort_values(ascending=False).to_frame(name='counts')\n",
    "flight_counts_state"
   ]
  },
  {
   "cell_type": "code",
   "execution_count": 105,
   "metadata": {
    "collapsed": false
   },
   "outputs": [
    {
     "data": {
      "text/html": [
       "<iframe id=\"igraph\" scrolling=\"no\" style=\"border:none;\" seamless=\"seamless\" src=\"https://plot.ly/~takanori/1505.embed\" height=\"525px\" width=\"100%\"></iframe>"
      ],
      "text/plain": [
       "<plotly.tools.PlotlyDisplay object>"
      ]
     },
     "execution_count": 105,
     "metadata": {},
     "output_type": "execute_result"
    }
   ],
   "source": [
    "flight_counts_state.iplot(kind='bar')"
   ]
  },
  {
   "cell_type": "markdown",
   "metadata": {},
   "source": [
    "## Choropleth figure\n"
   ]
  },
  {
   "cell_type": "code",
   "execution_count": 126,
   "metadata": {
    "collapsed": false
   },
   "outputs": [
    {
     "data": {
      "text/plain": [
       "Index([u'CA', u'TX', u'FL', u'GA', u'IL', u'NY', u'CO', u'AZ', u'NV', u'NC',\n",
       "       u'MI', u'WA', u'MN', u'MA', u'NJ', u'DC', u'UT', u'PA', u'MO', u'MD',\n",
       "       u'OH', u'TN', u'HI', u'OR', u'LA', u'WI', u'IN', u'VA', u'SC', u'OK',\n",
       "       u'PR', u'AK', u'AL', u'NM', u'NE', u'ID', u'CT', u'AR', u'MT', u'KY',\n",
       "       u'ND', u'IA', u'RI', u'MS', u'KS', u'WY', u'SD', u'ME', u'NH', u'VI',\n",
       "       u'VT', u'WV', u'TT'],\n",
       "      dtype='object')"
      ]
     },
     "execution_count": 126,
     "metadata": {},
     "output_type": "execute_result"
    }
   ],
   "source": [
    "flight_counts_state.index"
   ]
  },
  {
   "cell_type": "code",
   "execution_count": 231,
   "metadata": {
    "collapsed": false
   },
   "outputs": [
    {
     "data": {
      "text/html": [
       "<iframe id=\"igraph\" scrolling=\"no\" style=\"border:none;\" seamless=\"seamless\" src=\"https://plot.ly/~takanori/1553.embed?share_key=JZE7I9LhDNrC9tifJoaQlB\" height=\"525px\" width=\"100%\"></iframe>"
      ],
      "text/plain": [
       "<plotly.tools.PlotlyDisplay object>"
      ]
     },
     "execution_count": 231,
     "metadata": {},
     "output_type": "execute_result"
    }
   ],
   "source": [
    "flight_counts_state\n",
    "\n",
    "# define data object\n",
    "data = [dict(\n",
    "        type='choropleth',\n",
    "        autocolorscale = True,\n",
    "        locations = flight_counts_state.index.tolist(),\n",
    "        z = flight_counts_state.values,\n",
    "        locationmode = 'USA-states',\n",
    "        marker = dict(line = dict (color = 'rgb(0,0,0)',width = 2) ),\n",
    "        colorbar = dict(title = \"flight-counts\")\n",
    ")]\n",
    "\n",
    "# define layout object\n",
    "geo = dict(scope='usa',\n",
    "           projection=dict( type='albers usa' ),\n",
    "           showlakes = True,\n",
    "           lakecolor = 'rgb(255, 255, 255)'\n",
    "          )\n",
    "layout = dict(geo=geo,\n",
    "              margin = dict(b=0,l=0,r=0,t=40),\n",
    "              title = 'Flight counts over last year (hover over for number)')\n",
    "\n",
    "fig = dict( data=data, layout=layout )\n",
    "py.iplot( fig )"
   ]
  },
  {
   "cell_type": "markdown",
   "metadata": {},
   "source": [
    "## Choropleth after normalizing over state population"
   ]
  },
  {
   "cell_type": "code",
   "execution_count": 150,
   "metadata": {
    "collapsed": false
   },
   "outputs": [
    {
     "data": {
      "text/html": [
       "<div>\n",
       "<table border=\"1\" class=\"dataframe\">\n",
       "  <thead>\n",
       "    <tr style=\"text-align: right;\">\n",
       "      <th></th>\n",
       "      <th>state</th>\n",
       "      <th>population</th>\n",
       "    </tr>\n",
       "  </thead>\n",
       "  <tbody>\n",
       "    <tr>\n",
       "      <th>0</th>\n",
       "      <td>CA</td>\n",
       "      <td>39250017</td>\n",
       "    </tr>\n",
       "    <tr>\n",
       "      <th>1</th>\n",
       "      <td>TX</td>\n",
       "      <td>27862596</td>\n",
       "    </tr>\n",
       "    <tr>\n",
       "      <th>2</th>\n",
       "      <td>FL</td>\n",
       "      <td>20612439</td>\n",
       "    </tr>\n",
       "    <tr>\n",
       "      <th>3</th>\n",
       "      <td>NY</td>\n",
       "      <td>19745289</td>\n",
       "    </tr>\n",
       "    <tr>\n",
       "      <th>4</th>\n",
       "      <td>IL</td>\n",
       "      <td>12801539</td>\n",
       "    </tr>\n",
       "  </tbody>\n",
       "</table>\n",
       "</div>"
      ],
      "text/plain": [
       "  state  population\n",
       "0    CA    39250017\n",
       "1    TX    27862596\n",
       "2    FL    20612439\n",
       "3    NY    19745289\n",
       "4    IL    12801539"
      ]
     },
     "execution_count": 150,
     "metadata": {},
     "output_type": "execute_result"
    }
   ],
   "source": [
    "# 2015 estimate of state population saved va script ``get_us_state_populations.py``\n",
    "df_state_popu = pd.read_csv('df_state_populations.csv')\n",
    "df_state_popu.head()"
   ]
  },
  {
   "cell_type": "code",
   "execution_count": 137,
   "metadata": {
    "collapsed": false
   },
   "outputs": [
    {
     "data": {
      "text/html": [
       "<div>\n",
       "<table border=\"1\" class=\"dataframe\">\n",
       "  <thead>\n",
       "    <tr style=\"text-align: right;\">\n",
       "      <th></th>\n",
       "      <th>state</th>\n",
       "      <th>counts</th>\n",
       "    </tr>\n",
       "  </thead>\n",
       "  <tbody>\n",
       "    <tr>\n",
       "      <th>0</th>\n",
       "      <td>CA</td>\n",
       "      <td>1218745</td>\n",
       "    </tr>\n",
       "    <tr>\n",
       "      <th>1</th>\n",
       "      <td>TX</td>\n",
       "      <td>1041128</td>\n",
       "    </tr>\n",
       "    <tr>\n",
       "      <th>2</th>\n",
       "      <td>FL</td>\n",
       "      <td>876232</td>\n",
       "    </tr>\n",
       "    <tr>\n",
       "      <th>3</th>\n",
       "      <td>GA</td>\n",
       "      <td>776731</td>\n",
       "    </tr>\n",
       "    <tr>\n",
       "      <th>4</th>\n",
       "      <td>IL</td>\n",
       "      <td>702984</td>\n",
       "    </tr>\n",
       "  </tbody>\n",
       "</table>\n",
       "</div>"
      ],
      "text/plain": [
       "  state   counts\n",
       "0    CA  1218745\n",
       "1    TX  1041128\n",
       "2    FL   876232\n",
       "3    GA   776731\n",
       "4    IL   702984"
      ]
     },
     "execution_count": 137,
     "metadata": {},
     "output_type": "execute_result"
    }
   ],
   "source": [
    "df_flight_counts_state = flight_counts_state.reset_index().rename(columns={'index':'state'})\n",
    "df_flight_counts_state.head()"
   ]
  },
  {
   "cell_type": "code",
   "execution_count": 152,
   "metadata": {
    "collapsed": false
   },
   "outputs": [
    {
     "data": {
      "text/html": [
       "<div>\n",
       "<table border=\"1\" class=\"dataframe\">\n",
       "  <thead>\n",
       "    <tr style=\"text-align: right;\">\n",
       "      <th></th>\n",
       "      <th>state</th>\n",
       "      <th>counts</th>\n",
       "      <th>population_x</th>\n",
       "      <th>population_y</th>\n",
       "      <th>population</th>\n",
       "    </tr>\n",
       "  </thead>\n",
       "  <tbody>\n",
       "    <tr>\n",
       "      <th>0</th>\n",
       "      <td>CA</td>\n",
       "      <td>1218745</td>\n",
       "      <td>39,250,017</td>\n",
       "      <td>39250017.0</td>\n",
       "      <td>39250017.0</td>\n",
       "    </tr>\n",
       "    <tr>\n",
       "      <th>1</th>\n",
       "      <td>TX</td>\n",
       "      <td>1041128</td>\n",
       "      <td>27,862,596</td>\n",
       "      <td>27862596.0</td>\n",
       "      <td>27862596.0</td>\n",
       "    </tr>\n",
       "    <tr>\n",
       "      <th>2</th>\n",
       "      <td>FL</td>\n",
       "      <td>876232</td>\n",
       "      <td>20,612,439</td>\n",
       "      <td>20612439.0</td>\n",
       "      <td>20612439.0</td>\n",
       "    </tr>\n",
       "    <tr>\n",
       "      <th>3</th>\n",
       "      <td>GA</td>\n",
       "      <td>776731</td>\n",
       "      <td>10,310,371</td>\n",
       "      <td>10310371.0</td>\n",
       "      <td>10310371.0</td>\n",
       "    </tr>\n",
       "    <tr>\n",
       "      <th>4</th>\n",
       "      <td>IL</td>\n",
       "      <td>702984</td>\n",
       "      <td>12,801,539</td>\n",
       "      <td>12801539.0</td>\n",
       "      <td>12801539.0</td>\n",
       "    </tr>\n",
       "  </tbody>\n",
       "</table>\n",
       "</div>"
      ],
      "text/plain": [
       "  state   counts population_x  population_y  population\n",
       "0    CA  1218745   39,250,017    39250017.0  39250017.0\n",
       "1    TX  1041128   27,862,596    27862596.0  27862596.0\n",
       "2    FL   876232   20,612,439    20612439.0  20612439.0\n",
       "3    GA   776731   10,310,371    10310371.0  10310371.0\n",
       "4    IL   702984   12,801,539    12801539.0  12801539.0"
      ]
     },
     "execution_count": 152,
     "metadata": {},
     "output_type": "execute_result"
    }
   ],
   "source": [
    "df_flight_counts_state = df_flight_counts_state.merge(df_state_popu,on='state',how='left')\n",
    "df_flight_counts_state.head()"
   ]
  },
  {
   "cell_type": "code",
   "execution_count": 180,
   "metadata": {
    "collapsed": false
   },
   "outputs": [
    {
     "data": {
      "text/html": [
       "<div>\n",
       "<table border=\"1\" class=\"dataframe\">\n",
       "  <thead>\n",
       "    <tr style=\"text-align: right;\">\n",
       "      <th></th>\n",
       "      <th>state</th>\n",
       "      <th>counts</th>\n",
       "      <th>population_x</th>\n",
       "      <th>population_y</th>\n",
       "      <th>population</th>\n",
       "      <th>counts_n</th>\n",
       "    </tr>\n",
       "  </thead>\n",
       "  <tbody>\n",
       "    <tr>\n",
       "      <th>15</th>\n",
       "      <td>DC</td>\n",
       "      <td>226131</td>\n",
       "      <td>681,170</td>\n",
       "      <td>681170.0</td>\n",
       "      <td>681170.0</td>\n",
       "      <td>0.331974</td>\n",
       "    </tr>\n",
       "    <tr>\n",
       "      <th>8</th>\n",
       "      <td>NV</td>\n",
       "      <td>323313</td>\n",
       "      <td>2,940,058</td>\n",
       "      <td>2940058.0</td>\n",
       "      <td>2940058.0</td>\n",
       "      <td>0.109968</td>\n",
       "    </tr>\n",
       "    <tr>\n",
       "      <th>22</th>\n",
       "      <td>HI</td>\n",
       "      <td>139771</td>\n",
       "      <td>1,428,557</td>\n",
       "      <td>1428557.0</td>\n",
       "      <td>1428557.0</td>\n",
       "      <td>0.097841</td>\n",
       "    </tr>\n",
       "    <tr>\n",
       "      <th>6</th>\n",
       "      <td>CO</td>\n",
       "      <td>479372</td>\n",
       "      <td>5,540,545</td>\n",
       "      <td>5540545.0</td>\n",
       "      <td>5540545.0</td>\n",
       "      <td>0.086521</td>\n",
       "    </tr>\n",
       "    <tr>\n",
       "      <th>3</th>\n",
       "      <td>GA</td>\n",
       "      <td>776731</td>\n",
       "      <td>10,310,371</td>\n",
       "      <td>10310371.0</td>\n",
       "      <td>10310371.0</td>\n",
       "      <td>0.075335</td>\n",
       "    </tr>\n",
       "    <tr>\n",
       "      <th>16</th>\n",
       "      <td>UT</td>\n",
       "      <td>218147</td>\n",
       "      <td>3,051,217</td>\n",
       "      <td>3051217.0</td>\n",
       "      <td>3051217.0</td>\n",
       "      <td>0.071495</td>\n",
       "    </tr>\n",
       "    <tr>\n",
       "      <th>31</th>\n",
       "      <td>AK</td>\n",
       "      <td>52818</td>\n",
       "      <td>741,894</td>\n",
       "      <td>741894.0</td>\n",
       "      <td>741894.0</td>\n",
       "      <td>0.071193</td>\n",
       "    </tr>\n",
       "    <tr>\n",
       "      <th>4</th>\n",
       "      <td>IL</td>\n",
       "      <td>702984</td>\n",
       "      <td>12,801,539</td>\n",
       "      <td>12801539.0</td>\n",
       "      <td>12801539.0</td>\n",
       "      <td>0.054914</td>\n",
       "    </tr>\n",
       "    <tr>\n",
       "      <th>7</th>\n",
       "      <td>AZ</td>\n",
       "      <td>346252</td>\n",
       "      <td>6,931,071</td>\n",
       "      <td>6931071.0</td>\n",
       "      <td>6931071.0</td>\n",
       "      <td>0.049956</td>\n",
       "    </tr>\n",
       "    <tr>\n",
       "      <th>12</th>\n",
       "      <td>MN</td>\n",
       "      <td>261571</td>\n",
       "      <td>5,519,952</td>\n",
       "      <td>5519952.0</td>\n",
       "      <td>5519952.0</td>\n",
       "      <td>0.047386</td>\n",
       "    </tr>\n",
       "    <tr>\n",
       "      <th>...</th>\n",
       "      <td>...</td>\n",
       "      <td>...</td>\n",
       "      <td>...</td>\n",
       "      <td>...</td>\n",
       "      <td>...</td>\n",
       "      <td>...</td>\n",
       "    </tr>\n",
       "    <tr>\n",
       "      <th>48</th>\n",
       "      <td>NH</td>\n",
       "      <td>13444</td>\n",
       "      <td>1,334,795</td>\n",
       "      <td>1334795.0</td>\n",
       "      <td>1334795.0</td>\n",
       "      <td>0.010072</td>\n",
       "    </tr>\n",
       "    <tr>\n",
       "      <th>41</th>\n",
       "      <td>IA</td>\n",
       "      <td>26662</td>\n",
       "      <td>3,134,693</td>\n",
       "      <td>3134693.0</td>\n",
       "      <td>3134693.0</td>\n",
       "      <td>0.008505</td>\n",
       "    </tr>\n",
       "    <tr>\n",
       "      <th>27</th>\n",
       "      <td>VA</td>\n",
       "      <td>66199</td>\n",
       "      <td>8,411,808</td>\n",
       "      <td>8411808.0</td>\n",
       "      <td>8411808.0</td>\n",
       "      <td>0.007870</td>\n",
       "    </tr>\n",
       "    <tr>\n",
       "      <th>43</th>\n",
       "      <td>MS</td>\n",
       "      <td>21839</td>\n",
       "      <td>2,988,726</td>\n",
       "      <td>2988726.0</td>\n",
       "      <td>2988726.0</td>\n",
       "      <td>0.007307</td>\n",
       "    </tr>\n",
       "    <tr>\n",
       "      <th>39</th>\n",
       "      <td>KY</td>\n",
       "      <td>32139</td>\n",
       "      <td>4,436,974</td>\n",
       "      <td>4436974.0</td>\n",
       "      <td>4436974.0</td>\n",
       "      <td>0.007243</td>\n",
       "    </tr>\n",
       "    <tr>\n",
       "      <th>44</th>\n",
       "      <td>KS</td>\n",
       "      <td>18848</td>\n",
       "      <td>2,907,289</td>\n",
       "      <td>2907289.0</td>\n",
       "      <td>2907289.0</td>\n",
       "      <td>0.006483</td>\n",
       "    </tr>\n",
       "    <tr>\n",
       "      <th>51</th>\n",
       "      <td>WV</td>\n",
       "      <td>5194</td>\n",
       "      <td>1,831,102</td>\n",
       "      <td>1831102.0</td>\n",
       "      <td>1831102.0</td>\n",
       "      <td>0.002837</td>\n",
       "    </tr>\n",
       "    <tr>\n",
       "      <th>30</th>\n",
       "      <td>PR</td>\n",
       "      <td>59408</td>\n",
       "      <td>NaN</td>\n",
       "      <td>NaN</td>\n",
       "      <td>NaN</td>\n",
       "      <td>NaN</td>\n",
       "    </tr>\n",
       "    <tr>\n",
       "      <th>49</th>\n",
       "      <td>VI</td>\n",
       "      <td>12035</td>\n",
       "      <td>NaN</td>\n",
       "      <td>NaN</td>\n",
       "      <td>NaN</td>\n",
       "      <td>NaN</td>\n",
       "    </tr>\n",
       "    <tr>\n",
       "      <th>52</th>\n",
       "      <td>TT</td>\n",
       "      <td>976</td>\n",
       "      <td>NaN</td>\n",
       "      <td>NaN</td>\n",
       "      <td>NaN</td>\n",
       "      <td>NaN</td>\n",
       "    </tr>\n",
       "  </tbody>\n",
       "</table>\n",
       "<p>53 rows × 6 columns</p>\n",
       "</div>"
      ],
      "text/plain": [
       "   state  counts population_x  population_y  population  counts_n\n",
       "15    DC  226131      681,170      681170.0    681170.0  0.331974\n",
       "8     NV  323313    2,940,058     2940058.0   2940058.0  0.109968\n",
       "22    HI  139771    1,428,557     1428557.0   1428557.0  0.097841\n",
       "6     CO  479372    5,540,545     5540545.0   5540545.0  0.086521\n",
       "3     GA  776731   10,310,371    10310371.0  10310371.0  0.075335\n",
       "16    UT  218147    3,051,217     3051217.0   3051217.0  0.071495\n",
       "31    AK   52818      741,894      741894.0    741894.0  0.071193\n",
       "4     IL  702984   12,801,539    12801539.0  12801539.0  0.054914\n",
       "7     AZ  346252    6,931,071     6931071.0   6931071.0  0.049956\n",
       "12    MN  261571    5,519,952     5519952.0   5519952.0  0.047386\n",
       "..   ...     ...          ...           ...         ...       ...\n",
       "48    NH   13444    1,334,795     1334795.0   1334795.0  0.010072\n",
       "41    IA   26662    3,134,693     3134693.0   3134693.0  0.008505\n",
       "27    VA   66199    8,411,808     8411808.0   8411808.0  0.007870\n",
       "43    MS   21839    2,988,726     2988726.0   2988726.0  0.007307\n",
       "39    KY   32139    4,436,974     4436974.0   4436974.0  0.007243\n",
       "44    KS   18848    2,907,289     2907289.0   2907289.0  0.006483\n",
       "51    WV    5194    1,831,102     1831102.0   1831102.0  0.002837\n",
       "30    PR   59408          NaN           NaN         NaN       NaN\n",
       "49    VI   12035          NaN           NaN         NaN       NaN\n",
       "52    TT     976          NaN           NaN         NaN       NaN\n",
       "\n",
       "[53 rows x 6 columns]"
      ]
     },
     "execution_count": 180,
     "metadata": {},
     "output_type": "execute_result"
    }
   ],
   "source": [
    "# normalize by state population\n",
    "df_flight_counts_state['counts_n'] = df_flight_counts_state['counts']/df_flight_counts_state['population']\n",
    "# df_flight_counts_state.head()\n",
    "df_flight_counts_state.sort_values('counts_n',ascending=False)"
   ]
  },
  {
   "cell_type": "code",
   "execution_count": 214,
   "metadata": {
    "collapsed": false
   },
   "outputs": [
    {
     "data": {
      "text/html": [
       "<div>\n",
       "<table border=\"1\" class=\"dataframe\">\n",
       "  <thead>\n",
       "    <tr style=\"text-align: right;\">\n",
       "      <th></th>\n",
       "      <th>state</th>\n",
       "      <th>counts</th>\n",
       "      <th>population_x</th>\n",
       "      <th>population_y</th>\n",
       "      <th>population</th>\n",
       "      <th>counts_n</th>\n",
       "    </tr>\n",
       "  </thead>\n",
       "  <tbody>\n",
       "    <tr>\n",
       "      <th>29</th>\n",
       "      <td>OK</td>\n",
       "      <td>62857</td>\n",
       "      <td>3,923,561</td>\n",
       "      <td>3923561.0</td>\n",
       "      <td>3923561.0</td>\n",
       "      <td>0.01602</td>\n",
       "    </tr>\n",
       "  </tbody>\n",
       "</table>\n",
       "</div>"
      ],
      "text/plain": [
       "   state  counts population_x  population_y  population  counts_n\n",
       "29    OK   62857    3,923,561     3923561.0   3923561.0   0.01602"
      ]
     },
     "execution_count": 214,
     "metadata": {},
     "output_type": "execute_result"
    }
   ],
   "source": [
    "df_flight_counts_state.query('state == \"OK\"')"
   ]
  },
  {
   "cell_type": "code",
   "execution_count": 217,
   "metadata": {
    "collapsed": false
   },
   "outputs": [],
   "source": [
    "df_flight_counts_state_ = df_flight_counts_state.copy()\n",
    "df_flight_counts_state_ = df_flight_counts_state_[ df_flight_counts_state_['state'] != 'DC' ].reset_index()"
   ]
  },
  {
   "cell_type": "code",
   "execution_count": 218,
   "metadata": {
    "collapsed": false
   },
   "outputs": [
    {
     "data": {
      "text/plain": [
       "['CA',\n",
       " 'TX',\n",
       " 'FL',\n",
       " 'GA',\n",
       " 'IL',\n",
       " 'NY',\n",
       " 'CO',\n",
       " 'AZ',\n",
       " 'NV',\n",
       " 'NC',\n",
       " 'MI',\n",
       " 'WA',\n",
       " 'MN',\n",
       " 'MA',\n",
       " 'NJ',\n",
       " 'DC',\n",
       " 'UT',\n",
       " 'PA',\n",
       " 'MO',\n",
       " 'MD',\n",
       " 'OH',\n",
       " 'TN',\n",
       " 'HI',\n",
       " 'OR',\n",
       " 'LA',\n",
       " 'WI',\n",
       " 'IN',\n",
       " 'VA',\n",
       " 'SC',\n",
       " 'OK',\n",
       " 'PR',\n",
       " 'AK',\n",
       " 'AL',\n",
       " 'NM',\n",
       " 'NE',\n",
       " 'ID',\n",
       " 'CT',\n",
       " 'AR',\n",
       " 'MT',\n",
       " 'KY',\n",
       " 'ND',\n",
       " 'IA',\n",
       " 'RI',\n",
       " 'MS',\n",
       " 'KS',\n",
       " 'WY',\n",
       " 'SD',\n",
       " 'ME',\n",
       " 'NH',\n",
       " 'VI',\n",
       " 'VT',\n",
       " 'WV',\n",
       " 'TT']"
      ]
     },
     "execution_count": 218,
     "metadata": {},
     "output_type": "execute_result"
    }
   ],
   "source": [
    "locations = df_flight_counts_state['state'].tolist()\n",
    "locations"
   ]
  },
  {
   "cell_type": "code",
   "execution_count": 230,
   "metadata": {
    "collapsed": false
   },
   "outputs": [
    {
     "data": {
      "text/html": [
       "<div>\n",
       "<table border=\"1\" class=\"dataframe\">\n",
       "  <thead>\n",
       "    <tr style=\"text-align: right;\">\n",
       "      <th></th>\n",
       "      <th>index</th>\n",
       "      <th>state</th>\n",
       "      <th>counts</th>\n",
       "      <th>population_x</th>\n",
       "      <th>population_y</th>\n",
       "      <th>population</th>\n",
       "      <th>counts_n</th>\n",
       "    </tr>\n",
       "  </thead>\n",
       "  <tbody>\n",
       "    <tr>\n",
       "      <th>28</th>\n",
       "      <td>29</td>\n",
       "      <td>OK</td>\n",
       "      <td>62857</td>\n",
       "      <td>3,923,561</td>\n",
       "      <td>3923561.0</td>\n",
       "      <td>3923561.0</td>\n",
       "      <td>0.01602</td>\n",
       "    </tr>\n",
       "  </tbody>\n",
       "</table>\n",
       "</div>"
      ],
      "text/plain": [
       "    index state  counts population_x  population_y  population  counts_n\n",
       "28     29    OK   62857    3,923,561     3923561.0   3923561.0   0.01602"
      ]
     },
     "execution_count": 230,
     "metadata": {},
     "output_type": "execute_result"
    }
   ],
   "source": [
    "'OK' in df_flight_counts_state['state'].tolist()\n",
    "df_flight_counts_state_[df_flight_counts_state_['state']=='OK']"
   ]
  },
  {
   "cell_type": "code",
   "execution_count": 219,
   "metadata": {
    "collapsed": false
   },
   "outputs": [
    {
     "data": {
      "text/html": [
       "<iframe id=\"igraph\" scrolling=\"no\" style=\"border:none;\" seamless=\"seamless\" src=\"https://plot.ly/~takanori/1551.embed?share_key=uUytSNSP34bT1vGWPHeKx0\" height=\"525px\" width=\"100%\"></iframe>"
      ],
      "text/plain": [
       "<plotly.tools.PlotlyDisplay object>"
      ]
     },
     "execution_count": 219,
     "metadata": {},
     "output_type": "execute_result"
    }
   ],
   "source": [
    "# define data object\n",
    "scl = [[0.0, 'rgb(242,240,247)'],[0.2, 'rgb(218,218,235)'],[0.4, 'rgb(188,189,220)'],\\\n",
    "            [0.6, 'rgb(158,154,200)'],[0.8, 'rgb(117,107,177)'],[1.0, 'rgb(84,39,143)']]\n",
    "data = [dict(\n",
    "        type='choropleth',\n",
    "        #autocolorscale = False,\n",
    "        #colorscale = scl,\n",
    "        locations = df_flight_counts_state['state'].tolist(),\n",
    "        z = df_flight_counts_state_['counts_n'].values,\n",
    "        locationmode = 'USA-states',\n",
    "        #marker = dict(line = dict (color = 'rgb(0,0,0)',width = 2) ),\n",
    "        colorbar = dict(title = \"flight-counts\")\n",
    ")]\n",
    "\n",
    "# define layout object\n",
    "geo = dict(scope='usa',\n",
    "           projection=dict( type='albers usa' ),\n",
    "           showlakes = True,\n",
    "           lakecolor = 'rgb(255, 255, 255)'\n",
    "          )\n",
    "layout = dict(geo=geo,\n",
    "              margin = dict(b=0,l=0,r=0,t=40),\n",
    "              title = 'Flight counts over last year normalized over state population(hover over for number)')\n",
    "\n",
    "fig = dict( data=data, layout=layout )\n",
    "py.iplot( fig )"
   ]
  },
  {
   "cell_type": "markdown",
   "metadata": {},
   "source": [
    "## Weekday patterns for each state"
   ]
  },
  {
   "cell_type": "code",
   "execution_count": 118,
   "metadata": {
    "collapsed": false
   },
   "outputs": [
    {
     "name": "stdout",
     "output_type": "stream",
     "text": [
      "['CA', 'TX', 'FL', 'GA', 'IL', 'NY', 'CO', 'AZ', 'NV', 'NC', 'MI', 'WA', 'MN', 'MA', 'NJ', 'DC', 'UT', 'PA', 'MO', 'MD', 'OH', 'TN', 'HI', 'OR', 'LA', 'WI', 'IN', 'VA', 'SC', 'OK', 'PR', 'AK', 'AL', 'NM', 'NE', 'ID', 'CT', 'AR', 'MT', 'KY', 'ND', 'IA', 'RI', 'MS', 'KS', 'WY', 'SD', 'ME', 'NH', 'VI', 'VT', 'WV', 'TT']\n"
     ]
    },
    {
     "data": {
      "text/html": [
       "<div>\n",
       "<table border=\"1\" class=\"dataframe\">\n",
       "  <thead>\n",
       "    <tr style=\"text-align: right;\">\n",
       "      <th></th>\n",
       "      <th>Sun</th>\n",
       "      <th>Mon</th>\n",
       "      <th>Tue</th>\n",
       "      <th>Wed</th>\n",
       "      <th>Thu</th>\n",
       "      <th>Fri</th>\n",
       "      <th>Sat</th>\n",
       "    </tr>\n",
       "  </thead>\n",
       "  <tbody>\n",
       "    <tr>\n",
       "      <th>AK</th>\n",
       "      <td>7578</td>\n",
       "      <td>7775</td>\n",
       "      <td>7415</td>\n",
       "      <td>7350</td>\n",
       "      <td>7630</td>\n",
       "      <td>7677</td>\n",
       "      <td>7393</td>\n",
       "    </tr>\n",
       "    <tr>\n",
       "      <th>AL</th>\n",
       "      <td>7154</td>\n",
       "      <td>7917</td>\n",
       "      <td>7565</td>\n",
       "      <td>7674</td>\n",
       "      <td>7734</td>\n",
       "      <td>7766</td>\n",
       "      <td>5315</td>\n",
       "    </tr>\n",
       "    <tr>\n",
       "      <th>AR</th>\n",
       "      <td>4746</td>\n",
       "      <td>5465</td>\n",
       "      <td>5309</td>\n",
       "      <td>5369</td>\n",
       "      <td>5350</td>\n",
       "      <td>5337</td>\n",
       "      <td>3560</td>\n",
       "    </tr>\n",
       "    <tr>\n",
       "      <th>AZ</th>\n",
       "      <td>50097</td>\n",
       "      <td>51292</td>\n",
       "      <td>48255</td>\n",
       "      <td>50236</td>\n",
       "      <td>50543</td>\n",
       "      <td>50824</td>\n",
       "      <td>45005</td>\n",
       "    </tr>\n",
       "    <tr>\n",
       "      <th>CA</th>\n",
       "      <td>174652</td>\n",
       "      <td>183544</td>\n",
       "      <td>175707</td>\n",
       "      <td>177915</td>\n",
       "      <td>179338</td>\n",
       "      <td>180126</td>\n",
       "      <td>147463</td>\n",
       "    </tr>\n",
       "  </tbody>\n",
       "</table>\n",
       "</div>"
      ],
      "text/plain": [
       "       Sun     Mon     Tue     Wed     Thu     Fri     Sat\n",
       "AK    7578    7775    7415    7350    7630    7677    7393\n",
       "AL    7154    7917    7565    7674    7734    7766    5315\n",
       "AR    4746    5465    5309    5369    5350    5337    3560\n",
       "AZ   50097   51292   48255   50236   50543   50824   45005\n",
       "CA  174652  183544  175707  177915  179338  180126  147463"
      ]
     },
     "metadata": {},
     "output_type": "display_data"
    },
    {
     "data": {
      "text/html": [
       "<div>\n",
       "<table border=\"1\" class=\"dataframe\">\n",
       "  <thead>\n",
       "    <tr style=\"text-align: right;\">\n",
       "      <th></th>\n",
       "      <th>Sun</th>\n",
       "      <th>Mon</th>\n",
       "      <th>Tue</th>\n",
       "      <th>Wed</th>\n",
       "      <th>Thu</th>\n",
       "      <th>Fri</th>\n",
       "      <th>Sat</th>\n",
       "    </tr>\n",
       "  </thead>\n",
       "  <tbody>\n",
       "    <tr>\n",
       "      <th>CA</th>\n",
       "      <td>174652</td>\n",
       "      <td>183544</td>\n",
       "      <td>175707</td>\n",
       "      <td>177915</td>\n",
       "      <td>179338</td>\n",
       "      <td>180126</td>\n",
       "      <td>147463</td>\n",
       "    </tr>\n",
       "    <tr>\n",
       "      <th>TX</th>\n",
       "      <td>149163</td>\n",
       "      <td>157490</td>\n",
       "      <td>150335</td>\n",
       "      <td>152656</td>\n",
       "      <td>153731</td>\n",
       "      <td>154344</td>\n",
       "      <td>123409</td>\n",
       "    </tr>\n",
       "    <tr>\n",
       "      <th>FL</th>\n",
       "      <td>126202</td>\n",
       "      <td>127999</td>\n",
       "      <td>123016</td>\n",
       "      <td>123941</td>\n",
       "      <td>125002</td>\n",
       "      <td>125420</td>\n",
       "      <td>124652</td>\n",
       "    </tr>\n",
       "    <tr>\n",
       "      <th>GA</th>\n",
       "      <td>110343</td>\n",
       "      <td>117193</td>\n",
       "      <td>114210</td>\n",
       "      <td>114653</td>\n",
       "      <td>114609</td>\n",
       "      <td>114734</td>\n",
       "      <td>90989</td>\n",
       "    </tr>\n",
       "    <tr>\n",
       "      <th>IL</th>\n",
       "      <td>100107</td>\n",
       "      <td>105914</td>\n",
       "      <td>103718</td>\n",
       "      <td>103898</td>\n",
       "      <td>103038</td>\n",
       "      <td>102957</td>\n",
       "      <td>83352</td>\n",
       "    </tr>\n",
       "    <tr>\n",
       "      <th>NY</th>\n",
       "      <td>69214</td>\n",
       "      <td>75567</td>\n",
       "      <td>72684</td>\n",
       "      <td>73430</td>\n",
       "      <td>74030</td>\n",
       "      <td>73798</td>\n",
       "      <td>57104</td>\n",
       "    </tr>\n",
       "    <tr>\n",
       "      <th>CO</th>\n",
       "      <td>69073</td>\n",
       "      <td>71859</td>\n",
       "      <td>68468</td>\n",
       "      <td>69778</td>\n",
       "      <td>70153</td>\n",
       "      <td>70366</td>\n",
       "      <td>59675</td>\n",
       "    </tr>\n",
       "    <tr>\n",
       "      <th>AZ</th>\n",
       "      <td>50097</td>\n",
       "      <td>51292</td>\n",
       "      <td>48255</td>\n",
       "      <td>50236</td>\n",
       "      <td>50543</td>\n",
       "      <td>50824</td>\n",
       "      <td>45005</td>\n",
       "    </tr>\n",
       "    <tr>\n",
       "      <th>NV</th>\n",
       "      <td>47092</td>\n",
       "      <td>47588</td>\n",
       "      <td>46013</td>\n",
       "      <td>46426</td>\n",
       "      <td>46954</td>\n",
       "      <td>47305</td>\n",
       "      <td>41935</td>\n",
       "    </tr>\n",
       "    <tr>\n",
       "      <th>NC</th>\n",
       "      <td>44027</td>\n",
       "      <td>47311</td>\n",
       "      <td>45908</td>\n",
       "      <td>47380</td>\n",
       "      <td>47004</td>\n",
       "      <td>47311</td>\n",
       "      <td>37359</td>\n",
       "    </tr>\n",
       "    <tr>\n",
       "      <th>...</th>\n",
       "      <td>...</td>\n",
       "      <td>...</td>\n",
       "      <td>...</td>\n",
       "      <td>...</td>\n",
       "      <td>...</td>\n",
       "      <td>...</td>\n",
       "      <td>...</td>\n",
       "    </tr>\n",
       "    <tr>\n",
       "      <th>MS</th>\n",
       "      <td>3028</td>\n",
       "      <td>3366</td>\n",
       "      <td>3216</td>\n",
       "      <td>3264</td>\n",
       "      <td>3292</td>\n",
       "      <td>3303</td>\n",
       "      <td>2370</td>\n",
       "    </tr>\n",
       "    <tr>\n",
       "      <th>KS</th>\n",
       "      <td>2731</td>\n",
       "      <td>2865</td>\n",
       "      <td>2771</td>\n",
       "      <td>2844</td>\n",
       "      <td>2766</td>\n",
       "      <td>2768</td>\n",
       "      <td>2103</td>\n",
       "    </tr>\n",
       "    <tr>\n",
       "      <th>WY</th>\n",
       "      <td>2644</td>\n",
       "      <td>2534</td>\n",
       "      <td>2424</td>\n",
       "      <td>2416</td>\n",
       "      <td>2444</td>\n",
       "      <td>2474</td>\n",
       "      <td>2571</td>\n",
       "    </tr>\n",
       "    <tr>\n",
       "      <th>SD</th>\n",
       "      <td>2330</td>\n",
       "      <td>2453</td>\n",
       "      <td>2357</td>\n",
       "      <td>2420</td>\n",
       "      <td>2375</td>\n",
       "      <td>2405</td>\n",
       "      <td>1997</td>\n",
       "    </tr>\n",
       "    <tr>\n",
       "      <th>ME</th>\n",
       "      <td>1959</td>\n",
       "      <td>2036</td>\n",
       "      <td>2017</td>\n",
       "      <td>1999</td>\n",
       "      <td>2047</td>\n",
       "      <td>2039</td>\n",
       "      <td>1685</td>\n",
       "    </tr>\n",
       "    <tr>\n",
       "      <th>NH</th>\n",
       "      <td>1841</td>\n",
       "      <td>1993</td>\n",
       "      <td>1977</td>\n",
       "      <td>1980</td>\n",
       "      <td>1937</td>\n",
       "      <td>1952</td>\n",
       "      <td>1764</td>\n",
       "    </tr>\n",
       "    <tr>\n",
       "      <th>VI</th>\n",
       "      <td>1799</td>\n",
       "      <td>1605</td>\n",
       "      <td>1517</td>\n",
       "      <td>1521</td>\n",
       "      <td>1602</td>\n",
       "      <td>1643</td>\n",
       "      <td>2348</td>\n",
       "    </tr>\n",
       "    <tr>\n",
       "      <th>VT</th>\n",
       "      <td>1133</td>\n",
       "      <td>1203</td>\n",
       "      <td>1198</td>\n",
       "      <td>1186</td>\n",
       "      <td>1171</td>\n",
       "      <td>1167</td>\n",
       "      <td>1092</td>\n",
       "    </tr>\n",
       "    <tr>\n",
       "      <th>WV</th>\n",
       "      <td>748</td>\n",
       "      <td>793</td>\n",
       "      <td>787</td>\n",
       "      <td>830</td>\n",
       "      <td>768</td>\n",
       "      <td>770</td>\n",
       "      <td>498</td>\n",
       "    </tr>\n",
       "    <tr>\n",
       "      <th>TT</th>\n",
       "      <td>110</td>\n",
       "      <td>213</td>\n",
       "      <td>104</td>\n",
       "      <td>132</td>\n",
       "      <td>104</td>\n",
       "      <td>209</td>\n",
       "      <td>104</td>\n",
       "    </tr>\n",
       "  </tbody>\n",
       "</table>\n",
       "<p>53 rows × 7 columns</p>\n",
       "</div>"
      ],
      "text/plain": [
       "       Sun     Mon     Tue     Wed     Thu     Fri     Sat\n",
       "CA  174652  183544  175707  177915  179338  180126  147463\n",
       "TX  149163  157490  150335  152656  153731  154344  123409\n",
       "FL  126202  127999  123016  123941  125002  125420  124652\n",
       "GA  110343  117193  114210  114653  114609  114734   90989\n",
       "IL  100107  105914  103718  103898  103038  102957   83352\n",
       "NY   69214   75567   72684   73430   74030   73798   57104\n",
       "CO   69073   71859   68468   69778   70153   70366   59675\n",
       "AZ   50097   51292   48255   50236   50543   50824   45005\n",
       "NV   47092   47588   46013   46426   46954   47305   41935\n",
       "NC   44027   47311   45908   47380   47004   47311   37359\n",
       "..     ...     ...     ...     ...     ...     ...     ...\n",
       "MS    3028    3366    3216    3264    3292    3303    2370\n",
       "KS    2731    2865    2771    2844    2766    2768    2103\n",
       "WY    2644    2534    2424    2416    2444    2474    2571\n",
       "SD    2330    2453    2357    2420    2375    2405    1997\n",
       "ME    1959    2036    2017    1999    2047    2039    1685\n",
       "NH    1841    1993    1977    1980    1937    1952    1764\n",
       "VI    1799    1605    1517    1521    1602    1643    2348\n",
       "VT    1133    1203    1198    1186    1171    1167    1092\n",
       "WV     748     793     787     830     768     770     498\n",
       "TT     110     213     104     132     104     209     104\n",
       "\n",
       "[53 rows x 7 columns]"
      ]
     },
     "metadata": {},
     "output_type": "display_data"
    }
   ],
   "source": [
    "state_ranking = flight_counts_state.index.tolist()\n",
    "print state_ranking\n",
    "\n",
    "display(flight_counts_state_weekday.head())\n",
    "display(flight_counts_state_weekday.reindex(state_ranking))"
   ]
  },
  {
   "cell_type": "code",
   "execution_count": 124,
   "metadata": {
    "collapsed": false
   },
   "outputs": [
    {
     "data": {
      "text/html": [
       "<iframe id=\"igraph\" scrolling=\"no\" style=\"border:none;\" seamless=\"seamless\" src=\"https://plot.ly/~takanori/1517.embed\" height=\"525px\" width=\"100%\"></iframe>"
      ],
      "text/plain": [
       "<plotly.tools.PlotlyDisplay object>"
      ]
     },
     "execution_count": 124,
     "metadata": {},
     "output_type": "execute_result"
    }
   ],
   "source": [
    "flight_counts_state_weekday_sorted = flight_counts_state_weekday.reindex(state_ranking)\n",
    "flight_counts_state_weekday_sorted.iplot(kind='bar',title='Click to zoom!')"
   ]
  },
  {
   "cell_type": "code",
   "execution_count": 120,
   "metadata": {
    "collapsed": false
   },
   "outputs": [
    {
     "data": {
      "text/html": [
       "<iframe id=\"igraph\" scrolling=\"no\" style=\"border:none;\" seamless=\"seamless\" src=\"https://plot.ly/~takanori/1509.embed\" height=\"525px\" width=\"100%\"></iframe>"
      ],
      "text/plain": [
       "<plotly.tools.PlotlyDisplay object>"
      ]
     },
     "execution_count": 120,
     "metadata": {},
     "output_type": "execute_result"
    }
   ],
   "source": [
    "flight_counts_state_weekday_sorted.ix[:15].iplot(kind='bar')"
   ]
  },
  {
   "cell_type": "code",
   "execution_count": 121,
   "metadata": {
    "collapsed": false
   },
   "outputs": [
    {
     "data": {
      "text/html": [
       "<iframe id=\"igraph\" scrolling=\"no\" style=\"border:none;\" seamless=\"seamless\" src=\"https://plot.ly/~takanori/1511.embed\" height=\"525px\" width=\"100%\"></iframe>"
      ],
      "text/plain": [
       "<plotly.tools.PlotlyDisplay object>"
      ]
     },
     "execution_count": 121,
     "metadata": {},
     "output_type": "execute_result"
    }
   ],
   "source": [
    "flight_counts_state_weekday_sorted.ix[15:30].iplot(kind='bar')"
   ]
  },
  {
   "cell_type": "code",
   "execution_count": 122,
   "metadata": {
    "collapsed": false
   },
   "outputs": [
    {
     "data": {
      "text/html": [
       "<iframe id=\"igraph\" scrolling=\"no\" style=\"border:none;\" seamless=\"seamless\" src=\"https://plot.ly/~takanori/1513.embed\" height=\"525px\" width=\"100%\"></iframe>"
      ],
      "text/plain": [
       "<plotly.tools.PlotlyDisplay object>"
      ]
     },
     "execution_count": 122,
     "metadata": {},
     "output_type": "execute_result"
    }
   ],
   "source": [
    "flight_counts_state_weekday_sorted.ix[30:45].iplot(kind='bar')"
   ]
  },
  {
   "cell_type": "code",
   "execution_count": 123,
   "metadata": {
    "collapsed": false
   },
   "outputs": [
    {
     "data": {
      "text/html": [
       "<iframe id=\"igraph\" scrolling=\"no\" style=\"border:none;\" seamless=\"seamless\" src=\"https://plot.ly/~takanori/1515.embed\" height=\"525px\" width=\"100%\"></iframe>"
      ],
      "text/plain": [
       "<plotly.tools.PlotlyDisplay object>"
      ]
     },
     "execution_count": 123,
     "metadata": {},
     "output_type": "execute_result"
    }
   ],
   "source": [
    "flight_counts_state_weekday_sorted.ix[45:].iplot(kind='bar')"
   ]
  },
  {
   "cell_type": "markdown",
   "metadata": {},
   "source": [
    "# Regress out effect from \"DAY OF WEEK\"\n",
    "\n",
    "- Apply linear regression using the \"Day of the week\" as the regressor.\n",
    "\n",
    "- By studying the residual from this regression, we hope to see more salient pattern once the dominant effect of \"day-of-week\" is removed"
   ]
  },
  {
   "cell_type": "code",
   "execution_count": 28,
   "metadata": {
    "collapsed": false,
    "run_control": {
     "frozen": false,
     "read_only": false
    }
   },
   "outputs": [
    {
     "data": {
      "text/html": [
       "<table class=\"simpletable\">\n",
       "<caption>OLS Regression Results</caption>\n",
       "<tr>\n",
       "  <th>Dep. Variable:</th>         <td>counts</td>      <th>  R-squared:         </th> <td>   0.553</td>\n",
       "</tr>\n",
       "<tr>\n",
       "  <th>Model:</th>                   <td>OLS</td>       <th>  Adj. R-squared:    </th> <td>   0.545</td>\n",
       "</tr>\n",
       "<tr>\n",
       "  <th>Method:</th>             <td>Least Squares</td>  <th>  F-statistic:       </th> <td>   73.96</td>\n",
       "</tr>\n",
       "<tr>\n",
       "  <th>Date:</th>             <td>Tue, 10 Jan 2017</td> <th>  Prob (F-statistic):</th> <td>9.34e-60</td>\n",
       "</tr>\n",
       "<tr>\n",
       "  <th>Time:</th>                 <td>16:26:24</td>     <th>  Log-Likelihood:    </th> <td> -3004.6</td>\n",
       "</tr>\n",
       "<tr>\n",
       "  <th>No. Observations:</th>      <td>   366</td>      <th>  AIC:               </th> <td>   6023.</td>\n",
       "</tr>\n",
       "<tr>\n",
       "  <th>Df Residuals:</th>          <td>   359</td>      <th>  BIC:               </th> <td>   6051.</td>\n",
       "</tr>\n",
       "<tr>\n",
       "  <th>Df Model:</th>              <td>     6</td>      <th>                     </th>     <td> </td>   \n",
       "</tr>\n",
       "<tr>\n",
       "  <th>Covariance Type:</th>      <td>nonrobust</td>    <th>                     </th>     <td> </td>   \n",
       "</tr>\n",
       "</table>\n",
       "<table class=\"simpletable\">\n",
       "<tr>\n",
       "           <td></td>              <th>coef</th>     <th>std err</th>      <th>t</th>      <th>P>|t|</th> <th>[95.0% Conf. Int.]</th> \n",
       "</tr>\n",
       "<tr>\n",
       "  <th>C(day_of_week)[Fri]</th> <td> 1.605e+04</td> <td>  124.514</td> <td>  128.866</td> <td> 0.000</td> <td> 1.58e+04  1.63e+04</td>\n",
       "</tr>\n",
       "<tr>\n",
       "  <th>C(day_of_week)[Mon]</th> <td> 1.604e+04</td> <td>  123.334</td> <td>  130.061</td> <td> 0.000</td> <td> 1.58e+04  1.63e+04</td>\n",
       "</tr>\n",
       "<tr>\n",
       "  <th>C(day_of_week)[Sat]</th> <td> 1.312e+04</td> <td>  124.514</td> <td>  105.345</td> <td> 0.000</td> <td> 1.29e+04  1.34e+04</td>\n",
       "</tr>\n",
       "<tr>\n",
       "  <th>C(day_of_week)[Sun]</th> <td> 1.518e+04</td> <td>  123.334</td> <td>  123.110</td> <td> 0.000</td> <td> 1.49e+04  1.54e+04</td>\n",
       "</tr>\n",
       "<tr>\n",
       "  <th>C(day_of_week)[Thu]</th> <td> 1.599e+04</td> <td>  124.514</td> <td>  128.415</td> <td> 0.000</td> <td> 1.57e+04  1.62e+04</td>\n",
       "</tr>\n",
       "<tr>\n",
       "  <th>C(day_of_week)[Tue]</th> <td> 1.578e+04</td> <td>  124.514</td> <td>  126.740</td> <td> 0.000</td> <td> 1.55e+04   1.6e+04</td>\n",
       "</tr>\n",
       "<tr>\n",
       "  <th>C(day_of_week)[Wed]</th> <td> 1.595e+04</td> <td>  124.514</td> <td>  128.122</td> <td> 0.000</td> <td> 1.57e+04  1.62e+04</td>\n",
       "</tr>\n",
       "</table>\n",
       "<table class=\"simpletable\">\n",
       "<tr>\n",
       "  <th>Omnibus:</th>       <td>138.226</td> <th>  Durbin-Watson:     </th> <td>   0.904</td> \n",
       "</tr>\n",
       "<tr>\n",
       "  <th>Prob(Omnibus):</th> <td> 0.000</td>  <th>  Jarque-Bera (JB):  </th> <td> 802.535</td> \n",
       "</tr>\n",
       "<tr>\n",
       "  <th>Skew:</th>          <td>-1.478</td>  <th>  Prob(JB):          </th> <td>5.39e-175</td>\n",
       "</tr>\n",
       "<tr>\n",
       "  <th>Kurtosis:</th>      <td> 9.625</td>  <th>  Cond. No.          </th> <td>    1.01</td> \n",
       "</tr>\n",
       "</table>"
      ],
      "text/plain": [
       "<class 'statsmodels.iolib.summary.Summary'>\n",
       "\"\"\"\n",
       "                            OLS Regression Results                            \n",
       "==============================================================================\n",
       "Dep. Variable:                 counts   R-squared:                       0.553\n",
       "Model:                            OLS   Adj. R-squared:                  0.545\n",
       "Method:                 Least Squares   F-statistic:                     73.96\n",
       "Date:                Tue, 10 Jan 2017   Prob (F-statistic):           9.34e-60\n",
       "Time:                        16:26:24   Log-Likelihood:                -3004.6\n",
       "No. Observations:                 366   AIC:                             6023.\n",
       "Df Residuals:                     359   BIC:                             6051.\n",
       "Df Model:                           6                                         \n",
       "Covariance Type:            nonrobust                                         \n",
       "=======================================================================================\n",
       "                          coef    std err          t      P>|t|      [95.0% Conf. Int.]\n",
       "---------------------------------------------------------------------------------------\n",
       "C(day_of_week)[Fri]  1.605e+04    124.514    128.866      0.000      1.58e+04  1.63e+04\n",
       "C(day_of_week)[Mon]  1.604e+04    123.334    130.061      0.000      1.58e+04  1.63e+04\n",
       "C(day_of_week)[Sat]  1.312e+04    124.514    105.345      0.000      1.29e+04  1.34e+04\n",
       "C(day_of_week)[Sun]  1.518e+04    123.334    123.110      0.000      1.49e+04  1.54e+04\n",
       "C(day_of_week)[Thu]  1.599e+04    124.514    128.415      0.000      1.57e+04  1.62e+04\n",
       "C(day_of_week)[Tue]  1.578e+04    124.514    126.740      0.000      1.55e+04   1.6e+04\n",
       "C(day_of_week)[Wed]  1.595e+04    124.514    128.122      0.000      1.57e+04  1.62e+04\n",
       "==============================================================================\n",
       "Omnibus:                      138.226   Durbin-Watson:                   0.904\n",
       "Prob(Omnibus):                  0.000   Jarque-Bera (JB):              802.535\n",
       "Skew:                          -1.478   Prob(JB):                    5.39e-175\n",
       "Kurtosis:                       9.625   Cond. No.                         1.01\n",
       "==============================================================================\n",
       "\n",
       "Warnings:\n",
       "[1] Standard Errors assume that the covariance matrix of the errors is correctly specified.\n",
       "\"\"\""
      ]
     },
     "execution_count": 28,
     "metadata": {},
     "output_type": "execute_result"
    }
   ],
   "source": [
    "import statsmodels.formula.api as smf\n",
    "mod = smf.ols(formula = 'counts ~ C(day_of_week) - 1',data=ts_flightcounts).fit()\n",
    "\n",
    "mod.summary()"
   ]
  },
  {
   "cell_type": "markdown",
   "metadata": {},
   "source": [
    "## Plot residuals after \"weekday\" regression"
   ]
  },
  {
   "cell_type": "code",
   "execution_count": 29,
   "metadata": {
    "collapsed": false,
    "run_control": {
     "frozen": false,
     "read_only": false
    }
   },
   "outputs": [
    {
     "data": {
      "text/html": [
       "<iframe id=\"igraph\" scrolling=\"no\" style=\"border:none;\" seamless=\"seamless\" src=\"https://plot.ly/~takanori/1369.embed\" height=\"525px\" width=\"100%\"></iframe>"
      ],
      "text/plain": [
       "<plotly.tools.PlotlyDisplay object>"
      ]
     },
     "execution_count": 29,
     "metadata": {},
     "output_type": "execute_result"
    }
   ],
   "source": [
    "# add residual information\n",
    "ts_flightcounts['residual'] = mod.resid\n",
    "\n",
    "title = 'Residual Airflight Counts in the US <br>(`day_of_week` as regressors)'\n",
    "ts_flightcounts.iplot(y=['residual'],\n",
    "                      filename=outfile+'plot_resid',\n",
    "                      text=hover_text,\n",
    "                      title=title)"
   ]
  },
  {
   "cell_type": "markdown",
   "metadata": {},
   "source": [
    "## Get \"Lagged\" residual\n",
    "\n",
    "- let's take this a step further, and compute and plot the \"lagged\" residual plot\n",
    "\n",
    "- this is given by: ``resid_lag[t] = resid[t+1] - resid[t]``"
   ]
  },
  {
   "cell_type": "code",
   "execution_count": 30,
   "metadata": {
    "collapsed": false,
    "run_control": {
     "frozen": false,
     "read_only": false
    }
   },
   "outputs": [],
   "source": [
    "# also add \"lagged\" residual information\n",
    "ts_flightcounts['resid_lag'] = \\\n",
    "    ts_flightcounts['residual'].shift(1) - ts_flightcounts['residual']\n",
    "    \n",
    "title = 'Lagged Residual Plot of Airflight Counts in the US (left click to zoom)'\n",
    "title+= '<br>(\"day-of-week\" used as regressors; shaded region = +/-1.5 std-dev)'\n",
    "\n",
    "annotations = {\n",
    "    datetime(2015,11,26):'Thanksgiving',\n",
    "    datetime(2015,12,24):'Christmas Eve',\n",
    "    datetime(2015,12,31):'New Years',\n",
    "    datetime(2016, 2, 7):'??? Something happen ???',\n",
    "    datetime(2016, 5,29):'Memorials Day',\n",
    "    datetime(2016, 7, 3):'Independence Day',\n",
    "    datetime(2016, 9, 4):'Labor Day',\n",
    "}\n",
    "\n",
    "std_ = ts_flightcounts['resid_lag'].std()"
   ]
  },
  {
   "cell_type": "code",
   "execution_count": 31,
   "metadata": {
    "collapsed": false,
    "run_control": {
     "frozen": false,
     "read_only": false
    }
   },
   "outputs": [
    {
     "data": {
      "text/html": [
       "<iframe id=\"igraph\" scrolling=\"no\" style=\"border:none;\" seamless=\"seamless\" src=\"https://plot.ly/~takanori/1371.embed\" height=\"525px\" width=\"100%\"></iframe>"
      ],
      "text/plain": [
       "<plotly.tools.PlotlyDisplay object>"
      ]
     },
     "execution_count": 31,
     "metadata": {},
     "output_type": "execute_result"
    }
   ],
   "source": [
    "ts_flightcounts['resid_lag'].iplot(\n",
    "    filename=outfile+'plot_resid_lag',\n",
    "    annotations=annotations,\n",
    "    #hspan=[(-1.5*std_,1.5*std_)],\n",
    "    hspan = dict(y0=-1.5*std_,y1=1.5*std_,opacity=0.2,color='teal',fill=True),\n",
    "    text=hover_text,\n",
    "    title=title)"
   ]
  },
  {
   "cell_type": "markdown",
   "metadata": {},
   "source": [
    "## Create subplots with all 3 plots"
   ]
  },
  {
   "cell_type": "code",
   "execution_count": 32,
   "metadata": {
    "collapsed": false,
    "run_control": {
     "frozen": false,
     "read_only": false
    }
   },
   "outputs": [
    {
     "data": {
      "text/html": [
       "<iframe id=\"igraph\" scrolling=\"no\" style=\"border:none;\" seamless=\"seamless\" src=\"https://plot.ly/~takanori/1373.embed\" height=\"525px\" width=\"100%\"></iframe>"
      ],
      "text/plain": [
       "<plotly.tools.PlotlyDisplay object>"
      ]
     },
     "execution_count": 32,
     "metadata": {},
     "output_type": "execute_result"
    }
   ],
   "source": [
    "title = 'Flight counts'\n",
    "ts_flightcounts.iplot(y=['counts','residual','resid_lag'],\n",
    "                      subplots=True, shape=(3,1),\n",
    "                      text=hover_text,\n",
    "                      shared_xaxes=True, \n",
    "                      title=title,\n",
    "                      filename=outfile+'flightcounts_subplot')"
   ]
  },
  {
   "cell_type": "markdown",
   "metadata": {},
   "source": [
    "## Histograms"
   ]
  },
  {
   "cell_type": "code",
   "execution_count": 33,
   "metadata": {
    "collapsed": false,
    "run_control": {
     "frozen": false,
     "read_only": false
    }
   },
   "outputs": [],
   "source": [
    "#| meh, boring plot\n",
    "# ts_flightcounts[['counts','residual','resid_lag']].iplot(kind='histogram',\n",
    "#                       filename=outfile+'histogram',\n",
    "#                       title='')"
   ]
  },
  {
   "cell_type": "code",
   "execution_count": 34,
   "metadata": {
    "collapsed": false,
    "run_control": {
     "frozen": false,
     "read_only": false
    }
   },
   "outputs": [],
   "source": [
    "# ts_flightcounts[groups]"
   ]
  },
  {
   "cell_type": "code",
   "execution_count": 35,
   "metadata": {
    "collapsed": false,
    "run_control": {
     "frozen": false,
     "marked": false,
     "read_only": false
    },
    "scrolled": true
   },
   "outputs": [
    {
     "data": {
      "text/html": [
       "<iframe id=\"igraph\" scrolling=\"no\" style=\"border:none;\" seamless=\"seamless\" src=\"https://plot.ly/~takanori/1385.embed?share_key=MvnKY7mPLYO2htAyWOal3j\" height=\"525px\" width=\"100%\"></iframe>"
      ],
      "text/plain": [
       "<plotly.tools.PlotlyDisplay object>"
      ]
     },
     "execution_count": 35,
     "metadata": {},
     "output_type": "execute_result"
    }
   ],
   "source": [
    "from plotly.tools import FigureFactory as FF\n",
    "\n",
    "columns = ['counts','residual','resid_lag']\n",
    "group_data = map(lambda col: ts_flightcounts[col].dropna().values,columns)\n",
    "fig = FF.create_distplot(group_data,\n",
    "                         group_labels=columns,\n",
    "                         bin_size= 300,\n",
    "                         curve_type='normal',#'kde' or 'normal'\n",
    ")\n",
    "\n",
    "py.iplot(fig, filename=outfile+'histogram2',title='Distributions among the 3 quantities of interest')"
   ]
  }
 ],
 "metadata": {
  "anaconda-cloud": {},
  "hide_input": false,
  "kernelspec": {
   "display_name": "Python [Root]",
   "language": "python",
   "name": "Python [Root]"
  },
  "language_info": {
   "codemirror_mode": {
    "name": "ipython",
    "version": 2
   },
   "file_extension": ".py",
   "mimetype": "text/x-python",
   "name": "python",
   "nbconvert_exporter": "python",
   "pygments_lexer": "ipython2",
   "version": "2.7.12"
  },
  "nav_menu": {},
  "toc": {
   "navigate_menu": true,
   "number_sections": true,
   "sideBar": true,
   "threshold": 6,
   "toc_cell": true,
   "toc_section_display": "block",
   "toc_window_display": true
  },
  "toc_position": {
   "height": "664px",
   "left": "0px",
   "right": "1208px",
   "top": "106px",
   "width": "201px"
  }
 },
 "nbformat": 4,
 "nbformat_minor": 0
}
