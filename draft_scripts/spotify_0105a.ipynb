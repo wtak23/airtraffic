{
 "cells": [
  {
   "cell_type": "markdown",
   "metadata": {
    "toc": "true"
   },
   "source": [
    "# Table of Contents\n",
    " <p><div class=\"lev1 toc-item\"><a href=\"#Study-the-&quot;carrier&quot;-spreadsheet\" data-toc-modified-id=\"Study-the-&quot;carrier&quot;-spreadsheet-1\"><span class=\"toc-item-num\">1&nbsp;&nbsp;</span>Study the \"carrier\" spreadsheet</a></div><div class=\"lev2 toc-item\"><a href=\"#sort-out-the-&quot;nan&quot;-values\" data-toc-modified-id=\"sort-out-the-&quot;nan&quot;-values-1.1\"><span class=\"toc-item-num\">1.1&nbsp;&nbsp;</span>sort out the \"nan\" values</a></div><div class=\"lev2 toc-item\"><a href=\"#Filter-away-nans-from-the-DataFrame\" data-toc-modified-id=\"Filter-away-nans-from-the-DataFrame-1.2\"><span class=\"toc-item-num\">1.2&nbsp;&nbsp;</span>Filter away nans from the DataFrame</a></div><div class=\"lev2 toc-item\"><a href=\"#Realized-some-Code-is-treated-as-int...convert-to-string\" data-toc-modified-id=\"Realized-some-Code-is-treated-as-int...convert-to-string-1.3\"><span class=\"toc-item-num\">1.3&nbsp;&nbsp;</span>Realized some <em>Code</em> is treated as int...convert to string</a></div><div class=\"lev2 toc-item\"><a href=\"#What's-the-deal-with-the-(1)-appended-to-some-of-the-entries?\" data-toc-modified-id=\"What's-the-deal-with-the-(1)-appended-to-some-of-the-entries?-1.4\"><span class=\"toc-item-num\">1.4&nbsp;&nbsp;</span>What's the deal with the (1) appended to some of the entries?</a></div><div class=\"lev1 toc-item\"><a href=\"#Study-airports-spreadsheet\" data-toc-modified-id=\"Study-airports-spreadsheet-2\"><span class=\"toc-item-num\">2&nbsp;&nbsp;</span>Study <em>airports</em> spreadsheet</a></div><div class=\"lev2 toc-item\"><a href=\"#Study-nans\" data-toc-modified-id=\"Study-nans-2.1\"><span class=\"toc-item-num\">2.1&nbsp;&nbsp;</span>Study nans</a></div><div class=\"lev2 toc-item\"><a href=\"#Filter-out-non-USA-airports\" data-toc-modified-id=\"Filter-out-non-USA-airports-2.2\"><span class=\"toc-item-num\">2.2&nbsp;&nbsp;</span>Filter out non-USA airports</a></div><div class=\"lev1 toc-item\"><a href=\"#Todo-list\" data-toc-modified-id=\"Todo-list-3\"><span class=\"toc-item-num\">3&nbsp;&nbsp;</span>Todo list</a></div><div class=\"lev1 toc-item\"><a href=\"#Study-&quot;airports&quot;-state-distribution\" data-toc-modified-id=\"Study-&quot;airports&quot;-state-distribution-4\"><span class=\"toc-item-num\">4&nbsp;&nbsp;</span>Study \"airports\" state distribution</a></div><div class=\"lev2 toc-item\"><a href=\"#Plot-bubble-markers-for-all-airports\" data-toc-modified-id=\"Plot-bubble-markers-for-all-airports-4.1\"><span class=\"toc-item-num\">4.1&nbsp;&nbsp;</span>Plot bubble markers for all airports</a></div><div class=\"lev2 toc-item\"><a href=\"#Take-a-closer-look-at-Michigan,-my-home-state\" data-toc-modified-id=\"Take-a-closer-look-at-Michigan,-my-home-state-4.2\"><span class=\"toc-item-num\">4.2&nbsp;&nbsp;</span>Take a closer look at Michigan, my home state</a></div>"
   ]
  },
  {
   "cell_type": "code",
   "execution_count": 1,
   "metadata": {
    "collapsed": false,
    "run_control": {
     "frozen": false,
     "read_only": false
    }
   },
   "outputs": [],
   "source": [
    "import pandas as pd\n",
    "import numpy as np\n",
    "import matplotlib.pyplot as plt\n",
    "from pprint import pprint\n",
    "import os\n",
    "os.getcwd()\n",
    "\n",
    "from geopy.geocoders import Nominatim\n",
    "geolocator = Nominatim()\n",
    "\n",
    "# limit output to avoid cluttering screen\n",
    "pd.options.display.max_rows = 20"
   ]
  },
  {
   "cell_type": "code",
   "execution_count": null,
   "metadata": {
    "collapsed": true,
    "run_control": {
     "frozen": false,
     "read_only": false
    }
   },
   "outputs": [],
   "source": []
  },
  {
   "cell_type": "markdown",
   "metadata": {},
   "source": [
    "# Study the \"carrier\" spreadsheet"
   ]
  },
  {
   "cell_type": "code",
   "execution_count": 2,
   "metadata": {
    "collapsed": false,
    "run_control": {
     "frozen": false,
     "read_only": false
    }
   },
   "outputs": [
    {
     "name": "stdout",
     "output_type": "stream",
     "text": [
      "df_carr.shape =  (2982, 2)\n",
      "[u'Code', u'Description']\n"
     ]
    },
    {
     "data": {
      "text/html": [
       "<div>\n",
       "<table border=\"1\" class=\"dataframe\">\n",
       "  <thead>\n",
       "    <tr style=\"text-align: right;\">\n",
       "      <th></th>\n",
       "      <th>Code</th>\n",
       "      <th>Description</th>\n",
       "    </tr>\n",
       "  </thead>\n",
       "  <tbody>\n",
       "    <tr>\n",
       "      <th>0</th>\n",
       "      <td>NaN</td>\n",
       "      <td>NaN</td>\n",
       "    </tr>\n",
       "    <tr>\n",
       "      <th>1</th>\n",
       "      <td>02Q</td>\n",
       "      <td>Titan Airways</td>\n",
       "    </tr>\n",
       "    <tr>\n",
       "      <th>2</th>\n",
       "      <td>NaN</td>\n",
       "      <td>NaN</td>\n",
       "    </tr>\n",
       "    <tr>\n",
       "      <th>3</th>\n",
       "      <td>04Q</td>\n",
       "      <td>Tradewind Aviation</td>\n",
       "    </tr>\n",
       "    <tr>\n",
       "      <th>4</th>\n",
       "      <td>NaN</td>\n",
       "      <td>NaN</td>\n",
       "    </tr>\n",
       "    <tr>\n",
       "      <th>5</th>\n",
       "      <td>05Q</td>\n",
       "      <td>Comlux Aviation, AG</td>\n",
       "    </tr>\n",
       "    <tr>\n",
       "      <th>6</th>\n",
       "      <td>NaN</td>\n",
       "      <td>NaN</td>\n",
       "    </tr>\n",
       "    <tr>\n",
       "      <th>7</th>\n",
       "      <td>06Q</td>\n",
       "      <td>Master Top Linhas Aereas Ltd.</td>\n",
       "    </tr>\n",
       "    <tr>\n",
       "      <th>8</th>\n",
       "      <td>NaN</td>\n",
       "      <td>NaN</td>\n",
       "    </tr>\n",
       "    <tr>\n",
       "      <th>9</th>\n",
       "      <td>07Q</td>\n",
       "      <td>Flair Airlines Ltd.</td>\n",
       "    </tr>\n",
       "    <tr>\n",
       "      <th>10</th>\n",
       "      <td>NaN</td>\n",
       "      <td>NaN</td>\n",
       "    </tr>\n",
       "    <tr>\n",
       "      <th>11</th>\n",
       "      <td>09Q</td>\n",
       "      <td>Swift Air, LLC</td>\n",
       "    </tr>\n",
       "    <tr>\n",
       "      <th>12</th>\n",
       "      <td>NaN</td>\n",
       "      <td>NaN</td>\n",
       "    </tr>\n",
       "    <tr>\n",
       "      <th>13</th>\n",
       "      <td>0BQ</td>\n",
       "      <td>DCA</td>\n",
       "    </tr>\n",
       "    <tr>\n",
       "      <th>14</th>\n",
       "      <td>NaN</td>\n",
       "      <td>NaN</td>\n",
       "    </tr>\n",
       "  </tbody>\n",
       "</table>\n",
       "</div>"
      ],
      "text/plain": [
       "   Code                    Description\n",
       "0   NaN                            NaN\n",
       "1   02Q                  Titan Airways\n",
       "2   NaN                            NaN\n",
       "3   04Q             Tradewind Aviation\n",
       "4   NaN                            NaN\n",
       "5   05Q            Comlux Aviation, AG\n",
       "6   NaN                            NaN\n",
       "7   06Q  Master Top Linhas Aereas Ltd.\n",
       "8   NaN                            NaN\n",
       "9   07Q            Flair Airlines Ltd.\n",
       "10  NaN                            NaN\n",
       "11  09Q                 Swift Air, LLC\n",
       "12  NaN                            NaN\n",
       "13  0BQ                            DCA\n",
       "14  NaN                            NaN"
      ]
     },
     "execution_count": 2,
     "metadata": {},
     "output_type": "execute_result"
    }
   ],
   "source": [
    "df_carr = pd.read_excel('../data/carriers.xls')\n",
    "print \"df_carr.shape = \",df_carr.shape\n",
    "print df_carr.columns.tolist()\n",
    "df_carr.head(n=15)"
   ]
  },
  {
   "cell_type": "markdown",
   "metadata": {},
   "source": [
    "## sort out the \"nan\" values"
   ]
  },
  {
   "cell_type": "code",
   "execution_count": 3,
   "metadata": {
    "collapsed": false,
    "run_control": {
     "frozen": false,
     "read_only": false
    }
   },
   "outputs": [
    {
     "data": {
      "text/html": [
       "<div>\n",
       "<table border=\"1\" class=\"dataframe\">\n",
       "  <thead>\n",
       "    <tr style=\"text-align: right;\">\n",
       "      <th></th>\n",
       "      <th>Code</th>\n",
       "      <th>Description</th>\n",
       "    </tr>\n",
       "  </thead>\n",
       "  <tbody>\n",
       "    <tr>\n",
       "      <th>0</th>\n",
       "      <td>True</td>\n",
       "      <td>True</td>\n",
       "    </tr>\n",
       "    <tr>\n",
       "      <th>1</th>\n",
       "      <td>False</td>\n",
       "      <td>False</td>\n",
       "    </tr>\n",
       "    <tr>\n",
       "      <th>2</th>\n",
       "      <td>True</td>\n",
       "      <td>True</td>\n",
       "    </tr>\n",
       "    <tr>\n",
       "      <th>3</th>\n",
       "      <td>False</td>\n",
       "      <td>False</td>\n",
       "    </tr>\n",
       "    <tr>\n",
       "      <th>4</th>\n",
       "      <td>True</td>\n",
       "      <td>True</td>\n",
       "    </tr>\n",
       "    <tr>\n",
       "      <th>5</th>\n",
       "      <td>False</td>\n",
       "      <td>False</td>\n",
       "    </tr>\n",
       "    <tr>\n",
       "      <th>6</th>\n",
       "      <td>True</td>\n",
       "      <td>True</td>\n",
       "    </tr>\n",
       "    <tr>\n",
       "      <th>7</th>\n",
       "      <td>False</td>\n",
       "      <td>False</td>\n",
       "    </tr>\n",
       "    <tr>\n",
       "      <th>8</th>\n",
       "      <td>True</td>\n",
       "      <td>True</td>\n",
       "    </tr>\n",
       "    <tr>\n",
       "      <th>9</th>\n",
       "      <td>False</td>\n",
       "      <td>False</td>\n",
       "    </tr>\n",
       "    <tr>\n",
       "      <th>...</th>\n",
       "      <td>...</td>\n",
       "      <td>...</td>\n",
       "    </tr>\n",
       "    <tr>\n",
       "      <th>2972</th>\n",
       "      <td>True</td>\n",
       "      <td>True</td>\n",
       "    </tr>\n",
       "    <tr>\n",
       "      <th>2973</th>\n",
       "      <td>False</td>\n",
       "      <td>False</td>\n",
       "    </tr>\n",
       "    <tr>\n",
       "      <th>2974</th>\n",
       "      <td>True</td>\n",
       "      <td>True</td>\n",
       "    </tr>\n",
       "    <tr>\n",
       "      <th>2975</th>\n",
       "      <td>False</td>\n",
       "      <td>False</td>\n",
       "    </tr>\n",
       "    <tr>\n",
       "      <th>2976</th>\n",
       "      <td>True</td>\n",
       "      <td>True</td>\n",
       "    </tr>\n",
       "    <tr>\n",
       "      <th>2977</th>\n",
       "      <td>False</td>\n",
       "      <td>False</td>\n",
       "    </tr>\n",
       "    <tr>\n",
       "      <th>2978</th>\n",
       "      <td>True</td>\n",
       "      <td>True</td>\n",
       "    </tr>\n",
       "    <tr>\n",
       "      <th>2979</th>\n",
       "      <td>False</td>\n",
       "      <td>False</td>\n",
       "    </tr>\n",
       "    <tr>\n",
       "      <th>2980</th>\n",
       "      <td>True</td>\n",
       "      <td>True</td>\n",
       "    </tr>\n",
       "    <tr>\n",
       "      <th>2981</th>\n",
       "      <td>False</td>\n",
       "      <td>False</td>\n",
       "    </tr>\n",
       "  </tbody>\n",
       "</table>\n",
       "<p>2982 rows × 2 columns</p>\n",
       "</div>"
      ],
      "text/plain": [
       "       Code Description\n",
       "0      True        True\n",
       "1     False       False\n",
       "2      True        True\n",
       "3     False       False\n",
       "4      True        True\n",
       "5     False       False\n",
       "6      True        True\n",
       "7     False       False\n",
       "8      True        True\n",
       "9     False       False\n",
       "...     ...         ...\n",
       "2972   True        True\n",
       "2973  False       False\n",
       "2974   True        True\n",
       "2975  False       False\n",
       "2976   True        True\n",
       "2977  False       False\n",
       "2978   True        True\n",
       "2979  False       False\n",
       "2980   True        True\n",
       "2981  False       False\n",
       "\n",
       "[2982 rows x 2 columns]"
      ]
     },
     "execution_count": 3,
     "metadata": {},
     "output_type": "execute_result"
    }
   ],
   "source": [
    "df_carr.isnull()"
   ]
  },
  {
   "cell_type": "markdown",
   "metadata": {},
   "source": [
    "... appears like every-other rows are nans"
   ]
  },
  {
   "cell_type": "code",
   "execution_count": 4,
   "metadata": {
    "collapsed": false,
    "run_control": {
     "frozen": false,
     "read_only": false
    }
   },
   "outputs": [
    {
     "data": {
      "text/plain": [
       "Code           1492\n",
       "Description    1491\n",
       "dtype: int64"
      ]
     },
     "execution_count": 4,
     "metadata": {},
     "output_type": "execute_result"
    }
   ],
   "source": [
    "df_carr.isnull().sum()"
   ]
  },
  {
   "cell_type": "markdown",
   "metadata": {},
   "source": [
    "... one airline has extra nan values in the \"Code\" column....\n",
    "anything special about that entry?"
   ]
  },
  {
   "cell_type": "code",
   "execution_count": 5,
   "metadata": {
    "collapsed": false,
    "run_control": {
     "frozen": false,
     "read_only": false
    },
    "scrolled": true
   },
   "outputs": [
    {
     "data": {
      "text/plain": [
       "Code                               NaN\n",
       "Description    North American Airlines\n",
       "Name: 1747, dtype: object"
      ]
     },
     "execution_count": 5,
     "metadata": {},
     "output_type": "execute_result"
    }
   ],
   "source": [
    "# which record/row has Code NaN \n",
    "_idx = np.where(df_carr.isnull().sum(axis=1) == 1)[0][0]\n",
    "\n",
    "df_carr.ix[_idx]"
   ]
  },
  {
   "cell_type": "markdown",
   "metadata": {},
   "source": [
    "...so nothing exactly special looking..."
   ]
  },
  {
   "cell_type": "markdown",
   "metadata": {},
   "source": [
    "## Filter away nans from the DataFrame\n",
    "\n",
    "- remove row with *any* nans"
   ]
  },
  {
   "cell_type": "code",
   "execution_count": 6,
   "metadata": {
    "collapsed": false,
    "run_control": {
     "frozen": false,
     "read_only": false
    }
   },
   "outputs": [
    {
     "name": "stdout",
     "output_type": "stream",
     "text": [
      "df_carr.shape =  (1490, 2)\n"
     ]
    }
   ],
   "source": [
    "df_carr = df_carr[~df_carr.isnull().any(axis=1)]\n",
    "print \"df_carr.shape = \",df_carr.shape"
   ]
  },
  {
   "cell_type": "code",
   "execution_count": 7,
   "metadata": {
    "collapsed": false,
    "run_control": {
     "frozen": false,
     "read_only": false
    }
   },
   "outputs": [
    {
     "name": "stdout",
     "output_type": "stream",
     "text": [
      "(1490L,)\n",
      "(1490L,)\n"
     ]
    }
   ],
   "source": [
    "# all record appears to be unique\n",
    "print df_carr['Code'].unique().shape\n",
    "print df_carr['Description'].unique().shape"
   ]
  },
  {
   "cell_type": "code",
   "execution_count": 8,
   "metadata": {
    "collapsed": false,
    "run_control": {
     "frozen": false,
     "read_only": false
    }
   },
   "outputs": [
    {
     "data": {
      "text/html": [
       "<div>\n",
       "<table border=\"1\" class=\"dataframe\">\n",
       "  <thead>\n",
       "    <tr style=\"text-align: right;\">\n",
       "      <th></th>\n",
       "      <th>Code</th>\n",
       "      <th>Description</th>\n",
       "    </tr>\n",
       "  </thead>\n",
       "  <tbody>\n",
       "    <tr>\n",
       "      <th>1</th>\n",
       "      <td>02Q</td>\n",
       "      <td>Titan Airways</td>\n",
       "    </tr>\n",
       "    <tr>\n",
       "      <th>3</th>\n",
       "      <td>04Q</td>\n",
       "      <td>Tradewind Aviation</td>\n",
       "    </tr>\n",
       "    <tr>\n",
       "      <th>5</th>\n",
       "      <td>05Q</td>\n",
       "      <td>Comlux Aviation, AG</td>\n",
       "    </tr>\n",
       "    <tr>\n",
       "      <th>7</th>\n",
       "      <td>06Q</td>\n",
       "      <td>Master Top Linhas Aereas Ltd.</td>\n",
       "    </tr>\n",
       "    <tr>\n",
       "      <th>9</th>\n",
       "      <td>07Q</td>\n",
       "      <td>Flair Airlines Ltd.</td>\n",
       "    </tr>\n",
       "    <tr>\n",
       "      <th>11</th>\n",
       "      <td>09Q</td>\n",
       "      <td>Swift Air, LLC</td>\n",
       "    </tr>\n",
       "    <tr>\n",
       "      <th>13</th>\n",
       "      <td>0BQ</td>\n",
       "      <td>DCA</td>\n",
       "    </tr>\n",
       "    <tr>\n",
       "      <th>15</th>\n",
       "      <td>0CQ</td>\n",
       "      <td>ACM AIR CHARTER GmbH</td>\n",
       "    </tr>\n",
       "    <tr>\n",
       "      <th>17</th>\n",
       "      <td>0FQ</td>\n",
       "      <td>Maine Aviation Aircraft Charter, LLC</td>\n",
       "    </tr>\n",
       "    <tr>\n",
       "      <th>19</th>\n",
       "      <td>0GQ</td>\n",
       "      <td>Inter Island Airways, d/b/a Inter Island Air</td>\n",
       "    </tr>\n",
       "  </tbody>\n",
       "</table>\n",
       "</div>"
      ],
      "text/plain": [
       "   Code                                   Description\n",
       "1   02Q                                 Titan Airways\n",
       "3   04Q                            Tradewind Aviation\n",
       "5   05Q                           Comlux Aviation, AG\n",
       "7   06Q                 Master Top Linhas Aereas Ltd.\n",
       "9   07Q                           Flair Airlines Ltd.\n",
       "11  09Q                                Swift Air, LLC\n",
       "13  0BQ                                           DCA\n",
       "15  0CQ                          ACM AIR CHARTER GmbH\n",
       "17  0FQ          Maine Aviation Aircraft Charter, LLC\n",
       "19  0GQ  Inter Island Airways, d/b/a Inter Island Air"
      ]
     },
     "execution_count": 8,
     "metadata": {},
     "output_type": "execute_result"
    }
   ],
   "source": [
    "df_carr.head(n=10)"
   ]
  },
  {
   "cell_type": "code",
   "execution_count": 9,
   "metadata": {
    "collapsed": false,
    "run_control": {
     "frozen": false,
     "read_only": false
    }
   },
   "outputs": [],
   "source": [
    "# reset index\n",
    "df_carr.reset_index(drop=True,inplace=True)"
   ]
  },
  {
   "cell_type": "markdown",
   "metadata": {},
   "source": [
    "## Realized some *Code* is treated as int...convert to string\n",
    "- d"
   ]
  },
  {
   "cell_type": "code",
   "execution_count": 10,
   "metadata": {
    "collapsed": true,
    "run_control": {
     "frozen": false,
     "read_only": false
    }
   },
   "outputs": [],
   "source": [
    "# convert columns to unicode (realized some elements are treated as 'int', which messes up some string tests below\n",
    "df_carr['Code'] = df_carr['Code'].apply(unicode)\n",
    "df_carr['Description'] = df_carr['Description'].apply(unicode)\n",
    "#df_carr['Code'] = df_carr['Code'].apply(str)"
   ]
  },
  {
   "cell_type": "code",
   "execution_count": 11,
   "metadata": {
    "collapsed": false,
    "run_control": {
     "frozen": false,
     "read_only": false
    }
   },
   "outputs": [
    {
     "data": {
      "text/plain": [
       "Code           object\n",
       "Description    object\n",
       "dtype: object"
      ]
     },
     "execution_count": 11,
     "metadata": {},
     "output_type": "execute_result"
    }
   ],
   "source": [
    "df_carr.dtypes"
   ]
  },
  {
   "cell_type": "markdown",
   "metadata": {},
   "source": [
    "## What's the deal with the (1) appended to some of the entries?"
   ]
  },
  {
   "cell_type": "code",
   "execution_count": null,
   "metadata": {
    "collapsed": true,
    "run_control": {
     "frozen": false,
     "read_only": false
    }
   },
   "outputs": [],
   "source": []
  },
  {
   "cell_type": "code",
   "execution_count": 31,
   "metadata": {
    "collapsed": false,
    "run_control": {
     "frozen": false,
     "read_only": false
    }
   },
   "outputs": [
    {
     "data": {
      "text/html": [
       "<div>\n",
       "<table border=\"1\" class=\"dataframe\">\n",
       "  <thead>\n",
       "    <tr style=\"text-align: right;\">\n",
       "      <th></th>\n",
       "      <th>Code</th>\n",
       "      <th>Description</th>\n",
       "    </tr>\n",
       "  </thead>\n",
       "  <tbody>\n",
       "    <tr>\n",
       "      <th>66</th>\n",
       "      <td>7G (1)</td>\n",
       "      <td>Bellair Inc. (1)</td>\n",
       "    </tr>\n",
       "    <tr>\n",
       "      <th>130</th>\n",
       "      <td>ACT</td>\n",
       "      <td>Air Central Inc. (1)</td>\n",
       "    </tr>\n",
       "    <tr>\n",
       "      <th>231</th>\n",
       "      <td>ASU</td>\n",
       "      <td>Air South (1)</td>\n",
       "    </tr>\n",
       "    <tr>\n",
       "      <th>292</th>\n",
       "      <td>BHQ</td>\n",
       "      <td>Turks Air Ltd. (1)</td>\n",
       "    </tr>\n",
       "    <tr>\n",
       "      <th>407</th>\n",
       "      <td>CSN</td>\n",
       "      <td>Casino Airlines (1)</td>\n",
       "    </tr>\n",
       "  </tbody>\n",
       "</table>\n",
       "</div>"
      ],
      "text/plain": [
       "       Code           Description\n",
       "66   7G (1)      Bellair Inc. (1)\n",
       "130     ACT  Air Central Inc. (1)\n",
       "231     ASU         Air South (1)\n",
       "292     BHQ    Turks Air Ltd. (1)\n",
       "407     CSN   Casino Airlines (1)"
      ]
     },
     "execution_count": 31,
     "metadata": {},
     "output_type": "execute_result"
    }
   ],
   "source": [
    "mask1 = df_carr['Code'].str.endswith('(1)').astype(bool)\n",
    "mask2 = df_carr['Description'].str.endswith('(1)').astype(bool)\n",
    "\n",
    "df_carr[mask1].head()\n",
    "\n"
   ]
  },
  {
   "cell_type": "code",
   "execution_count": 32,
   "metadata": {
    "collapsed": false
   },
   "outputs": [
    {
     "data": {
      "text/html": [
       "<div>\n",
       "<table border=\"1\" class=\"dataframe\">\n",
       "  <thead>\n",
       "    <tr style=\"text-align: right;\">\n",
       "      <th></th>\n",
       "      <th>Code</th>\n",
       "      <th>Description</th>\n",
       "    </tr>\n",
       "  </thead>\n",
       "  <tbody>\n",
       "    <tr>\n",
       "      <th>66</th>\n",
       "      <td>7G (1)</td>\n",
       "      <td>Bellair Inc. (1)</td>\n",
       "    </tr>\n",
       "    <tr>\n",
       "      <th>130</th>\n",
       "      <td>ACT</td>\n",
       "      <td>Air Central Inc. (1)</td>\n",
       "    </tr>\n",
       "    <tr>\n",
       "      <th>231</th>\n",
       "      <td>ASU</td>\n",
       "      <td>Air South (1)</td>\n",
       "    </tr>\n",
       "    <tr>\n",
       "      <th>292</th>\n",
       "      <td>BHQ</td>\n",
       "      <td>Turks Air Ltd. (1)</td>\n",
       "    </tr>\n",
       "    <tr>\n",
       "      <th>407</th>\n",
       "      <td>CSN</td>\n",
       "      <td>Casino Airlines (1)</td>\n",
       "    </tr>\n",
       "  </tbody>\n",
       "</table>\n",
       "</div>"
      ],
      "text/plain": [
       "       Code           Description\n",
       "66   7G (1)      Bellair Inc. (1)\n",
       "130     ACT  Air Central Inc. (1)\n",
       "231     ASU         Air South (1)\n",
       "292     BHQ    Turks Air Ltd. (1)\n",
       "407     CSN   Casino Airlines (1)"
      ]
     },
     "execution_count": 32,
     "metadata": {},
     "output_type": "execute_result"
    }
   ],
   "source": [
    "df_carr[mask2].head()"
   ]
  },
  {
   "cell_type": "code",
   "execution_count": 13,
   "metadata": {
    "collapsed": false,
    "run_control": {
     "frozen": false,
     "read_only": false
    }
   },
   "outputs": [
    {
     "data": {
      "text/html": [
       "<div>\n",
       "<table border=\"1\" class=\"dataframe\">\n",
       "  <thead>\n",
       "    <tr style=\"text-align: right;\">\n",
       "      <th></th>\n",
       "      <th>Code</th>\n",
       "      <th>Description</th>\n",
       "    </tr>\n",
       "  </thead>\n",
       "  <tbody>\n",
       "    <tr>\n",
       "      <th>33</th>\n",
       "      <td>4E</td>\n",
       "      <td>Tanana Air Service</td>\n",
       "    </tr>\n",
       "    <tr>\n",
       "      <th>34</th>\n",
       "      <td>4E (1)</td>\n",
       "      <td>British Airtours Limited</td>\n",
       "    </tr>\n",
       "    <tr>\n",
       "      <th>36</th>\n",
       "      <td>4M</td>\n",
       "      <td>LAN Argentina</td>\n",
       "    </tr>\n",
       "    <tr>\n",
       "      <th>37</th>\n",
       "      <td>4M (1)</td>\n",
       "      <td>Lan Dominica</td>\n",
       "    </tr>\n",
       "    <tr>\n",
       "      <th>40</th>\n",
       "      <td>4S</td>\n",
       "      <td>Sol Air (Aero Hunduras)</td>\n",
       "    </tr>\n",
       "    <tr>\n",
       "      <th>41</th>\n",
       "      <td>4S (1)</td>\n",
       "      <td>Conner Air Lines Inc.</td>\n",
       "    </tr>\n",
       "    <tr>\n",
       "      <th>49</th>\n",
       "      <td>5G</td>\n",
       "      <td>Skyservice Airlines, Inc.</td>\n",
       "    </tr>\n",
       "    <tr>\n",
       "      <th>50</th>\n",
       "      <td>5G (1)</td>\n",
       "      <td>Queen Air</td>\n",
       "    </tr>\n",
       "    <tr>\n",
       "      <th>65</th>\n",
       "      <td>7G</td>\n",
       "      <td>MK Airlines Ltd.</td>\n",
       "    </tr>\n",
       "    <tr>\n",
       "      <th>66</th>\n",
       "      <td>7G (1)</td>\n",
       "      <td>Bellair Inc. (1)</td>\n",
       "    </tr>\n",
       "    <tr>\n",
       "      <th>...</th>\n",
       "      <td>...</td>\n",
       "      <td>...</td>\n",
       "    </tr>\n",
       "    <tr>\n",
       "      <th>1348</th>\n",
       "      <td>VX</td>\n",
       "      <td>Virgin America</td>\n",
       "    </tr>\n",
       "    <tr>\n",
       "      <th>1349</th>\n",
       "      <td>VX (1)</td>\n",
       "      <td>Aces Airlines</td>\n",
       "    </tr>\n",
       "    <tr>\n",
       "      <th>1355</th>\n",
       "      <td>WA</td>\n",
       "      <td>Worldwide Airlines Services</td>\n",
       "    </tr>\n",
       "    <tr>\n",
       "      <th>1356</th>\n",
       "      <td>WA (1)</td>\n",
       "      <td>Western Air Lines Inc.</td>\n",
       "    </tr>\n",
       "    <tr>\n",
       "      <th>1395</th>\n",
       "      <td>WS</td>\n",
       "      <td>Westjet</td>\n",
       "    </tr>\n",
       "    <tr>\n",
       "      <th>1396</th>\n",
       "      <td>WS (1)</td>\n",
       "      <td>Suncoast Airlines Inc.</td>\n",
       "    </tr>\n",
       "    <tr>\n",
       "      <th>1466</th>\n",
       "      <td>Z3</td>\n",
       "      <td>PM Air, LLC</td>\n",
       "    </tr>\n",
       "    <tr>\n",
       "      <th>1467</th>\n",
       "      <td>Z3 (1)</td>\n",
       "      <td>Promech</td>\n",
       "    </tr>\n",
       "    <tr>\n",
       "      <th>1486</th>\n",
       "      <td>ZX</td>\n",
       "      <td>Air Georgian</td>\n",
       "    </tr>\n",
       "    <tr>\n",
       "      <th>1487</th>\n",
       "      <td>ZX (1)</td>\n",
       "      <td>Airbc Ltd.</td>\n",
       "    </tr>\n",
       "  </tbody>\n",
       "</table>\n",
       "<p>114 rows × 2 columns</p>\n",
       "</div>"
      ],
      "text/plain": [
       "        Code                  Description\n",
       "33        4E           Tanana Air Service\n",
       "34    4E (1)     British Airtours Limited\n",
       "36        4M                LAN Argentina\n",
       "37    4M (1)                 Lan Dominica\n",
       "40        4S      Sol Air (Aero Hunduras)\n",
       "41    4S (1)        Conner Air Lines Inc.\n",
       "49        5G    Skyservice Airlines, Inc.\n",
       "50    5G (1)                    Queen Air\n",
       "65        7G             MK Airlines Ltd.\n",
       "66    7G (1)             Bellair Inc. (1)\n",
       "...      ...                          ...\n",
       "1348      VX               Virgin America\n",
       "1349  VX (1)                Aces Airlines\n",
       "1355      WA  Worldwide Airlines Services\n",
       "1356  WA (1)       Western Air Lines Inc.\n",
       "1395      WS                      Westjet\n",
       "1396  WS (1)       Suncoast Airlines Inc.\n",
       "1466      Z3                  PM Air, LLC\n",
       "1467  Z3 (1)                      Promech\n",
       "1486      ZX                 Air Georgian\n",
       "1487  ZX (1)                   Airbc Ltd.\n",
       "\n",
       "[114 rows x 2 columns]"
      ]
     },
     "execution_count": 13,
     "metadata": {},
     "output_type": "execute_result"
    }
   ],
   "source": [
    "# more informative to print row just before...\n",
    "\n",
    "def interleave_index(mask):\n",
    "    ind = np.where(mask)[0]\n",
    "    ind = np.hstack((ind,ind - 1))\n",
    "    ind.sort()\n",
    "    return ind\n",
    "\n",
    "df_carr.iloc[interleave_index(mask1)]"
   ]
  },
  {
   "cell_type": "code",
   "execution_count": 14,
   "metadata": {
    "collapsed": false,
    "run_control": {
     "frozen": false,
     "read_only": false
    }
   },
   "outputs": [
    {
     "data": {
      "text/html": [
       "<div>\n",
       "<table border=\"1\" class=\"dataframe\">\n",
       "  <thead>\n",
       "    <tr style=\"text-align: right;\">\n",
       "      <th></th>\n",
       "      <th>Code</th>\n",
       "      <th>Description</th>\n",
       "    </tr>\n",
       "  </thead>\n",
       "  <tbody>\n",
       "    <tr>\n",
       "      <th>65</th>\n",
       "      <td>7G</td>\n",
       "      <td>MK Airlines Ltd.</td>\n",
       "    </tr>\n",
       "    <tr>\n",
       "      <th>66</th>\n",
       "      <td>7G (1)</td>\n",
       "      <td>Bellair Inc. (1)</td>\n",
       "    </tr>\n",
       "    <tr>\n",
       "      <th>129</th>\n",
       "      <td>ACS</td>\n",
       "      <td>Alamo Commuter Airlines</td>\n",
       "    </tr>\n",
       "    <tr>\n",
       "      <th>130</th>\n",
       "      <td>ACT</td>\n",
       "      <td>Air Central Inc. (1)</td>\n",
       "    </tr>\n",
       "    <tr>\n",
       "      <th>230</th>\n",
       "      <td>AST</td>\n",
       "      <td>Astro Airways</td>\n",
       "    </tr>\n",
       "    <tr>\n",
       "      <th>231</th>\n",
       "      <td>ASU</td>\n",
       "      <td>Air South (1)</td>\n",
       "    </tr>\n",
       "    <tr>\n",
       "      <th>291</th>\n",
       "      <td>BHO</td>\n",
       "      <td>Bighorn Airways Inc.</td>\n",
       "    </tr>\n",
       "    <tr>\n",
       "      <th>292</th>\n",
       "      <td>BHQ</td>\n",
       "      <td>Turks Air Ltd. (1)</td>\n",
       "    </tr>\n",
       "    <tr>\n",
       "      <th>406</th>\n",
       "      <td>CSM</td>\n",
       "      <td>Chisum Flying Service</td>\n",
       "    </tr>\n",
       "    <tr>\n",
       "      <th>407</th>\n",
       "      <td>CSN</td>\n",
       "      <td>Casino Airlines (1)</td>\n",
       "    </tr>\n",
       "    <tr>\n",
       "      <th>...</th>\n",
       "      <td>...</td>\n",
       "      <td>...</td>\n",
       "    </tr>\n",
       "    <tr>\n",
       "      <th>1062</th>\n",
       "      <td>RC</td>\n",
       "      <td>Republic Airlines Inc.</td>\n",
       "    </tr>\n",
       "    <tr>\n",
       "      <th>1063</th>\n",
       "      <td>RCA</td>\n",
       "      <td>Mid-South Aviation Inc. (1)</td>\n",
       "    </tr>\n",
       "    <tr>\n",
       "      <th>1092</th>\n",
       "      <td>ROE</td>\n",
       "      <td>Roederer Aviation Inc.</td>\n",
       "    </tr>\n",
       "    <tr>\n",
       "      <th>1093</th>\n",
       "      <td>ROQ</td>\n",
       "      <td>Aero Uruguay (1)</td>\n",
       "    </tr>\n",
       "    <tr>\n",
       "      <th>1304</th>\n",
       "      <td>UP</td>\n",
       "      <td>Bahamasair Holding Limited</td>\n",
       "    </tr>\n",
       "    <tr>\n",
       "      <th>1305</th>\n",
       "      <td>UR</td>\n",
       "      <td>Empire Airlines Inc. (1)</td>\n",
       "    </tr>\n",
       "    <tr>\n",
       "      <th>1401</th>\n",
       "      <td>WTA</td>\n",
       "      <td>Westates Airlines</td>\n",
       "    </tr>\n",
       "    <tr>\n",
       "      <th>1402</th>\n",
       "      <td>WV</td>\n",
       "      <td>Air South Inc. (1)</td>\n",
       "    </tr>\n",
       "    <tr>\n",
       "      <th>1437</th>\n",
       "      <td>XBZ</td>\n",
       "      <td>Air Natl Aircraft Sal &amp; Ser</td>\n",
       "    </tr>\n",
       "    <tr>\n",
       "      <th>1438</th>\n",
       "      <td>XC</td>\n",
       "      <td>Air Caribbean (1)</td>\n",
       "    </tr>\n",
       "  </tbody>\n",
       "</table>\n",
       "<p>38 rows × 2 columns</p>\n",
       "</div>"
      ],
      "text/plain": [
       "        Code                  Description\n",
       "65        7G             MK Airlines Ltd.\n",
       "66    7G (1)             Bellair Inc. (1)\n",
       "129      ACS      Alamo Commuter Airlines\n",
       "130      ACT         Air Central Inc. (1)\n",
       "230      AST                Astro Airways\n",
       "231      ASU                Air South (1)\n",
       "291      BHO         Bighorn Airways Inc.\n",
       "292      BHQ           Turks Air Ltd. (1)\n",
       "406      CSM        Chisum Flying Service\n",
       "407      CSN          Casino Airlines (1)\n",
       "...      ...                          ...\n",
       "1062      RC       Republic Airlines Inc.\n",
       "1063     RCA  Mid-South Aviation Inc. (1)\n",
       "1092     ROE       Roederer Aviation Inc.\n",
       "1093     ROQ             Aero Uruguay (1)\n",
       "1304      UP   Bahamasair Holding Limited\n",
       "1305      UR     Empire Airlines Inc. (1)\n",
       "1401     WTA            Westates Airlines\n",
       "1402      WV           Air South Inc. (1)\n",
       "1437     XBZ  Air Natl Aircraft Sal & Ser\n",
       "1438      XC            Air Caribbean (1)\n",
       "\n",
       "[38 rows x 2 columns]"
      ]
     },
     "execution_count": 14,
     "metadata": {},
     "output_type": "execute_result"
    }
   ],
   "source": [
    "df_carr.iloc[interleave_index(mask2)]"
   ]
  },
  {
   "cell_type": "markdown",
   "metadata": {},
   "source": [
    "# Study *airports* spreadsheet\n"
   ]
  },
  {
   "cell_type": "code",
   "execution_count": 15,
   "metadata": {
    "collapsed": false,
    "run_control": {
     "frozen": false,
     "read_only": false
    }
   },
   "outputs": [],
   "source": [
    "df_airports = pd.read_excel('../data/airports new.xlt')"
   ]
  },
  {
   "cell_type": "code",
   "execution_count": 16,
   "metadata": {
    "collapsed": false,
    "run_control": {
     "frozen": false,
     "read_only": false
    }
   },
   "outputs": [
    {
     "name": "stdout",
     "output_type": "stream",
     "text": [
      "df_airports.shape =  (3376, 7)\n",
      "iata        object\n",
      "airport     object\n",
      "city        object\n",
      "state       object\n",
      "country     object\n",
      "lat        float64\n",
      "long       float64\n",
      "dtype: object\n"
     ]
    }
   ],
   "source": [
    "print \"df_airports.shape = \",df_airports.shape\n",
    "print df_airports.dtypes"
   ]
  },
  {
   "cell_type": "code",
   "execution_count": 17,
   "metadata": {
    "collapsed": false,
    "run_control": {
     "frozen": false,
     "read_only": false
    }
   },
   "outputs": [
    {
     "data": {
      "text/html": [
       "<div>\n",
       "<table border=\"1\" class=\"dataframe\">\n",
       "  <thead>\n",
       "    <tr style=\"text-align: right;\">\n",
       "      <th></th>\n",
       "      <th>iata</th>\n",
       "      <th>airport</th>\n",
       "      <th>city</th>\n",
       "      <th>state</th>\n",
       "      <th>country</th>\n",
       "      <th>lat</th>\n",
       "      <th>long</th>\n",
       "    </tr>\n",
       "  </thead>\n",
       "  <tbody>\n",
       "    <tr>\n",
       "      <th>0</th>\n",
       "      <td>00M</td>\n",
       "      <td>Thigpen</td>\n",
       "      <td>Bay Springs</td>\n",
       "      <td>MS</td>\n",
       "      <td>USA</td>\n",
       "      <td>31.953765</td>\n",
       "      <td>-89.234505</td>\n",
       "    </tr>\n",
       "    <tr>\n",
       "      <th>1</th>\n",
       "      <td>00R</td>\n",
       "      <td>Livingston Municipal</td>\n",
       "      <td>Livingston</td>\n",
       "      <td>TX</td>\n",
       "      <td>USA</td>\n",
       "      <td>30.685861</td>\n",
       "      <td>-95.017928</td>\n",
       "    </tr>\n",
       "    <tr>\n",
       "      <th>2</th>\n",
       "      <td>00V</td>\n",
       "      <td>Meadow Lake</td>\n",
       "      <td>Colorado Springs</td>\n",
       "      <td>CO</td>\n",
       "      <td>USA</td>\n",
       "      <td>38.945749</td>\n",
       "      <td>-104.569893</td>\n",
       "    </tr>\n",
       "    <tr>\n",
       "      <th>3</th>\n",
       "      <td>01G</td>\n",
       "      <td>Perry-Warsaw</td>\n",
       "      <td>Perry</td>\n",
       "      <td>NY</td>\n",
       "      <td>USA</td>\n",
       "      <td>42.741347</td>\n",
       "      <td>-78.052081</td>\n",
       "    </tr>\n",
       "    <tr>\n",
       "      <th>4</th>\n",
       "      <td>01J</td>\n",
       "      <td>Hilliard Airpark</td>\n",
       "      <td>Hilliard</td>\n",
       "      <td>FL</td>\n",
       "      <td>USA</td>\n",
       "      <td>30.688012</td>\n",
       "      <td>-81.905944</td>\n",
       "    </tr>\n",
       "    <tr>\n",
       "      <th>5</th>\n",
       "      <td>01M</td>\n",
       "      <td>Tishomingo County</td>\n",
       "      <td>Belmont</td>\n",
       "      <td>MS</td>\n",
       "      <td>USA</td>\n",
       "      <td>34.491667</td>\n",
       "      <td>-88.201111</td>\n",
       "    </tr>\n",
       "    <tr>\n",
       "      <th>6</th>\n",
       "      <td>02A</td>\n",
       "      <td>Gragg-Wade</td>\n",
       "      <td>Clanton</td>\n",
       "      <td>AL</td>\n",
       "      <td>USA</td>\n",
       "      <td>32.850487</td>\n",
       "      <td>-86.611453</td>\n",
       "    </tr>\n",
       "    <tr>\n",
       "      <th>7</th>\n",
       "      <td>02C</td>\n",
       "      <td>Capitol</td>\n",
       "      <td>Brookfield</td>\n",
       "      <td>WI</td>\n",
       "      <td>USA</td>\n",
       "      <td>43.087510</td>\n",
       "      <td>-88.177869</td>\n",
       "    </tr>\n",
       "    <tr>\n",
       "      <th>8</th>\n",
       "      <td>02G</td>\n",
       "      <td>Columbiana County</td>\n",
       "      <td>East Liverpool</td>\n",
       "      <td>OH</td>\n",
       "      <td>USA</td>\n",
       "      <td>40.673313</td>\n",
       "      <td>-80.641406</td>\n",
       "    </tr>\n",
       "    <tr>\n",
       "      <th>9</th>\n",
       "      <td>03D</td>\n",
       "      <td>Memphis Memorial</td>\n",
       "      <td>Memphis</td>\n",
       "      <td>MO</td>\n",
       "      <td>USA</td>\n",
       "      <td>40.447259</td>\n",
       "      <td>-92.226961</td>\n",
       "    </tr>\n",
       "  </tbody>\n",
       "</table>\n",
       "</div>"
      ],
      "text/plain": [
       "  iata               airport              city state country        lat  \\\n",
       "0  00M              Thigpen        Bay Springs    MS     USA  31.953765   \n",
       "1  00R  Livingston Municipal        Livingston    TX     USA  30.685861   \n",
       "2  00V           Meadow Lake  Colorado Springs    CO     USA  38.945749   \n",
       "3  01G          Perry-Warsaw             Perry    NY     USA  42.741347   \n",
       "4  01J      Hilliard Airpark          Hilliard    FL     USA  30.688012   \n",
       "5  01M     Tishomingo County           Belmont    MS     USA  34.491667   \n",
       "6  02A           Gragg-Wade            Clanton    AL     USA  32.850487   \n",
       "7  02C               Capitol        Brookfield    WI     USA  43.087510   \n",
       "8  02G     Columbiana County    East Liverpool    OH     USA  40.673313   \n",
       "9  03D      Memphis Memorial           Memphis    MO     USA  40.447259   \n",
       "\n",
       "         long  \n",
       "0  -89.234505  \n",
       "1  -95.017928  \n",
       "2 -104.569893  \n",
       "3  -78.052081  \n",
       "4  -81.905944  \n",
       "5  -88.201111  \n",
       "6  -86.611453  \n",
       "7  -88.177869  \n",
       "8  -80.641406  \n",
       "9  -92.226961  "
      ]
     },
     "execution_count": 17,
     "metadata": {},
     "output_type": "execute_result"
    }
   ],
   "source": [
    "df_airports.head(n=10)"
   ]
  },
  {
   "cell_type": "markdown",
   "metadata": {},
   "source": [
    "## Study nans"
   ]
  },
  {
   "cell_type": "code",
   "execution_count": 18,
   "metadata": {
    "collapsed": false,
    "run_control": {
     "frozen": false,
     "read_only": false
    }
   },
   "outputs": [
    {
     "data": {
      "text/plain": [
       "iata        0\n",
       "airport     0\n",
       "city       12\n",
       "state      12\n",
       "country     0\n",
       "lat         0\n",
       "long        0\n",
       "dtype: int64"
      ]
     },
     "execution_count": 18,
     "metadata": {},
     "output_type": "execute_result"
    }
   ],
   "source": [
    "# any nans?\n",
    "df_airports.isnull().sum()"
   ]
  },
  {
   "cell_type": "code",
   "execution_count": 19,
   "metadata": {
    "collapsed": false,
    "run_control": {
     "frozen": false,
     "marked": false,
     "read_only": false
    }
   },
   "outputs": [
    {
     "data": {
      "text/plain": [
       "True"
      ]
     },
     "execution_count": 19,
     "metadata": {},
     "output_type": "execute_result"
    }
   ],
   "source": [
    "# do the nans occur at the same place?\n",
    "#| yes\n",
    "np.alltrue(\n",
    "    np.where(df_airports['city'].isnull())[0] == \\\n",
    "    np.where(df_airports['state'].isnull())[0]\n",
    ")"
   ]
  },
  {
   "cell_type": "code",
   "execution_count": 20,
   "metadata": {
    "collapsed": false,
    "run_control": {
     "frozen": false,
     "read_only": false
    }
   },
   "outputs": [
    {
     "data": {
      "text/html": [
       "<div>\n",
       "<table border=\"1\" class=\"dataframe\">\n",
       "  <thead>\n",
       "    <tr style=\"text-align: right;\">\n",
       "      <th></th>\n",
       "      <th>iata</th>\n",
       "      <th>airport</th>\n",
       "      <th>city</th>\n",
       "      <th>state</th>\n",
       "      <th>country</th>\n",
       "      <th>lat</th>\n",
       "      <th>long</th>\n",
       "    </tr>\n",
       "  </thead>\n",
       "  <tbody>\n",
       "    <tr>\n",
       "      <th>1136</th>\n",
       "      <td>CLD</td>\n",
       "      <td>MC Clellan-Palomar Airport</td>\n",
       "      <td>NaN</td>\n",
       "      <td>NaN</td>\n",
       "      <td>USA</td>\n",
       "      <td>33.127231</td>\n",
       "      <td>-117.278727</td>\n",
       "    </tr>\n",
       "    <tr>\n",
       "      <th>1715</th>\n",
       "      <td>HHH</td>\n",
       "      <td>Hilton Head</td>\n",
       "      <td>NaN</td>\n",
       "      <td>NaN</td>\n",
       "      <td>USA</td>\n",
       "      <td>32.224384</td>\n",
       "      <td>-80.697629</td>\n",
       "    </tr>\n",
       "    <tr>\n",
       "      <th>2251</th>\n",
       "      <td>MIB</td>\n",
       "      <td>Minot AFB</td>\n",
       "      <td>NaN</td>\n",
       "      <td>NaN</td>\n",
       "      <td>USA</td>\n",
       "      <td>48.415769</td>\n",
       "      <td>-101.358039</td>\n",
       "    </tr>\n",
       "    <tr>\n",
       "      <th>2312</th>\n",
       "      <td>MQT</td>\n",
       "      <td>Marquette County Airport</td>\n",
       "      <td>NaN</td>\n",
       "      <td>NaN</td>\n",
       "      <td>USA</td>\n",
       "      <td>46.353639</td>\n",
       "      <td>-87.395361</td>\n",
       "    </tr>\n",
       "    <tr>\n",
       "      <th>2752</th>\n",
       "      <td>RCA</td>\n",
       "      <td>Ellsworth AFB</td>\n",
       "      <td>NaN</td>\n",
       "      <td>NaN</td>\n",
       "      <td>USA</td>\n",
       "      <td>44.145094</td>\n",
       "      <td>-103.103567</td>\n",
       "    </tr>\n",
       "    <tr>\n",
       "      <th>2759</th>\n",
       "      <td>RDR</td>\n",
       "      <td>Grand Forks AFB</td>\n",
       "      <td>NaN</td>\n",
       "      <td>NaN</td>\n",
       "      <td>USA</td>\n",
       "      <td>47.961167</td>\n",
       "      <td>-97.401167</td>\n",
       "    </tr>\n",
       "    <tr>\n",
       "      <th>2794</th>\n",
       "      <td>ROP</td>\n",
       "      <td>Prachinburi</td>\n",
       "      <td>NaN</td>\n",
       "      <td>NaN</td>\n",
       "      <td>Thailand</td>\n",
       "      <td>14.078333</td>\n",
       "      <td>101.378334</td>\n",
       "    </tr>\n",
       "    <tr>\n",
       "      <th>2795</th>\n",
       "      <td>ROR</td>\n",
       "      <td>Babelthoup/Koror</td>\n",
       "      <td>NaN</td>\n",
       "      <td>NaN</td>\n",
       "      <td>Palau</td>\n",
       "      <td>7.367222</td>\n",
       "      <td>134.544167</td>\n",
       "    </tr>\n",
       "    <tr>\n",
       "      <th>2900</th>\n",
       "      <td>SCE</td>\n",
       "      <td>University Park</td>\n",
       "      <td>NaN</td>\n",
       "      <td>NaN</td>\n",
       "      <td>USA</td>\n",
       "      <td>40.851206</td>\n",
       "      <td>-77.846302</td>\n",
       "    </tr>\n",
       "    <tr>\n",
       "      <th>2964</th>\n",
       "      <td>SKA</td>\n",
       "      <td>Fairchild AFB</td>\n",
       "      <td>NaN</td>\n",
       "      <td>NaN</td>\n",
       "      <td>USA</td>\n",
       "      <td>47.615058</td>\n",
       "      <td>-117.655803</td>\n",
       "    </tr>\n",
       "    <tr>\n",
       "      <th>3001</th>\n",
       "      <td>SPN</td>\n",
       "      <td>Tinian International Airport</td>\n",
       "      <td>NaN</td>\n",
       "      <td>NaN</td>\n",
       "      <td>N Mariana Islands</td>\n",
       "      <td>14.996111</td>\n",
       "      <td>145.621384</td>\n",
       "    </tr>\n",
       "    <tr>\n",
       "      <th>3355</th>\n",
       "      <td>YAP</td>\n",
       "      <td>Yap International</td>\n",
       "      <td>NaN</td>\n",
       "      <td>NaN</td>\n",
       "      <td>Federated States of Micronesia</td>\n",
       "      <td>9.516700</td>\n",
       "      <td>138.100000</td>\n",
       "    </tr>\n",
       "  </tbody>\n",
       "</table>\n",
       "</div>"
      ],
      "text/plain": [
       "     iata                       airport city state  \\\n",
       "1136  CLD    MC Clellan-Palomar Airport  NaN   NaN   \n",
       "1715  HHH                   Hilton Head  NaN   NaN   \n",
       "2251  MIB                     Minot AFB  NaN   NaN   \n",
       "2312  MQT      Marquette County Airport  NaN   NaN   \n",
       "2752  RCA                 Ellsworth AFB  NaN   NaN   \n",
       "2759  RDR               Grand Forks AFB  NaN   NaN   \n",
       "2794  ROP                   Prachinburi  NaN   NaN   \n",
       "2795  ROR              Babelthoup/Koror  NaN   NaN   \n",
       "2900  SCE               University Park  NaN   NaN   \n",
       "2964  SKA                 Fairchild AFB  NaN   NaN   \n",
       "3001  SPN  Tinian International Airport  NaN   NaN   \n",
       "3355  YAP             Yap International  NaN   NaN   \n",
       "\n",
       "                             country        lat        long  \n",
       "1136                             USA  33.127231 -117.278727  \n",
       "1715                             USA  32.224384  -80.697629  \n",
       "2251                             USA  48.415769 -101.358039  \n",
       "2312                             USA  46.353639  -87.395361  \n",
       "2752                             USA  44.145094 -103.103567  \n",
       "2759                             USA  47.961167  -97.401167  \n",
       "2794                        Thailand  14.078333  101.378334  \n",
       "2795                           Palau   7.367222  134.544167  \n",
       "2900                             USA  40.851206  -77.846302  \n",
       "2964                             USA  47.615058 -117.655803  \n",
       "3001               N Mariana Islands  14.996111  145.621384  \n",
       "3355  Federated States of Micronesia   9.516700  138.100000  "
      ]
     },
     "execution_count": 20,
     "metadata": {},
     "output_type": "execute_result"
    }
   ],
   "source": [
    "# anything special about the records with unknown city/state?\n",
    "df_airports[df_airports.isnull().any(axis=1)]"
   ]
  },
  {
   "cell_type": "code",
   "execution_count": 21,
   "metadata": {
    "collapsed": false,
    "run_control": {
     "frozen": false,
     "read_only": false
    }
   },
   "outputs": [
    {
     "data": {
      "text/plain": [
       "USA                               3372\n",
       "Palau                                1\n",
       "N Mariana Islands                    1\n",
       "Thailand                             1\n",
       "Federated States of Micronesia       1\n",
       "Name: country, dtype: int64"
      ]
     },
     "execution_count": 21,
     "metadata": {},
     "output_type": "execute_result"
    }
   ],
   "source": [
    "# most of the data are from USA...the 4 cases corresponds to the NANs above\n",
    "df_airports['country'].value_counts(0)"
   ]
  },
  {
   "cell_type": "markdown",
   "metadata": {},
   "source": [
    "## Filter out non-USA airports"
   ]
  },
  {
   "cell_type": "code",
   "execution_count": 22,
   "metadata": {
    "collapsed": false,
    "run_control": {
     "frozen": false,
     "read_only": false
    }
   },
   "outputs": [],
   "source": [
    "df_airports = df_airports.query('country == \"USA\"')"
   ]
  },
  {
   "cell_type": "code",
   "execution_count": 23,
   "metadata": {
    "collapsed": false,
    "run_control": {
     "frozen": false,
     "read_only": false
    }
   },
   "outputs": [
    {
     "data": {
      "text/plain": [
       "array([u'USA'], dtype=object)"
      ]
     },
     "execution_count": 23,
     "metadata": {},
     "output_type": "execute_result"
    }
   ],
   "source": [
    "df_airports.country.unique()"
   ]
  },
  {
   "cell_type": "markdown",
   "metadata": {},
   "source": [
    "# Study \"airports\" state distribution"
   ]
  },
  {
   "cell_type": "code",
   "execution_count": 33,
   "metadata": {
    "collapsed": false,
    "run_control": {
     "frozen": false,
     "read_only": false
    }
   },
   "outputs": [
    {
     "data": {
      "text/html": [
       "<div>\n",
       "<table border=\"1\" class=\"dataframe\">\n",
       "  <thead>\n",
       "    <tr style=\"text-align: right;\">\n",
       "      <th></th>\n",
       "      <th>0</th>\n",
       "      <th>1</th>\n",
       "      <th>2</th>\n",
       "      <th>3</th>\n",
       "      <th>4</th>\n",
       "      <th>5</th>\n",
       "      <th>6</th>\n",
       "      <th>7</th>\n",
       "      <th>8</th>\n",
       "      <th>9</th>\n",
       "      <th>...</th>\n",
       "      <th>46</th>\n",
       "      <th>47</th>\n",
       "      <th>48</th>\n",
       "      <th>49</th>\n",
       "      <th>50</th>\n",
       "      <th>51</th>\n",
       "      <th>52</th>\n",
       "      <th>53</th>\n",
       "      <th>54</th>\n",
       "      <th>55</th>\n",
       "    </tr>\n",
       "  </thead>\n",
       "  <tbody>\n",
       "    <tr>\n",
       "      <th>state</th>\n",
       "      <td>AK</td>\n",
       "      <td>TX</td>\n",
       "      <td>CA</td>\n",
       "      <td>OK</td>\n",
       "      <td>FL</td>\n",
       "      <td>OH</td>\n",
       "      <td>NY</td>\n",
       "      <td>GA</td>\n",
       "      <td>MI</td>\n",
       "      <td>MN</td>\n",
       "      <td>...</td>\n",
       "      <td>NH</td>\n",
       "      <td>VT</td>\n",
       "      <td>PR</td>\n",
       "      <td>RI</td>\n",
       "      <td>DE</td>\n",
       "      <td>VI</td>\n",
       "      <td>CQ</td>\n",
       "      <td>AS</td>\n",
       "      <td>GU</td>\n",
       "      <td>DC</td>\n",
       "    </tr>\n",
       "    <tr>\n",
       "      <th>counts</th>\n",
       "      <td>263</td>\n",
       "      <td>209</td>\n",
       "      <td>205</td>\n",
       "      <td>102</td>\n",
       "      <td>100</td>\n",
       "      <td>100</td>\n",
       "      <td>97</td>\n",
       "      <td>97</td>\n",
       "      <td>94</td>\n",
       "      <td>89</td>\n",
       "      <td>...</td>\n",
       "      <td>14</td>\n",
       "      <td>13</td>\n",
       "      <td>11</td>\n",
       "      <td>6</td>\n",
       "      <td>5</td>\n",
       "      <td>5</td>\n",
       "      <td>4</td>\n",
       "      <td>3</td>\n",
       "      <td>1</td>\n",
       "      <td>1</td>\n",
       "    </tr>\n",
       "  </tbody>\n",
       "</table>\n",
       "<p>2 rows × 56 columns</p>\n",
       "</div>"
      ],
      "text/plain": [
       "         0    1    2    3    4    5   6   7   8   9  ...  46  47  48  49  50  \\\n",
       "state    AK   TX   CA   OK   FL   OH  NY  GA  MI  MN ...  NH  VT  PR  RI  DE   \n",
       "counts  263  209  205  102  100  100  97  97  94  89 ...  14  13  11   6   5   \n",
       "\n",
       "        51  52  53  54  55  \n",
       "state   VI  CQ  AS  GU  DC  \n",
       "counts   5   4   3   1   1  \n",
       "\n",
       "[2 rows x 56 columns]"
      ]
     },
     "execution_count": 33,
     "metadata": {},
     "output_type": "execute_result"
    }
   ],
   "source": [
    "df_state = df_airports['state'].value_counts()\n",
    "df_state = df_state.reset_index()\n",
    "df_state.columns = ['state','counts']\n",
    "df_state.T"
   ]
  },
  {
   "cell_type": "code",
   "execution_count": 25,
   "metadata": {
    "collapsed": false,
    "run_control": {
     "frozen": false,
     "read_only": false
    }
   },
   "outputs": [],
   "source": [
    "# define data/trace object\n",
    "trace = dict(\n",
    "        type='choropleth',\n",
    "        #colorscale = scl,\n",
    "        #autocolorscale = False,\n",
    "        autocolorscale = True,\n",
    "        locations = df_state['state'],\n",
    "        z = df_state['counts'],\n",
    "        locationmode = 'USA-states',\n",
    "        #text = df['text'],\n",
    "        marker = dict(line = dict (color = 'rgb(255,255,255)',width = 2) ),\n",
    "        colorbar = dict(title = \"counts\")\n",
    ")\n",
    "data = [trace]\n",
    "\n",
    "# define layout object\n",
    "geo = dict(scope='usa',\n",
    "           projection=dict( type='albers usa' ),\n",
    "           showlakes = True,\n",
    "           lakecolor = 'rgb(255, 255, 255)')\n",
    "layout = dict(geo=geo,title = 'State Frequency chart (hover over for number)')\n",
    "\n",
    "fig = dict( data=data, layout=layout )\n",
    "# py.iplot( fig, filename='d3-cloropleth-map' )\n",
    "\n",
    "import plotly.plotly as py"
   ]
  },
  {
   "cell_type": "code",
   "execution_count": 26,
   "metadata": {
    "collapsed": false,
    "run_control": {
     "frozen": false,
     "read_only": false
    },
    "scrolled": true
   },
   "outputs": [
    {
     "data": {
      "text/html": [
       "<iframe id=\"igraph\" scrolling=\"no\" style=\"border:none;\" seamless=\"seamless\" src=\"https://plot.ly/~takanori/1345.embed?share_key=HXSygiLDpJTyDMXMN7lIa6\" height=\"525px\" width=\"100%\"></iframe>"
      ],
      "text/plain": [
       "<plotly.tools.PlotlyDisplay object>"
      ]
     },
     "execution_count": 26,
     "metadata": {},
     "output_type": "execute_result"
    }
   ],
   "source": [
    "py.iplot( fig, filename='spotify-tmp1', sharing = 'secret')"
   ]
  },
  {
   "cell_type": "markdown",
   "metadata": {},
   "source": [
    "From the above plot, it looks like the number of aiports in a state is proportional to the land-area of the state..."
   ]
  },
  {
   "cell_type": "markdown",
   "metadata": {},
   "source": [
    "## Plot bubble markers for all airports\n",
    "This will give an idea of the airport distribution around the country"
   ]
  },
  {
   "cell_type": "code",
   "execution_count": 27,
   "metadata": {
    "collapsed": false,
    "run_control": {
     "frozen": false,
     "read_only": false
    }
   },
   "outputs": [
    {
     "data": {
      "text/html": [
       "<iframe id=\"igraph\" scrolling=\"no\" style=\"border:none;\" seamless=\"seamless\" src=\"https://plot.ly/~takanori/1349.embed?share_key=lPM6X5p9K50zOVqNgTUPqg\" height=\"525px\" width=\"100%\"></iframe>"
      ],
      "text/plain": [
       "<plotly.tools.PlotlyDisplay object>"
      ]
     },
     "execution_count": 27,
     "metadata": {},
     "output_type": "execute_result"
    }
   ],
   "source": [
    "data = [ dict(\n",
    "        type = 'scattergeo',\n",
    "        locationmode = 'USA-states',\n",
    "        lon = df_airports['long'],\n",
    "        lat = df_airports['lat'],\n",
    "        text = df_airports['airport'] + ' ' + df_airports['city'],\n",
    "        mode = 'markers',\n",
    "        marker = dict( \n",
    "            size = 5, \n",
    "            opacity = 0.5,\n",
    "            reversescale = True,\n",
    "            symbol = 'circle',\n",
    "            line = dict(\n",
    "                width=1,\n",
    "                color='rgba(102, 102, 102)'\n",
    "            ),\n",
    "            autocolorscale = True,\n",
    "        ))]\n",
    "\n",
    "layout = dict(\n",
    "        title = 'Airports in the United States<br>(Scroll mouse to zoom)',\n",
    "        colorbar = True,   \n",
    "        geo = dict(\n",
    "            scope='usa',\n",
    "            projection=dict( type='albers usa' ),\n",
    "            showland = True,\n",
    "            showlakes = True,     \n",
    "        ),\n",
    "    )\n",
    "\n",
    "fig = dict( data=data, layout=layout )\n",
    "py.iplot( fig, filename='spotify-tmp2', sharing = 'secret',validate=False)"
   ]
  },
  {
   "cell_type": "markdown",
   "metadata": {},
   "source": [
    "**Some personal remarks**\n",
    "- airport-density is high in the Northeastern regions, which was expected, as these are economically developed and densely populated region.\n",
    "- airport-density in the Western area is low outside of California, which was again expected.\n",
    "- I did not expect there are\n",
    "\n"
   ]
  },
  {
   "cell_type": "markdown",
   "metadata": {},
   "source": [
    "## Take a closer look at Michigan, my home state\n",
    "- https://plot.ly/python/bubble-maps/"
   ]
  },
  {
   "cell_type": "code",
   "execution_count": 28,
   "metadata": {
    "collapsed": false,
    "run_control": {
     "frozen": false,
     "read_only": false
    }
   },
   "outputs": [
    {
     "data": {
      "text/html": [
       "<div>\n",
       "<table border=\"1\" class=\"dataframe\">\n",
       "  <thead>\n",
       "    <tr style=\"text-align: right;\">\n",
       "      <th></th>\n",
       "      <th>iata</th>\n",
       "      <th>airport</th>\n",
       "      <th>city</th>\n",
       "      <th>state</th>\n",
       "      <th>country</th>\n",
       "      <th>lat</th>\n",
       "      <th>long</th>\n",
       "    </tr>\n",
       "  </thead>\n",
       "  <tbody>\n",
       "    <tr>\n",
       "      <th>23</th>\n",
       "      <td>07G</td>\n",
       "      <td>Fitch H Beach</td>\n",
       "      <td>Charlotte</td>\n",
       "      <td>MI</td>\n",
       "      <td>USA</td>\n",
       "      <td>42.574509</td>\n",
       "      <td>-84.811431</td>\n",
       "    </tr>\n",
       "    <tr>\n",
       "      <th>45</th>\n",
       "      <td>0D1</td>\n",
       "      <td>South Haven Municipal</td>\n",
       "      <td>South Haven</td>\n",
       "      <td>MI</td>\n",
       "      <td>USA</td>\n",
       "      <td>42.350833</td>\n",
       "      <td>-86.256139</td>\n",
       "    </tr>\n",
       "    <tr>\n",
       "      <th>106</th>\n",
       "      <td>13C</td>\n",
       "      <td>Lakeview</td>\n",
       "      <td>Lakeview</td>\n",
       "      <td>MI</td>\n",
       "      <td>USA</td>\n",
       "      <td>43.452137</td>\n",
       "      <td>-85.264803</td>\n",
       "    </tr>\n",
       "    <tr>\n",
       "      <th>143</th>\n",
       "      <td>1D2</td>\n",
       "      <td>Canton -Plymouth -  Mettetal</td>\n",
       "      <td>Plymouth</td>\n",
       "      <td>MI</td>\n",
       "      <td>USA</td>\n",
       "      <td>42.350037</td>\n",
       "      <td>-83.458268</td>\n",
       "    </tr>\n",
       "    <tr>\n",
       "      <th>302</th>\n",
       "      <td>35D</td>\n",
       "      <td>Padgham</td>\n",
       "      <td>Allegan</td>\n",
       "      <td>MI</td>\n",
       "      <td>USA</td>\n",
       "      <td>42.530983</td>\n",
       "      <td>-85.825136</td>\n",
       "    </tr>\n",
       "  </tbody>\n",
       "</table>\n",
       "</div>"
      ],
      "text/plain": [
       "    iata                       airport         city state country        lat  \\\n",
       "23   07G                 Fitch H Beach    Charlotte    MI     USA  42.574509   \n",
       "45   0D1         South Haven Municipal  South Haven    MI     USA  42.350833   \n",
       "106  13C                      Lakeview     Lakeview    MI     USA  43.452137   \n",
       "143  1D2  Canton -Plymouth -  Mettetal     Plymouth    MI     USA  42.350037   \n",
       "302  35D                      Padgham       Allegan    MI     USA  42.530983   \n",
       "\n",
       "          long  \n",
       "23  -84.811431  \n",
       "45  -86.256139  \n",
       "106 -85.264803  \n",
       "143 -83.458268  \n",
       "302 -85.825136  "
      ]
     },
     "execution_count": 28,
     "metadata": {},
     "output_type": "execute_result"
    }
   ],
   "source": [
    "df_airports.query('state==\"MI\"').head(5)"
   ]
  },
  {
   "cell_type": "code",
   "execution_count": 29,
   "metadata": {
    "collapsed": false,
    "run_control": {
     "frozen": false,
     "read_only": false
    }
   },
   "outputs": [
    {
     "data": {
      "text/html": [
       "<iframe id=\"igraph\" scrolling=\"no\" style=\"border:none;\" seamless=\"seamless\" src=\"https://plot.ly/~takanori/1351.embed?share_key=boE8CXijf20MKcLBq8PbW9\" height=\"525px\" width=\"100%\"></iframe>"
      ],
      "text/plain": [
       "<plotly.tools.PlotlyDisplay object>"
      ]
     },
     "execution_count": 29,
     "metadata": {},
     "output_type": "execute_result"
    }
   ],
   "source": [
    "df_mi = df_airports.query('state==\"MI\"')\n",
    "\n",
    "# update dict appropriately\n",
    "data[0]['lat'] = df_mi['lat']\n",
    "data[0]['lon'] = df_mi['long']\n",
    "data[0]['text'] = df_mi['airport'] + ' ' + df_mi['city']\n",
    "\n",
    "layout['title'] = 'Airports in Michigan<br>(Hover for airport names. Mouse scroll to zoom, right-click to pan)'\n",
    "\n",
    "fig = dict( data=data, layout=layout )\n",
    "py.iplot( fig, filename='spotify-tmp3', sharing = 'secret',validate=False)"
   ]
  }
 ],
 "metadata": {
  "anaconda-cloud": {},
  "hide_input": false,
  "kernelspec": {
   "display_name": "Python [Root]",
   "language": "python",
   "name": "Python [Root]"
  },
  "language_info": {
   "codemirror_mode": {
    "name": "ipython",
    "version": 2
   },
   "file_extension": ".py",
   "mimetype": "text/x-python",
   "name": "python",
   "nbconvert_exporter": "python",
   "pygments_lexer": "ipython2",
   "version": "2.7.12"
  },
  "nav_menu": {},
  "toc": {
   "navigate_menu": true,
   "number_sections": true,
   "sideBar": true,
   "threshold": 6,
   "toc_cell": true,
   "toc_section_display": "block",
   "toc_window_display": true
  },
  "toc_position": {
   "height": "615px",
   "left": "0px",
   "right": "1228px",
   "top": "106px",
   "width": "212px"
  }
 },
 "nbformat": 4,
 "nbformat_minor": 0
}
